{
  "cells": [
    {
      "cell_type": "markdown",
      "metadata": {
        "id": "WtLfGAoaDL50"
      },
      "source": [
        "# EXERCISE 7.1: Land-Use-Land-Cover Pipeline - Experiment Tracking\n",
        "\n",
        "---\n",
        "\n",
        "**Use of Google Earth Engine with Rwandan geodata to train a LULC classifier using various algorithms available in scikitlearn in a systematized experiment tracking environment employing WandB**\n",
        "\n",
        "In this repeat of exercise 6.1, we will use wandb to demonstrate experiment tracking.\n",
        "\n",
        "For your convienience, we will keep some of the instructions from the previous exercise.\n",
        "\n",
        "But first you have to create a Wandb account.\n",
        "\n",
        "1. Sign up for a free account at https://wandb.ai/site and then login to your wandb account.\n",
        "2. Install the wandb library on your machine in a Python 3 environment using pip as shown below."
      ]
    },
    {
      "cell_type": "code",
      "execution_count": null,
      "metadata": {
        "colab": {
          "base_uri": "https://localhost:8080/"
        },
        "id": "g7uU-EHtlEJL",
        "outputId": "2c69b17d-3fe4-4996-e799-e39a5241de7d"
      },
      "outputs": [
        {
          "name": "stdout",
          "output_type": "stream",
          "text": [
            "\u001b[2K     \u001b[90m━━━━━━━━━━━━━━━━━━━━━━━━━━━━━━━━━━━━━━━━\u001b[0m \u001b[32m2.0/2.0 MB\u001b[0m \u001b[31m52.3 MB/s\u001b[0m eta \u001b[36m0:00:00\u001b[0m\n",
            "\u001b[2K     \u001b[90m━━━━━━━━━━━━━━━━━━━━━━━━━━━━━━━━━━━━━━\u001b[0m \u001b[32m184.3/184.3 kB\u001b[0m \u001b[31m18.2 MB/s\u001b[0m eta \u001b[36m0:00:00\u001b[0m\n",
            "\u001b[2K     \u001b[90m━━━━━━━━━━━━━━━━━━━━━━━━━━━━━━━━━━━━━━\u001b[0m \u001b[32m203.3/203.3 kB\u001b[0m \u001b[31m21.0 MB/s\u001b[0m eta \u001b[36m0:00:00\u001b[0m\n",
            "\u001b[?25h  Preparing metadata (setup.py) ... \u001b[?25l\u001b[?25hdone\n",
            "\u001b[2K     \u001b[90m━━━━━━━━━━━━━━━━━━━━━━━━━━━━━━━━━━━━━━━━\u001b[0m \u001b[32m62.7/62.7 kB\u001b[0m \u001b[31m7.0 MB/s\u001b[0m eta \u001b[36m0:00:00\u001b[0m\n",
            "\u001b[?25h  Building wheel for pathtools (setup.py) ... \u001b[?25l\u001b[?25hdone\n"
          ]
        }
      ],
      "source": [
        "!pip install wandb -qqq"
      ]
    },
    {
      "cell_type": "markdown",
      "metadata": {
        "id": "ZZq3quYolL_9"
      },
      "source": [
        "Install the packages needed for 6.1"
      ]
    },
    {
      "cell_type": "code",
      "execution_count": null,
      "metadata": {
        "colab": {
          "base_uri": "https://localhost:8080/"
        },
        "id": "341-pAe8J-vI",
        "outputId": "f834c44a-df96-4193-bdad-a0971389e69c"
      },
      "outputs": [
        {
          "name": "stdout",
          "output_type": "stream",
          "text": [
            "\u001b[2K     \u001b[90m━━━━━━━━━━━━━━━━━━━━━━━━━━━━━━━━━━━━━━━━\u001b[0m \u001b[32m2.2/2.2 MB\u001b[0m \u001b[31m59.6 MB/s\u001b[0m eta \u001b[36m0:00:00\u001b[0m\n",
            "\u001b[2K     \u001b[90m━━━━━━━━━━━━━━━━━━━━━━━━━━━━━━━━━━━━━━━━\u001b[0m \u001b[32m1.2/1.2 MB\u001b[0m \u001b[31m23.5 MB/s\u001b[0m eta \u001b[36m0:00:00\u001b[0m\n",
            "\u001b[2K     \u001b[90m━━━━━━━━━━━━━━━━━━━━━━━━━━━━━━━━━━━━━━━━\u001b[0m \u001b[32m98.6/98.6 kB\u001b[0m \u001b[31m11.8 MB/s\u001b[0m eta \u001b[36m0:00:00\u001b[0m\n",
            "\u001b[2K     \u001b[90m━━━━━━━━━━━━━━━━━━━━━━━━━━━━━━━━━━━━━━\u001b[0m \u001b[32m130.5/130.5 kB\u001b[0m \u001b[31m15.4 MB/s\u001b[0m eta \u001b[36m0:00:00\u001b[0m\n",
            "\u001b[2K     \u001b[90m━━━━━━━━━━━━━━━━━━━━━━━━━━━━━━━━━━━━━━━━\u001b[0m \u001b[32m3.7/3.7 MB\u001b[0m \u001b[31m76.6 MB/s\u001b[0m eta \u001b[36m0:00:00\u001b[0m\n",
            "\u001b[2K     \u001b[90m━━━━━━━━━━━━━━━━━━━━━━━━━━━━━━━━━━━━━━━━\u001b[0m \u001b[32m1.3/1.3 MB\u001b[0m \u001b[31m62.8 MB/s\u001b[0m eta \u001b[36m0:00:00\u001b[0m\n",
            "\u001b[?25h  Preparing metadata (setup.py) ... \u001b[?25l\u001b[?25hdone\n",
            "\u001b[2K     \u001b[90m━━━━━━━━━━━━━━━━━━━━━━━━━━━━━━━━━━━━━━━━\u001b[0m \u001b[32m3.2/3.2 MB\u001b[0m \u001b[31m65.4 MB/s\u001b[0m eta \u001b[36m0:00:00\u001b[0m\n",
            "\u001b[2K     \u001b[90m━━━━━━━━━━━━━━━━━━━━━━━━━━━━━━━━━━━━━━━━\u001b[0m \u001b[32m55.4/55.4 kB\u001b[0m \u001b[31m5.1 MB/s\u001b[0m eta \u001b[36m0:00:00\u001b[0m\n",
            "\u001b[2K     \u001b[90m━━━━━━━━━━━━━━━━━━━━━━━━━━━━━━━━━━━━━━━━\u001b[0m \u001b[32m1.6/1.6 MB\u001b[0m \u001b[31m41.6 MB/s\u001b[0m eta \u001b[36m0:00:00\u001b[0m\n",
            "\u001b[?25h  Building wheel for pyperclip (setup.py) ... \u001b[?25l\u001b[?25hdone\n"
          ]
        }
      ],
      "source": [
        "!pip install geemap -qqq\n"
      ]
    },
    {
      "cell_type": "markdown",
      "metadata": {
        "id": "2avqGxA3dRhy"
      },
      "source": [
        "## Setup\n",
        "If you have already run this setup (for e.g as part of Exercise 5_02), please reuse the private key.\n",
        "Otherwise, follow the steps at https://docs.google.com/document/d/13SKLn_mqhlaRc1gElr4kmBrkw6KZPeqDDW3AjcTr8YY/"
      ]
    },
    {
      "cell_type": "code",
      "execution_count": null,
      "metadata": {
        "colab": {
          "base_uri": "https://localhost:8080/"
        },
        "id": "HKIdst_KLXpY",
        "outputId": "fcb90ffa-0e81-472d-be79-92f7caefdbb4"
      },
      "outputs": [
        {
          "name": "stdout",
          "output_type": "stream",
          "text": [
            "Mounted at /content/drive\n"
          ]
        }
      ],
      "source": [
        "from google.colab import drive\n",
        "drive.mount('/content/drive')"
      ]
    },
    {
      "cell_type": "markdown",
      "metadata": {
        "id": "PxDxbjLUlpOi"
      },
      "source": [
        "Import wandb and other required packages."
      ]
    },
    {
      "cell_type": "code",
      "execution_count": null,
      "metadata": {
        "id": "60e4I4Bmcffh"
      },
      "outputs": [],
      "source": [
        "import wandb\n",
        "import ee\n",
        "import time\n",
        "import sys\n",
        "import numpy as np\n",
        "import pandas as pd\n",
        "import itertools\n",
        "import os\n",
        "import traceback\n",
        "import urllib\n",
        "import folium\n",
        "\n",
        "from pydrive.auth import GoogleAuth\n",
        "from pydrive.drive import GoogleDrive\n",
        "from oauth2client.service_account import ServiceAccountCredentials\n",
        "\n",
        "import pandas as pd\n",
        "import matplotlib.pyplot as plt\n",
        "import numpy as np\n",
        "from scipy import optimize\n",
        "import seaborn as sns\n",
        "import geemap\n",
        "from sklearn.ensemble import RandomForestClassifier\n",
        "from sklearn.model_selection import RandomizedSearchCV\n",
        "from sklearn.model_selection import train_test_split\n",
        "from sklearn.metrics import accuracy_score, f1_score, confusion_matrix\n",
        "from scipy.stats import uniform"
      ]
    },
    {
      "cell_type": "markdown",
      "metadata": {
        "id": "g2BMp8lil2jS"
      },
      "source": [
        "Next, use the W&B Python SDK and log in:\n",
        "- Provide your API key when prompted.\n",
        "- To get your API key go to https://wandb.ai/authorize\n",
        "- Copy the API key displayed to your screen and paste it to the prompt."
      ]
    },
    {
      "cell_type": "code",
      "execution_count": null,
      "metadata": {
        "colab": {
          "base_uri": "https://localhost:8080/",
          "height": 125
        },
        "id": "aXsgsxSDlzd9",
        "outputId": "3ad10926-c04d-4156-cb7d-d8b1bcfc2971"
      },
      "outputs": [
        {
          "data": {
            "application/javascript": "\n        window._wandbApiKey = new Promise((resolve, reject) => {\n            function loadScript(url) {\n            return new Promise(function(resolve, reject) {\n                let newScript = document.createElement(\"script\");\n                newScript.onerror = reject;\n                newScript.onload = resolve;\n                document.body.appendChild(newScript);\n                newScript.src = url;\n            });\n            }\n            loadScript(\"https://cdn.jsdelivr.net/npm/postmate/build/postmate.min.js\").then(() => {\n            const iframe = document.createElement('iframe')\n            iframe.style.cssText = \"width:0;height:0;border:none\"\n            document.body.appendChild(iframe)\n            const handshake = new Postmate({\n                container: iframe,\n                url: 'https://wandb.ai/authorize'\n            });\n            const timeout = setTimeout(() => reject(\"Couldn't auto authenticate\"), 5000)\n            handshake.then(function(child) {\n                child.on('authorize', data => {\n                    clearTimeout(timeout)\n                    resolve(data)\n                });\n            });\n            })\n        });\n    ",
            "text/plain": [
              "<IPython.core.display.Javascript object>"
            ]
          },
          "metadata": {},
          "output_type": "display_data"
        },
        {
          "name": "stderr",
          "output_type": "stream",
          "text": [
            "\u001b[34m\u001b[1mwandb\u001b[0m: Logging into wandb.ai. (Learn how to deploy a W&B server locally: https://wandb.me/wandb-server)\n",
            "\u001b[34m\u001b[1mwandb\u001b[0m: You can find your API key in your browser here: https://wandb.ai/authorize\n",
            "wandb: Paste an API key from your profile and hit enter, or press ctrl+c to quit:"
          ]
        },
        {
          "name": "stdout",
          "output_type": "stream",
          "text": [
            " ··········\n"
          ]
        },
        {
          "name": "stderr",
          "output_type": "stream",
          "text": [
            "\u001b[34m\u001b[1mwandb\u001b[0m: Appending key for api.wandb.ai to your netrc file: /root/.netrc\n"
          ]
        },
        {
          "data": {
            "text/plain": [
              "True"
            ]
          },
          "execution_count": 7,
          "metadata": {},
          "output_type": "execute_result"
        }
      ],
      "source": [
        "wandb.login()"
      ]
    },
    {
      "cell_type": "markdown",
      "metadata": {
        "id": "YwLqnhZBHw7l"
      },
      "source": [
        "## Setup Your Google Earth Engine Credentials\n",
        "Upload the `.private-key.json` you created while setting up GEE to the current runtime. Click Files > Upload to Session storage on the left pane in this notebook to upload. <br/>\n",
        "Replace the service account in the code below with your Google Cloud project service account email. It should be of the format <br/>`<id>@ml4eo-<some_number>.iam.gserviceaccount.com`"
      ]
    },
    {
      "cell_type": "code",
      "execution_count": null,
      "metadata": {
        "id": "p-7JYiydcsmH"
      },
      "outputs": [],
      "source": [
        "service_account = 'ml4eo-service@ml4eo-383508.iam.gserviceaccount.com'\n",
        "credentials = ee.ServiceAccountCredentials(service_account, '.private-key.json')\n",
        "ee.Initialize(credentials)"
      ]
    },
    {
      "cell_type": "markdown",
      "metadata": {
        "id": "paSuVVs7nUAR"
      },
      "source": [
        "Now let's load the following helper function to be used later in the script"
      ]
    },
    {
      "cell_type": "code",
      "execution_count": null,
      "metadata": {
        "id": "slOHv_TA7QmM"
      },
      "outputs": [],
      "source": [
        "def Mapdisplay(center, dicc, Tiles=\"OpensTreetMap\",zoom_start=10):\n",
        "    '''\n",
        "    :param center: Center of the map (Latitude and Longitude).\n",
        "    :param dicc: Earth Engine Geometries or Tiles dictionary\n",
        "    :param Tiles: Mapbox Bright,Mapbox Control Room,Stamen Terrain,Stamen Toner,stamenwatercolor,cartodbpositron.\n",
        "    :zoom_start: Initial zoom level for the map.\n",
        "    :return: A folium.Map object.\n",
        "    '''\n",
        "    mapViz = folium.Map(location=center,tiles=Tiles, zoom_start=zoom_start)\n",
        "    for k,v in dicc.items():\n",
        "      if ee.image.Image in [type(x) for x in v.values()]:\n",
        "        folium.TileLayer(\n",
        "            tiles = v[\"tile_fetcher\"].url_format,\n",
        "            attr  = 'Google Earth Engine',\n",
        "            overlay =True,\n",
        "            name  = k\n",
        "          ).add_to(mapViz)\n",
        "      else:\n",
        "        folium.GeoJson(\n",
        "        data = v,\n",
        "        name = k\n",
        "          ).add_to(mapViz)\n",
        "    mapViz.add_child(folium.LayerControl())\n",
        "    return mapViz"
      ]
    },
    {
      "cell_type": "markdown",
      "metadata": {
        "id": "Nb_EiQwS2I_S"
      },
      "source": [
        "### Getting the Training data\n"
      ]
    },
    {
      "cell_type": "code",
      "execution_count": null,
      "metadata": {
        "id": "gWPGqBaZISfs"
      },
      "outputs": [],
      "source": [
        "# Remember this function from Exercise 5_03, what does it do?\n",
        "def se2mask(image):\n",
        "    quality_band = image.select('QA60')\n",
        "    cloudmask = 1 << 10\n",
        "    cirrusmask = 1 << 11\n",
        "    mask = quality_band.bitwiseAnd(cloudmask).eq(0) and (quality_band.bitwiseAnd(cirrusmask).eq(0))\n",
        "    return image.updateMask(mask).divide(10000)"
      ]
    },
    {
      "cell_type": "code",
      "execution_count": null,
      "metadata": {
        "id": "JH8oY8ZL2IZy"
      },
      "outputs": [],
      "source": [
        "lat = -1.9441\n",
        "lon = 30.0619\n",
        "offset = 0.51\n",
        "region = [\n",
        "        [lon + offset, lat - offset],\n",
        "        [lon + offset, lat + offset],\n",
        "        [lon - offset, lat + offset],\n",
        "        [lon - offset, lat - offset]]\n"
      ]
    },
    {
      "cell_type": "markdown",
      "metadata": {
        "id": "MAD-pX1uqAvD"
      },
      "source": [
        "To ensure all our hyperparameters are tracked by Wandb lets create a dictionary called `config` that contains all our hyperparameters and settings.\n"
      ]
    },
    {
      "cell_type": "code",
      "execution_count": null,
      "metadata": {
        "id": "-X9UA2lBrpG7"
      },
      "outputs": [],
      "source": [
        "config = {\n",
        "    'region': region,\n",
        "    'se2bands': ['B2', 'B3', 'B4', 'B5', 'B6', 'B7','B8','B8A'],\n",
        "    'trainingbands': ['B2', 'B3', 'B4', 'B5', 'B6', 'B7','B8','B8A', 'avg_rad'],\n",
        "    'label': 'smod_code',\n",
        "    'scaleFactor': 1000,\n",
        "    's2_start_date': \"2015-07-01\",\n",
        "    's2_end_date': \"2015-12-31\",\n",
        "    'cloudy_pixel_percentage': 20,\n",
        "    'viirs_start_date': \"2015-07-01\",\n",
        "    'viirs_end_date': \"2015-12-31\",\n",
        "    'ghsl_start_date': '2015-01-01',\n",
        "    'ghsl_end_date': '2015-12-31',\n",
        "    'sample_geometries': True,\n",
        "    'sample_seed': 0,\n",
        "    'split_thresh': 0.8,\n",
        "    'split_seed': 0,\n",
        "    \"numberOfTrees\":100,\n",
        "    \"variablesPerSplit\":None,\n",
        "    \"minLeafPopulation\":1,\n",
        "    \"bagFraction\":0.5,\n",
        "    \"maxNodes\":None,\n",
        "    \"rf_seed\":42,\n",
        "    \"normalizeData\": False,\n",
        "}"
      ]
    },
    {
      "cell_type": "markdown",
      "metadata": {
        "id": "oOulIWA3vzHS"
      },
      "source": [
        "Once the config file"
      ]
    },
    {
      "cell_type": "code",
      "execution_count": null,
      "metadata": {
        "id": "kJaYpy5etNsF"
      },
      "outputs": [],
      "source": [
        "roi = ee.Geometry.Polygon([config['region']])"
      ]
    },
    {
      "cell_type": "markdown",
      "metadata": {
        "id": "ckqTmmInBfKM"
      },
      "source": [
        "# Initialize Wandb"
      ]
    },
    {
      "cell_type": "code",
      "execution_count": null,
      "metadata": {
        "colab": {
          "base_uri": "https://localhost:8080/",
          "height": 144
        },
        "id": "k98v4IhBBeyL",
        "outputId": "a6a475cb-cae5-4c13-fc07-ceb1e1d254fe"
      },
      "outputs": [
        {
          "name": "stderr",
          "output_type": "stream",
          "text": [
            "\u001b[34m\u001b[1mwandb\u001b[0m: Currently logged in as: \u001b[33mabrsh\u001b[0m (\u001b[33mane\u001b[0m). Use \u001b[1m`wandb login --relogin`\u001b[0m to force relogin\n"
          ]
        },
        {
          "data": {
            "text/html": [
              "Tracking run with wandb version 0.15.2"
            ],
            "text/plain": [
              "<IPython.core.display.HTML object>"
            ]
          },
          "metadata": {},
          "output_type": "display_data"
        },
        {
          "data": {
            "text/html": [
              "Run data is saved locally in <code>/content/wandb/run-20230514_084959-clmkucjq</code>"
            ],
            "text/plain": [
              "<IPython.core.display.HTML object>"
            ]
          },
          "metadata": {},
          "output_type": "display_data"
        },
        {
          "data": {
            "text/html": [
              "Syncing run <strong><a href='https://wandb.ai/ane/GEE_7_1/runs/clmkucjq' target=\"_blank\">peach-feather-3</a></strong> to <a href='https://wandb.ai/ane/GEE_7_1' target=\"_blank\">Weights & Biases</a> (<a href='https://wandb.me/run' target=\"_blank\">docs</a>)<br/>"
            ],
            "text/plain": [
              "<IPython.core.display.HTML object>"
            ]
          },
          "metadata": {},
          "output_type": "display_data"
        },
        {
          "data": {
            "text/html": [
              " View project at <a href='https://wandb.ai/ane/GEE_7_1' target=\"_blank\">https://wandb.ai/ane/GEE_7_1</a>"
            ],
            "text/plain": [
              "<IPython.core.display.HTML object>"
            ]
          },
          "metadata": {},
          "output_type": "display_data"
        },
        {
          "data": {
            "text/html": [
              " View run at <a href='https://wandb.ai/ane/GEE_7_1/runs/clmkucjq' target=\"_blank\">https://wandb.ai/ane/GEE_7_1/runs/clmkucjq</a>"
            ],
            "text/plain": [
              "<IPython.core.display.HTML object>"
            ]
          },
          "metadata": {},
          "output_type": "display_data"
        },
        {
          "data": {
            "text/html": [
              "<button onClick=\"this.nextSibling.style.display='block';this.style.display='none';\">Display W&B run</button><iframe src='https://wandb.ai/ane/GEE_7_1/runs/clmkucjq?jupyter=true' style='border:none;width:100%;height:420px;display:none;'></iframe>"
            ],
            "text/plain": [
              "<wandb.sdk.wandb_run.Run at 0x7fcebd831720>"
            ]
          },
          "execution_count": 14,
          "metadata": {},
          "output_type": "execute_result"
        }
      ],
      "source": [
        "wandb.init(project='GEE_7_1', config=config)"
      ]
    },
    {
      "cell_type": "code",
      "execution_count": null,
      "metadata": {
        "id": "SV3Nw5hGJg9Z"
      },
      "outputs": [],
      "source": [
        "se2bands = ['B2', 'B3', 'B4', 'B5', 'B6', 'B7','B8','B8A']\n",
        "trainingbands = se2bands + ['avg_rad']\n",
        "label = 'smod_code'\n",
        "scaleFactor=1000\n",
        "\n",
        "se2 = ee.ImageCollection('COPERNICUS/S2').filterDate(\n",
        "    config['s2_start_date'], config['s2_end_date'])\n",
        "\n",
        "# TODO: Use the filterBounds function to get filter the are specified in ROI\n",
        "se2 = se2.filterBounds(roi)\n",
        "\n",
        "# Keep pixels that have less than 20% cloud\n",
        "se2 = se2.filter(ee.Filter.lt(\"CLOUDY_PIXEL_PERCENTAGE\", config['cloudy_pixel_percentage']))\n",
        "\n",
        "# Update the mask\n",
        "se2 = se2.map(se2mask)\n",
        "\n",
        "# Get the median image\n",
        "se2 = se2.median()\n",
        "\n",
        "se2 = se2.select(config['se2bands'])\n",
        "\n",
        "viirs = ee.Image(ee.ImageCollection(\"NOAA/VIIRS/DNB/MONTHLY_V1/VCMSLCFG\").filterDate(\n",
        "    config['viirs_start_date'], config['viirs_end_date']).filterBounds(roi).median().select('avg_rad').clip(roi))\n",
        "if config['normalizeData']:\n",
        "    vmu = viirs.reduceRegion(reducer=ee.Reducer.mean(),scale=scaleFactor)\n",
        "    vstd = viirs.reduceRegion(reducer=ee.Reducer.stdDev(),scale=scaleFactor)\n",
        "\n",
        "    vmu = ee.Number(vmu.get('avg_rad'))\n",
        "    vstd = ee.Number(vstd.get('avg_rad'))\n",
        "\n",
        "    # Whiten the band\n",
        "    viirsclean = viirs.subtract(vmu).divide(vstd)\n",
        "else:\n",
        "    viirsclean = viirs\n",
        "# TODO: Read https://developers.google.com/earth-engine/apidocs/ee-image-addbands\n",
        "# Use the function above to fuse the se2 and viirs bands\n",
        "\n",
        "fused = se2.addBands(viirs)"
      ]
    },
    {
      "cell_type": "markdown",
      "metadata": {
        "id": "sBEPTce5Jg9f"
      },
      "source": [
        "# Get the Labels from the GHSL Dataset"
      ]
    },
    {
      "cell_type": "code",
      "execution_count": null,
      "metadata": {
        "id": "_D_kmPHeJg9f"
      },
      "outputs": [],
      "source": [
        "ghsl = ee.ImageCollection('JRC/GHSL/P2016/SMOD_POP_GLOBE_V1').filter(ee.Filter.date(\n",
        "    config['ghsl_start_date'], config['ghsl_end_date'])).select(config['label']).median().gte(2).clip(roi)\n",
        "\n",
        "points = ghsl.sample(**{\"region\":roi, \"scale\":config['scaleFactor'],\"seed\":config['sample_seed'],'geometries':config['sample_geometries']})"
      ]
    },
    {
      "cell_type": "code",
      "execution_count": null,
      "metadata": {
        "id": "FI2x-ZxtJg9f"
      },
      "outputs": [],
      "source": [
        "data = fused.select(config['trainingbands']).sampleRegions(collection=points,\n",
        "                                                        properties=[config['label'],],\n",
        "                                                        scale=config['scaleFactor'])"
      ]
    },
    {
      "cell_type": "code",
      "execution_count": null,
      "metadata": {
        "colab": {
          "base_uri": "https://localhost:8080/"
        },
        "id": "MMNHOHvEJg9f",
        "outputId": "527178f1-ad83-4444-f897-19e649532c88"
      },
      "outputs": [
        {
          "data": {
            "text/plain": [
              "{'max': 1,\n",
              " 'mean': 0.20737724175738115,\n",
              " 'min': 0,\n",
              " 'sample_sd': 0.4054439481595326,\n",
              " 'sample_var': 0.16438479509918977,\n",
              " 'sum': 2648,\n",
              " 'sum_sq': 2648,\n",
              " 'total_count': 12769,\n",
              " 'total_sd': 0.4054280717445227,\n",
              " 'total_var': 0.16437192135848186,\n",
              " 'valid_count': 12769,\n",
              " 'weight_sum': 12769,\n",
              " 'weighted_sum': 2648}"
            ]
          },
          "execution_count": 18,
          "metadata": {},
          "output_type": "execute_result"
        }
      ],
      "source": [
        "data.aggregate_stats(config['label']).getInfo()\n"
      ]
    },
    {
      "cell_type": "markdown",
      "metadata": {
        "id": "QixsnSybjjHT"
      },
      "source": [
        "### Train-test split\n",
        "Now that we have gathered our data we would like to split the dataset into training and test sets. We first create a column of random numbers in the range [0, 1] and use that to split the data into training and test sets."
      ]
    },
    {
      "cell_type": "code",
      "execution_count": null,
      "metadata": {
        "id": "Eng4EbZpWyeI"
      },
      "outputs": [],
      "source": [
        "# we'll create a column of random numbers\n",
        "data = data.randomColumn(seed=config['split_seed'])"
      ]
    },
    {
      "cell_type": "markdown",
      "metadata": {
        "id": "pECVJ96hXRMj"
      },
      "source": [
        "We will use a 80/20 train/test split randomly among the pixels in our 2015 training image"
      ]
    },
    {
      "cell_type": "code",
      "execution_count": null,
      "metadata": {
        "id": "4hQGS5VZXLlf"
      },
      "outputs": [],
      "source": [
        "split_thresh = config['split_thresh']\n",
        "train = data.filter(ee.Filter.lt('random', split_thresh))\n",
        "test = data.filter(ee.Filter.gte('random', split_thresh))\n"
      ]
    },
    {
      "cell_type": "code",
      "execution_count": null,
      "metadata": {
        "colab": {
          "base_uri": "https://localhost:8080/"
        },
        "id": "tCPM8ZA7az6s",
        "outputId": "3ed390d8-0c47-44bc-8ac1-067cef986caf"
      },
      "outputs": [
        {
          "data": {
            "text/plain": [
              "{'max': 1,\n",
              " 'mean': 0.20640078778926638,\n",
              " 'min': 0,\n",
              " 'sample_sd': 0.40474144106332127,\n",
              " 'sample_var': 0.16381563411401395,\n",
              " 'sum': 2096,\n",
              " 'sum_sq': 2096,\n",
              " 'total_count': 10155,\n",
              " 'total_sd': 0.40472151238751397,\n",
              " 'total_var': 0.16379950258923662,\n",
              " 'valid_count': 10155,\n",
              " 'weight_sum': 10155,\n",
              " 'weighted_sum': 2096}"
            ]
          },
          "execution_count": 21,
          "metadata": {},
          "output_type": "execute_result"
        }
      ],
      "source": [
        "train.aggregate_stats(config['label']).getInfo()"
      ]
    },
    {
      "cell_type": "code",
      "execution_count": null,
      "metadata": {
        "colab": {
          "base_uri": "https://localhost:8080/"
        },
        "id": "EKaJbKbna2Q8",
        "outputId": "ba38a646-73f1-4853-f25e-9de345e45bd5"
      },
      "outputs": [
        {
          "data": {
            "text/plain": [
              "{'max': 1,\n",
              " 'mean': 0.22092115534738485,\n",
              " 'min': 0,\n",
              " 'sample_sd': 0.4149484361173423,\n",
              " 'sample_var': 0.1721822046362281,\n",
              " 'sum': 566,\n",
              " 'sum_sq': 566,\n",
              " 'total_count': 2562,\n",
              " 'total_sd': 0.4148674468638887,\n",
              " 'total_var': 0.1721149984673615,\n",
              " 'valid_count': 2562,\n",
              " 'weight_sum': 2562,\n",
              " 'weighted_sum': 566}"
            ]
          },
          "execution_count": 22,
          "metadata": {},
          "output_type": "execute_result"
        }
      ],
      "source": [
        "test.aggregate_stats(label).getInfo()"
      ]
    },
    {
      "cell_type": "markdown",
      "metadata": {
        "id": "6rMc9sUpKFTW"
      },
      "source": [
        "We have 10,252 observations (pixels) in our training set and 2,591 in our test set.\n",
        "\n",
        "And notice balance of our label is similar for training and testing (~20.5% and ~20.5% classified as built-up, respectively), which we’d expect in a random split.\n",
        "\n"
      ]
    },
    {
      "cell_type": "code",
      "execution_count": null,
      "metadata": {
        "id": "mkUSo5Lubyr3"
      },
      "outputs": [],
      "source": [
        "init_params = {\"numberOfTrees\": config['numberOfTrees'],\n",
        "              \"variablesPerSplit\": config[\"variablesPerSplit\"],\n",
        "              \"minLeafPopulation\": config[\"minLeafPopulation\"],\n",
        "              \"bagFraction\": config[\"bagFraction\"],\n",
        "              \"maxNodes\": config[\"maxNodes\"],\n",
        "              \"seed\": config[\"rf_seed\"]\n",
        "}\n",
        "\n",
        "clf = ee.Classifier.smileRandomForest(**init_params).train(train, config['label'], config['trainingbands'])"
      ]
    },
    {
      "cell_type": "markdown",
      "metadata": {
        "id": "UktCyHD_ESkr"
      },
      "source": [
        "## Saving Metrics and Values to Wandb\n",
        "Wandb lets you log a dictionary of metrics, media, or custom objects to a step with the W&B Python SDK. W&B collects the key-value pairs during each step and stores them in one unified dictionary each time you log data with wandb.log(). Data logged from your script is saved locally to your machine in a directory called wandb, then synced to the W&B cloud or your private server.\n",
        "\n",
        "First, let's get the metrics `oobErrorEstimate` and `feature_importance` from `clf.explain`."
      ]
    },
    {
      "cell_type": "code",
      "execution_count": null,
      "metadata": {
        "id": "C4fF7ss3XHXQ"
      },
      "outputs": [],
      "source": [
        "explanation = clf.explain().getInfo()\n",
        "oobErrorEstimate = explanation['outOfBagErrorEstimate']\n",
        "feature_importance = explanation['importance']"
      ]
    },
    {
      "cell_type": "code",
      "execution_count": null,
      "metadata": {
        "id": "dqwovJSuF2Fj"
      },
      "outputs": [],
      "source": [
        "wandb.log({'oobErrorEstimate': oobErrorEstimate, 'feature_importance': feature_importance})"
      ]
    },
    {
      "cell_type": "markdown",
      "metadata": {
        "id": "SEQqXE64GBqY"
      },
      "source": [
        "## Go to Wandb\n",
        "Now, go to [Wandb](https://wandb.ai/)\n",
        "\n",
        "Once the page opens you will notice that there is a project named `GEE_7_1` on the left pane.\n",
        "![image.png](data:image/png;base64,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)"
      ]
    },
    {
      "cell_type": "markdown",
      "metadata": {
        "id": "haFpdBUMI-HY"
      },
      "source": [
        "1. Click on the project and you will see something like below\n",
        "![image.png](data:image/png;base64,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)"
      ]
    },
    {
      "cell_type": "markdown",
      "metadata": {
        "id": "biEx8B21JtWp"
      },
      "source": [
        "2. Click on the run (in my case `solar-lake-1`) to find\n",
        "![image.png](data:image/png;base64,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)"
      ]
    },
    {
      "cell_type": "markdown",
      "metadata": {
        "id": "eubHxjqUKQa1"
      },
      "source": [
        "In the above figure, you can see all the metrics logged in different charts.\n",
        "\n",
        "3. Click on `Overview` on the top left corner. If you scroll down, after the page opens you will see\n",
        "![image.png](data:image/png;base64,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)"
      ]
    },
    {
      "cell_type": "markdown",
      "metadata": {
        "id": "Q7eR14DQK8JW"
      },
      "source": [
        "The values you see under Config are the configuration parameters while the values you see under summary are your logged metrics."
      ]
    },
    {
      "cell_type": "markdown",
      "metadata": {
        "id": "ryL4RlhOcFwx"
      },
      "source": [
        "## Evaluation\n",
        "We need metrics to determine how well the classifier performs. We just have a simple binary schema so we can visualize a confusion matrix, which shows the actual labels (y axis) and the predicted labels (x axis)."
      ]
    },
    {
      "cell_type": "code",
      "execution_count": null,
      "metadata": {
        "id": "w5anyJ_LcFiG"
      },
      "outputs": [],
      "source": [
        "trainResults = clf.confusionMatrix().getInfo()\n",
        "trainCM = pd.DataFrame(np.asarray(trainResults), index=['not','built-up'], columns=['not','built-up'])"
      ]
    },
    {
      "cell_type": "markdown",
      "metadata": {
        "id": "84PNCxYuHkg7"
      },
      "source": [
        "## Question 7.1.1\n",
        "Log the confusion matrix"
      ]
    },
    {
      "cell_type": "code",
      "execution_count": null,
      "metadata": {
        "id": "oel8vJZHHkM7"
      },
      "outputs": [],
      "source": []
    },
    {
      "cell_type": "markdown",
      "metadata": {
        "id": "lQM2oARcBxNb"
      },
      "source": [
        "Now that our experiment is complete we may stop the Wandb logging by calling `wandb.finish`."
      ]
    },
    {
      "cell_type": "code",
      "execution_count": null,
      "metadata": {
        "colab": {
          "base_uri": "https://localhost:8080/",
          "height": 205
        },
        "id": "TAII1eWfB3-1",
        "outputId": "150fcb4e-53be-41e4-dc44-1f4cff7ee22b"
      },
      "outputs": [
        {
          "data": {
            "text/html": [
              "Waiting for W&B process to finish... <strong style=\"color:green\">(success).</strong>"
            ],
            "text/plain": [
              "<IPython.core.display.HTML object>"
            ]
          },
          "metadata": {},
          "output_type": "display_data"
        },
        {
          "data": {
            "text/html": [
              "<style>\n",
              "    table.wandb td:nth-child(1) { padding: 0 10px; text-align: left ; width: auto;} td:nth-child(2) {text-align: left ; width: 100%}\n",
              "    .wandb-row { display: flex; flex-direction: row; flex-wrap: wrap; justify-content: flex-start; width: 100% }\n",
              "    .wandb-col { display: flex; flex-direction: column; flex-basis: 100%; flex: 1; padding: 10px; }\n",
              "    </style>\n",
              "<div class=\"wandb-row\"><div class=\"wandb-col\"><h3>Run history:</h3><br/><table class=\"wandb\"><tr><td>oobErrorEstimate</td><td>▁</td></tr></table><br/></div><div class=\"wandb-col\"><h3>Run summary:</h3><br/><table class=\"wandb\"><tr><td>oobErrorEstimate</td><td>0.18785</td></tr></table><br/></div></div>"
            ],
            "text/plain": [
              "<IPython.core.display.HTML object>"
            ]
          },
          "metadata": {},
          "output_type": "display_data"
        },
        {
          "data": {
            "text/html": [
              " View run <strong style=\"color:#cdcd00\">peach-feather-3</strong> at: <a href='https://wandb.ai/ane/GEE_7_1/runs/clmkucjq' target=\"_blank\">https://wandb.ai/ane/GEE_7_1/runs/clmkucjq</a><br/>Synced 4 W&B file(s), 0 media file(s), 0 artifact file(s) and 0 other file(s)"
            ],
            "text/plain": [
              "<IPython.core.display.HTML object>"
            ]
          },
          "metadata": {},
          "output_type": "display_data"
        },
        {
          "data": {
            "text/html": [
              "Find logs at: <code>./wandb/run-20230514_084959-clmkucjq/logs</code>"
            ],
            "text/plain": [
              "<IPython.core.display.HTML object>"
            ]
          },
          "metadata": {},
          "output_type": "display_data"
        }
      ],
      "source": [
        "wandb.finish()"
      ]
    },
    {
      "cell_type": "markdown",
      "metadata": {
        "id": "1AIHeuckBRPz"
      },
      "source": [
        "## Question 7.1.2\n",
        "Now go to the cell where `config` is defined and change `normalizeData` to `True` and rerun the training validation and logging."
      ]
    },
    {
      "cell_type": "code",
      "execution_count": null,
      "metadata": {
        "id": "4vmFt6uVBQkC"
      },
      "outputs": [],
      "source": []
    },
    {
      "cell_type": "markdown",
      "metadata": {
        "id": "zGMz6OkhhCQt"
      },
      "source": [
        "## Training and Prediction outside Earth Engine\n",
        "We have seen how to use Wandb to track GEE experiments. Wandb allows for a much more sophisticated experiment tracking when using libraries such as sklearn, and Pytorch.\n",
        "\n",
        "Let's see how Wandb be can used with sklearn."
      ]
    },
    {
      "cell_type": "markdown",
      "metadata": {
        "id": "N9xtvCbogIU5"
      },
      "source": [
        "You can see that the type of `dataclean` is FeatureCollection. Let's now see how we can export the feature collection as CSV so we can use tools such as pandas to load the manipulate the data."
      ]
    },
    {
      "cell_type": "code",
      "execution_count": null,
      "metadata": {
        "id": "NRnqU5bulaSR"
      },
      "outputs": [],
      "source": [
        "def export_one_table(feature_collection, name):\n",
        "  \"\"\"Uses a GEE API to batch transfer data to a GCP project Google Drive\"\"\"\n",
        "  task = ee.batch.Export.table.toDrive(**{\n",
        "    'collection': feature_collection,\n",
        "    'description': name,\n",
        "    'fileFormat': 'CSV'\n",
        "    })\n",
        "  task.start()\n",
        "  while task.active():\n",
        "    print('Running...')\n",
        "    # Wait for sometime before showing an update\n",
        "    time.sleep(100)\n",
        "  print('Done..', task.status())\n",
        "\n"
      ]
    },
    {
      "cell_type": "code",
      "execution_count": null,
      "metadata": {
        "colab": {
          "base_uri": "https://localhost:8080/"
        },
        "id": "3zJfetZw8pbS",
        "outputId": "fe0cb374-12c7-4646-a448-8bd9f49fc073"
      },
      "outputs": [
        {
          "name": "stdout",
          "output_type": "stream",
          "text": [
            "Running...\n",
            "Done.. {'state': 'COMPLETED', 'description': 'GEEToDrive', 'creation_timestamp_ms': 1684054373976, 'update_timestamp_ms': 1684054393296, 'start_timestamp_ms': 1684054383210, 'task_type': 'EXPORT_FEATURES', 'destination_uris': ['https://drive.google.com/'], 'attempt': 1, 'batch_eecu_usage_seconds': 6.464535713195801, 'id': '2R65SCGBUB77XP5C44ZLGB5J', 'name': 'projects/earthengine-legacy/operations/2R65SCGBUB77XP5C44ZLGB5J'}\n"
          ]
        }
      ],
      "source": [
        "name = 'GEEToDrive'\n",
        "export_one_table(data, name)"
      ]
    },
    {
      "cell_type": "markdown",
      "metadata": {
        "id": "uFL_OSwfHgrh"
      },
      "source": [
        "Move the CSV from service account Google Drive to a user user Google Drive."
      ]
    },
    {
      "cell_type": "code",
      "execution_count": null,
      "metadata": {
        "colab": {
          "base_uri": "https://localhost:8080/"
        },
        "id": "_BwolNKok6vw",
        "outputId": "42985923-416a-4051-976b-3851aa7ede4f"
      },
      "outputs": [
        {
          "name": "stdout",
          "output_type": "stream",
          "text": [
            "222 files found\n"
          ]
        }
      ],
      "source": [
        "# Transfer the data from GCP service account drive to current working directory in Colaboratory\n",
        "gauth = GoogleAuth()\n",
        "scopes = ['https://www.googleapis.com/auth/drive']\n",
        "gauth.credentials = ServiceAccountCredentials.from_json_keyfile_name(\".private-key.json\", scopes=scopes)\n",
        "\n",
        "drive = GoogleDrive(gauth)\n",
        "\n",
        "# get list of files\n",
        "file_list = drive.ListFile({'q': \"trashed=false\"}).GetList()\n",
        "print(f\"{len(file_list)} files found\")\n",
        "for file_tiff in file_list:\n",
        "\n",
        "        filename = file_tiff['title']\n",
        "        if file_tiff['mimeType'] == 'text/csv':\n",
        "          # download file into working directory (in this case a tiff-file)\n",
        "          file_tiff.GetContentFile(filename, mimetype=\"image/tiff\")\n",
        "\n",
        "          # delete file afterwards to keep the Drive empty\n",
        "          file_tiff.Delete()"
      ]
    },
    {
      "cell_type": "markdown",
      "metadata": {
        "id": "M7y0u1t99YtE"
      },
      "source": [
        "## Read the Downloaded CSV"
      ]
    },
    {
      "cell_type": "markdown",
      "metadata": {
        "id": "tI7Aur469eUF"
      },
      "source": [
        "Now that we have the CSV file we can use widely used Python tools such as Pandas, Numpy, and Sci-kit Learn to preprocess the data and train our models."
      ]
    },
    {
      "cell_type": "code",
      "execution_count": null,
      "metadata": {
        "id": "fZ2uE2XR8SsJ"
      },
      "outputs": [],
      "source": [
        "df = pd.read_csv('GEEToDrive.csv')"
      ]
    },
    {
      "cell_type": "code",
      "execution_count": null,
      "metadata": {
        "colab": {
          "base_uri": "https://localhost:8080/",
          "height": 206
        },
        "id": "Ux-L8j8Z9S6h",
        "outputId": "d55c79c1-a615-499a-b993-88877fdfea9f"
      },
      "outputs": [
        {
          "data": {
            "text/html": [
              "\n",
              "  <div id=\"df-d834727f-9530-4090-989a-a631d52319d0\">\n",
              "    <div class=\"colab-df-container\">\n",
              "      <div>\n",
              "<style scoped>\n",
              "    .dataframe tbody tr th:only-of-type {\n",
              "        vertical-align: middle;\n",
              "    }\n",
              "\n",
              "    .dataframe tbody tr th {\n",
              "        vertical-align: top;\n",
              "    }\n",
              "\n",
              "    .dataframe thead th {\n",
              "        text-align: right;\n",
              "    }\n",
              "</style>\n",
              "<table border=\"1\" class=\"dataframe\">\n",
              "  <thead>\n",
              "    <tr style=\"text-align: right;\">\n",
              "      <th></th>\n",
              "      <th>system:index</th>\n",
              "      <th>B2</th>\n",
              "      <th>B3</th>\n",
              "      <th>B4</th>\n",
              "      <th>B5</th>\n",
              "      <th>B6</th>\n",
              "      <th>B7</th>\n",
              "      <th>B8</th>\n",
              "      <th>B8A</th>\n",
              "      <th>avg_rad</th>\n",
              "      <th>random</th>\n",
              "      <th>smod_code</th>\n",
              "      <th>.geo</th>\n",
              "    </tr>\n",
              "  </thead>\n",
              "  <tbody>\n",
              "    <tr>\n",
              "      <th>0</th>\n",
              "      <td>0_0</td>\n",
              "      <td>0.0871</td>\n",
              "      <td>0.0905</td>\n",
              "      <td>0.0830</td>\n",
              "      <td>0.1218</td>\n",
              "      <td>0.2286</td>\n",
              "      <td>0.2685</td>\n",
              "      <td>0.2559</td>\n",
              "      <td>0.2919</td>\n",
              "      <td>0.102458</td>\n",
              "      <td>0.392920</td>\n",
              "      <td>1</td>\n",
              "      <td>{\"type\":\"MultiPoint\",\"coordinates\":[]}</td>\n",
              "    </tr>\n",
              "    <tr>\n",
              "      <th>1</th>\n",
              "      <td>1_0</td>\n",
              "      <td>0.0872</td>\n",
              "      <td>0.0891</td>\n",
              "      <td>0.0789</td>\n",
              "      <td>0.1160</td>\n",
              "      <td>0.2245</td>\n",
              "      <td>0.2653</td>\n",
              "      <td>0.2533</td>\n",
              "      <td>0.2885</td>\n",
              "      <td>0.122022</td>\n",
              "      <td>0.429204</td>\n",
              "      <td>0</td>\n",
              "      <td>{\"type\":\"MultiPoint\",\"coordinates\":[]}</td>\n",
              "    </tr>\n",
              "    <tr>\n",
              "      <th>2</th>\n",
              "      <td>2_0</td>\n",
              "      <td>0.2296</td>\n",
              "      <td>0.2265</td>\n",
              "      <td>0.2307</td>\n",
              "      <td>0.2563</td>\n",
              "      <td>0.3324</td>\n",
              "      <td>0.3655</td>\n",
              "      <td>0.3482</td>\n",
              "      <td>0.3845</td>\n",
              "      <td>0.099246</td>\n",
              "      <td>0.333446</td>\n",
              "      <td>0</td>\n",
              "      <td>{\"type\":\"MultiPoint\",\"coordinates\":[]}</td>\n",
              "    </tr>\n",
              "    <tr>\n",
              "      <th>3</th>\n",
              "      <td>3_0</td>\n",
              "      <td>0.1640</td>\n",
              "      <td>0.1624</td>\n",
              "      <td>0.1600</td>\n",
              "      <td>0.1877</td>\n",
              "      <td>0.2672</td>\n",
              "      <td>0.3007</td>\n",
              "      <td>0.2844</td>\n",
              "      <td>0.3228</td>\n",
              "      <td>0.094267</td>\n",
              "      <td>0.340256</td>\n",
              "      <td>1</td>\n",
              "      <td>{\"type\":\"MultiPoint\",\"coordinates\":[]}</td>\n",
              "    </tr>\n",
              "    <tr>\n",
              "      <th>4</th>\n",
              "      <td>4_0</td>\n",
              "      <td>0.0992</td>\n",
              "      <td>0.0980</td>\n",
              "      <td>0.0885</td>\n",
              "      <td>0.1203</td>\n",
              "      <td>0.2117</td>\n",
              "      <td>0.2474</td>\n",
              "      <td>0.2373</td>\n",
              "      <td>0.2707</td>\n",
              "      <td>0.145639</td>\n",
              "      <td>0.937213</td>\n",
              "      <td>0</td>\n",
              "      <td>{\"type\":\"MultiPoint\",\"coordinates\":[]}</td>\n",
              "    </tr>\n",
              "  </tbody>\n",
              "</table>\n",
              "</div>\n",
              "      <button class=\"colab-df-convert\" onclick=\"convertToInteractive('df-d834727f-9530-4090-989a-a631d52319d0')\"\n",
              "              title=\"Convert this dataframe to an interactive table.\"\n",
              "              style=\"display:none;\">\n",
              "        \n",
              "  <svg xmlns=\"http://www.w3.org/2000/svg\" height=\"24px\"viewBox=\"0 0 24 24\"\n",
              "       width=\"24px\">\n",
              "    <path d=\"M0 0h24v24H0V0z\" fill=\"none\"/>\n",
              "    <path d=\"M18.56 5.44l.94 2.06.94-2.06 2.06-.94-2.06-.94-.94-2.06-.94 2.06-2.06.94zm-11 1L8.5 8.5l.94-2.06 2.06-.94-2.06-.94L8.5 2.5l-.94 2.06-2.06.94zm10 10l.94 2.06.94-2.06 2.06-.94-2.06-.94-.94-2.06-.94 2.06-2.06.94z\"/><path d=\"M17.41 7.96l-1.37-1.37c-.4-.4-.92-.59-1.43-.59-.52 0-1.04.2-1.43.59L10.3 9.45l-7.72 7.72c-.78.78-.78 2.05 0 2.83L4 21.41c.39.39.9.59 1.41.59.51 0 1.02-.2 1.41-.59l7.78-7.78 2.81-2.81c.8-.78.8-2.07 0-2.86zM5.41 20L4 18.59l7.72-7.72 1.47 1.35L5.41 20z\"/>\n",
              "  </svg>\n",
              "      </button>\n",
              "      \n",
              "  <style>\n",
              "    .colab-df-container {\n",
              "      display:flex;\n",
              "      flex-wrap:wrap;\n",
              "      gap: 12px;\n",
              "    }\n",
              "\n",
              "    .colab-df-convert {\n",
              "      background-color: #E8F0FE;\n",
              "      border: none;\n",
              "      border-radius: 50%;\n",
              "      cursor: pointer;\n",
              "      display: none;\n",
              "      fill: #1967D2;\n",
              "      height: 32px;\n",
              "      padding: 0 0 0 0;\n",
              "      width: 32px;\n",
              "    }\n",
              "\n",
              "    .colab-df-convert:hover {\n",
              "      background-color: #E2EBFA;\n",
              "      box-shadow: 0px 1px 2px rgba(60, 64, 67, 0.3), 0px 1px 3px 1px rgba(60, 64, 67, 0.15);\n",
              "      fill: #174EA6;\n",
              "    }\n",
              "\n",
              "    [theme=dark] .colab-df-convert {\n",
              "      background-color: #3B4455;\n",
              "      fill: #D2E3FC;\n",
              "    }\n",
              "\n",
              "    [theme=dark] .colab-df-convert:hover {\n",
              "      background-color: #434B5C;\n",
              "      box-shadow: 0px 1px 3px 1px rgba(0, 0, 0, 0.15);\n",
              "      filter: drop-shadow(0px 1px 2px rgba(0, 0, 0, 0.3));\n",
              "      fill: #FFFFFF;\n",
              "    }\n",
              "  </style>\n",
              "\n",
              "      <script>\n",
              "        const buttonEl =\n",
              "          document.querySelector('#df-d834727f-9530-4090-989a-a631d52319d0 button.colab-df-convert');\n",
              "        buttonEl.style.display =\n",
              "          google.colab.kernel.accessAllowed ? 'block' : 'none';\n",
              "\n",
              "        async function convertToInteractive(key) {\n",
              "          const element = document.querySelector('#df-d834727f-9530-4090-989a-a631d52319d0');\n",
              "          const dataTable =\n",
              "            await google.colab.kernel.invokeFunction('convertToInteractive',\n",
              "                                                     [key], {});\n",
              "          if (!dataTable) return;\n",
              "\n",
              "          const docLinkHtml = 'Like what you see? Visit the ' +\n",
              "            '<a target=\"_blank\" href=https://colab.research.google.com/notebooks/data_table.ipynb>data table notebook</a>'\n",
              "            + ' to learn more about interactive tables.';\n",
              "          element.innerHTML = '';\n",
              "          dataTable['output_type'] = 'display_data';\n",
              "          await google.colab.output.renderOutput(dataTable, element);\n",
              "          const docLink = document.createElement('div');\n",
              "          docLink.innerHTML = docLinkHtml;\n",
              "          element.appendChild(docLink);\n",
              "        }\n",
              "      </script>\n",
              "    </div>\n",
              "  </div>\n",
              "  "
            ],
            "text/plain": [
              "  system:index      B2      B3      B4      B5      B6      B7      B8  \\\n",
              "0          0_0  0.0871  0.0905  0.0830  0.1218  0.2286  0.2685  0.2559   \n",
              "1          1_0  0.0872  0.0891  0.0789  0.1160  0.2245  0.2653  0.2533   \n",
              "2          2_0  0.2296  0.2265  0.2307  0.2563  0.3324  0.3655  0.3482   \n",
              "3          3_0  0.1640  0.1624  0.1600  0.1877  0.2672  0.3007  0.2844   \n",
              "4          4_0  0.0992  0.0980  0.0885  0.1203  0.2117  0.2474  0.2373   \n",
              "\n",
              "      B8A   avg_rad    random  smod_code  \\\n",
              "0  0.2919  0.102458  0.392920          1   \n",
              "1  0.2885  0.122022  0.429204          0   \n",
              "2  0.3845  0.099246  0.333446          0   \n",
              "3  0.3228  0.094267  0.340256          1   \n",
              "4  0.2707  0.145639  0.937213          0   \n",
              "\n",
              "                                     .geo  \n",
              "0  {\"type\":\"MultiPoint\",\"coordinates\":[]}  \n",
              "1  {\"type\":\"MultiPoint\",\"coordinates\":[]}  \n",
              "2  {\"type\":\"MultiPoint\",\"coordinates\":[]}  \n",
              "3  {\"type\":\"MultiPoint\",\"coordinates\":[]}  \n",
              "4  {\"type\":\"MultiPoint\",\"coordinates\":[]}  "
            ]
          },
          "execution_count": 34,
          "metadata": {},
          "output_type": "execute_result"
        }
      ],
      "source": [
        "df.head()"
      ]
    },
    {
      "cell_type": "markdown",
      "metadata": {
        "id": "lYMKYb8GUAdN"
      },
      "source": [
        "## Wandb Initialization"
      ]
    },
    {
      "cell_type": "markdown",
      "metadata": {
        "id": "wm3SIXp-f_TG"
      },
      "source": [
        "The overall process remains the same to what we used to log for our GEE experiment. In this case, we will define five set of hyperparameters and log the stats for each of them."
      ]
    },
    {
      "cell_type": "code",
      "execution_count": null,
      "metadata": {
        "id": "wzzq8UhRCmNh"
      },
      "outputs": [],
      "source": [
        "sklearn_config_1 = {\n",
        "    'split_thresh': 0.8,\n",
        "    'split_seed': 0,\n",
        "    \"n_estimators\":500,\n",
        "    \"max_features\": \"sqrt\",\n",
        "    \"min_samples_leaf\":1,\n",
        "    \"bootstrap\": True,\n",
        "    \"max_samples\": 0.5,\n",
        "    \"max_leaf_nodes\":None,\n",
        "    \"rf_seed\":42,\n",
        "    \"normalizeData\": False,\n",
        "}\n",
        "\n",
        "sklearn_config_2 = {\n",
        "    'split_thresh': 0.7,\n",
        "    'split_seed': 0,\n",
        "    \"n_estimators\":500,\n",
        "    \"max_features\": \"sqrt\",\n",
        "    \"min_samples_leaf\":1,\n",
        "    \"bootstrap\": True,\n",
        "    \"max_samples\": 0.5,\n",
        "    \"max_leaf_nodes\":None,\n",
        "    \"rf_seed\":42,\n",
        "    \"normalizeData\": False,\n",
        "}\n",
        "\n",
        "sklearn_config_3 = {\n",
        "    'split_thresh': 0.8,\n",
        "    'split_seed': 0,\n",
        "    \"n_estimators\":100,\n",
        "    \"max_features\": \"sqrt\",\n",
        "    \"min_samples_leaf\":1,\n",
        "    \"bootstrap\": True,\n",
        "    \"max_samples\": 0.5,\n",
        "    \"max_leaf_nodes\":None,\n",
        "    \"rf_seed\":42,\n",
        "    \"normalizeData\": False,\n",
        "}\n",
        "\n",
        "sklearn_config_4 = {\n",
        "    'split_thresh': 0.7,\n",
        "    'split_seed': 0,\n",
        "    \"n_estimators\":100,\n",
        "    \"max_features\": \"sqrt\",\n",
        "    \"min_samples_leaf\":1,\n",
        "    \"bootstrap\": True,\n",
        "    \"max_samples\": 0.5,\n",
        "    \"max_leaf_nodes\":None,\n",
        "    \"rf_seed\":42,\n",
        "    \"normalizeData\": False,\n",
        "}\n",
        "\n",
        "sklearn_config_5 = {\n",
        "    'split_thresh': 0.5,\n",
        "    'split_seed': 0,\n",
        "    \"n_estimators\":100,\n",
        "    \"max_features\": \"sqrt\",\n",
        "    \"min_samples_leaf\":5,\n",
        "    \"bootstrap\": True,\n",
        "    \"max_samples\": 0.5,\n",
        "    \"max_leaf_nodes\":None,\n",
        "    \"rf_seed\":42,\n",
        "    \"normalizeData\": False,\n",
        "}\n"
      ]
    },
    {
      "cell_type": "markdown",
      "metadata": {
        "id": "uS2WK6tsKsVv"
      },
      "source": [
        "Set the config you are currently using `sklearn_config_1` to `sklearn_config_4`"
      ]
    },
    {
      "cell_type": "code",
      "execution_count": null,
      "metadata": {
        "colab": {
          "base_uri": "https://localhost:8080/",
          "height": 126
        },
        "id": "V674RBX84JHK",
        "outputId": "0422f2ef-416e-443c-e7a4-03847606a42b"
      },
      "outputs": [
        {
          "data": {
            "text/html": [
              "Tracking run with wandb version 0.15.2"
            ],
            "text/plain": [
              "<IPython.core.display.HTML object>"
            ]
          },
          "metadata": {},
          "output_type": "display_data"
        },
        {
          "data": {
            "text/html": [
              "Run data is saved locally in <code>/content/wandb/run-20230514_085437-14bhyh01</code>"
            ],
            "text/plain": [
              "<IPython.core.display.HTML object>"
            ]
          },
          "metadata": {},
          "output_type": "display_data"
        },
        {
          "data": {
            "text/html": [
              "Syncing run <strong><a href='https://wandb.ai/ane/SK_7_1/runs/14bhyh01' target=\"_blank\">pretty-feather-9</a></strong> to <a href='https://wandb.ai/ane/SK_7_1' target=\"_blank\">Weights & Biases</a> (<a href='https://wandb.me/run' target=\"_blank\">docs</a>)<br/>"
            ],
            "text/plain": [
              "<IPython.core.display.HTML object>"
            ]
          },
          "metadata": {},
          "output_type": "display_data"
        },
        {
          "data": {
            "text/html": [
              " View project at <a href='https://wandb.ai/ane/SK_7_1' target=\"_blank\">https://wandb.ai/ane/SK_7_1</a>"
            ],
            "text/plain": [
              "<IPython.core.display.HTML object>"
            ]
          },
          "metadata": {},
          "output_type": "display_data"
        },
        {
          "data": {
            "text/html": [
              " View run at <a href='https://wandb.ai/ane/SK_7_1/runs/14bhyh01' target=\"_blank\">https://wandb.ai/ane/SK_7_1/runs/14bhyh01</a>"
            ],
            "text/plain": [
              "<IPython.core.display.HTML object>"
            ]
          },
          "metadata": {},
          "output_type": "display_data"
        },
        {
          "data": {
            "text/html": [
              "<button onClick=\"this.nextSibling.style.display='block';this.style.display='none';\">Display W&B run</button><iframe src='https://wandb.ai/ane/SK_7_1/runs/14bhyh01?jupyter=true' style='border:none;width:100%;height:420px;display:none;'></iframe>"
            ],
            "text/plain": [
              "<wandb.sdk.wandb_run.Run at 0x7fcebd6fac20>"
            ]
          },
          "execution_count": 36,
          "metadata": {},
          "output_type": "execute_result"
        }
      ],
      "source": [
        "sklearn_config = sklearn_config_3\n",
        "wandb.init(project='SK_7_1', config=sklearn_config)"
      ]
    },
    {
      "cell_type": "markdown",
      "metadata": {
        "id": "fFauZs2I-xb0"
      },
      "source": [
        "## Sklearn Train Test Split\n",
        "Similar to what we did from GEE let's split the dataset into train and test sets. First, let's split the label from the features."
      ]
    },
    {
      "cell_type": "code",
      "execution_count": null,
      "metadata": {
        "colab": {
          "base_uri": "https://localhost:8080/",
          "height": 206
        },
        "id": "k8Ycsb1K99Ba",
        "outputId": "149c0e79-552f-4f7c-9a43-e35e502c454d"
      },
      "outputs": [
        {
          "data": {
            "text/html": [
              "\n",
              "  <div id=\"df-d40fb474-5361-4540-a098-747aa517eb16\">\n",
              "    <div class=\"colab-df-container\">\n",
              "      <div>\n",
              "<style scoped>\n",
              "    .dataframe tbody tr th:only-of-type {\n",
              "        vertical-align: middle;\n",
              "    }\n",
              "\n",
              "    .dataframe tbody tr th {\n",
              "        vertical-align: top;\n",
              "    }\n",
              "\n",
              "    .dataframe thead th {\n",
              "        text-align: right;\n",
              "    }\n",
              "</style>\n",
              "<table border=\"1\" class=\"dataframe\">\n",
              "  <thead>\n",
              "    <tr style=\"text-align: right;\">\n",
              "      <th></th>\n",
              "      <th>B2</th>\n",
              "      <th>B3</th>\n",
              "      <th>B4</th>\n",
              "      <th>B5</th>\n",
              "      <th>B6</th>\n",
              "      <th>B7</th>\n",
              "      <th>B8</th>\n",
              "      <th>B8A</th>\n",
              "      <th>avg_rad</th>\n",
              "    </tr>\n",
              "  </thead>\n",
              "  <tbody>\n",
              "    <tr>\n",
              "      <th>0</th>\n",
              "      <td>0.0871</td>\n",
              "      <td>0.0905</td>\n",
              "      <td>0.0830</td>\n",
              "      <td>0.1218</td>\n",
              "      <td>0.2286</td>\n",
              "      <td>0.2685</td>\n",
              "      <td>0.2559</td>\n",
              "      <td>0.2919</td>\n",
              "      <td>0.102458</td>\n",
              "    </tr>\n",
              "    <tr>\n",
              "      <th>1</th>\n",
              "      <td>0.0872</td>\n",
              "      <td>0.0891</td>\n",
              "      <td>0.0789</td>\n",
              "      <td>0.1160</td>\n",
              "      <td>0.2245</td>\n",
              "      <td>0.2653</td>\n",
              "      <td>0.2533</td>\n",
              "      <td>0.2885</td>\n",
              "      <td>0.122022</td>\n",
              "    </tr>\n",
              "    <tr>\n",
              "      <th>2</th>\n",
              "      <td>0.2296</td>\n",
              "      <td>0.2265</td>\n",
              "      <td>0.2307</td>\n",
              "      <td>0.2563</td>\n",
              "      <td>0.3324</td>\n",
              "      <td>0.3655</td>\n",
              "      <td>0.3482</td>\n",
              "      <td>0.3845</td>\n",
              "      <td>0.099246</td>\n",
              "    </tr>\n",
              "    <tr>\n",
              "      <th>3</th>\n",
              "      <td>0.1640</td>\n",
              "      <td>0.1624</td>\n",
              "      <td>0.1600</td>\n",
              "      <td>0.1877</td>\n",
              "      <td>0.2672</td>\n",
              "      <td>0.3007</td>\n",
              "      <td>0.2844</td>\n",
              "      <td>0.3228</td>\n",
              "      <td>0.094267</td>\n",
              "    </tr>\n",
              "    <tr>\n",
              "      <th>4</th>\n",
              "      <td>0.0992</td>\n",
              "      <td>0.0980</td>\n",
              "      <td>0.0885</td>\n",
              "      <td>0.1203</td>\n",
              "      <td>0.2117</td>\n",
              "      <td>0.2474</td>\n",
              "      <td>0.2373</td>\n",
              "      <td>0.2707</td>\n",
              "      <td>0.145639</td>\n",
              "    </tr>\n",
              "  </tbody>\n",
              "</table>\n",
              "</div>\n",
              "      <button class=\"colab-df-convert\" onclick=\"convertToInteractive('df-d40fb474-5361-4540-a098-747aa517eb16')\"\n",
              "              title=\"Convert this dataframe to an interactive table.\"\n",
              "              style=\"display:none;\">\n",
              "        \n",
              "  <svg xmlns=\"http://www.w3.org/2000/svg\" height=\"24px\"viewBox=\"0 0 24 24\"\n",
              "       width=\"24px\">\n",
              "    <path d=\"M0 0h24v24H0V0z\" fill=\"none\"/>\n",
              "    <path d=\"M18.56 5.44l.94 2.06.94-2.06 2.06-.94-2.06-.94-.94-2.06-.94 2.06-2.06.94zm-11 1L8.5 8.5l.94-2.06 2.06-.94-2.06-.94L8.5 2.5l-.94 2.06-2.06.94zm10 10l.94 2.06.94-2.06 2.06-.94-2.06-.94-.94-2.06-.94 2.06-2.06.94z\"/><path d=\"M17.41 7.96l-1.37-1.37c-.4-.4-.92-.59-1.43-.59-.52 0-1.04.2-1.43.59L10.3 9.45l-7.72 7.72c-.78.78-.78 2.05 0 2.83L4 21.41c.39.39.9.59 1.41.59.51 0 1.02-.2 1.41-.59l7.78-7.78 2.81-2.81c.8-.78.8-2.07 0-2.86zM5.41 20L4 18.59l7.72-7.72 1.47 1.35L5.41 20z\"/>\n",
              "  </svg>\n",
              "      </button>\n",
              "      \n",
              "  <style>\n",
              "    .colab-df-container {\n",
              "      display:flex;\n",
              "      flex-wrap:wrap;\n",
              "      gap: 12px;\n",
              "    }\n",
              "\n",
              "    .colab-df-convert {\n",
              "      background-color: #E8F0FE;\n",
              "      border: none;\n",
              "      border-radius: 50%;\n",
              "      cursor: pointer;\n",
              "      display: none;\n",
              "      fill: #1967D2;\n",
              "      height: 32px;\n",
              "      padding: 0 0 0 0;\n",
              "      width: 32px;\n",
              "    }\n",
              "\n",
              "    .colab-df-convert:hover {\n",
              "      background-color: #E2EBFA;\n",
              "      box-shadow: 0px 1px 2px rgba(60, 64, 67, 0.3), 0px 1px 3px 1px rgba(60, 64, 67, 0.15);\n",
              "      fill: #174EA6;\n",
              "    }\n",
              "\n",
              "    [theme=dark] .colab-df-convert {\n",
              "      background-color: #3B4455;\n",
              "      fill: #D2E3FC;\n",
              "    }\n",
              "\n",
              "    [theme=dark] .colab-df-convert:hover {\n",
              "      background-color: #434B5C;\n",
              "      box-shadow: 0px 1px 3px 1px rgba(0, 0, 0, 0.15);\n",
              "      filter: drop-shadow(0px 1px 2px rgba(0, 0, 0, 0.3));\n",
              "      fill: #FFFFFF;\n",
              "    }\n",
              "  </style>\n",
              "\n",
              "      <script>\n",
              "        const buttonEl =\n",
              "          document.querySelector('#df-d40fb474-5361-4540-a098-747aa517eb16 button.colab-df-convert');\n",
              "        buttonEl.style.display =\n",
              "          google.colab.kernel.accessAllowed ? 'block' : 'none';\n",
              "\n",
              "        async function convertToInteractive(key) {\n",
              "          const element = document.querySelector('#df-d40fb474-5361-4540-a098-747aa517eb16');\n",
              "          const dataTable =\n",
              "            await google.colab.kernel.invokeFunction('convertToInteractive',\n",
              "                                                     [key], {});\n",
              "          if (!dataTable) return;\n",
              "\n",
              "          const docLinkHtml = 'Like what you see? Visit the ' +\n",
              "            '<a target=\"_blank\" href=https://colab.research.google.com/notebooks/data_table.ipynb>data table notebook</a>'\n",
              "            + ' to learn more about interactive tables.';\n",
              "          element.innerHTML = '';\n",
              "          dataTable['output_type'] = 'display_data';\n",
              "          await google.colab.output.renderOutput(dataTable, element);\n",
              "          const docLink = document.createElement('div');\n",
              "          docLink.innerHTML = docLinkHtml;\n",
              "          element.appendChild(docLink);\n",
              "        }\n",
              "      </script>\n",
              "    </div>\n",
              "  </div>\n",
              "  "
            ],
            "text/plain": [
              "       B2      B3      B4      B5      B6      B7      B8     B8A   avg_rad\n",
              "0  0.0871  0.0905  0.0830  0.1218  0.2286  0.2685  0.2559  0.2919  0.102458\n",
              "1  0.0872  0.0891  0.0789  0.1160  0.2245  0.2653  0.2533  0.2885  0.122022\n",
              "2  0.2296  0.2265  0.2307  0.2563  0.3324  0.3655  0.3482  0.3845  0.099246\n",
              "3  0.1640  0.1624  0.1600  0.1877  0.2672  0.3007  0.2844  0.3228  0.094267\n",
              "4  0.0992  0.0980  0.0885  0.1203  0.2117  0.2474  0.2373  0.2707  0.145639"
            ]
          },
          "execution_count": 37,
          "metadata": {},
          "output_type": "execute_result"
        }
      ],
      "source": [
        "X = df[trainingbands]\n",
        "X.head()"
      ]
    },
    {
      "cell_type": "code",
      "execution_count": null,
      "metadata": {
        "colab": {
          "base_uri": "https://localhost:8080/"
        },
        "id": "6WVxAFGK_d8n",
        "outputId": "d33be6e1-dc00-4632-8c43-c076817b59d7"
      },
      "outputs": [
        {
          "data": {
            "text/plain": [
              "0    1\n",
              "1    0\n",
              "2    0\n",
              "3    1\n",
              "4    0\n",
              "Name: smod_code, dtype: int64"
            ]
          },
          "execution_count": 38,
          "metadata": {},
          "output_type": "execute_result"
        }
      ],
      "source": [
        "y = df[label]\n",
        "y.head()"
      ]
    },
    {
      "cell_type": "code",
      "execution_count": null,
      "metadata": {
        "id": "gSQzewOV_id8"
      },
      "outputs": [],
      "source": [
        "# Split into train and test sets\n",
        "X_train, X_test, y_train, y_test = train_test_split(X, y, test_size=config['split_thresh'], random_state=config['split_seed'])"
      ]
    },
    {
      "cell_type": "markdown",
      "metadata": {
        "id": "fzGI_0p2CEq-"
      },
      "source": [
        "Let's now create a Random Forest classifier with the parameters we used to train the random forest classifier in GEE."
      ]
    },
    {
      "cell_type": "code",
      "execution_count": null,
      "metadata": {
        "id": "eqQE2vMw_tcR"
      },
      "outputs": [],
      "source": [
        "new_params_sk = {\"n_estimators\":sklearn_config['n_estimators'],\n",
        "              \"max_features\": sklearn_config['max_features'],\n",
        "              \"min_samples_leaf\":sklearn_config['min_samples_leaf'],\n",
        "              \"bootstrap\": sklearn_config['bootstrap'],\n",
        "              \"max_samples\": sklearn_config['max_samples'],\n",
        "              \"max_leaf_nodes\":sklearn_config['max_leaf_nodes'],\n",
        "              \"random_state\":sklearn_config['rf_seed']}"
      ]
    },
    {
      "cell_type": "code",
      "execution_count": null,
      "metadata": {
        "id": "X-Ap8LiqBq77"
      },
      "outputs": [],
      "source": [
        "clf = RandomForestClassifier(**new_params_sk)"
      ]
    },
    {
      "cell_type": "code",
      "execution_count": null,
      "metadata": {
        "colab": {
          "base_uri": "https://localhost:8080/",
          "height": 74
        },
        "id": "bfMIcGIlCTcs",
        "outputId": "7797ced2-bd48-4de2-e147-86e1fa664ae1"
      },
      "outputs": [
        {
          "data": {
            "text/html": [
              "<style>#sk-container-id-1 {color: black;background-color: white;}#sk-container-id-1 pre{padding: 0;}#sk-container-id-1 div.sk-toggleable {background-color: white;}#sk-container-id-1 label.sk-toggleable__label {cursor: pointer;display: block;width: 100%;margin-bottom: 0;padding: 0.3em;box-sizing: border-box;text-align: center;}#sk-container-id-1 label.sk-toggleable__label-arrow:before {content: \"▸\";float: left;margin-right: 0.25em;color: #696969;}#sk-container-id-1 label.sk-toggleable__label-arrow:hover:before {color: black;}#sk-container-id-1 div.sk-estimator:hover label.sk-toggleable__label-arrow:before {color: black;}#sk-container-id-1 div.sk-toggleable__content {max-height: 0;max-width: 0;overflow: hidden;text-align: left;background-color: #f0f8ff;}#sk-container-id-1 div.sk-toggleable__content pre {margin: 0.2em;color: black;border-radius: 0.25em;background-color: #f0f8ff;}#sk-container-id-1 input.sk-toggleable__control:checked~div.sk-toggleable__content {max-height: 200px;max-width: 100%;overflow: auto;}#sk-container-id-1 input.sk-toggleable__control:checked~label.sk-toggleable__label-arrow:before {content: \"▾\";}#sk-container-id-1 div.sk-estimator input.sk-toggleable__control:checked~label.sk-toggleable__label {background-color: #d4ebff;}#sk-container-id-1 div.sk-label input.sk-toggleable__control:checked~label.sk-toggleable__label {background-color: #d4ebff;}#sk-container-id-1 input.sk-hidden--visually {border: 0;clip: rect(1px 1px 1px 1px);clip: rect(1px, 1px, 1px, 1px);height: 1px;margin: -1px;overflow: hidden;padding: 0;position: absolute;width: 1px;}#sk-container-id-1 div.sk-estimator {font-family: monospace;background-color: #f0f8ff;border: 1px dotted black;border-radius: 0.25em;box-sizing: border-box;margin-bottom: 0.5em;}#sk-container-id-1 div.sk-estimator:hover {background-color: #d4ebff;}#sk-container-id-1 div.sk-parallel-item::after {content: \"\";width: 100%;border-bottom: 1px solid gray;flex-grow: 1;}#sk-container-id-1 div.sk-label:hover label.sk-toggleable__label {background-color: #d4ebff;}#sk-container-id-1 div.sk-serial::before {content: \"\";position: absolute;border-left: 1px solid gray;box-sizing: border-box;top: 0;bottom: 0;left: 50%;z-index: 0;}#sk-container-id-1 div.sk-serial {display: flex;flex-direction: column;align-items: center;background-color: white;padding-right: 0.2em;padding-left: 0.2em;position: relative;}#sk-container-id-1 div.sk-item {position: relative;z-index: 1;}#sk-container-id-1 div.sk-parallel {display: flex;align-items: stretch;justify-content: center;background-color: white;position: relative;}#sk-container-id-1 div.sk-item::before, #sk-container-id-1 div.sk-parallel-item::before {content: \"\";position: absolute;border-left: 1px solid gray;box-sizing: border-box;top: 0;bottom: 0;left: 50%;z-index: -1;}#sk-container-id-1 div.sk-parallel-item {display: flex;flex-direction: column;z-index: 1;position: relative;background-color: white;}#sk-container-id-1 div.sk-parallel-item:first-child::after {align-self: flex-end;width: 50%;}#sk-container-id-1 div.sk-parallel-item:last-child::after {align-self: flex-start;width: 50%;}#sk-container-id-1 div.sk-parallel-item:only-child::after {width: 0;}#sk-container-id-1 div.sk-dashed-wrapped {border: 1px dashed gray;margin: 0 0.4em 0.5em 0.4em;box-sizing: border-box;padding-bottom: 0.4em;background-color: white;}#sk-container-id-1 div.sk-label label {font-family: monospace;font-weight: bold;display: inline-block;line-height: 1.2em;}#sk-container-id-1 div.sk-label-container {text-align: center;}#sk-container-id-1 div.sk-container {/* jupyter's `normalize.less` sets `[hidden] { display: none; }` but bootstrap.min.css set `[hidden] { display: none !important; }` so we also need the `!important` here to be able to override the default hidden behavior on the sphinx rendered scikit-learn.org. See: https://github.com/scikit-learn/scikit-learn/issues/21755 */display: inline-block !important;position: relative;}#sk-container-id-1 div.sk-text-repr-fallback {display: none;}</style><div id=\"sk-container-id-1\" class=\"sk-top-container\"><div class=\"sk-text-repr-fallback\"><pre>RandomForestClassifier(max_samples=0.5, random_state=42)</pre><b>In a Jupyter environment, please rerun this cell to show the HTML representation or trust the notebook. <br />On GitHub, the HTML representation is unable to render, please try loading this page with nbviewer.org.</b></div><div class=\"sk-container\" hidden><div class=\"sk-item\"><div class=\"sk-estimator sk-toggleable\"><input class=\"sk-toggleable__control sk-hidden--visually\" id=\"sk-estimator-id-1\" type=\"checkbox\" checked><label for=\"sk-estimator-id-1\" class=\"sk-toggleable__label sk-toggleable__label-arrow\">RandomForestClassifier</label><div class=\"sk-toggleable__content\"><pre>RandomForestClassifier(max_samples=0.5, random_state=42)</pre></div></div></div></div></div>"
            ],
            "text/plain": [
              "RandomForestClassifier(max_samples=0.5, random_state=42)"
            ]
          },
          "execution_count": 42,
          "metadata": {},
          "output_type": "execute_result"
        }
      ],
      "source": [
        "clf.fit(X_train, y_train)"
      ]
    },
    {
      "cell_type": "code",
      "execution_count": null,
      "metadata": {
        "id": "u1T3O8v5Q5vg"
      },
      "outputs": [],
      "source": [
        "y_pred = clf.predict(X_test)"
      ]
    },
    {
      "cell_type": "markdown",
      "metadata": {
        "id": "9ZMkJfTjR06e"
      },
      "source": [
        "Let's now log the f1 score and accuracy."
      ]
    },
    {
      "cell_type": "code",
      "execution_count": null,
      "metadata": {
        "id": "eATH48mLQpwN"
      },
      "outputs": [],
      "source": [
        "f1 = f1_score(y_true=y_test, y_pred=y_pred)\n",
        "acc = accuracy_score(y_true=y_test, y_pred=y_pred)\n",
        "wandb.log({'f1': f1, 'accuracy': acc})"
      ]
    },
    {
      "cell_type": "code",
      "execution_count": null,
      "metadata": {
        "colab": {
          "base_uri": "https://localhost:8080/",
          "height": 226
        },
        "id": "rTNyqYN1K_or",
        "outputId": "f4f82eb4-98ef-4edc-ff17-925eaf6c0ae5"
      },
      "outputs": [
        {
          "data": {
            "text/html": [
              "Waiting for W&B process to finish... <strong style=\"color:green\">(success).</strong>"
            ],
            "text/plain": [
              "<IPython.core.display.HTML object>"
            ]
          },
          "metadata": {},
          "output_type": "display_data"
        },
        {
          "data": {
            "text/html": [
              "<style>\n",
              "    table.wandb td:nth-child(1) { padding: 0 10px; text-align: left ; width: auto;} td:nth-child(2) {text-align: left ; width: 100%}\n",
              "    .wandb-row { display: flex; flex-direction: row; flex-wrap: wrap; justify-content: flex-start; width: 100% }\n",
              "    .wandb-col { display: flex; flex-direction: column; flex-basis: 100%; flex: 1; padding: 10px; }\n",
              "    </style>\n",
              "<div class=\"wandb-row\"><div class=\"wandb-col\"><h3>Run history:</h3><br/><table class=\"wandb\"><tr><td>accuracy</td><td>▁</td></tr><tr><td>f1</td><td>▁</td></tr></table><br/></div><div class=\"wandb-col\"><h3>Run summary:</h3><br/><table class=\"wandb\"><tr><td>accuracy</td><td>0.81196</td></tr><tr><td>f1</td><td>0.30373</td></tr></table><br/></div></div>"
            ],
            "text/plain": [
              "<IPython.core.display.HTML object>"
            ]
          },
          "metadata": {},
          "output_type": "display_data"
        },
        {
          "data": {
            "text/html": [
              " View run <strong style=\"color:#cdcd00\">pretty-feather-9</strong> at: <a href='https://wandb.ai/ane/SK_7_1/runs/14bhyh01' target=\"_blank\">https://wandb.ai/ane/SK_7_1/runs/14bhyh01</a><br/>Synced 4 W&B file(s), 0 media file(s), 0 artifact file(s) and 0 other file(s)"
            ],
            "text/plain": [
              "<IPython.core.display.HTML object>"
            ]
          },
          "metadata": {},
          "output_type": "display_data"
        },
        {
          "data": {
            "text/html": [
              "Find logs at: <code>./wandb/run-20230514_085437-14bhyh01/logs</code>"
            ],
            "text/plain": [
              "<IPython.core.display.HTML object>"
            ]
          },
          "metadata": {},
          "output_type": "display_data"
        }
      ],
      "source": [
        "wandb.finish()"
      ]
    },
    {
      "cell_type": "markdown",
      "metadata": {
        "id": "0iuK6LxnC3Ld"
      },
      "source": [
        "## Question 7.1.3\n",
        "Change the `sklearn_config_1` in the cell wandb is initialized (where `wandb.init` is called to `sklearn_config_2`, `sklearn_config_3`, `sklearn_config_4`, and `sklearn_config_5` one by one and run all cells starting from the cell to the above cell where `wandb.finish` is called. This will give you five experiments with five different configurations."
      ]
    },
    {
      "cell_type": "code",
      "execution_count": null,
      "metadata": {
        "id": "cRHGmdcoCies"
      },
      "outputs": [],
      "source": []
    },
    {
      "cell_type": "markdown",
      "metadata": {
        "id": "OnkIn9GlVH5q"
      },
      "source": [
        "## Finding Runs in Wandb\n",
        "It is very easy to find a run by hyperparameter, date, or logged metrics in wandb. To do so.\n",
        "1. Go to Wandb and open the project you want to find experiments for (in our case `sk_7_1`)\n",
        "2. Find the table button on the same line with the `Runs` header on the left pane.\n",
        "![image.png](data:image/png;base64,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)\n",
        "\n",
        "3. Click on filter at top of the table of experiments.\n",
        "![image.png](data:image/png;base64,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)\n",
        "4. A dropdown will show up. Click on `+ Add filter` from the dropdown.\n",
        "5. You may now filter experiments using any attribute, logged metric, or hyperparameter. In this case, let's see how to filter experiments with `f1` greater than 0.3.\n",
        "![image.png](data:image/png;base64,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)"
      ]
    }
  ],
  "metadata": {
    "colab": {
      "provenance": [],
      "toc_visible": true
    },
    "gpuClass": "standard",
    "kernelspec": {
      "display_name": "Python 3",
      "name": "python3"
    },
    "language_info": {
      "name": "python"
    }
  },
  "nbformat": 4,
  "nbformat_minor": 0
}
