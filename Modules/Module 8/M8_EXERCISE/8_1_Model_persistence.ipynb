{
  "cells": [
    {
      "cell_type": "markdown",
      "metadata": {
        "id": "WtLfGAoaDL50"
      },
      "source": [
        "# Machine Learnning with Google Earth Engine (GEE)\n",
        "Machine Learning (ML) is a powerful technique for analyzing Earth Observation data. The Google Earth Engine (GEE) has built-in capabilities to allow users to build and use ML models for common scenarios with easy-to-use APIs.\n",
        "\n",
        "A common ML task is to classify the pixels in satellite imagery into two or more categories. The approach is useful for Land Use Land Cover mapping and other popular applications. In the GEE API it is possible to train models. However, sometimes the GEE API has it's limits and you want use GEE results with other APIs. In that case it is common to export images outside GEE and train there, where other python libraries are available.\n",
        "\n",
        "Identifying areas of human settlement is a large area of focus in Earth Observation and many other disciplines.\n",
        "\n",
        "The Global Human Settlement Layer (GHSL) dataset is a useful resource for understanding areas of settlement and happily for our purposes, it is available in the GEE catalogue.\n",
        "\n",
        "The dataset we are particularly interested in is the GHSL “Settlement Grid” layer. The settlement grids in this dataset have been generated via the GHSL built-up areas and population grids, which are themselves derived from Landsat image collections and other sources and these layers are also available on GEE.\n",
        "\n",
        "The GHSL dataset will be used to get the labels for different regions. We would like to predict the land use based on RGB bands, NIR bands, red edge bands, and average Day/Night Band(DNB) radiance values. The average DNB radiance will be fetched from the *VIIRS Stray Light Corrected Nighttime Day/Night Band Composites Version 1* dataset. The other bands will be fetched from the Sentinel-2 dataset.\n",
        "\n",
        "Read the following resources if you like further reading on the GEE.\n",
        "\n",
        "- https://earthengine.google.com/\n",
        "- https://www.sciencedirect.com/science/article/pii/S0034425717302900\n",
        "\n"
      ]
    },
    {
      "cell_type": "code",
      "execution_count": 1,
      "metadata": {
        "colab": {
          "base_uri": "https://localhost:8080/"
        },
        "id": "341-pAe8J-vI",
        "outputId": "18b1d9de-c966-4741-8505-ae2e34628449"
      },
      "outputs": [
        {
          "output_type": "stream",
          "name": "stdout",
          "text": [
            "\u001b[2K     \u001b[90m━━━━━━━━━━━━━━━━━━━━━━━━━━━━━━━━━━━━━━━━\u001b[0m \u001b[32m2.2/2.2 MB\u001b[0m \u001b[31m15.2 MB/s\u001b[0m eta \u001b[36m0:00:00\u001b[0m\n",
            "\u001b[2K     \u001b[90m━━━━━━━━━━━━━━━━━━━━━━━━━━━━━━━━━━━━━━━━\u001b[0m \u001b[32m21.3/21.3 MB\u001b[0m \u001b[31m37.9 MB/s\u001b[0m eta \u001b[36m0:00:00\u001b[0m\n",
            "\u001b[2K     \u001b[90m━━━━━━━━━━━━━━━━━━━━━━━━━━━━━━━━━━━━━━━━\u001b[0m \u001b[32m1.2/1.2 MB\u001b[0m \u001b[31m21.5 MB/s\u001b[0m eta \u001b[36m0:00:00\u001b[0m\n",
            "\u001b[2K     \u001b[90m━━━━━━━━━━━━━━━━━━━━━━━━━━━━━━━━━━━━━━━━\u001b[0m \u001b[32m98.6/98.6 kB\u001b[0m \u001b[31m5.6 MB/s\u001b[0m eta \u001b[36m0:00:00\u001b[0m\n",
            "\u001b[2K     \u001b[90m━━━━━━━━━━━━━━━━━━━━━━━━━━━━━━━━━━━━━━━\u001b[0m \u001b[32m130.5/130.5 kB\u001b[0m \u001b[31m6.4 MB/s\u001b[0m eta \u001b[36m0:00:00\u001b[0m\n",
            "\u001b[2K     \u001b[90m━━━━━━━━━━━━━━━━━━━━━━━━━━━━━━━━━━━━━━━━\u001b[0m \u001b[32m3.7/3.7 MB\u001b[0m \u001b[31m38.4 MB/s\u001b[0m eta \u001b[36m0:00:00\u001b[0m\n",
            "\u001b[2K     \u001b[90m━━━━━━━━━━━━━━━━━━━━━━━━━━━━━━━━━━━━━━━━\u001b[0m \u001b[32m1.3/1.3 MB\u001b[0m \u001b[31m55.1 MB/s\u001b[0m eta \u001b[36m0:00:00\u001b[0m\n",
            "\u001b[?25h  Preparing metadata (setup.py) ... \u001b[?25l\u001b[?25hdone\n",
            "\u001b[2K     \u001b[90m━━━━━━━━━━━━━━━━━━━━━━━━━━━━━━━━━━━━━━━━\u001b[0m \u001b[32m46.5/46.5 kB\u001b[0m \u001b[31m2.7 MB/s\u001b[0m eta \u001b[36m0:00:00\u001b[0m\n",
            "\u001b[2K     \u001b[90m━━━━━━━━━━━━━━━━━━━━━━━━━━━━━━━━━━━━━━━━\u001b[0m \u001b[32m3.2/3.2 MB\u001b[0m \u001b[31m65.4 MB/s\u001b[0m eta \u001b[36m0:00:00\u001b[0m\n",
            "\u001b[2K     \u001b[90m━━━━━━━━━━━━━━━━━━━━━━━━━━━━━━━━━━━━━━━━\u001b[0m \u001b[32m56.5/56.5 kB\u001b[0m \u001b[31m2.4 MB/s\u001b[0m eta \u001b[36m0:00:00\u001b[0m\n",
            "\u001b[2K     \u001b[90m━━━━━━━━━━━━━━━━━━━━━━━━━━━━━━━━━━━━━━━━\u001b[0m \u001b[32m1.6/1.6 MB\u001b[0m \u001b[31m27.4 MB/s\u001b[0m eta \u001b[36m0:00:00\u001b[0m\n",
            "\u001b[?25h  Building wheel for pyperclip (setup.py) ... \u001b[?25l\u001b[?25hdone\n"
          ]
        }
      ],
      "source": [
        "!pip install geemap rasterio -qqq"
      ]
    },
    {
      "cell_type": "markdown",
      "metadata": {
        "id": "2avqGxA3dRhy"
      },
      "source": [
        "# Setup\n",
        "\n",
        "If you have already run this setup (for e.g as part of Exercise 5_02), please reuse the private key. \n",
        "Otherwise, follow the steps at https://docs.google.com/document/d/13SKLn_mqhlaRc1gElr4kmBrkw6KZPeqDDW3AjcTr8YY/\n",
        "\n",
        "Now mount your google drive"
      ]
    },
    {
      "cell_type": "code",
      "execution_count": 2,
      "metadata": {
        "colab": {
          "base_uri": "https://localhost:8080/"
        },
        "id": "HKIdst_KLXpY",
        "outputId": "d7e1f38e-58a1-43eb-bb0b-5c7ef9f9a4f0"
      },
      "outputs": [
        {
          "output_type": "stream",
          "name": "stdout",
          "text": [
            "Mounted at /content/drive\n"
          ]
        }
      ],
      "source": [
        "from google.colab import drive\n",
        "drive.mount('/content/drive')"
      ]
    },
    {
      "cell_type": "markdown",
      "metadata": {
        "id": "nnKXzd6D2F51"
      },
      "source": [
        "Import required packages"
      ]
    },
    {
      "cell_type": "code",
      "execution_count": 3,
      "metadata": {
        "id": "60e4I4Bmcffh"
      },
      "outputs": [],
      "source": [
        "import ee\n",
        "import os\n",
        "import time\n",
        "import sys\n",
        "import numpy as np\n",
        "import pandas as pd\n",
        "import itertools\n",
        "import os\n",
        "import traceback\n",
        "import urllib\n",
        "import folium\n",
        "\n",
        "from pydrive.auth import GoogleAuth\n",
        "from pydrive.drive import GoogleDrive\n",
        "from oauth2client.service_account import ServiceAccountCredentials\n",
        "\n",
        "import pandas as pd\n",
        "import matplotlib.pyplot as plt\n",
        "import numpy as np\n",
        "from scipy import optimize\n",
        "import seaborn as sns\n",
        "import geemap\n",
        "from sklearn.ensemble import RandomForestClassifier\n",
        "from sklearn.model_selection import RandomizedSearchCV\n",
        "from sklearn.model_selection import train_test_split\n",
        "from sklearn.metrics import accuracy_score, f1_score, confusion_matrix\n",
        "from scipy.stats import uniform"
      ]
    },
    {
      "cell_type": "markdown",
      "metadata": {
        "id": "YwLqnhZBHw7l"
      },
      "source": [
        "**Setup GEE Credentials**\n",
        "\n",
        "Upload the `.private-key.json` you created while setting up GEE to the current runtime (rename your key file if necessary). Click Files > Upload to Session storage on the left pane in this notebook to upload. <br/>\n",
        "Replace the service account in the code below with your Google Cloud project service account email. It should be of the format <br/>`<id>@ml4eo-<some_number>.iam.gserviceaccount.com`"
      ]
    },
    {
      "cell_type": "code",
      "execution_count": 5,
      "metadata": {
        "id": "p-7JYiydcsmH"
      },
      "outputs": [],
      "source": [
        "service_account = 'ml4eo-420815.iam.gserviceaccount.com'\n",
        "credentials = ee.ServiceAccountCredentials(service_account, '.private-key.json')\n",
        "ee.Initialize(credentials)"
      ]
    },
    {
      "cell_type": "markdown",
      "metadata": {
        "id": "paSuVVs7nUAR"
      },
      "source": [
        "Now let's load the following helper function to be used later in the script"
      ]
    },
    {
      "cell_type": "code",
      "execution_count": 6,
      "metadata": {
        "id": "slOHv_TA7QmM"
      },
      "outputs": [],
      "source": [
        "def Mapdisplay(center, dicc, Tiles=\"OpensTreetMap\",zoom_start=10):\n",
        "    '''\n",
        "    :param center: Center of the map (Latitude and Longitude).\n",
        "    :param dicc: Earth Engine Geometries or Tiles dictionary\n",
        "    :param Tiles: Mapbox Bright,Mapbox Control Room,Stamen Terrain,Stamen Toner,stamenwatercolor,cartodbpositron.\n",
        "    :zoom_start: Initial zoom level for the map.\n",
        "    :return: A folium.Map object.\n",
        "    '''\n",
        "    mapViz = folium.Map(location=center,tiles=Tiles, zoom_start=zoom_start)\n",
        "    for k,v in dicc.items():\n",
        "      if ee.image.Image in [type(x) for x in v.values()]:\n",
        "        folium.TileLayer(\n",
        "            tiles = v[\"tile_fetcher\"].url_format,\n",
        "            attr  = 'Google Earth Engine',\n",
        "            overlay =True,\n",
        "            name  = k\n",
        "          ).add_to(mapViz)\n",
        "      else:\n",
        "        folium.GeoJson(\n",
        "        data = v,\n",
        "        name = k\n",
        "          ).add_to(mapViz)\n",
        "    mapViz.add_child(folium.LayerControl())\n",
        "    return mapViz"
      ]
    },
    {
      "cell_type": "markdown",
      "metadata": {
        "id": "FMJraKskMrZi"
      },
      "source": [
        "# Datasets"
      ]
    },
    {
      "cell_type": "markdown",
      "metadata": {
        "id": "YFUEE_yqw_e_"
      },
      "source": [
        "## Global Human Settlement Layers (GHSL)\n",
        "\n",
        "Source: https://developers.google.com/earth-engine/datasets/catalog/JRC_GHSL_P2016_SMOD_POP_GLOBE_V1\n",
        "\n",
        "The GHS-SMOD is the rural-urban Settlement classification Model adopted by the Global Human Settlement Layers (GHSL). It is the representation of the degree of urbanization (DEGURBA) concept into the GHSL data scenario. Each grid in the GHS-SMOD has been generated by integrating the GHSL built-up areas and GHSL population grids data for reference epochs: 1975, 1990, 2000, 2015.\n",
        "\n",
        "In GHSL there is one band with four “degrees of urbanization”:\n",
        "1. Inhabited areas\n",
        "2. Rural grid cells\n",
        "3. Low Density Clusters (towns and cities)\n",
        "4. High Density Clusters (cities)\n",
        "\n",
        "We made a choice in framing our analysis that we are interested in the change of the Low and High Density clusters (“built up”) relative to everything else, so we will classify any pixel with values in [2, 3] as “built up” and assign this 1 or not and assign it 0.\n",
        "\n",
        "A second item worth noting is that the spatial resolution for this grid layer is 1000 meters.\n",
        "\n",
        "The bands in the GHSL dataset are shown below.\n",
        "\n",
        "<table class=\"eecat\">\n",
        "<tbody><tr>\n",
        "<th scope=\"col\">Name</th>\n",
        "<th scope=\"col\">Description</th>\n",
        "</tr>\n",
        "<tr>\n",
        "<td><code translate=\"no\" dir=\"ltr\">smod_<wbr>code</code></td>\n",
        "<td><p>Degree of urbanization</p></td>\n",
        "</tr>\n",
        "</tbody></table>\n",
        "\n",
        "Here is a description of the different values in the smod_code band.\n",
        "<div class=\"devsite-table-wrapper\"><table class=\"eecat\">\n",
        "<tbody><tr>\n",
        "<th scope=\"col\">Value</th>\n",
        "<th scope=\"col\">Color</th>\n",
        "<th scope=\"col\">Description</th>\n",
        "</tr>\n",
        "<tr>\n",
        "<td>0</td>\n",
        "<td><span style=\"background-color:000000\">000000</span></td>\n",
        "<td>Inhabited areas</td>\n",
        "</tr>\n",
        "<tr>\n",
        "<td>1</td>\n",
        "<td><span style=\"background-color:448564\">448564</span></td>\n",
        "<td>RUR (rural grid cells)</td>\n",
        "</tr>\n",
        "<tr>\n",
        "<td>2</td>\n",
        "<td><span style=\"background-color:70daa4\">70daa4</span></td>\n",
        "<td>LDC (low density clusters)</td>\n",
        "</tr>\n",
        "<tr>\n",
        "<td>3</td>\n",
        "<td><span style=\"background-color:ffffff\">ffffff</span></td>\n",
        "<td>HDC (high density clusters)</td>\n",
        "</tr>\n",
        "</tbody></table></div>\n",
        "\n",
        "\n",
        "---\n"
      ]
    },
    {
      "cell_type": "markdown",
      "metadata": {
        "id": "nlWOLCRUM516"
      },
      "source": [
        "##  VIIRS Nighttime data \n",
        "\n",
        "Source: [Visible Infrared Imaging Radiometer Suite (VIIRS) Stray Light Corrected Nighttime Day/Night Band Composites Version 1 Dataset](https://developers.google.com/earth-engine/datasets/catalog/NOAA_VIIRS_DNB_MONTHLY_V1_VCMSLCFG)\n",
        "\n",
        "This dataset contains monthly average radiance composite images using nighttime data from the Visible Infrared Imaging Radiometer Suite (VIIRS) Day/Night Band (DNB). The following table describes the different bands present in the VIIRS dataset.\n",
        "\n",
        "![image.png](data:image/png;base64,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)\n",
        "<table class=\"eecat\">\n",
        "<tbody><tr>\n",
        "<th scope=\"col\">Name</th>\n",
        "<th scope=\"col\">Units</th>\n",
        "<th scope=\"col\">Min</th>\n",
        "<th scope=\"col\">Max</th>\n",
        "<th scope=\"col\">Description</th>\n",
        "</tr>\n",
        "<tr>\n",
        "<td><code translate=\"no\" dir=\"ltr\">avg_<wbr>rad</code></td>\n",
        "<td>nanoWatts/cm2/sr</td>\n",
        "<td>\n",
        "          -1.5*\n",
        "</td>\n",
        "<td>\n",
        "          193565*\n",
        "</td>\n",
        "<td><p>Average DNB radiance values.</p></td>\n",
        "</tr>\n",
        "<tr>\n",
        "<td><code translate=\"no\" dir=\"ltr\">cf_<wbr>cvg</code></td>\n",
        "<td></td>\n",
        "<td>\n",
        "          0*\n",
        "</td>\n",
        "<td>\n",
        "          84*\n",
        "</td>\n",
        "<td><p>Cloud-free coverages; <br>the total number of observations that\n",
        "went into each pixel. <br>This band can be used to identify areas with low\n",
        "numbers of observations where the quality is reduced.</p></td>\n",
        "</tr>\n",
        "</tbody></table>"
      ]
    },
    {
      "cell_type": "markdown",
      "metadata": {
        "id": "ItUh-bDX3UKX"
      },
      "source": [
        "## Discussion\n",
        "\n",
        "Please read https://developers.google.com/earth-engine/datasets/catalog/NOAA_VIIRS_DNB_MONTHLY_V1_VCMSLCFG#description which describes the VIIRS dataset.\n",
        "\n",
        "Why does it make sense to use the average night radiance to determine whether there is settlement in area? \n"
      ]
    },
    {
      "cell_type": "markdown",
      "metadata": {
        "id": "m9VrJTG6O69k"
      },
      "source": [
        "# Get the Training data"
      ]
    },
    {
      "cell_type": "markdown",
      "metadata": {
        "id": "Nb_EiQwS2I_S"
      },
      "source": [
        "## Get Features from Sentinel-2 and VIIRS\n"
      ]
    },
    {
      "cell_type": "code",
      "execution_count": 7,
      "metadata": {
        "id": "gWPGqBaZISfs"
      },
      "outputs": [],
      "source": [
        "# Remember this function from Exercise 5_03, what does it do?\n",
        "def se2mask(image):\n",
        "    quality_band = image.select('QA60')\n",
        "    cloudmask = 1 << 10\n",
        "    cirrusmask = 1 << 11\n",
        "    mask = quality_band.bitwiseAnd(cloudmask).eq(0) and (quality_band.bitwiseAnd(cirrusmask).eq(0))\n",
        "    return image.updateMask(mask).divide(10000)"
      ]
    },
    {
      "cell_type": "code",
      "execution_count": 8,
      "metadata": {
        "id": "JH8oY8ZL2IZy"
      },
      "outputs": [],
      "source": [
        "lat = -1.9441\n",
        "lon = 30.0619\n",
        "offset = 0.51\n",
        "region = [\n",
        "        [lon + offset, lat - offset],\n",
        "        [lon + offset, lat + offset],\n",
        "        [lon - offset, lat + offset],\n",
        "        [lon - offset, lat - offset]]\n",
        "\n",
        "roi = ee.Geometry.Polygon([region])"
      ]
    },
    {
      "cell_type": "code",
      "execution_count": 9,
      "metadata": {
        "id": "yibhDoYtGGNP"
      },
      "outputs": [],
      "source": [
        "se2bands = ['B2', 'B3', 'B4', 'B5', 'B6', 'B7','B8','B8A']\n",
        "trainingbands = se2bands + ['avg_rad']\n",
        "label = 'smod_code'\n",
        "scaleFactor=1000\n",
        "\n",
        "se2 = ee.ImageCollection('COPERNICUS/S2').filterDate(\"2015-07-01\",\"2015-12-31\")\n",
        "\n",
        "# TODO: Use the filterBounds function to get filter the are specified in ROI\n",
        "se2 = se2.filterBounds(roi)\n",
        "\n",
        "# Keep pixels that have less than 20% cloud\n",
        "se2 = se2.filter(ee.Filter.lt(\"CLOUDY_PIXEL_PERCENTAGE\",20))\n",
        "\n",
        "# Update the mask \n",
        "se2 = se2.map(se2mask)\n",
        "\n",
        "# Get the median image\n",
        "se2 = se2.median()\n",
        "\n",
        "se2 = se2.select(se2bands)\n",
        "\n",
        "viirs = ee.Image(ee.ImageCollection(\"NOAA/VIIRS/DNB/MONTHLY_V1/VCMSLCFG\").filterDate(\n",
        "    \"2015-07-01\",\"2015-12-31\").filterBounds(roi).median().select('avg_rad').clip(roi))\n",
        "\n",
        "# TODO: Read https://developers.google.com/earth-engine/apidocs/ee-image-addbands\n",
        "# Use the function above to fuse the se2 and viirs bands\n",
        "\n",
        "fused = se2.addBands(viirs)"
      ]
    },
    {
      "cell_type": "markdown",
      "metadata": {
        "id": "r9FMYvHtPP6S"
      },
      "source": [
        "## Get Labels from GHSL Dataset"
      ]
    },
    {
      "cell_type": "code",
      "execution_count": 10,
      "metadata": {
        "id": "Uw_GuZt_PK8V"
      },
      "outputs": [],
      "source": [
        "ghsl = ee.ImageCollection('JRC/GHSL/P2016/SMOD_POP_GLOBE_V1').filter(ee.Filter.date(\n",
        "    '2015-01-01', '2015-12-31')).select(label).median().gte(2).clip(roi)\n",
        "\n",
        "points = ghsl.sample(**{\"region\":roi, \"scale\":scaleFactor,\"seed\":0,'geometries':True})"
      ]
    },
    {
      "cell_type": "code",
      "execution_count": 11,
      "metadata": {
        "id": "Z86cAmHmPd9V"
      },
      "outputs": [],
      "source": [
        "data = fused.select(trainingbands).sampleRegions(collection=points,\n",
        "                                                        properties=[label],\n",
        "                                                        scale=scaleFactor)"
      ]
    },
    {
      "cell_type": "code",
      "execution_count": 12,
      "metadata": {
        "colab": {
          "base_uri": "https://localhost:8080/"
        },
        "id": "COkDQwgpPkJs",
        "outputId": "f1e7b043-fffe-479e-a0f6-48800a28c5f3"
      },
      "outputs": [
        {
          "output_type": "execute_result",
          "data": {
            "text/plain": [
              "{'max': 1,\n",
              " 'mean': 0.20737724175738115,\n",
              " 'min': 0,\n",
              " 'sample_sd': 0.4054439481595326,\n",
              " 'sample_var': 0.16438479509918977,\n",
              " 'sum': 2648,\n",
              " 'sum_sq': 2648,\n",
              " 'total_count': 12769,\n",
              " 'total_sd': 0.4054280717445227,\n",
              " 'total_var': 0.16437192135848186,\n",
              " 'valid_count': 12769,\n",
              " 'weight_sum': 12769,\n",
              " 'weighted_sum': 2648}"
            ]
          },
          "metadata": {},
          "execution_count": 12
        }
      ],
      "source": [
        "data.aggregate_stats(label).getInfo()\n"
      ]
    },
    {
      "cell_type": "markdown",
      "metadata": {
        "id": "QixsnSybjjHT"
      },
      "source": [
        "## Train-test split\n",
        "Now that we have gathered our data we would like to split the dataset into training and test sets. We first create a column of random numbers in the range [0, 1] and use that to split the data into training and test sets."
      ]
    },
    {
      "cell_type": "code",
      "execution_count": 13,
      "metadata": {
        "id": "Eng4EbZpWyeI"
      },
      "outputs": [],
      "source": [
        "# we'll create a column of random numbers\n",
        "data = data.randomColumn(seed=0)"
      ]
    },
    {
      "cell_type": "markdown",
      "metadata": {
        "id": "pECVJ96hXRMj"
      },
      "source": [
        "We will use a 80/20 train/test split randomly among the pixels in our 2015 training image"
      ]
    },
    {
      "cell_type": "code",
      "execution_count": 14,
      "metadata": {
        "id": "4hQGS5VZXLlf"
      },
      "outputs": [],
      "source": [
        "split_thresh = 0.8\n",
        "train = data.filter(ee.Filter.lt('random', split_thresh))\n",
        "test = data.filter(ee.Filter.gte('random', split_thresh))\n"
      ]
    },
    {
      "cell_type": "code",
      "execution_count": 15,
      "metadata": {
        "colab": {
          "base_uri": "https://localhost:8080/"
        },
        "id": "tCPM8ZA7az6s",
        "outputId": "b1bd3ecb-3906-431e-c296-8c24908cc48d"
      },
      "outputs": [
        {
          "output_type": "execute_result",
          "data": {
            "text/plain": [
              "{'max': 1,\n",
              " 'mean': 0.20862186677070127,\n",
              " 'min': 0,\n",
              " 'sample_sd': 0.4063433123996777,\n",
              " 'sample_var': 0.16511488753194206,\n",
              " 'sum': 2139,\n",
              " 'sum_sq': 2139,\n",
              " 'total_count': 10253,\n",
              " 'total_sd': 0.40632349609124135,\n",
              " 'total_var': 0.16509878347580903,\n",
              " 'valid_count': 10253,\n",
              " 'weight_sum': 10253,\n",
              " 'weighted_sum': 2139}"
            ]
          },
          "metadata": {},
          "execution_count": 15
        }
      ],
      "source": [
        "train.aggregate_stats(label).getInfo()"
      ]
    },
    {
      "cell_type": "code",
      "execution_count": 16,
      "metadata": {
        "colab": {
          "base_uri": "https://localhost:8080/"
        },
        "id": "EKaJbKbna2Q8",
        "outputId": "ce387caf-61e5-4355-f545-82a32a23171f"
      },
      "outputs": [
        {
          "output_type": "execute_result",
          "data": {
            "text/plain": [
              "{'max': 1,\n",
              " 'mean': 0.20507887649095807,\n",
              " 'min': 0,\n",
              " 'sample_sd': 0.4038369470037715,\n",
              " 'sample_var': 0.16308427976532694,\n",
              " 'sum': 533,\n",
              " 'sum_sq': 533,\n",
              " 'total_count': 2599,\n",
              " 'total_sd': 0.4037592486967505,\n",
              " 'total_var': 0.16302153090816443,\n",
              " 'valid_count': 2599,\n",
              " 'weight_sum': 2599,\n",
              " 'weighted_sum': 533}"
            ]
          },
          "metadata": {},
          "execution_count": 16
        }
      ],
      "source": [
        "test.aggregate_stats(label).getInfo()"
      ]
    },
    {
      "cell_type": "markdown",
      "metadata": {
        "id": "WjoE7mjxGDKe"
      },
      "source": [
        "## Standardize the Data\n",
        "Let's see how the results will change if we standardize the data."
      ]
    },
    {
      "cell_type": "code",
      "execution_count": 38,
      "metadata": {
        "id": "sTNUWnfKGb4P",
        "colab": {
          "base_uri": "https://localhost:8080/"
        },
        "outputId": "96d3d3a4-f126-4e0d-d27a-3b0dc22a75dc"
      },
      "outputs": [
        {
          "output_type": "stream",
          "name": "stdout",
          "text": [
            "0.2062830612359614\n",
            "1.1950717918110398\n"
          ]
        }
      ],
      "source": [
        "# Compute the mean and standard deviation\n",
        "vmu = viirs.reduceRegion(reducer=ee.Reducer.mean(),scale=scaleFactor)\n",
        "vstd = viirs.reduceRegion(reducer=ee.Reducer.stdDev(),scale=scaleFactor)\n",
        "\n",
        "vmu = ee.Number(vmu.get('avg_rad'))\n",
        "vstd = ee.Number(vstd.get('avg_rad'))\n",
        "\n",
        "print(vmu.getInfo())\n",
        "print(vstd.getInfo())\n",
        "\n",
        "# Whiten the band\n",
        "viirsclean = viirs.subtract(vmu).divide(vstd)\n",
        "\n",
        "# \n"
      ]
    },
    {
      "cell_type": "code",
      "execution_count": 20,
      "metadata": {
        "id": "5WLt_jVOGk_B"
      },
      "outputs": [],
      "source": [
        "fusedclean = se2.addBands(viirsclean)\n",
        "\n",
        "dataclean = fusedclean.select(trainingbands).sampleRegions(collection=points,\n",
        "                                                        properties=[label],\n",
        "                                                        scale=scaleFactor)\n",
        "\n",
        "# we'll create a column of random numbers\n",
        "dataclean = dataclean.randomColumn(seed=0)\n"
      ]
    },
    {
      "cell_type": "markdown",
      "metadata": {
        "id": "zGMz6OkhhCQt"
      },
      "source": [
        "# Training and Prediction outside GEE\n",
        "In Exercise 5_03 we saw how we can transfer data from GEE to a local setup. Training in a local setup is preferable in most cases.\n",
        "\n",
        "Deep learning and neural networks are machine-learning techniques that can work well for complex data like satellite imagery. Neither deep learning nor neural networks are supported in GEE's Machine Learning APIs. Instead, to take advantage of them, you will need to use a framework like TensorFlow or PyTorch and train your model outside of Earth Engine.\n",
        "\n",
        "You may also want to train outside of GEEif you are already familiar with a framework like [scikit-learn](https://scikit-learn.org) for classical machine learning or [XGBoost](https://xgboost.readthedocs.io) for gradient boosted decision trees.\n",
        "\n",
        "Finally, you may want to train a model outside GEE if your data set is very large and exceeds the limits documented above."
      ]
    },
    {
      "cell_type": "markdown",
      "metadata": {
        "id": "wm3SIXp-f_TG"
      },
      "source": [
        "First, let's see the datatype of the `dataclean` datatype."
      ]
    },
    {
      "cell_type": "code",
      "execution_count": 21,
      "metadata": {
        "colab": {
          "base_uri": "https://localhost:8080/"
        },
        "id": "V674RBX84JHK",
        "outputId": "df82f3f8-a296-46cb-95e1-bdd90b5e9e31"
      },
      "outputs": [
        {
          "output_type": "stream",
          "name": "stdout",
          "text": [
            "<class 'ee.featurecollection.FeatureCollection'>\n"
          ]
        }
      ],
      "source": [
        "print(type(dataclean))\n"
      ]
    },
    {
      "cell_type": "markdown",
      "metadata": {
        "id": "N9xtvCbogIU5"
      },
      "source": [
        "You can see that the type of `dataclean` is FeatureCollection. Let's now see how we can export the feature collection as CSV so we can use tools such as pandas to load and manipulate the data."
      ]
    },
    {
      "cell_type": "code",
      "execution_count": 22,
      "metadata": {
        "id": "NRnqU5bulaSR"
      },
      "outputs": [],
      "source": [
        "def export_one_table(feature_collection, name):\n",
        "  \"\"\"Uses a GEE API to batch transfer data to a GCP project Google Drive\"\"\"\n",
        "  task = ee.batch.Export.table.toDrive(**{\n",
        "    'collection': feature_collection,\n",
        "    'description': name,\n",
        "    'fileFormat': 'CSV'\n",
        "    })\n",
        "  task.start()\n",
        "  while task.active():\n",
        "    print('Running...')\n",
        "    # Wait for sometime before showing an update\n",
        "    time.sleep(100)\n",
        "  print('Done..', task.status())\n",
        "\n"
      ]
    },
    {
      "cell_type": "code",
      "execution_count": 23,
      "metadata": {
        "id": "3zJfetZw8pbS",
        "colab": {
          "base_uri": "https://localhost:8080/"
        },
        "outputId": "c7b2d213-9ce1-4366-940b-b4753a5aaeea"
      },
      "outputs": [
        {
          "output_type": "stream",
          "name": "stdout",
          "text": [
            "Running...\n",
            "Done.. {'state': 'COMPLETED', 'description': 'GEEToDrive', 'creation_timestamp_ms': 1685458211215, 'update_timestamp_ms': 1685458232942, 'start_timestamp_ms': 1685458215317, 'task_type': 'EXPORT_FEATURES', 'destination_uris': ['https://drive.google.com/'], 'attempt': 1, 'batch_eecu_usage_seconds': 9.131372451782227, 'id': 'EIWWLQLBOTAXKIRG2Q5XPJBF', 'name': 'projects/earthengine-legacy/operations/EIWWLQLBOTAXKIRG2Q5XPJBF'}\n"
          ]
        }
      ],
      "source": [
        "name = 'GEEToDrive'\n",
        "export_one_table(dataclean, name)"
      ]
    },
    {
      "cell_type": "markdown",
      "metadata": {
        "id": "uFL_OSwfHgrh"
      },
      "source": [
        "Move the CSV from service account Google Drive to a user user Google Drive."
      ]
    },
    {
      "cell_type": "code",
      "execution_count": 24,
      "metadata": {
        "colab": {
          "base_uri": "https://localhost:8080/"
        },
        "id": "_BwolNKok6vw",
        "outputId": "a4b3497d-26e8-4ab4-d8a8-65864d06562b"
      },
      "outputs": [
        {
          "output_type": "stream",
          "name": "stdout",
          "text": [
            "222 files found\n"
          ]
        }
      ],
      "source": [
        "# Transfer the data from GCP service account drive to current working directory in Colaboratory\n",
        "gauth = GoogleAuth()\n",
        "scopes = ['https://www.googleapis.com/auth/drive']\n",
        "gauth.credentials = ServiceAccountCredentials.from_json_keyfile_name(\".private-key.json\", scopes=scopes)\n",
        "\n",
        "drive = GoogleDrive(gauth)\n",
        "\n",
        "# get list of files\n",
        "file_list = drive.ListFile({'q': \"trashed=false\"}).GetList()\n",
        "print(f\"{len(file_list)} files found\")\n",
        "for file_tiff in file_list:\n",
        "\n",
        "        filename = file_tiff['title']\n",
        "        if file_tiff['mimeType'] == 'text/csv':\n",
        "          # download file into working directory (in this case a tiff-file)\n",
        "          file_tiff.GetContentFile(filename, mimetype=\"image/tiff\")\n",
        "\n",
        "          # delete file afterwards to keep the Drive empty\n",
        "          file_tiff.Delete()"
      ]
    },
    {
      "cell_type": "markdown",
      "metadata": {
        "id": "M7y0u1t99YtE"
      },
      "source": [
        "## Read the Downloaded CSV"
      ]
    },
    {
      "cell_type": "markdown",
      "metadata": {
        "id": "tI7Aur469eUF"
      },
      "source": [
        "Now that we have the CSV file we can use widely used Python tools such as Pandas, Numpy, and Sci-kit Learn to preprocess the data and train our models."
      ]
    },
    {
      "cell_type": "code",
      "execution_count": 25,
      "metadata": {
        "id": "fZ2uE2XR8SsJ"
      },
      "outputs": [],
      "source": [
        "df = pd.read_csv('GEEToDrive.csv')"
      ]
    },
    {
      "cell_type": "code",
      "execution_count": 26,
      "metadata": {
        "colab": {
          "base_uri": "https://localhost:8080/",
          "height": 206
        },
        "id": "Ux-L8j8Z9S6h",
        "outputId": "0157d3c0-03a5-404d-e9c3-0a9cb13593ba"
      },
      "outputs": [
        {
          "output_type": "execute_result",
          "data": {
            "text/plain": [
              "  system:index      B2      B3      B4      B5      B6      B7      B8  \\\n",
              "0          0_0  0.0871  0.0905  0.0830  0.1218  0.2286  0.2685  0.2559   \n",
              "1          1_0  0.0872  0.0891  0.0789  0.1160  0.2245  0.2653  0.2533   \n",
              "2          2_0  0.2296  0.2265  0.2307  0.2563  0.3324  0.3655  0.3482   \n",
              "3          3_0  0.1640  0.1624  0.1600  0.1877  0.2672  0.3007  0.2844   \n",
              "4          4_0  0.0992  0.0980  0.0885  0.1203  0.2117  0.2474  0.2373   \n",
              "\n",
              "      B8A   avg_rad    random  smod_code  \\\n",
              "0  0.2919 -0.086878  0.028150          1   \n",
              "1  0.2885 -0.070507  0.947643          0   \n",
              "2  0.3845 -0.089565  0.912751          0   \n",
              "3  0.3228 -0.093732  0.356224          1   \n",
              "4  0.2707 -0.050745  0.334730          0   \n",
              "\n",
              "                                     .geo  \n",
              "0  {\"type\":\"MultiPoint\",\"coordinates\":[]}  \n",
              "1  {\"type\":\"MultiPoint\",\"coordinates\":[]}  \n",
              "2  {\"type\":\"MultiPoint\",\"coordinates\":[]}  \n",
              "3  {\"type\":\"MultiPoint\",\"coordinates\":[]}  \n",
              "4  {\"type\":\"MultiPoint\",\"coordinates\":[]}  "
            ],
            "text/html": [
              "\n",
              "  <div id=\"df-7664b122-37d9-4e60-b976-1ec116d61e6c\">\n",
              "    <div class=\"colab-df-container\">\n",
              "      <div>\n",
              "<style scoped>\n",
              "    .dataframe tbody tr th:only-of-type {\n",
              "        vertical-align: middle;\n",
              "    }\n",
              "\n",
              "    .dataframe tbody tr th {\n",
              "        vertical-align: top;\n",
              "    }\n",
              "\n",
              "    .dataframe thead th {\n",
              "        text-align: right;\n",
              "    }\n",
              "</style>\n",
              "<table border=\"1\" class=\"dataframe\">\n",
              "  <thead>\n",
              "    <tr style=\"text-align: right;\">\n",
              "      <th></th>\n",
              "      <th>system:index</th>\n",
              "      <th>B2</th>\n",
              "      <th>B3</th>\n",
              "      <th>B4</th>\n",
              "      <th>B5</th>\n",
              "      <th>B6</th>\n",
              "      <th>B7</th>\n",
              "      <th>B8</th>\n",
              "      <th>B8A</th>\n",
              "      <th>avg_rad</th>\n",
              "      <th>random</th>\n",
              "      <th>smod_code</th>\n",
              "      <th>.geo</th>\n",
              "    </tr>\n",
              "  </thead>\n",
              "  <tbody>\n",
              "    <tr>\n",
              "      <th>0</th>\n",
              "      <td>0_0</td>\n",
              "      <td>0.0871</td>\n",
              "      <td>0.0905</td>\n",
              "      <td>0.0830</td>\n",
              "      <td>0.1218</td>\n",
              "      <td>0.2286</td>\n",
              "      <td>0.2685</td>\n",
              "      <td>0.2559</td>\n",
              "      <td>0.2919</td>\n",
              "      <td>-0.086878</td>\n",
              "      <td>0.028150</td>\n",
              "      <td>1</td>\n",
              "      <td>{\"type\":\"MultiPoint\",\"coordinates\":[]}</td>\n",
              "    </tr>\n",
              "    <tr>\n",
              "      <th>1</th>\n",
              "      <td>1_0</td>\n",
              "      <td>0.0872</td>\n",
              "      <td>0.0891</td>\n",
              "      <td>0.0789</td>\n",
              "      <td>0.1160</td>\n",
              "      <td>0.2245</td>\n",
              "      <td>0.2653</td>\n",
              "      <td>0.2533</td>\n",
              "      <td>0.2885</td>\n",
              "      <td>-0.070507</td>\n",
              "      <td>0.947643</td>\n",
              "      <td>0</td>\n",
              "      <td>{\"type\":\"MultiPoint\",\"coordinates\":[]}</td>\n",
              "    </tr>\n",
              "    <tr>\n",
              "      <th>2</th>\n",
              "      <td>2_0</td>\n",
              "      <td>0.2296</td>\n",
              "      <td>0.2265</td>\n",
              "      <td>0.2307</td>\n",
              "      <td>0.2563</td>\n",
              "      <td>0.3324</td>\n",
              "      <td>0.3655</td>\n",
              "      <td>0.3482</td>\n",
              "      <td>0.3845</td>\n",
              "      <td>-0.089565</td>\n",
              "      <td>0.912751</td>\n",
              "      <td>0</td>\n",
              "      <td>{\"type\":\"MultiPoint\",\"coordinates\":[]}</td>\n",
              "    </tr>\n",
              "    <tr>\n",
              "      <th>3</th>\n",
              "      <td>3_0</td>\n",
              "      <td>0.1640</td>\n",
              "      <td>0.1624</td>\n",
              "      <td>0.1600</td>\n",
              "      <td>0.1877</td>\n",
              "      <td>0.2672</td>\n",
              "      <td>0.3007</td>\n",
              "      <td>0.2844</td>\n",
              "      <td>0.3228</td>\n",
              "      <td>-0.093732</td>\n",
              "      <td>0.356224</td>\n",
              "      <td>1</td>\n",
              "      <td>{\"type\":\"MultiPoint\",\"coordinates\":[]}</td>\n",
              "    </tr>\n",
              "    <tr>\n",
              "      <th>4</th>\n",
              "      <td>4_0</td>\n",
              "      <td>0.0992</td>\n",
              "      <td>0.0980</td>\n",
              "      <td>0.0885</td>\n",
              "      <td>0.1203</td>\n",
              "      <td>0.2117</td>\n",
              "      <td>0.2474</td>\n",
              "      <td>0.2373</td>\n",
              "      <td>0.2707</td>\n",
              "      <td>-0.050745</td>\n",
              "      <td>0.334730</td>\n",
              "      <td>0</td>\n",
              "      <td>{\"type\":\"MultiPoint\",\"coordinates\":[]}</td>\n",
              "    </tr>\n",
              "  </tbody>\n",
              "</table>\n",
              "</div>\n",
              "      <button class=\"colab-df-convert\" onclick=\"convertToInteractive('df-7664b122-37d9-4e60-b976-1ec116d61e6c')\"\n",
              "              title=\"Convert this dataframe to an interactive table.\"\n",
              "              style=\"display:none;\">\n",
              "        \n",
              "  <svg xmlns=\"http://www.w3.org/2000/svg\" height=\"24px\"viewBox=\"0 0 24 24\"\n",
              "       width=\"24px\">\n",
              "    <path d=\"M0 0h24v24H0V0z\" fill=\"none\"/>\n",
              "    <path d=\"M18.56 5.44l.94 2.06.94-2.06 2.06-.94-2.06-.94-.94-2.06-.94 2.06-2.06.94zm-11 1L8.5 8.5l.94-2.06 2.06-.94-2.06-.94L8.5 2.5l-.94 2.06-2.06.94zm10 10l.94 2.06.94-2.06 2.06-.94-2.06-.94-.94-2.06-.94 2.06-2.06.94z\"/><path d=\"M17.41 7.96l-1.37-1.37c-.4-.4-.92-.59-1.43-.59-.52 0-1.04.2-1.43.59L10.3 9.45l-7.72 7.72c-.78.78-.78 2.05 0 2.83L4 21.41c.39.39.9.59 1.41.59.51 0 1.02-.2 1.41-.59l7.78-7.78 2.81-2.81c.8-.78.8-2.07 0-2.86zM5.41 20L4 18.59l7.72-7.72 1.47 1.35L5.41 20z\"/>\n",
              "  </svg>\n",
              "      </button>\n",
              "      \n",
              "  <style>\n",
              "    .colab-df-container {\n",
              "      display:flex;\n",
              "      flex-wrap:wrap;\n",
              "      gap: 12px;\n",
              "    }\n",
              "\n",
              "    .colab-df-convert {\n",
              "      background-color: #E8F0FE;\n",
              "      border: none;\n",
              "      border-radius: 50%;\n",
              "      cursor: pointer;\n",
              "      display: none;\n",
              "      fill: #1967D2;\n",
              "      height: 32px;\n",
              "      padding: 0 0 0 0;\n",
              "      width: 32px;\n",
              "    }\n",
              "\n",
              "    .colab-df-convert:hover {\n",
              "      background-color: #E2EBFA;\n",
              "      box-shadow: 0px 1px 2px rgba(60, 64, 67, 0.3), 0px 1px 3px 1px rgba(60, 64, 67, 0.15);\n",
              "      fill: #174EA6;\n",
              "    }\n",
              "\n",
              "    [theme=dark] .colab-df-convert {\n",
              "      background-color: #3B4455;\n",
              "      fill: #D2E3FC;\n",
              "    }\n",
              "\n",
              "    [theme=dark] .colab-df-convert:hover {\n",
              "      background-color: #434B5C;\n",
              "      box-shadow: 0px 1px 3px 1px rgba(0, 0, 0, 0.15);\n",
              "      filter: drop-shadow(0px 1px 2px rgba(0, 0, 0, 0.3));\n",
              "      fill: #FFFFFF;\n",
              "    }\n",
              "  </style>\n",
              "\n",
              "      <script>\n",
              "        const buttonEl =\n",
              "          document.querySelector('#df-7664b122-37d9-4e60-b976-1ec116d61e6c button.colab-df-convert');\n",
              "        buttonEl.style.display =\n",
              "          google.colab.kernel.accessAllowed ? 'block' : 'none';\n",
              "\n",
              "        async function convertToInteractive(key) {\n",
              "          const element = document.querySelector('#df-7664b122-37d9-4e60-b976-1ec116d61e6c');\n",
              "          const dataTable =\n",
              "            await google.colab.kernel.invokeFunction('convertToInteractive',\n",
              "                                                     [key], {});\n",
              "          if (!dataTable) return;\n",
              "\n",
              "          const docLinkHtml = 'Like what you see? Visit the ' +\n",
              "            '<a target=\"_blank\" href=https://colab.research.google.com/notebooks/data_table.ipynb>data table notebook</a>'\n",
              "            + ' to learn more about interactive tables.';\n",
              "          element.innerHTML = '';\n",
              "          dataTable['output_type'] = 'display_data';\n",
              "          await google.colab.output.renderOutput(dataTable, element);\n",
              "          const docLink = document.createElement('div');\n",
              "          docLink.innerHTML = docLinkHtml;\n",
              "          element.appendChild(docLink);\n",
              "        }\n",
              "      </script>\n",
              "    </div>\n",
              "  </div>\n",
              "  "
            ]
          },
          "metadata": {},
          "execution_count": 26
        }
      ],
      "source": [
        "df.head()"
      ]
    },
    {
      "cell_type": "markdown",
      "metadata": {
        "id": "fFauZs2I-xb0"
      },
      "source": [
        "## Sklearn Train Test Split\n",
        "Similar to what we did from GEE, let's split the dataset into train and test sets. First, let's split the label from the features."
      ]
    },
    {
      "cell_type": "code",
      "execution_count": 27,
      "metadata": {
        "colab": {
          "base_uri": "https://localhost:8080/",
          "height": 206
        },
        "id": "k8Ycsb1K99Ba",
        "outputId": "b464573a-5420-48ac-8a7a-8f7d399e5d4f"
      },
      "outputs": [
        {
          "output_type": "execute_result",
          "data": {
            "text/plain": [
              "       B2      B3      B4      B5      B6      B7      B8     B8A   avg_rad\n",
              "0  0.0871  0.0905  0.0830  0.1218  0.2286  0.2685  0.2559  0.2919 -0.086878\n",
              "1  0.0872  0.0891  0.0789  0.1160  0.2245  0.2653  0.2533  0.2885 -0.070507\n",
              "2  0.2296  0.2265  0.2307  0.2563  0.3324  0.3655  0.3482  0.3845 -0.089565\n",
              "3  0.1640  0.1624  0.1600  0.1877  0.2672  0.3007  0.2844  0.3228 -0.093732\n",
              "4  0.0992  0.0980  0.0885  0.1203  0.2117  0.2474  0.2373  0.2707 -0.050745"
            ],
            "text/html": [
              "\n",
              "  <div id=\"df-02b39717-4fe8-4fa1-9875-cc0335c752f5\">\n",
              "    <div class=\"colab-df-container\">\n",
              "      <div>\n",
              "<style scoped>\n",
              "    .dataframe tbody tr th:only-of-type {\n",
              "        vertical-align: middle;\n",
              "    }\n",
              "\n",
              "    .dataframe tbody tr th {\n",
              "        vertical-align: top;\n",
              "    }\n",
              "\n",
              "    .dataframe thead th {\n",
              "        text-align: right;\n",
              "    }\n",
              "</style>\n",
              "<table border=\"1\" class=\"dataframe\">\n",
              "  <thead>\n",
              "    <tr style=\"text-align: right;\">\n",
              "      <th></th>\n",
              "      <th>B2</th>\n",
              "      <th>B3</th>\n",
              "      <th>B4</th>\n",
              "      <th>B5</th>\n",
              "      <th>B6</th>\n",
              "      <th>B7</th>\n",
              "      <th>B8</th>\n",
              "      <th>B8A</th>\n",
              "      <th>avg_rad</th>\n",
              "    </tr>\n",
              "  </thead>\n",
              "  <tbody>\n",
              "    <tr>\n",
              "      <th>0</th>\n",
              "      <td>0.0871</td>\n",
              "      <td>0.0905</td>\n",
              "      <td>0.0830</td>\n",
              "      <td>0.1218</td>\n",
              "      <td>0.2286</td>\n",
              "      <td>0.2685</td>\n",
              "      <td>0.2559</td>\n",
              "      <td>0.2919</td>\n",
              "      <td>-0.086878</td>\n",
              "    </tr>\n",
              "    <tr>\n",
              "      <th>1</th>\n",
              "      <td>0.0872</td>\n",
              "      <td>0.0891</td>\n",
              "      <td>0.0789</td>\n",
              "      <td>0.1160</td>\n",
              "      <td>0.2245</td>\n",
              "      <td>0.2653</td>\n",
              "      <td>0.2533</td>\n",
              "      <td>0.2885</td>\n",
              "      <td>-0.070507</td>\n",
              "    </tr>\n",
              "    <tr>\n",
              "      <th>2</th>\n",
              "      <td>0.2296</td>\n",
              "      <td>0.2265</td>\n",
              "      <td>0.2307</td>\n",
              "      <td>0.2563</td>\n",
              "      <td>0.3324</td>\n",
              "      <td>0.3655</td>\n",
              "      <td>0.3482</td>\n",
              "      <td>0.3845</td>\n",
              "      <td>-0.089565</td>\n",
              "    </tr>\n",
              "    <tr>\n",
              "      <th>3</th>\n",
              "      <td>0.1640</td>\n",
              "      <td>0.1624</td>\n",
              "      <td>0.1600</td>\n",
              "      <td>0.1877</td>\n",
              "      <td>0.2672</td>\n",
              "      <td>0.3007</td>\n",
              "      <td>0.2844</td>\n",
              "      <td>0.3228</td>\n",
              "      <td>-0.093732</td>\n",
              "    </tr>\n",
              "    <tr>\n",
              "      <th>4</th>\n",
              "      <td>0.0992</td>\n",
              "      <td>0.0980</td>\n",
              "      <td>0.0885</td>\n",
              "      <td>0.1203</td>\n",
              "      <td>0.2117</td>\n",
              "      <td>0.2474</td>\n",
              "      <td>0.2373</td>\n",
              "      <td>0.2707</td>\n",
              "      <td>-0.050745</td>\n",
              "    </tr>\n",
              "  </tbody>\n",
              "</table>\n",
              "</div>\n",
              "      <button class=\"colab-df-convert\" onclick=\"convertToInteractive('df-02b39717-4fe8-4fa1-9875-cc0335c752f5')\"\n",
              "              title=\"Convert this dataframe to an interactive table.\"\n",
              "              style=\"display:none;\">\n",
              "        \n",
              "  <svg xmlns=\"http://www.w3.org/2000/svg\" height=\"24px\"viewBox=\"0 0 24 24\"\n",
              "       width=\"24px\">\n",
              "    <path d=\"M0 0h24v24H0V0z\" fill=\"none\"/>\n",
              "    <path d=\"M18.56 5.44l.94 2.06.94-2.06 2.06-.94-2.06-.94-.94-2.06-.94 2.06-2.06.94zm-11 1L8.5 8.5l.94-2.06 2.06-.94-2.06-.94L8.5 2.5l-.94 2.06-2.06.94zm10 10l.94 2.06.94-2.06 2.06-.94-2.06-.94-.94-2.06-.94 2.06-2.06.94z\"/><path d=\"M17.41 7.96l-1.37-1.37c-.4-.4-.92-.59-1.43-.59-.52 0-1.04.2-1.43.59L10.3 9.45l-7.72 7.72c-.78.78-.78 2.05 0 2.83L4 21.41c.39.39.9.59 1.41.59.51 0 1.02-.2 1.41-.59l7.78-7.78 2.81-2.81c.8-.78.8-2.07 0-2.86zM5.41 20L4 18.59l7.72-7.72 1.47 1.35L5.41 20z\"/>\n",
              "  </svg>\n",
              "      </button>\n",
              "      \n",
              "  <style>\n",
              "    .colab-df-container {\n",
              "      display:flex;\n",
              "      flex-wrap:wrap;\n",
              "      gap: 12px;\n",
              "    }\n",
              "\n",
              "    .colab-df-convert {\n",
              "      background-color: #E8F0FE;\n",
              "      border: none;\n",
              "      border-radius: 50%;\n",
              "      cursor: pointer;\n",
              "      display: none;\n",
              "      fill: #1967D2;\n",
              "      height: 32px;\n",
              "      padding: 0 0 0 0;\n",
              "      width: 32px;\n",
              "    }\n",
              "\n",
              "    .colab-df-convert:hover {\n",
              "      background-color: #E2EBFA;\n",
              "      box-shadow: 0px 1px 2px rgba(60, 64, 67, 0.3), 0px 1px 3px 1px rgba(60, 64, 67, 0.15);\n",
              "      fill: #174EA6;\n",
              "    }\n",
              "\n",
              "    [theme=dark] .colab-df-convert {\n",
              "      background-color: #3B4455;\n",
              "      fill: #D2E3FC;\n",
              "    }\n",
              "\n",
              "    [theme=dark] .colab-df-convert:hover {\n",
              "      background-color: #434B5C;\n",
              "      box-shadow: 0px 1px 3px 1px rgba(0, 0, 0, 0.15);\n",
              "      filter: drop-shadow(0px 1px 2px rgba(0, 0, 0, 0.3));\n",
              "      fill: #FFFFFF;\n",
              "    }\n",
              "  </style>\n",
              "\n",
              "      <script>\n",
              "        const buttonEl =\n",
              "          document.querySelector('#df-02b39717-4fe8-4fa1-9875-cc0335c752f5 button.colab-df-convert');\n",
              "        buttonEl.style.display =\n",
              "          google.colab.kernel.accessAllowed ? 'block' : 'none';\n",
              "\n",
              "        async function convertToInteractive(key) {\n",
              "          const element = document.querySelector('#df-02b39717-4fe8-4fa1-9875-cc0335c752f5');\n",
              "          const dataTable =\n",
              "            await google.colab.kernel.invokeFunction('convertToInteractive',\n",
              "                                                     [key], {});\n",
              "          if (!dataTable) return;\n",
              "\n",
              "          const docLinkHtml = 'Like what you see? Visit the ' +\n",
              "            '<a target=\"_blank\" href=https://colab.research.google.com/notebooks/data_table.ipynb>data table notebook</a>'\n",
              "            + ' to learn more about interactive tables.';\n",
              "          element.innerHTML = '';\n",
              "          dataTable['output_type'] = 'display_data';\n",
              "          await google.colab.output.renderOutput(dataTable, element);\n",
              "          const docLink = document.createElement('div');\n",
              "          docLink.innerHTML = docLinkHtml;\n",
              "          element.appendChild(docLink);\n",
              "        }\n",
              "      </script>\n",
              "    </div>\n",
              "  </div>\n",
              "  "
            ]
          },
          "metadata": {},
          "execution_count": 27
        }
      ],
      "source": [
        "X = df[trainingbands]\n",
        "X.head()"
      ]
    },
    {
      "cell_type": "code",
      "execution_count": 28,
      "metadata": {
        "colab": {
          "base_uri": "https://localhost:8080/"
        },
        "id": "6WVxAFGK_d8n",
        "outputId": "dfb70a42-ef60-4315-9bea-b0069d3f8f00"
      },
      "outputs": [
        {
          "output_type": "execute_result",
          "data": {
            "text/plain": [
              "0    1\n",
              "1    0\n",
              "2    0\n",
              "3    1\n",
              "4    0\n",
              "Name: smod_code, dtype: int64"
            ]
          },
          "metadata": {},
          "execution_count": 28
        }
      ],
      "source": [
        "y = df[label]\n",
        "y.head()"
      ]
    },
    {
      "cell_type": "code",
      "execution_count": 29,
      "metadata": {
        "id": "gSQzewOV_id8"
      },
      "outputs": [],
      "source": [
        "# Split into train and test sets\n",
        "X_train, X_test, y_train, y_test = train_test_split(X, y, test_size=0.2, random_state=42)"
      ]
    },
    {
      "cell_type": "markdown",
      "metadata": {
        "id": "fzGI_0p2CEq-"
      },
      "source": [
        "Let's now create a Random Forest classifier with the parameters we used to train the random forest classifier in GEE."
      ]
    },
    {
      "cell_type": "code",
      "execution_count": 30,
      "metadata": {
        "id": "eqQE2vMw_tcR"
      },
      "outputs": [],
      "source": [
        "new_params_sk = {\"n_estimators\":500, \n",
        "              \"max_features\": \"sqrt\",\n",
        "              \"min_samples_leaf\":1,\n",
        "              \"bootstrap\": True,\n",
        "              \"max_samples\": 0.5,\n",
        "              \"max_leaf_nodes\":None,\n",
        "              \"random_state\":42}"
      ]
    },
    {
      "cell_type": "code",
      "execution_count": 31,
      "metadata": {
        "id": "X-Ap8LiqBq77"
      },
      "outputs": [],
      "source": [
        "clf = RandomForestClassifier(**new_params_sk)"
      ]
    },
    {
      "cell_type": "code",
      "execution_count": 32,
      "metadata": {
        "colab": {
          "base_uri": "https://localhost:8080/",
          "height": 74
        },
        "id": "bfMIcGIlCTcs",
        "outputId": "8f674460-2e81-4617-8bea-a6eb8b37d9ee"
      },
      "outputs": [
        {
          "output_type": "execute_result",
          "data": {
            "text/plain": [
              "RandomForestClassifier(max_samples=0.5, n_estimators=500, random_state=42)"
            ],
            "text/html": [
              "<style>#sk-container-id-1 {color: black;background-color: white;}#sk-container-id-1 pre{padding: 0;}#sk-container-id-1 div.sk-toggleable {background-color: white;}#sk-container-id-1 label.sk-toggleable__label {cursor: pointer;display: block;width: 100%;margin-bottom: 0;padding: 0.3em;box-sizing: border-box;text-align: center;}#sk-container-id-1 label.sk-toggleable__label-arrow:before {content: \"▸\";float: left;margin-right: 0.25em;color: #696969;}#sk-container-id-1 label.sk-toggleable__label-arrow:hover:before {color: black;}#sk-container-id-1 div.sk-estimator:hover label.sk-toggleable__label-arrow:before {color: black;}#sk-container-id-1 div.sk-toggleable__content {max-height: 0;max-width: 0;overflow: hidden;text-align: left;background-color: #f0f8ff;}#sk-container-id-1 div.sk-toggleable__content pre {margin: 0.2em;color: black;border-radius: 0.25em;background-color: #f0f8ff;}#sk-container-id-1 input.sk-toggleable__control:checked~div.sk-toggleable__content {max-height: 200px;max-width: 100%;overflow: auto;}#sk-container-id-1 input.sk-toggleable__control:checked~label.sk-toggleable__label-arrow:before {content: \"▾\";}#sk-container-id-1 div.sk-estimator input.sk-toggleable__control:checked~label.sk-toggleable__label {background-color: #d4ebff;}#sk-container-id-1 div.sk-label input.sk-toggleable__control:checked~label.sk-toggleable__label {background-color: #d4ebff;}#sk-container-id-1 input.sk-hidden--visually {border: 0;clip: rect(1px 1px 1px 1px);clip: rect(1px, 1px, 1px, 1px);height: 1px;margin: -1px;overflow: hidden;padding: 0;position: absolute;width: 1px;}#sk-container-id-1 div.sk-estimator {font-family: monospace;background-color: #f0f8ff;border: 1px dotted black;border-radius: 0.25em;box-sizing: border-box;margin-bottom: 0.5em;}#sk-container-id-1 div.sk-estimator:hover {background-color: #d4ebff;}#sk-container-id-1 div.sk-parallel-item::after {content: \"\";width: 100%;border-bottom: 1px solid gray;flex-grow: 1;}#sk-container-id-1 div.sk-label:hover label.sk-toggleable__label {background-color: #d4ebff;}#sk-container-id-1 div.sk-serial::before {content: \"\";position: absolute;border-left: 1px solid gray;box-sizing: border-box;top: 0;bottom: 0;left: 50%;z-index: 0;}#sk-container-id-1 div.sk-serial {display: flex;flex-direction: column;align-items: center;background-color: white;padding-right: 0.2em;padding-left: 0.2em;position: relative;}#sk-container-id-1 div.sk-item {position: relative;z-index: 1;}#sk-container-id-1 div.sk-parallel {display: flex;align-items: stretch;justify-content: center;background-color: white;position: relative;}#sk-container-id-1 div.sk-item::before, #sk-container-id-1 div.sk-parallel-item::before {content: \"\";position: absolute;border-left: 1px solid gray;box-sizing: border-box;top: 0;bottom: 0;left: 50%;z-index: -1;}#sk-container-id-1 div.sk-parallel-item {display: flex;flex-direction: column;z-index: 1;position: relative;background-color: white;}#sk-container-id-1 div.sk-parallel-item:first-child::after {align-self: flex-end;width: 50%;}#sk-container-id-1 div.sk-parallel-item:last-child::after {align-self: flex-start;width: 50%;}#sk-container-id-1 div.sk-parallel-item:only-child::after {width: 0;}#sk-container-id-1 div.sk-dashed-wrapped {border: 1px dashed gray;margin: 0 0.4em 0.5em 0.4em;box-sizing: border-box;padding-bottom: 0.4em;background-color: white;}#sk-container-id-1 div.sk-label label {font-family: monospace;font-weight: bold;display: inline-block;line-height: 1.2em;}#sk-container-id-1 div.sk-label-container {text-align: center;}#sk-container-id-1 div.sk-container {/* jupyter's `normalize.less` sets `[hidden] { display: none; }` but bootstrap.min.css set `[hidden] { display: none !important; }` so we also need the `!important` here to be able to override the default hidden behavior on the sphinx rendered scikit-learn.org. See: https://github.com/scikit-learn/scikit-learn/issues/21755 */display: inline-block !important;position: relative;}#sk-container-id-1 div.sk-text-repr-fallback {display: none;}</style><div id=\"sk-container-id-1\" class=\"sk-top-container\"><div class=\"sk-text-repr-fallback\"><pre>RandomForestClassifier(max_samples=0.5, n_estimators=500, random_state=42)</pre><b>In a Jupyter environment, please rerun this cell to show the HTML representation or trust the notebook. <br />On GitHub, the HTML representation is unable to render, please try loading this page with nbviewer.org.</b></div><div class=\"sk-container\" hidden><div class=\"sk-item\"><div class=\"sk-estimator sk-toggleable\"><input class=\"sk-toggleable__control sk-hidden--visually\" id=\"sk-estimator-id-1\" type=\"checkbox\" checked><label for=\"sk-estimator-id-1\" class=\"sk-toggleable__label sk-toggleable__label-arrow\">RandomForestClassifier</label><div class=\"sk-toggleable__content\"><pre>RandomForestClassifier(max_samples=0.5, n_estimators=500, random_state=42)</pre></div></div></div></div></div>"
            ]
          },
          "metadata": {},
          "execution_count": 32
        }
      ],
      "source": [
        "clf.fit(X_train, y_train)"
      ]
    },
    {
      "cell_type": "markdown",
      "source": [
        "# Saving the Model to a Pickle File\n",
        "To deploy the trained model on the Heroku server, you should save it as a pickle file, as shown in the code block below:"
      ],
      "metadata": {
        "id": "IloxcOoHJg4_"
      }
    },
    {
      "cell_type": "markdown",
      "source": [
        "First, let's import the `pickle` package."
      ],
      "metadata": {
        "id": "GPLrXuBrJ2c8"
      }
    },
    {
      "cell_type": "code",
      "execution_count": 33,
      "metadata": {
        "id": "LI1pNdhfN5KM"
      },
      "outputs": [],
      "source": [
        "import pickle\n",
        "\n"
      ]
    },
    {
      "cell_type": "markdown",
      "source": [
        "Let's now persist the model to our Colab storage by calling `pickle.dump`."
      ],
      "metadata": {
        "id": "7jpLAfU6KGiJ"
      }
    },
    {
      "cell_type": "code",
      "source": [
        "filename = 'model.pkl'\n",
        "with open(filename, 'wb') as f:\n",
        "    pickle.dump(clf, f)"
      ],
      "metadata": {
        "id": "HwHcbKwlJ6Bl"
      },
      "execution_count": 36,
      "outputs": []
    },
    {
      "cell_type": "markdown",
      "source": [
        "## Download the Saved Model\n",
        "Download the persisted model by going Files tab on the left pane and downloading the file `model.pkl`."
      ],
      "metadata": {
        "id": "3Ly4GMnUb9Ys"
      }
    }
  ],
  "metadata": {
    "colab": {
      "provenance": []
    },
    "gpuClass": "standard",
    "kernelspec": {
      "display_name": "Python 3",
      "name": "python3"
    },
    "language_info": {
      "name": "python"
    }
  },
  "nbformat": 4,
  "nbformat_minor": 0
}