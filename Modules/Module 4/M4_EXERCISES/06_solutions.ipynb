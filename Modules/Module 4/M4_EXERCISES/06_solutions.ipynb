{
 "cells": [
  {
   "cell_type": "markdown",
   "metadata": {},
   "source": [
    "# Exercise solutions"
   ]
  },
  {
   "cell_type": "markdown",
   "metadata": {},
   "source": [
    "This section contains possible solutions to the exercises posed in the Python basics module. There is more than one correct solution for most of the exercises so these answers are for reference only.  "
   ]
  },
  {
   "cell_type": "markdown",
   "metadata": {},
   "source": [
    "## Python basics 1"
   ]
  },
  {
   "cell_type": "markdown",
   "metadata": {},
   "source": [
    "### 1.1 Fill the asterisk line with your name and run the cell."
   ]
  },
  {
   "cell_type": "code",
   "execution_count": null,
   "metadata": {},
   "outputs": [],
   "source": [
    "# Fill the ****** space with your name and run the cell.\n",
    "\n",
    "message = \"My name is JupyterLab\"\n",
    "\n",
    "message"
   ]
  },
  {
   "cell_type": "markdown",
   "metadata": {},
   "source": [
    "### 1.2 You can add new cells to insert new code at any point in a notebook. Click on the `+` icon in the top menu to add a new cell below the current one. Add a new cell below the next cell, and use it to print the value of variable `a`."
   ]
  },
  {
   "cell_type": "code",
   "execution_count": null,
   "metadata": {},
   "outputs": [],
   "source": [
    "a = 365*24\n",
    "\n",
    "# Add a new cell just below this one. Use it to print the value of variable `a`"
   ]
  },
  {
   "cell_type": "code",
   "execution_count": null,
   "metadata": {},
   "outputs": [],
   "source": [
    "a"
   ]
  },
  {
   "cell_type": "markdown",
   "metadata": {},
   "source": [
    "> **Question:** Now what happens if you scroll back  up the notebook and execute a different cell containing `print(a)`?\n",
    "\n",
    "> **Answer:** It should now print `8760` as 'global state' means the value of `a` has been changed."
   ]
  },
  {
   "cell_type": "code",
   "execution_count": null,
   "metadata": {},
   "outputs": [],
   "source": []
  },
  {
   "cell_type": "markdown",
   "metadata": {},
   "source": [
    "## Python basics 2"
   ]
  },
  {
   "cell_type": "code",
   "execution_count": null,
   "metadata": {},
   "outputs": [],
   "source": [
    "import numpy as np\n",
    "import pandas as pd"
   ]
  },
  {
   "cell_type": "markdown",
   "metadata": {},
   "source": [
    "### 2.1 Use the numpy `add` function to add the values `34` and `29` in the cell below."
   ]
  },
  {
   "cell_type": "code",
   "execution_count": null,
   "metadata": {},
   "outputs": [],
   "source": [
    "# Use numpy add to add 34 and 29\n",
    "\n",
    "np.add(34,29)"
   ]
  },
  {
   "cell_type": "markdown",
   "metadata": {},
   "source": [
    "### 2.2 Declare a new array with contents [5,4,3,2,1] and slice it to select the last 3 items."
   ]
  },
  {
   "cell_type": "code",
   "execution_count": null,
   "metadata": {},
   "outputs": [],
   "source": [
    "# Substitute the ? symbols by the correct expressions and values\n",
    "\n",
    "# Declare the array\n",
    "\n",
    "arr = np.array([5, 4, 3, 2, 1])\n",
    "\n",
    "# Slice array for the last 3 items only\n",
    "\n",
    "arr[-3:]"
   ]
  },
  {
   "cell_type": "markdown",
   "metadata": {},
   "source": [
    "### 2.3: Select all the elements in the array below excluding the last one, `[15]`."
   ]
  },
  {
   "cell_type": "code",
   "execution_count": null,
   "metadata": {},
   "outputs": [],
   "source": [
    "arr = np.array([0,1,2,3,4,5,6,7,8,9,10,11,12,13,14,15])\n",
    "\n",
    "# Substitute the ? symbols by the correct expressions and values\n",
    "\n",
    "arr[:-1]"
   ]
  },
  {
   "cell_type": "markdown",
   "metadata": {},
   "source": [
    "### 2.4 Use `arr` as defined in 2.3. Exclude the last element from the list, but now only select every 3rd element. Remember the third index indicates `stride`, if used.\n",
    "> **Hint:** The result should be `[0,3,6,9,12]`."
   ]
  },
  {
   "cell_type": "code",
   "execution_count": null,
   "metadata": {},
   "outputs": [],
   "source": [
    "# Substitute the ? symbols by the correct expressions and values\n",
    "\n",
    "arr[:-1:3]"
   ]
  },
  {
   "cell_type": "markdown",
   "metadata": {},
   "source": [
    "### 2.5 You'll need to combine array comparisons and logical operators to solve this one. Find out the values in the following array that are greater than `3` AND less than `7`. The output should be a boolean array.\n",
    "> **Hint:** If you are stuck, reread the section on boolean arrays."
   ]
  },
  {
   "cell_type": "code",
   "execution_count": null,
   "metadata": {},
   "outputs": [],
   "source": [
    "arr = np.array([1, 3, 5, 1, 6, 3, 1, 5, 7, 1])\n",
    "\n",
    "# Use array comparisons (<, >, etc.) and logical operators (*, +) to find where\n",
    "# the values are greater than 3 and less than 7.\n",
    "\n",
    "boolean_array = (arr > 3)*(arr < 7)"
   ]
  },
  {
   "cell_type": "code",
   "execution_count": null,
   "metadata": {},
   "outputs": [],
   "source": [
    "boolean_array"
   ]
  },
  {
   "cell_type": "markdown",
   "metadata": {},
   "source": [
    "### 2.6 Use your boolean array from 2.5 to mask the `False` values from `arr`. \n",
    "> **Hint:** The result should be `[5, 6, 5]`."
   ]
  },
  {
   "cell_type": "code",
   "execution_count": null,
   "metadata": {},
   "outputs": [],
   "source": [
    "# Use your resulting boolean_array array from 2.5\n",
    "# to mask arr as defined in 2.5\n",
    "\n",
    "arr[boolean_array]"
   ]
  },
  {
   "cell_type": "markdown",
   "metadata": {},
   "source": [
    "### 2.7 Create 5x3 random numpy array and convert it into Pandas DataFrame"
   ]
  },
  {
   "cell_type": "code",
   "execution_count": null,
   "metadata": {},
   "outputs": [],
   "source": [
    "A = np.random.random(15).reshape(5, 3)\n",
    "df_A = pd.DataFrame(A)\n",
    "df_A"
   ]
  },
  {
   "cell_type": "markdown",
   "metadata": {},
   "source": [
    "### 2.8 Rename dataFrame's columns to \"col1\", \"col2\" and \"col3\""
   ]
  },
  {
   "cell_type": "code",
   "execution_count": null,
   "metadata": {},
   "outputs": [],
   "source": [
    "df_A.columns = [\"col1\", \"col2\", \"col3\"]\n",
    "df_A"
   ]
  },
  {
   "cell_type": "markdown",
   "metadata": {},
   "source": [
    "### 2.9 Create a DataFrame with random integer values between 0 and 10\n",
    "\n",
    "Name it df_marks\n",
    "\n",
    "Columns : math, science, english\n",
    "\n",
    "Rows : choose 5 first names of your liking"
   ]
  },
  {
   "cell_type": "code",
   "execution_count": null,
   "metadata": {},
   "outputs": [],
   "source": [
    "df_marks = pd.DataFrame(np.random.randint(0, 10, size=(5, 3)), columns=['Math', 'Science', 'English'])\n",
    "df_marks"
   ]
  },
  {
   "cell_type": "code",
   "execution_count": null,
   "metadata": {},
   "outputs": [],
   "source": []
  },
  {
   "cell_type": "markdown",
   "metadata": {},
   "source": [
    "## Python basics 3"
   ]
  },
  {
   "cell_type": "code",
   "execution_count": null,
   "metadata": {},
   "outputs": [],
   "source": [
    "%matplotlib inline \n",
    "\n",
    "import numpy as np\n",
    "from matplotlib import pyplot as plt\n",
    "\n",
    "im = np.copy(plt.imread('Guinea_Bissau.JPG'))"
   ]
  },
  {
   "cell_type": "markdown",
   "metadata": {},
   "source": [
    "### 3.1 Let's use the indexing functionality of numpy to select a portion of this image. Select the top-right corner of this image with shape `(200,200)`.\n",
    "> **Hint:** Remember there are three dimensions in this image. Colons separate spans, and commas separate dimensions."
   ]
  },
  {
   "cell_type": "code",
   "execution_count": null,
   "metadata": {},
   "outputs": [],
   "source": [
    "# Both options below are correct\n",
    "\n",
    "topright = im[:200, -200:, ]\n",
    "\n",
    "topright = im[:200, 400:600, ]\n",
    "\n",
    "# Plot your result using imshow\n",
    "\n",
    "plt.imshow(topright)"
   ]
  },
  {
   "cell_type": "markdown",
   "metadata": {},
   "source": [
    "### 3.2 Let's have a look at one of the pixels in this image. We choose the top-left corner with position `(0,0)` and show the values of its RGB channels."
   ]
  },
  {
   "cell_type": "code",
   "execution_count": null,
   "metadata": {},
   "outputs": [],
   "source": [
    "# Run this cell to see the colour channel values\n",
    "\n",
    "im[0,0]"
   ]
  },
  {
   "cell_type": "markdown",
   "metadata": {},
   "source": [
    "The first value corresponds to the red component, the second to the green and the third to the blue. `uint8` can contain values in the range `[0-255]` so the pixel has a lot of red, some green, and not much blue. This pixel is a orange-yellow sandy colour."
   ]
  },
  {
   "cell_type": "markdown",
   "metadata": {},
   "source": [
    "Now let's modify the image. \n",
    "\n",
    "### What happens if we set all the values representing the blue channel to the maximum value?"
   ]
  },
  {
   "cell_type": "code",
   "execution_count": null,
   "metadata": {},
   "outputs": [],
   "source": [
    "# Run this cell to set all blue channel values to 255\n",
    "# We first make a copy to avoid modifying the original image\n",
    "\n",
    "im2 = np.copy(im)\n",
    "\n",
    "im2[:,:,2] = 255\n",
    "\n",
    "plt.imshow(im2)"
   ]
  },
  {
   "cell_type": "markdown",
   "metadata": {},
   "source": [
    "> The index notation `[:,:,2]` is selecting pixels at all heights and all widths, but only the 3rd colour channel. "
   ]
  },
  {
   "cell_type": "markdown",
   "metadata": {},
   "source": [
    "### Can you modify the above code cell to set all red values to the maximum value of `255`?"
   ]
  },
  {
   "cell_type": "code",
   "execution_count": null,
   "metadata": {},
   "outputs": [],
   "source": [
    "im2 = np.copy(im)\n",
    "\n",
    "im2[:,:,0] = 255\n",
    "\n",
    "plt.imshow(im2)"
   ]
  },
  {
   "cell_type": "code",
   "execution_count": null,
   "metadata": {},
   "outputs": [],
   "source": []
  },
  {
   "cell_type": "markdown",
   "metadata": {},
   "source": [
    "## Python basics 4"
   ]
  },
  {
   "cell_type": "code",
   "execution_count": null,
   "metadata": {},
   "outputs": [],
   "source": [
    "%matplotlib inline\n",
    "\n",
    "import numpy as np\n",
    "from matplotlib import pyplot as plt\n",
    "from matplotlib import colors\n",
    "\n",
    "# grass = 1\n",
    "area = np.ones((100,100))\n",
    "# crops = 2\n",
    "area[10:60,20:50] = 2\n",
    "# city = 3\n",
    "area[70:90,60:80] = 3\n",
    "index = {1: 'green', 2: 'yellow', 3: 'grey'}\n",
    "cmap = colors.ListedColormap(index.values())"
   ]
  },
  {
   "cell_type": "markdown",
   "metadata": {},
   "source": [
    "### 4.1 The harvesting season has arrived and our cropping lands have changed colour to brown. Can you:\n",
    "\n",
    "#### 4.1.1 Modify the yellow area to contain the new value `4`?\n",
    "#### 4.1.2 Add a new entry to the `index` dictionary mapping number `4` to the value `brown`.\n",
    "#### 4.1.3 Plot the area."
   ]
  },
  {
   "cell_type": "code",
   "execution_count": null,
   "metadata": {},
   "outputs": [],
   "source": [
    "# 4.1.1 Modify the yellow area to hold the value 4\n",
    "area[10:60,20:50] = 4"
   ]
  },
  {
   "cell_type": "code",
   "execution_count": null,
   "metadata": {},
   "outputs": [],
   "source": [
    "# 4.1.2 Add a new key-value pair to index that maps 4 to 'brown'\n",
    "index[4] = 'brown'"
   ]
  },
  {
   "cell_type": "code",
   "execution_count": null,
   "metadata": {},
   "outputs": [],
   "source": [
    "# 4.1.3 Copy the cmap definition and re-run it to add the new colour\n",
    "cmap = colors.ListedColormap(index.values())\n",
    "# Plot the area\n",
    "plt.imshow(area, cmap=cmap)"
   ]
  },
  {
   "cell_type": "markdown",
   "metadata": {},
   "source": [
    "> **Hint:** If you want to plot the new area, you have to redefine `cmap` so the new value is assigned a colour in the colour map. Copy and paste the `cmap = ...` line from the original plot."
   ]
  },
  {
   "cell_type": "markdown",
   "metadata": {},
   "source": [
    "### 4.2 Set `area[20:40, 80:95] = np.nan`. Plot the area now."
   ]
  },
  {
   "cell_type": "code",
   "execution_count": null,
   "metadata": {},
   "outputs": [],
   "source": [
    "# Set the nan area\n",
    "area[20:40, 80:95] = np.nan"
   ]
  },
  {
   "cell_type": "code",
   "execution_count": null,
   "metadata": {},
   "outputs": [],
   "source": [
    "# Plot the entire area\n",
    "plt.imshow(area, cmap=cmap)"
   ]
  },
  {
   "cell_type": "markdown",
   "metadata": {},
   "source": [
    "### 4.3 Find the median of the `area` array from 4.2 using `np.nanmedian`. Does this match your visual interpretation? How does this compare to using `np.median`?"
   ]
  },
  {
   "cell_type": "code",
   "execution_count": null,
   "metadata": {},
   "outputs": [],
   "source": [
    "# Use np.nanmedian to find the median of the area\n",
    "np.nanmedian(area)"
   ]
  },
  {
   "cell_type": "code",
   "execution_count": null,
   "metadata": {},
   "outputs": [],
   "source": [
    "np.median(area)"
   ]
  },
  {
   "cell_type": "markdown",
   "metadata": {},
   "source": [
    "`np.median` returns a value of `nan` because it cannot interpret no-data pixels. `np.nanmedian` excludes NaN values, so it returns a value of `1` which indicates grass. This matches the plot of `area`."
   ]
  }
 ],
 "metadata": {
  "kernelspec": {
   "display_name": "Python 3 (ipykernel)",
   "language": "python",
   "name": "python3"
  },
  "language_info": {
   "codemirror_mode": {
    "name": "ipython",
    "version": 3
   },
   "file_extension": ".py",
   "mimetype": "text/x-python",
   "name": "python",
   "nbconvert_exporter": "python",
   "pygments_lexer": "ipython3",
   "version": "3.10.8"
  }
 },
 "nbformat": 4,
 "nbformat_minor": 4
}
