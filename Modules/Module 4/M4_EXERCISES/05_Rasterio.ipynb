{
 "cells": [
  {
   "cell_type": "markdown",
   "id": "ec3a4ff1-9a29-4089-8ba3-0c6e886a48db",
   "metadata": {},
   "source": [
    "# Rasterio"
   ]
  },
  {
   "cell_type": "markdown",
   "id": "9d134540-16cd-4462-8be3-0ff094f152ba",
   "metadata": {},
   "source": [
    "Geographic information systems use GeoTIFF and other formats to organize and store gridded raster datasets such as satellite imagery and terrain models. [**Rasterio**](https://rasterio.readthedocs.io/en/latest/) reads and writes these formats and provides a Python API based on Numpy N-dimensional arrays and GeoJSON"
   ]
  },
  {
   "cell_type": "code",
   "execution_count": null,
   "id": "a9ef2f78-a9d0-4a49-bbf3-a0e92be8b56a",
   "metadata": {},
   "outputs": [],
   "source": [
    "import rasterio\n",
    "from matplotlib import pyplot as plt\n",
    "from rasterio.plot import show\n",
    "src = rasterio.open('Products/Kigali.tiff')"
   ]
  },
  {
   "cell_type": "code",
   "execution_count": null,
   "id": "457f853c-68f9-45ee-9bcd-a22acd4a412d",
   "metadata": {},
   "outputs": [],
   "source": [
    "show(src.read())"
   ]
  },
  {
   "cell_type": "markdown",
   "id": "e2bfa934-969b-44d1-8589-f45ca249ef0e",
   "metadata": {},
   "source": [
    "Get informations about the product"
   ]
  },
  {
   "cell_type": "code",
   "execution_count": null,
   "id": "cbc83fa8-1b06-4414-978d-7724521f29ce",
   "metadata": {},
   "outputs": [],
   "source": [
    "print(\"Width: \", src.width)\n",
    "print(\"Height: \", src.height)\n",
    "print(\"File name: \", src.files)\n",
    "print(\"Is the system a projected one ?\", src.crs.is_projected)\n",
    "print(\"Projection system used: \", src.crs) # https://spatialreference.org/ref/epsg/32633/"
   ]
  },
  {
   "cell_type": "markdown",
   "id": "fb6f1488-fdb1-49e3-b192-c6cbb2a037ca",
   "metadata": {},
   "source": [
    "To get the spatial coordinates of a pixel, use the dataset’s *xy()* method. The coordinates of the center of the image can be computed like this."
   ]
  },
  {
   "cell_type": "code",
   "execution_count": null,
   "id": "2d002d53-5fd2-48ae-ba70-ec0482debf86",
   "metadata": {},
   "outputs": [],
   "source": [
    "print(\"Central coordinates: \", src.xy(src.height // 2, src.width // 2))\n",
    "print(\"Coordinates of the bounding box\", src.bounds)"
   ]
  },
  {
   "cell_type": "markdown",
   "id": "b3f237e8-208f-4fce-a23f-05320c026643",
   "metadata": {},
   "source": [
    "Since the product is a geotiff, it is possible to fetch geospatial information"
   ]
  },
  {
   "cell_type": "code",
   "execution_count": null,
   "id": "32a3e662-ac69-40e2-a72b-ec847937dff9",
   "metadata": {},
   "outputs": [],
   "source": [
    "print(\"The product central longitude and latitude are: lon = {0}, lat = {1}\".format(src.lnglat()[0], src.lnglat()[1]))"
   ]
  },
  {
   "cell_type": "markdown",
   "id": "8d6f2d4a-3bec-4286-bbd8-f2001df9780a",
   "metadata": {},
   "source": [
    "However, collecting longitude and latitude for other parts of the products is more complicated, since every points of the image need to be converted.\n",
    "\n",
    "Rasterio can map the pixels of a destination raster with an associated coordinate reference system and transform to the pixels of a source image with a different coordinate reference system and transform. This process is known as reprojection.\n",
    "\n",
    "Hopefully, rasterio provides several utilities to make this processing easier. In the cells below we will : \n",
    "\n",
    "* Open a product with rastertio, get all the information about it's projection system\n",
    "* User rasterio's utilities to reproject the GeoTIFF\n",
    "* Write the GeoTIFF on the disk, in a new coordinate reference system\n",
    "* Display the result"
   ]
  },
  {
   "cell_type": "code",
   "execution_count": null,
   "id": "425ccceb-6ed7-40f4-b4d2-93cd668304af",
   "metadata": {},
   "outputs": [],
   "source": [
    "from rasterio.warp import calculate_default_transform, reproject, Resampling\n",
    "\n",
    "dst_crs = \"EPSG:4326\"  # WGS 84 -- WGS84 - World Geodetic System 1984, used in GPS\n",
    "\n",
    "# Open source image and get its parameters\n",
    "with rasterio.open(\"Products/Kigali.tiff\") as src:\n",
    "    transform, width, height = calculate_default_transform(\n",
    "        src.crs, dst_crs, src.width, src.height, *src.bounds\n",
    "    )\n",
    "    kwargs = src.meta.copy()\n",
    "    kwargs.update(\n",
    "        {\"crs\": dst_crs, \"transform\": transform, \"width\": width, \"height\": height}\n",
    "    )\n",
    "    # Write output image after reprojection\n",
    "    with rasterio.open(\n",
    "        \"Products/Kiagli.wgs84.tif\",\n",
    "        \"w\",\n",
    "        **kwargs\n",
    "    ) as dst:\n",
    "        for i in range(1, src.count + 1): # Loop over all bands\n",
    "            reproject(\n",
    "                source=rasterio.band(src, i),\n",
    "                destination=rasterio.band(dst, i),\n",
    "                src_transform=src.transform,\n",
    "                src_crs=src.crs,\n",
    "                dst_transform=transform,\n",
    "                dst_crs=dst_crs,\n",
    "                resampling=Resampling.nearest,\n",
    "            )"
   ]
  },
  {
   "cell_type": "markdown",
   "id": "35e54681-cf69-4fbf-ada5-61d19f6cea63",
   "metadata": {},
   "source": [
    "Let's open this GeoTIFF with rasterio"
   ]
  },
  {
   "cell_type": "code",
   "execution_count": null,
   "id": "d13b8b3a-2185-43bb-b4a4-ff980f45eaa9",
   "metadata": {},
   "outputs": [],
   "source": [
    "src = rasterio.open(\"Products/Kiagli.wgs84.tif\") # Open file\n",
    "img = src.read() # Read file as a numpy array"
   ]
  },
  {
   "cell_type": "markdown",
   "id": "b79a6335-9441-42cc-8094-ca9aaefcf4ed",
   "metadata": {},
   "source": [
    "Fetch the coordinates, to later display the image as a new layer on a map"
   ]
  },
  {
   "cell_type": "code",
   "execution_count": null,
   "id": "dc205aa9-25e7-48d8-817f-2ed31d8ca027",
   "metadata": {},
   "outputs": [],
   "source": [
    "x1, y1, x2, y2 = src.bounds  # Get coordinates of image bounds\n",
    "print(\"Coordinates of the bounding box in the EPS:4326 reference system\\n\")\n",
    "print(\"Bottom left: \", (x1, y1))\n",
    "print(\"Top right: \", (x2, y2))"
   ]
  },
  {
   "cell_type": "code",
   "execution_count": null,
   "id": "3e92a5fb-c14f-4711-b3c9-d4d54b166a5c",
   "metadata": {},
   "outputs": [],
   "source": [
    "import folium\n",
    "lon, lat = src.lnglat()  # Get longitude and latitude\n",
    "m = folium.Map(location=[lat, lon], zoom_start=12)\n",
    "\n",
    "folium.raster_layers.ImageOverlay(\n",
    "    image=img[0], bounds=[[y1, x1], [y2, x2]], opacity=0.5\n",
    ").add_to(m)\n",
    "\n",
    "m"
   ]
  },
  {
   "cell_type": "markdown",
   "id": "9e70da37-267f-4247-8326-427b0e472139",
   "metadata": {},
   "source": [
    "Rasterio also provides a show_hist() function for generating histograms of single or multiband rasters:"
   ]
  },
  {
   "cell_type": "code",
   "execution_count": null,
   "id": "15523549-98db-4039-8947-5df352ac4b18",
   "metadata": {},
   "outputs": [],
   "source": [
    "from rasterio.plot import show_hist\n",
    "show_hist(src, bins=50, lw=0.0, stacked=False, alpha=0.3, histtype='stepfilled', title=\"Histogram\")"
   ]
  },
  {
   "cell_type": "code",
   "execution_count": null,
   "id": "598d5aed-090d-40e7-8c0d-dc8a76f39f5f",
   "metadata": {},
   "outputs": [],
   "source": []
  }
 ],
 "metadata": {
  "kernelspec": {
   "display_name": "Python 3 (ipykernel)",
   "language": "python",
   "name": "python3"
  },
  "language_info": {
   "codemirror_mode": {
    "name": "ipython",
    "version": 3
   },
   "file_extension": ".py",
   "mimetype": "text/x-python",
   "name": "python",
   "nbconvert_exporter": "python",
   "pygments_lexer": "ipython3",
   "version": "3.10.8"
  }
 },
 "nbformat": 4,
 "nbformat_minor": 5
}
