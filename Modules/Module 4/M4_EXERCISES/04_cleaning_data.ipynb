{
 "cells": [
  {
   "cell_type": "markdown",
   "metadata": {},
   "source": [
    "## Numpy dictionaries and categorical data"
   ]
  },
  {
   "cell_type": "markdown",
   "metadata": {},
   "source": [
    "We will introduce a numpy structure called a **dictionary**.\n",
    "\n",
    "A dictionary represents a mapping between **keys** and **values**. The keys and values are Python objects of any type. We declare a dictionary using curly braces `{}`. Inside we specify the key then its associated value, with the keys and values separated by a colon `:`. Commas `,` are used to separate elements in the dictionary. \n",
    "\n",
    "```python\n",
    "dictionary_name = {key1: value1, key2: value2, key3: value3}\n",
    "```\n",
    "\n",
    "For example:"
   ]
  },
  {
   "cell_type": "code",
   "execution_count": 1,
   "metadata": {},
   "outputs": [],
   "source": [
    "d = {1: 'one', \n",
    "     2: 'two', \n",
    "     3: 'apple'}"
   ]
  },
  {
   "cell_type": "markdown",
   "metadata": {},
   "source": [
    "In the above dictionary `d`, we have three **keys** `1`, `2`, `3`, and their respective **values** `'one'`, `'two'` and `'apple'`. "
   ]
  },
  {
   "cell_type": "markdown",
   "metadata": {},
   "source": [
    "We can look up elements in a dictionary using the `[ key_name ]` to address the value stored under a key. The syntax looks like:\n",
    "\n",
    "```python\n",
    "dictionary_name[key_name]\n",
    "```\n",
    "\n",
    "In our example dictionary `d` above, we can call upon the value associated with the key name `1` like so:\n",
    "\n",
    "```python\n",
    "d[1]\n",
    "```"
   ]
  },
  {
   "cell_type": "code",
   "execution_count": 2,
   "metadata": {},
   "outputs": [
    {
     "name": "stdout",
     "output_type": "stream",
     "text": [
      "one  +  two  =  apple\n"
     ]
    }
   ],
   "source": [
    "print(d[1], \" + \", d[2], \" = \", d[3])"
   ]
  },
  {
   "cell_type": "markdown",
   "metadata": {},
   "source": [
    "Elements in a dictionary can be modified or new elements added by using the `dictionary_name[key_name] = value` syntax."
   ]
  },
  {
   "cell_type": "code",
   "execution_count": 3,
   "metadata": {},
   "outputs": [
    {
     "name": "stdout",
     "output_type": "stream",
     "text": [
      "one  +  two  =  three\n"
     ]
    }
   ],
   "source": [
    "d[3] = 'three'\n",
    "d[4] = 'four'\n",
    "\n",
    "print(d[1], \" + \", d[2], \" = \", d[3])"
   ]
  },
  {
   "cell_type": "markdown",
   "metadata": {},
   "source": [
    "Again, the dictionary name, key name, and value must be specified."
   ]
  },
  {
   "cell_type": "markdown",
   "metadata": {},
   "source": [
    "Dictionaries are useful for data analysis (including satellite data analysis) because they make it easy to assign **categorical values** to our dataset. Remote sensing can be used to create classification products that use categorical values. These products do not contain continuous values. They use discrete values to represent different classes individual pixels can belong to. \n",
    "\n",
    "As an example, the following cells simulate a very simple image containing three different land cover types. Value `1` represents area covered with grass, `2` croplands and `3` city.\n",
    "\n",
    "First, we import the libraries we want to use."
   ]
  },
  {
   "cell_type": "code",
   "execution_count": 4,
   "metadata": {},
   "outputs": [],
   "source": [
    "%matplotlib inline\n",
    "\n",
    "import numpy as np\n",
    "from matplotlib import pyplot as plt\n",
    "from matplotlib import colors"
   ]
  },
  {
   "cell_type": "markdown",
   "metadata": {},
   "source": [
    "We will now create a 2-dimensional 100 pixel x 100 pixel numpy array where every value is `1`. This is done using the `numpy.ones` function. Then, we use array indexing to assign part of the area to have the value `2`, and another part to have the value `3`."
   ]
  },
  {
   "cell_type": "code",
   "execution_count": 5,
   "metadata": {},
   "outputs": [
    {
     "data": {
      "text/plain": [
       "((100, 100), dtype('float64'))"
      ]
     },
     "execution_count": 5,
     "metadata": {},
     "output_type": "execute_result"
    }
   ],
   "source": [
    "# grass = 1\n",
    "area = np.ones((100,100))\n",
    "\n",
    "# crops = 2\n",
    "area[10:60,20:50] = 2\n",
    "\n",
    "# city = 3\n",
    "area[70:90,60:80] = 3\n",
    "\n",
    "area.shape, area.dtype"
   ]
  },
  {
   "cell_type": "code",
   "execution_count": 6,
   "metadata": {},
   "outputs": [
    {
     "data": {
      "text/plain": [
       "array([[1., 1., 1., ..., 1., 1., 1.],\n",
       "       [1., 1., 1., ..., 1., 1., 1.],\n",
       "       [1., 1., 1., ..., 1., 1., 1.],\n",
       "       ...,\n",
       "       [1., 1., 1., ..., 1., 1., 1.],\n",
       "       [1., 1., 1., ..., 1., 1., 1.],\n",
       "       [1., 1., 1., ..., 1., 1., 1.]])"
      ]
     },
     "execution_count": 6,
     "metadata": {},
     "output_type": "execute_result"
    }
   ],
   "source": [
    "area"
   ]
  },
  {
   "cell_type": "markdown",
   "metadata": {},
   "source": [
    "We now have a matrix filled with 1s, 2s and 3s. At this point, there is no association between the numbers and the different types of ground cover. \n",
    "\n",
    "If we want to show what the area looks like according to the grass/crops/city designation, we might want to give each of the classifications a colour."
   ]
  },
  {
   "cell_type": "code",
   "execution_count": 7,
   "metadata": {},
   "outputs": [
    {
     "data": {
      "text/plain": [
       "<matplotlib.image.AxesImage at 0x243aa2bc400>"
      ]
     },
     "execution_count": 7,
     "metadata": {},
     "output_type": "execute_result"
    },
    {
     "data": {
      "image/png": "[encoded data removed]",
      "text/plain": [
       "<Figure size 640x480 with 1 Axes>"
      ]
     },
     "metadata": {},
     "output_type": "display_data"
    }
   ],
   "source": [
    "# We map the values to colours\n",
    "index = {1: 'green', 2: 'yellow', 3: 'grey'}\n",
    "\n",
    "# Create a discrete colour map\n",
    "cmap = colors.ListedColormap(index.values())\n",
    "\n",
    "# Plot\n",
    "plt.imshow(area, cmap=cmap)"
   ]
  },
  {
   "cell_type": "markdown",
   "metadata": {},
   "source": [
    "In the case above, every pixel had a value of either `1`, `2` or `3`. What happens if our dataset is incomplete and there is no data in some places?\n",
    "\n",
    "This is a common problem in real-life datasets. Real datasets can be incomplete and may be missing data at certain times or places. To deal with this, we use the special value known as `NaN`, which stands for **Not a Number**. \n",
    "\n",
    "`NaNs` are designated by the numpy `np.nan` function."
   ]
  },
  {
   "cell_type": "code",
   "execution_count": 8,
   "metadata": {},
   "outputs": [
    {
     "data": {
      "text/plain": [
       "array([ 1.,  2.,  3.,  4.,  5., nan,  7.,  8.,  9.], dtype=float32)"
      ]
     },
     "execution_count": 8,
     "metadata": {},
     "output_type": "execute_result"
    }
   ],
   "source": [
    "arr = np.array([1,2,3,4,5,np.nan,7,8,9], dtype=np.float32)\n",
    "\n",
    "arr"
   ]
  },
  {
   "cell_type": "markdown",
   "metadata": {},
   "source": [
    "To compute statistics on arrays containing NaN values, numpy has special versions of common functions such as `mean`, standard deviation `std`, and `sum` that ignore the `NaN` values. For example, the next cell shows the difference between using the usual `mean` function and the `nanmean` function.\n",
    "\n",
    "The `mean` function cannot handle `NaN` values so it will return `nan`. The `nanmean` function does not include `NaN` values in the calculation, and therefore returns a number value. "
   ]
  },
  {
   "cell_type": "code",
   "execution_count": 9,
   "metadata": {},
   "outputs": [
    {
     "name": "stdout",
     "output_type": "stream",
     "text": [
      "nan\n",
      "4.875\n"
     ]
    }
   ],
   "source": [
    "print(np.mean(arr))\n",
    "\n",
    "print(np.nanmean(arr))"
   ]
  },
  {
   "cell_type": "markdown",
   "metadata": {},
   "source": [
    "Note that `NaN` is generally not used as a key in dictionary key-value entries because there are different ways of expressing `NaN` in Python and they are not always equivalent. However, it is still possible to visualise data with `NaNs`; there will be gaps in the image where there is no data."
   ]
  },
  {
   "cell_type": "markdown",
   "metadata": {},
   "source": [
    "## Exercises"
   ]
  },
  {
   "cell_type": "markdown",
   "metadata": {},
   "source": [
    "### 4.1 The harvesting season has arrived and our cropping lands have changed colour to brown. Can you:\n",
    "\n",
    "#### 4.1.1 Modify the yellow area to contain the new value `4`?\n",
    "#### 4.1.2 Add a new entry to the `index` dictionary mapping number `4` to the value `brown`.\n",
    "#### 4.1.3 Plot the area."
   ]
  },
  {
   "cell_type": "code",
   "execution_count": 10,
   "metadata": {},
   "outputs": [],
   "source": [
    "# 4.1.1 Modify the yellow area to hold the value 4\n"
   ]
  },
  {
   "cell_type": "code",
   "execution_count": 11,
   "metadata": {},
   "outputs": [],
   "source": [
    "# 4.1.2 Add a new key-value pair to index that maps 4 to 'brown'\n"
   ]
  },
  {
   "cell_type": "code",
   "execution_count": 12,
   "metadata": {},
   "outputs": [],
   "source": [
    "# 4.1.3 Copy the cmap definition and re-run it to add the new colour\n",
    "\n",
    "# Plot the area\n"
   ]
  },
  {
   "cell_type": "markdown",
   "metadata": {},
   "source": [
    "> **Hint:** If you want to plot the new area, you have to redefine `cmap` so the new value is assigned a colour in the colour map. Copy and paste the `cmap = ...` line from the original plot."
   ]
  },
  {
   "cell_type": "markdown",
   "metadata": {},
   "source": [
    "### 4.2 Set `area[20:40, 80:95] = np.nan`. Plot the area now."
   ]
  },
  {
   "cell_type": "code",
   "execution_count": 13,
   "metadata": {},
   "outputs": [],
   "source": [
    "# Set the nan area\n"
   ]
  },
  {
   "cell_type": "code",
   "execution_count": 14,
   "metadata": {},
   "outputs": [],
   "source": [
    "# Plot the entire area\n"
   ]
  },
  {
   "cell_type": "markdown",
   "metadata": {},
   "source": [
    "### 4.3 Find the median of the `area` array from 4.2 using `np.nanmedian`. Does this match your visual interpretation? How does this compare to using `np.median`?"
   ]
  },
  {
   "cell_type": "code",
   "execution_count": 15,
   "metadata": {},
   "outputs": [],
   "source": [
    "# Use np.nanmedian to find the median of the area\n"
   ]
  }
 ],
 "metadata": {
  "kernelspec": {
   "display_name": "Python 3 (ipykernel)",
   "language": "python",
   "name": "python3"
  },
  "language_info": {
   "codemirror_mode": {
    "name": "ipython",
    "version": 3
   },
   "file_extension": ".py",
   "mimetype": "text/x-python",
   "name": "python",
   "nbconvert_exporter": "python",
   "pygments_lexer": "ipython3",
   "version": "3.10.8"
  }
 },
 "nbformat": 4,
 "nbformat_minor": 4
}
