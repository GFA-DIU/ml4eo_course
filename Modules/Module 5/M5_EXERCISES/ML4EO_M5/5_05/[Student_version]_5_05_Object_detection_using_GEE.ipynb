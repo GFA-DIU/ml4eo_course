{
 "cells": [
  {
   "cell_type": "markdown",
   "metadata": {
    "id": "io24EuvfiSWj"
   },
   "source": [
    "# EXERCISE 5.5: Object detection using Google Earth Engine  \n",
    "\n",
    "---\n",
    "\n",
    "**Use of Google Earth Engine to:**\n",
    "* a) Clip an AOI from an image collection and filter by time  \n",
    "* b) Apply canny edge detection \n",
    "* c) Ppply Hough transform \n",
    "* d) Compare to ground truth \n",
    "\n",
    "**Detecting Field Boundaries for Vaalharts Irrigation**\n",
    "Field delineation is important in developing and managing agricultural-related policies. Given an input satellite image, the goal is to output the delineated boundaries between farm parcels, or the segmentation masks of farm parcels.\n",
    "\n"
   ]
  },
  {
   "cell_type": "markdown",
   "metadata": {
    "id": "ioP3DlLAiSWm"
   },
   "source": [
    "### Install geemap\n",
    "We will use the `geemap` library to display maps and convert GEE Images to Numpy arrays."
   ]
  },
  {
   "cell_type": "code",
   "execution_count": null,
   "metadata": {
    "colab": {
     "base_uri": "https://localhost:8080/"
    },
    "executionInfo": {
     "elapsed": 28051,
     "status": "ok",
     "timestamp": 1681455020547,
     "user": {
      "displayName": "Mark Tyrrell",
      "userId": "14514676474205151649"
     },
     "user_tz": -60
    },
    "id": "Mc9iD1COTcLB",
    "outputId": "a2bf18d4-8041-4950-d1f3-7160ea709d4e"
   },
   "outputs": [],
   "source": [
    "!pip install geemap"
   ]
  },
  {
   "cell_type": "markdown",
   "metadata": {
    "id": "KEMoZTUNVElC"
   },
   "source": [
    "### Run me first\n",
    "\n",
    "Run the following cell to initialize the Earth Engine API. The output will contain instructions on how to grant this notebook access to Earth Engine using your account.\n",
    "\n",
    "\n",
    "1.   Run the cell below and you will be prompted to enter a verification code.\n",
    "2.   Follow the link below.\n",
    "3.   Make sure the google account is the account you created your ML4EO project with\n",
    "4. Make sure the project ML4EO is selected (you already set this up in 5_02)\n",
    "5. Click \"Generate Token\"\n",
    "6. Click on the Google account you are running this notebook from.\n",
    "7. Click continue\n",
    "8. In the page that appears, ensure \"View and manage your Google Earth Engine data.\" and \"Manage your data and permissions in Cloud Storage and see the email address for your Google Account.\" are both checked.\n",
    "9. Copy the code you see under \"Authorization Code\" and paste it in the prompt below the cell.\n"
   ]
  },
  {
   "cell_type": "code",
   "execution_count": null,
   "metadata": {
    "colab": {
     "base_uri": "https://localhost:8080/"
    },
    "executionInfo": {
     "elapsed": 25982,
     "status": "ok",
     "timestamp": 1681455051563,
     "user": {
      "displayName": "Mark Tyrrell",
      "userId": "14514676474205151649"
     },
     "user_tz": -60
    },
    "id": "aUqOToB-fyMH",
    "outputId": "7cf93c41-d645-413e-ad9a-7ef1dd48166f"
   },
   "outputs": [],
   "source": [
    "import ee\n",
    "# Trigger the authentication flow.\n",
    "ee.Authenticate()\n",
    "\n",
    "# Initialize the library.\n",
    "ee.Initialize()"
   ]
  },
  {
   "cell_type": "code",
   "execution_count": null,
   "metadata": {
    "id": "vBj5yn4KUR2a"
   },
   "outputs": [],
   "source": [
    "import geemap\n",
    "import folium\n",
    "import numpy as np\n",
    "import matplotlib.pyplot as plt\n",
    "import cv2"
   ]
  },
  {
   "cell_type": "markdown",
   "metadata": {
    "id": "vA5nR5YYYOCt"
   },
   "source": [
    "## Edge Detection for Field Boundary Detection\n",
    "Edge detection is an image processing technique for finding the boundaries of objects within images. It works by detecting discontinuities in brightness. Edge detection is used for image segmentation and data extraction in areas such as image processing, computer vision, and machine vision.\n",
    "\n",
    "Common edge detection algorithms include Sobel, Canny, Prewitt, Roberts, and fuzzy logic methods.\n",
    "\n",
    "In this excercise, we will use Canny edge detection to determine the boundaries of fields in VaalHarts Irrigation.\n",
    "First we specify a polygon geometry for our ROI:"
   ]
  },
  {
   "cell_type": "code",
   "execution_count": null,
   "metadata": {
    "id": "hGVVfFMVjhlL"
   },
   "outputs": [],
   "source": [
    "roi = [\n",
    "          [24.65986591490829, -28.09412322046305],\n",
    "          [24.70106464537704, -28.054136830234732],\n",
    "          [24.754622994986416, -28.032319800398245],\n",
    "          [24.78071552428329, -28.03110761344614],\n",
    "          [24.790328561392666, -28.004436046690174],\n",
    "          [24.82466083678329, -27.9862471006372],\n",
    "          [24.87135273131454, -27.941367915030856],\n",
    "          [24.883712350455166, -27.90982002972256],\n",
    "          [24.86860614928329, -27.866123149358096],\n",
    "          [24.850753366080166, -27.811477263231893],\n",
    "          [24.83564716490829, -27.7798915448951],\n",
    "          [24.817794381705166, -27.750727353214696],\n",
    "          [24.806808053580166, -27.710613834239876],\n",
    "          [24.798568307486416, -27.674134193214723],\n",
    "          [24.79719501647079, -27.637642367457204],\n",
    "          [24.78346210631454, -27.62547571967499],\n",
    "          [24.790328561392666, -27.59018479545873],\n",
    "          [24.80268818053329, -27.58288180594306],\n",
    "          [24.81092792662704, -27.567056993780913],\n",
    "          [24.75599628600204, -27.508607155782826],\n",
    "          [24.738143502798916, -27.514697130897716],\n",
    "          [24.72578388365829, -27.532965033096218],\n",
    "          [24.705184518423916, -27.562187361647396],\n",
    "          [24.69282489928329, -27.59627024850316],\n",
    "          [24.70106464537704, -27.615741427797115],\n",
    "          [24.73402362975204, -27.61209084526035],\n",
    "          [24.743636666861416, -27.62547571967499],\n",
    "          [24.70106464537704, -27.64007553470646],\n",
    "          [24.67909198912704, -27.659538924478802],\n",
    "          [24.66810566100204, -27.6887275123932],\n",
    "          [24.680465280142666, -27.71304537681072],\n",
    "          [24.70106464537704, -27.721555348922188],\n",
    "          [24.705184518423916, -27.745865894894138],\n",
    "          [24.696944772330166, -27.78839629503583],\n",
    "          [24.69557148131454, -27.802974318988497],\n",
    "          [24.71754413756454, -27.813906553629074],\n",
    "          [24.779342233267666, -27.886759984989332],\n",
    "          [24.79275012793895, -27.90218116928733],\n",
    "          [24.810602911142077, -27.922204424412513],\n",
    "          [24.81678272071239, -27.935551201379933],\n",
    "          [24.79206348243114, -27.945256912915184],\n",
    "          [24.735758550790514, -27.964665719488632],\n",
    "          [24.702799566415514, -27.982858306056414],\n",
    "          [24.669840582040514, -27.999835284900435],\n",
    "          [24.650614507821764, -28.014384852612626],\n",
    "          [24.647867925790514, -28.031356864152194],\n",
    "          [24.642374761728014, -28.039841866403265],\n",
    "          [24.61628223243114, -28.045902172596353],\n",
    "          [24.5977428037202, -28.050750171693185],\n",
    "          [24.579203375009264, -28.04165999411288],\n",
    "          [24.56684375586864, -28.04105395495732],\n",
    "          [24.568217046884264, -28.057415813567268],\n",
    "          [24.57851672950145, -28.067716447153607],\n",
    "          [24.629328497079577, -28.098006704812327]]\n",
    "\n",
    "vaalharts_irrigation_scheme = ee.Geometry.Polygon([roi])"
   ]
  },
  {
   "cell_type": "markdown",
   "metadata": {
    "id": "QtVyVlaKiixC"
   },
   "source": [
    "Now let's clip Sentinel 2 images for our ROI and filter by specific time intervals:"
   ]
  },
  {
   "cell_type": "code",
   "execution_count": null,
   "metadata": {
    "id": "UlHXLGZggFrH"
   },
   "outputs": [],
   "source": [
    "sentinel2_level1c = ee.ImageCollection(\"COPERNICUS/S2\");\n",
    "\n",
    "# Get monthly clear Sentinel-2 Level-1C images for November 2016 - April 2017  \n",
    "nov_2016 = ee.Image('COPERNICUS/S2/20161126T080252_20161126T082438_T35JKK').clip(vaalharts_irrigation_scheme)\n",
    " \n",
    "dec_2016 = ee.Image('COPERNICUS/S2/20161229T081332_20161229T083640_T35JKK').clip(vaalharts_irrigation_scheme)\n",
    " \n",
    "jan_2017 = ee.Image('COPERNICUS/S2/20170128T081201_20170128T083151_T35JKK').clip(vaalharts_irrigation_scheme)\n",
    "\n",
    "feb_2017 = ee.Image('COPERNICUS/S2/20170217T081001_20170217T083329_T35JKK').clip(vaalharts_irrigation_scheme)\n",
    "\n",
    "mar_2017 = ee.Image('COPERNICUS/S2/20170326T080001_20170326T082243_T35JKK').clip(vaalharts_irrigation_scheme)\n",
    "\n",
    "apr_2017 = ee.Image('COPERNICUS/S2/20170428T081011_20170428T083712_T35JKK').clip(vaalharts_irrigation_scheme)"
   ]
  },
  {
   "cell_type": "markdown",
   "metadata": {
    "id": "R3PVAH9TZTwP"
   },
   "source": [
    "#### Draw the Area of Interest on a Map"
   ]
  },
  {
   "cell_type": "code",
   "execution_count": null,
   "metadata": {
    "id": "0EnxiB5RY_VP"
   },
   "outputs": [],
   "source": [
    "center = [-27.768264, 24.769355]\n",
    "map = geemap.Map(center=center, zoom=11)\n",
    "map.setOptions('SATELLITE')\n",
    "map"
   ]
  },
  {
   "cell_type": "markdown",
   "metadata": {
    "id": "WNrtbfgfZ-5w"
   },
   "source": [
    "# Canny Edge Detection\n",
    "Canny Edge Detection is a popular edge detection algorithm developed by John F. Canny in 1986. We use edge detection in Earth observation to identify significant transitions in pixel values, which represent changes in features such as land cover, vegetation, water bodies, or urban structures. We can then use the resulting data for a variety of analyses. \n",
    "\n",
    "Moreover, edge detection can be used to create machine learning training data, particularly for tasks involving object recognition, segmentation, and classification in images. By extracting edges from images, you can obtain valuable information about the boundaries, shapes, and structures of objects, which can serve as features for machine learning models. \n",
    "\n"
   ]
  },
  {
   "cell_type": "markdown",
   "metadata": {
    "id": "moz7t9TScKTz"
   },
   "source": [
    "GEE contains an implementation of Canny edge detection algorithm.\n",
    "Here is the description of GEE's Canny implementation.\n",
    "\n",
    "\n",
    "`ee.Algorithms.CannyEdgeDetector`\n",
    "Applies the Canny edge detection algorithm to an image. The output is an image whose bands have the same names as the input bands, and in which non-zero values indicate edges, and the magnitude of the value is the gradient magnitude.\n",
    "\n",
    "<table class=\"details\"><thead><tr><th>Argument</th><th>Type</th><th>Details</th></tr></thead><tbody><tr><td><code translate=\"no\" dir=\"ltr\">image</code></td><td>Image</td><td>The image on which to apply edge detection.</td></tr><tr><td><code translate=\"no\" dir=\"ltr\">threshold</code></td><td>Float</td><td>Threshold value. The pixel is only considered for edge detection if the gradient magnitude is higher than this threshold.</td></tr><tr class=\"docs-arg-optional\"><td><code translate=\"no\" dir=\"ltr\">sigma</code></td><td>Float, default: 1</td><td>Sigma value for a gaussian filter applied before edge detection. 0 means apply no filtering.</td></tr></tbody></table>"
   ]
  },
  {
   "cell_type": "code",
   "execution_count": null,
   "metadata": {
    "id": "BgypmL0Xfym3"
   },
   "outputs": [],
   "source": [
    "def aggregate_canny_edges(image, threshold, sigma):\n",
    "  # Get Canny edge for Red, Green, Blue, and NIR\n",
    "  canny_red = ee.Algorithms.CannyEdgeDetector(**{\n",
    "    \"image\": image.select('B4'), \"threshold\": threshold, \"sigma\": sigma\n",
    "  })\n",
    "  \n",
    "  canny_green = ee.Algorithms.CannyEdgeDetector(**{\n",
    "    \"image\": image.select('B3'), \"threshold\": threshold, \"sigma\": sigma\n",
    "  })\n",
    "  \n",
    "  canny_blue = ee.Algorithms.CannyEdgeDetector(**{\n",
    "    \"image\": image.select('B2'), \"threshold\": threshold, \"sigma\": sigma\n",
    "  })\n",
    "  \n",
    "  canny_nir = ee.Algorithms.CannyEdgeDetector(**{\n",
    "    \"image\": image.select('B8'), \"threshold\": threshold, \"sigma\": sigma\n",
    "  })\n",
    "  \n",
    "  # Aggregate R/G/B/NIR Canny edges\n",
    "  canny_aggregate = canny_red.add(canny_green).add(canny_blue).add(canny_nir).select(['B4'], ['canny_rgbn']);\n",
    "    \n",
    "  return canny_aggregate"
   ]
  },
  {
   "cell_type": "code",
   "execution_count": null,
   "metadata": {
    "id": "NZkl8eRMjpiT"
   },
   "outputs": [],
   "source": [
    "threshold = 500\n",
    "sigma = 1.5\n",
    "zoom_level = 11\n",
    "\n",
    "canny_agg_nov_2016 = aggregate_canny_edges(nov_2016, threshold, sigma)\n",
    "canny_agg_dec_2016 = aggregate_canny_edges(dec_2016, threshold, sigma)\n",
    "canny_agg_jan_2017 = aggregate_canny_edges(jan_2017, threshold, sigma)\n",
    "canny_agg_feb_2017 = aggregate_canny_edges(feb_2017, threshold, sigma)\n",
    "canny_agg_mar_2017 = aggregate_canny_edges(mar_2017, threshold, sigma)\n",
    "canny_agg_apr_2017 = aggregate_canny_edges(apr_2017, threshold, sigma)"
   ]
  },
  {
   "cell_type": "code",
   "execution_count": null,
   "metadata": {
    "id": "qwQZELJojzb0"
   },
   "outputs": [],
   "source": [
    "# Combine the detected edges from all the months\n",
    "canny_agg_all = (canny_agg_nov_2016\n",
    "  .add(canny_agg_dec_2016)\n",
    "  .add(canny_agg_jan_2017)\n",
    "  .add(canny_agg_feb_2017)\n",
    "  .add(canny_agg_mar_2017)\n",
    "  .add(canny_agg_apr_2017)\n",
    ")"
   ]
  },
  {
   "cell_type": "markdown",
   "metadata": {
    "id": "3nTFisupfJ_b"
   },
   "source": [
    "We will now use GEE's updateMask function to make the non-edge pixels transparent. To accomplish this, the `updateMask` function will be used.\n",
    "\n",
    "`ee.Image.updateMask`\n",
    "Updates an image's mask at all positions where the existing mask is not zero. The output image retains the metadata and footprint of the input image.\n",
    "<table class=\"details\"><thead><tr><th>Argument</th><th>Type</th><th>Details</th></tr></thead><tbody><tr><td>this: <code translate=\"no\" dir=\"ltr\">image</code></td><td>Image</td><td>Input image.</td></tr><tr><td><code translate=\"no\" dir=\"ltr\">mask</code></td><td>Image</td><td>New mask for the image, as a floating-point value in the range [0, 1] (invalid = 0, valid = 1). If this image has a single band, it is used for all bands in the input image; otherwise, must have the same number of bands as the input image.</td></tr></tbody></table>"
   ]
  },
  {
   "cell_type": "code",
   "execution_count": null,
   "metadata": {
    "id": "t-h5aGbKkxUM"
   },
   "outputs": [],
   "source": [
    "# Create an image that is white at the edges but transparent elsewhere\n",
    "edges = canny_agg_all.updateMask(canny_agg_all.gt(0))"
   ]
  },
  {
   "cell_type": "code",
   "execution_count": null,
   "metadata": {
    "colab": {
     "base_uri": "https://localhost:8080/",
     "height": 621,
     "referenced_widgets": [
      "8ec071308ed443cfa31dcc2b13b8a02d",
      "bf532c9abce843baa503d8b9b2ffc0a1",
      "e53821a6ea9a4703bb18fc19c12ee77b",
      "ec07dfd692a449488fdc61e4aa5e8c66",
      "486ebd15b4804106a67f12967defc3a2",
      "364526ce4efe4a0d9c19a8b6f6602e53",
      "6d7be756f7fb42b3afced268999c8cd0",
      "3e169baf56d4481f9765a9d45aee3230",
      "c9bf2bee928841bebbed572f32fdfd11",
      "30dbf5832f304d4b9f0c420cd1edd039",
      "465f927a6285488a8f46e0d558e9e62d",
      "3831c87c75b740449e77a211aa3cab95",
      "fe67cd57147a4f9ca0bb319aafac1e68",
      "35e9950df42940738959f344f6cb5635",
      "bde26bbfa0004f98ab780b1025afd297",
      "4acc0b0a6bc84d48ac71d6aa9033cbf9",
      "4053f14e21a14cbfac0ae63bb25b1924",
      "98d9b48e7e484ece8a0f8229d6b4a404",
      "62ca92bc32af401b9781bfbac6457c34",
      "f54b1bb85309442cbf5b4ef80a6ff72f"
     ]
    },
    "executionInfo": {
     "elapsed": 905,
     "status": "ok",
     "timestamp": 1681456126545,
     "user": {
      "displayName": "Mark Tyrrell",
      "userId": "14514676474205151649"
     },
     "user_tz": -60
    },
    "id": "QpSJBpQ9k1zU",
    "outputId": "73281e69-5481-461b-f172-fbebd2b27aec"
   },
   "outputs": [],
   "source": [
    "Map = geemap.Map(center=center, zoom=zoom_level)\n",
    "Map.setOptions('SATELLITE')\n",
    "Map\n"
   ]
  },
  {
   "cell_type": "code",
   "execution_count": null,
   "metadata": {
    "id": "oUb9joyCVqD8"
   },
   "outputs": [],
   "source": [
    "# Draw the detected edges to map\n",
    "Map.addLayer(canny_agg_nov_2016, {}, 'Canny 4-Band Aggregate - Nov 2016')\n",
    "Map.addLayer(canny_agg_dec_2016, {}, 'Canny 4-Band Aggregate - Dec 2016')\n",
    "Map.addLayer(canny_agg_jan_2017, {}, 'Canny 4-Band Aggregate - Jan 2017')\n",
    "Map.addLayer(canny_agg_feb_2017, {}, 'Canny 4-Band Aggregate - Feb 2017')\n",
    "Map.addLayer(canny_agg_mar_2017, {}, 'Canny 4-Band Aggregate - Mar 2017')\n",
    "Map.addLayer(canny_agg_apr_2017, {}, 'Canny 4-Band Aggregate - Apr 2017')\n",
    "Map.addLayer(canny_agg_all, {}, 'Canny 4-Band Aggregate - All Months')\n",
    "Map.addLayer(edges, {\"palette\": ['white']}, 'Canny Edges - No Background');\n"
   ]
  },
  {
   "cell_type": "markdown",
   "metadata": {
    "id": "FLXM-xkniYnh"
   },
   "source": [
    "## <font color=orange>Discussion:</font>\n",
    "First go to the right top corner of the map and uncheck all the layers except \"Google Satellite\" and \"Canny Edges- No background\". Then, zoom in into the given image. Is the detected boundary is good enough (in your judgement)?"
   ]
  },
  {
   "cell_type": "markdown",
   "metadata": {
    "id": "YZWBfnhahCWh"
   },
   "source": [
    "## Question 5.5.1\n",
    "1. Change the threshold to 1500 above and keep the sigma at 1.5 and the zoom level to 14. Rerun the cells above. Uncheck all the layers except \"Google Satellite\" and \"Canny Edges- No background\" and take a screenshot of the output image.\n",
    "2. Change the threshold to 500 above and keep the sigma at 2.5 and the zoom level to 14. Rerun the cells above. Uncheck all the layers except \"Google Satellite\" and \"Canny Edges- No background\" and take a screenshot of the output image.\n",
    "3. Change the threshold to 1500 above and keep the sigma at 2.5 and the zoom level to 14. Rerun the cells above. Uncheck all the layers except \"Google Satellite\" and \"Canny Edges- No background\" and take a screenshot of the output image.\n",
    "\n",
    "Save each image as `field-<threshold>-<sigma>.png` for submission."
   ]
  },
  {
   "cell_type": "markdown",
   "metadata": {
    "id": "4pUvEfltmEpG"
   },
   "source": [
    "## <font color=orange>Discussion:</font>\n",
    "From the results above, how does changing the threshold affect the detected boundary? How does changing the sigma affect the detected threshold?"
   ]
  },
  {
   "cell_type": "markdown",
   "metadata": {
    "id": "64ATjvbdnkr5"
   },
   "source": [
    "## Question 5.5.2: Application Exercise\n",
    "Notice that we used the RGB and NIR bands to detect edges. Knowing that this is an agricutural field we surmise that using NDVI might give the best results. For this excercise, do the following:\n",
    "1. Compute NDVI for the `nov_2016` image and save it as a band called `ndvi`\n",
    "2. Use Canny edge detection to detect edges in the `ndvi` band\n",
    "3. Display the detected result on a map"
   ]
  },
  {
   "cell_type": "code",
   "execution_count": null,
   "metadata": {
    "id": "avJ7Q4uwrAgm"
   },
   "outputs": [],
   "source": [
    "# 1. Compute NDVI for the `nov_2016` image and save it as a band called `ndvi`\n",
    "# <ENTER CODE HERE>\n"
   ]
  },
  {
   "cell_type": "code",
   "execution_count": null,
   "metadata": {
    "colab": {
     "base_uri": "https://localhost:8080/",
     "height": 621,
     "referenced_widgets": [
      "0b4c391856584a1c85d3c1af291f612e",
      "a416bffa40a149aab53fab5c07d073b9",
      "21d5ff33f9354de5ae3b2a42522651ea",
      "cc074b94878d4167bd9e8f7ca633606c",
      "7c48ca6053384b1d9aa64f746f000ddc",
      "913fcf64608c4dddae02a2b4c2f9a2e3",
      "204228eb518e4193abe400d8c5267791",
      "f7c29b4352d5450180e7ef819741a682",
      "6c0ede20de0c42e1a6973a9cbbf25a72",
      "30dbf5832f304d4b9f0c420cd1edd039",
      "0295291cbc3b4c8b8c954cc0231e5d7b",
      "e6b788e39f524cbda24dee7cf37dd3fd",
      "0337c11f229e432b9d6ef860a2719afd"
     ]
    },
    "executionInfo": {
     "elapsed": 2177,
     "status": "ok",
     "timestamp": 1681457881650,
     "user": {
      "displayName": "Mark Tyrrell",
      "userId": "14514676474205151649"
     },
     "user_tz": -60
    },
    "id": "B4q90S34-vJL",
    "outputId": "5d03dc47-99e3-4b63-a888-af982efb405d"
   },
   "outputs": [],
   "source": [
    "#2. Use Canny edge detection to detect edges in the `ndvi` band\n",
    "# <ENTER CODE HERE>"
   ]
  },
  {
   "cell_type": "code",
   "execution_count": null,
   "metadata": {
    "id": "Iiyj1xMYt6r8"
   },
   "outputs": [],
   "source": [
    "#3. Display the detected result on a map\n",
    "# <ENTER CODE HERE>"
   ]
  },
  {
   "cell_type": "markdown",
   "metadata": {
    "id": "HhBSNmTQgeBo"
   },
   "source": [
    "## Export GEE Images to Numpy\n",
    "Sometimes the tools that GEE provides for image manipulation may not be sufficient for complex operations. If we would like to use more sophisticated image processing/computer vision algorithms, we may export GEE images to Numpy and process the images with OpenCV.\n",
    "\n",
    "OpenCV (Open Source Computer Vision Library) is a library of programming functions mainly for real-time computer vision. \n",
    "\n",
    "For this example, we will use OpenCV's Canny edge detection implementation to detect the edges of the fields in the image.\n",
    "\n",
    "To export images to Numpy, we use `geemap`'s `ee_to_numpy` function.\n",
    "\n",
    "**geemap.ee_to_numpy**(*ee_object, bands, region, properties, default_value*)\n",
    "```\n",
    "Extracts a rectangular region of pixels from an image into a 2D numpy array per band.\n",
    "\n",
    "    Args:\n",
    "        ee_object (object): The image to sample.\n",
    "        bands (list, optional): The list of band names to extract. Please make sure that all bands have the same spatial resolution. Defaults to None.\n",
    "        region (object, optional): The region whose projected bounding box is used to sample the image. The maximum number of pixels you can export is 262,144. Resampling and reprojecting all bands to a fixed scale can be useful. Defaults to the footprint in each band.\n",
    "        properties (list, optional): The properties to copy over from the sampled image. Defaults to all non-system properties.\n",
    "        default_value (float, optional): A default value used when a sampled pixel is masked or outside a band's footprint. Defaults to None.\n",
    "\n",
    "    Returns:\n",
    "        array: A 3D numpy array.\n",
    "```\n",
    "\n"
   ]
  },
  {
   "cell_type": "markdown",
   "metadata": {
    "id": "FzZkTOM8kAMx"
   },
   "source": [
    "The images in our dataset are high-resolution images and exporting any image covering a large region becomes prohibitively large. Thus, we will export a portion of the Vaalharts irrigation for processing by OpenCV."
   ]
  },
  {
   "cell_type": "code",
   "execution_count": null,
   "metadata": {
    "id": "m-SNmcWYuhCG"
   },
   "outputs": [],
   "source": [
    "# Define a small area of interest within the Vaalharts irrigation\n",
    "\n",
    "aoi_corners = [[24.75, -27.75], [24.75, -27.77], [24.77, -27.77], [24.77, -27.75]]\n",
    "aoi = ee.Geometry.Polygon(\n",
    "    [aoi_corners], None, False\n",
    ")\n",
    "\n",
    "# convert the RGB bands of EE.Image to numpy array\n",
    "out = geemap.ee_to_numpy(nov_2016, region=aoi, bands=['B4', 'B3', 'B2']).astype(np.float32)\n",
    "out /= 10000.0\n",
    "\n",
    "# min-max normalize the image to range [0, 255]\n",
    "for i in range(3):\n",
    "  ch = out[:, :, i]\n",
    "  # out[:, :, i] = ch/0.3\n",
    "# Use an 8-bit unsigned integer to represent the pixels in the image\n",
    "out = (out * 255).astype(np.uint8)"
   ]
  },
  {
   "cell_type": "code",
   "execution_count": null,
   "metadata": {
    "colab": {
     "base_uri": "https://localhost:8080/",
     "height": 453
    },
    "executionInfo": {
     "elapsed": 1477,
     "status": "ok",
     "timestamp": 1681457955580,
     "user": {
      "displayName": "Mark Tyrrell",
      "userId": "14514676474205151649"
     },
     "user_tz": -60
    },
    "id": "dj04HscUxHIu",
    "outputId": "7ed424b9-ac6e-4248-b2e5-926c1126281c"
   },
   "outputs": [],
   "source": [
    "plt.imshow(out)"
   ]
  },
  {
   "cell_type": "markdown",
   "metadata": {
    "id": "cZyx_KI9lZCB"
   },
   "source": [
    "### Convert to Grayscale\n",
    "Canny edge detection expects a single channel image. When applying Canny from GEE we applied Canny to each band individually and aggregated the detections. For this example, we will convert the RGB image to grayscale first and apply edge detection to the gray scale image.\n",
    "\n",
    "The function `cv2.cvtColor` is used to achieve this."
   ]
  },
  {
   "cell_type": "code",
   "execution_count": null,
   "metadata": {
    "colab": {
     "base_uri": "https://localhost:8080/",
     "height": 453
    },
    "executionInfo": {
     "elapsed": 700,
     "status": "ok",
     "timestamp": 1681457960629,
     "user": {
      "displayName": "Mark Tyrrell",
      "userId": "14514676474205151649"
     },
     "user_tz": -60
    },
    "id": "NkvtER2n1I6y",
    "outputId": "cd774a83-769d-4c26-e9ed-0f5c49de5a21"
   },
   "outputs": [],
   "source": [
    "grayscale = cv2.cvtColor(out, cv2.COLOR_RGB2GRAY)\n",
    "plt.imshow(grayscale, cmap='gray')"
   ]
  },
  {
   "cell_type": "code",
   "execution_count": null,
   "metadata": {
    "colab": {
     "base_uri": "https://localhost:8080/",
     "height": 453
    },
    "executionInfo": {
     "elapsed": 1197,
     "status": "ok",
     "timestamp": 1681457969471,
     "user": {
      "displayName": "Mark Tyrrell",
      "userId": "14514676474205151649"
     },
     "user_tz": -60
    },
    "id": "l1mcywCeD9lN",
    "outputId": "0f7459d2-fa8e-4899-a1b4-3273a5895bca"
   },
   "outputs": [],
   "source": [
    "edges = cv2.Canny(grayscale, 10, 30)\n",
    "plt.imshow(edges, cmap='gray')"
   ]
  },
  {
   "cell_type": "code",
   "execution_count": null,
   "metadata": {
    "colab": {
     "base_uri": "https://localhost:8080/",
     "height": 453
    },
    "executionInfo": {
     "elapsed": 545,
     "status": "ok",
     "timestamp": 1681457974265,
     "user": {
      "displayName": "Mark Tyrrell",
      "userId": "14514676474205151649"
     },
     "user_tz": -60
    },
    "id": "glFNRJfWExqO",
    "outputId": "0f4c7664-06b7-4e0a-8d1e-62ffdec6ff2c"
   },
   "outputs": [],
   "source": [
    "filtered_edges = cv2.bilateralFilter(edges,15,127,150)\n",
    "plt.imshow(filtered_edges, cmap='gray')"
   ]
  },
  {
   "cell_type": "markdown",
   "metadata": {
    "id": "HDV94PNtrVwI"
   },
   "source": [
    "## <font color=orange>Discussion:</font>\n",
    "If we want to get a clean circular field boundary detection, what do you think needs to be done?"
   ]
  },
  {
   "cell_type": "markdown",
   "metadata": {
    "id": "_SMGf__QrJpR"
   },
   "source": [
    "## Hough Transform\n",
    "The Hough transform is a feature extraction technique used in image analysis, computer vision, and digital image processing. The purpose of the technique is to find imperfect instances of objects within a certain class of shapes by a voting procedure. \n",
    "\n",
    "In our case, we will use the Hough transform to find imperfect circles from our edge image.\n",
    "\n",
    "OpenCV contains the function `cv2.HoughCircles` that can be used to detect imperfect circles. Its description is given below.\n",
    "\n",
    "<table class=\"python_language\"><tbody><tr><td style=\"width: 20px;\"></td><td>cv.HoughCircles(</td><td class=\"paramname\">image, method, dp, minDist[, circles[, param1[, param2[, minRadius[, maxRadius]]]]]</td><td>) -&gt; </td><td>circles</td></tr></tbody></table>\n",
    "<dl class=\"params\"><dt>Parameters</dt><dd>\n",
    "  <table class=\"params\">\n",
    "    <tbody><tr><td class=\"paramname\">image</td><td>8-bit, single-channel, grayscale input image. </td></tr>\n",
    "    <tr><td class=\"paramname\">circles</td><td>Output vector of found circles. Each vector is encoded as 3 or 4 element floating-point vector <span class=\"MathJax_Preview\" style=\"display: none;\"></span><span class=\"MathJax\" id=\"MathJax-Element-49-Frame\" tabindex=\"0\" style=\"\"><nobr><span class=\"math\" id=\"MathJax-Span-633\" style=\"width: 6.97em; display: inline-block;\"><span style=\"display: inline-block; position: relative; width: 5.682em; height: 0px; font-size: 122%;\"><span style=\"position: absolute; clip: rect(1.232em, 1005.57em, 2.579em, -999.997em); top: -2.163em; left: 0em;\"><span class=\"mrow\" id=\"MathJax-Span-634\"><span class=\"mo\" id=\"MathJax-Span-635\" style=\"font-family: MathJax_Main;\">(</span><span class=\"mi\" id=\"MathJax-Span-636\" style=\"font-family: MathJax_Math-italic;\">x</span><span class=\"mo\" id=\"MathJax-Span-637\" style=\"font-family: MathJax_Main;\">,</span><span class=\"mi\" id=\"MathJax-Span-638\" style=\"font-family: MathJax_Math-italic; padding-left: 0.179em;\">y<span style=\"display: inline-block; overflow: hidden; height: 1px; width: 0.003em;\"></span></span><span class=\"mo\" id=\"MathJax-Span-639\" style=\"font-family: MathJax_Main;\">,</span><span class=\"mi\" id=\"MathJax-Span-640\" style=\"font-family: MathJax_Math-italic; padding-left: 0.179em;\">r</span><span class=\"mi\" id=\"MathJax-Span-641\" style=\"font-family: MathJax_Math-italic;\">a</span><span class=\"mi\" id=\"MathJax-Span-642\" style=\"font-family: MathJax_Math-italic;\">d<span style=\"display: inline-block; overflow: hidden; height: 1px; width: 0.003em;\"></span></span><span class=\"mi\" id=\"MathJax-Span-643\" style=\"font-family: MathJax_Math-italic;\">i</span><span class=\"mi\" id=\"MathJax-Span-644\" style=\"font-family: MathJax_Math-italic;\">u</span><span class=\"mi\" id=\"MathJax-Span-645\" style=\"font-family: MathJax_Math-italic;\">s</span><span class=\"mo\" id=\"MathJax-Span-646\" style=\"font-family: MathJax_Main;\">)</span></span><span style=\"display: inline-block; width: 0px; height: 2.169em;\"></span></span></span><span style=\"display: inline-block; overflow: hidden; vertical-align: -0.354em; border-left: 0px solid; width: 0px; height: 1.361em;\"></span></span></nobr></span><script type=\"math/tex\" id=\"MathJax-Element-49\">(x, y, radius)</script> or <span class=\"MathJax_Preview\" style=\"display: none;\"></span><span class=\"MathJax\" id=\"MathJax-Element-50-Frame\" tabindex=\"0\" style=\"\"><nobr><span class=\"math\" id=\"MathJax-Span-647\" style=\"width: 10.249em; display: inline-block;\"><span style=\"display: inline-block; position: relative; width: 8.375em; height: 0px; font-size: 122%;\"><span style=\"position: absolute; clip: rect(1.232em, 1008.26em, 2.579em, -999.997em); top: -2.163em; left: 0em;\"><span class=\"mrow\" id=\"MathJax-Span-648\"><span class=\"mo\" id=\"MathJax-Span-649\" style=\"font-family: MathJax_Main;\">(</span><span class=\"mi\" id=\"MathJax-Span-650\" style=\"font-family: MathJax_Math-italic;\">x</span><span class=\"mo\" id=\"MathJax-Span-651\" style=\"font-family: MathJax_Main;\">,</span><span class=\"mi\" id=\"MathJax-Span-652\" style=\"font-family: MathJax_Math-italic; padding-left: 0.179em;\">y<span style=\"display: inline-block; overflow: hidden; height: 1px; width: 0.003em;\"></span></span><span class=\"mo\" id=\"MathJax-Span-653\" style=\"font-family: MathJax_Main;\">,</span><span class=\"mi\" id=\"MathJax-Span-654\" style=\"font-family: MathJax_Math-italic; padding-left: 0.179em;\">r</span><span class=\"mi\" id=\"MathJax-Span-655\" style=\"font-family: MathJax_Math-italic;\">a</span><span class=\"mi\" id=\"MathJax-Span-656\" style=\"font-family: MathJax_Math-italic;\">d<span style=\"display: inline-block; overflow: hidden; height: 1px; width: 0.003em;\"></span></span><span class=\"mi\" id=\"MathJax-Span-657\" style=\"font-family: MathJax_Math-italic;\">i</span><span class=\"mi\" id=\"MathJax-Span-658\" style=\"font-family: MathJax_Math-italic;\">u</span><span class=\"mi\" id=\"MathJax-Span-659\" style=\"font-family: MathJax_Math-italic;\">s</span><span class=\"mo\" id=\"MathJax-Span-660\" style=\"font-family: MathJax_Main;\">,</span><span class=\"mi\" id=\"MathJax-Span-661\" style=\"font-family: MathJax_Math-italic; padding-left: 0.179em;\">v</span><span class=\"mi\" id=\"MathJax-Span-662\" style=\"font-family: MathJax_Math-italic;\">o</span><span class=\"mi\" id=\"MathJax-Span-663\" style=\"font-family: MathJax_Math-italic;\">t</span><span class=\"mi\" id=\"MathJax-Span-664\" style=\"font-family: MathJax_Math-italic;\">e</span><span class=\"mi\" id=\"MathJax-Span-665\" style=\"font-family: MathJax_Math-italic;\">s</span><span class=\"mo\" id=\"MathJax-Span-666\" style=\"font-family: MathJax_Main;\">)</span></span><span style=\"display: inline-block; width: 0px; height: 2.169em;\"></span></span></span><span style=\"display: inline-block; overflow: hidden; vertical-align: -0.354em; border-left: 0px solid; width: 0px; height: 1.361em;\"></span></span></nobr></span><script type=\"math/tex\" id=\"MathJax-Element-50\">(x, y, radius, votes)</script> . </td></tr>\n",
    "    <tr><td class=\"paramname\">method</td><td>Detection method, see <a class=\"el\" href=\"../../dd/d1a/group__imgproc__feature.html#ga073687a5b96ac7a3ab5802eb5510fe65\" title=\"Variants of a Hough transform. \">HoughModes</a>. The available methods are <a class=\"el\" href=\"../../dd/d1a/group__imgproc__feature.html#gga073687a5b96ac7a3ab5802eb5510fe65ab1bf00a90864db34b2f72fa76389931d\" title=\"basically 21HT, described in  \">HOUGH_GRADIENT</a> and <a class=\"el\" href=\"../../dd/d1a/group__imgproc__feature.html#gga073687a5b96ac7a3ab5802eb5510fe65aad57c72131c801de427f1fdb55c8c8ad\" title=\"variation of HOUGH_GRADIENT to get better accuracy \">HOUGH_GRADIENT_ALT</a>. </td></tr>\n",
    "    <tr><td class=\"paramname\">dp</td><td>Inverse ratio of the accumulator resolution to the image resolution. For example, if dp=1 , the accumulator has the same resolution as the input image. If dp=2 , the accumulator has half as big width and height. For <a class=\"el\" href=\"../../dd/d1a/group__imgproc__feature.html#gga073687a5b96ac7a3ab5802eb5510fe65aad57c72131c801de427f1fdb55c8c8ad\" title=\"variation of HOUGH_GRADIENT to get better accuracy \">HOUGH_GRADIENT_ALT</a> the recommended value is dp=1.5, unless some small very circles need to be detected. </td></tr>\n",
    "    <tr><td class=\"paramname\">minDist</td><td>Minimum distance between the centers of the detected circles. If the parameter is too small, multiple neighbor circles may be falsely detected in addition to a true one. If it is too large, some circles may be missed. </td></tr>\n",
    "    <tr><td class=\"paramname\">param1</td><td>First method-specific parameter. In case of <a class=\"el\" href=\"../../dd/d1a/group__imgproc__feature.html#gga073687a5b96ac7a3ab5802eb5510fe65ab1bf00a90864db34b2f72fa76389931d\" title=\"basically 21HT, described in  \">HOUGH_GRADIENT</a> and <a class=\"el\" href=\"../../dd/d1a/group__imgproc__feature.html#gga073687a5b96ac7a3ab5802eb5510fe65aad57c72131c801de427f1fdb55c8c8ad\" title=\"variation of HOUGH_GRADIENT to get better accuracy \">HOUGH_GRADIENT_ALT</a>, it is the higher threshold of the two passed to the Canny edge detector (the lower one is twice smaller). Note that <a class=\"el\" href=\"../../dd/d1a/group__imgproc__feature.html#gga073687a5b96ac7a3ab5802eb5510fe65aad57c72131c801de427f1fdb55c8c8ad\" title=\"variation of HOUGH_GRADIENT to get better accuracy \">HOUGH_GRADIENT_ALT</a> uses <a class=\"el\" href=\"../../d4/d86/group__imgproc__filter.html#gaa13106761eedf14798f37aa2d60404c9\" title=\"Calculates the first x- or y- image derivative using Scharr operator. \">Scharr</a> algorithm to compute image derivatives, so the threshold value shough normally be higher, such as 300 or normally exposed and contrasty images. </td></tr>\n",
    "    <tr><td class=\"paramname\">param2</td><td>Second method-specific parameter. In case of <a class=\"el\" href=\"../../dd/d1a/group__imgproc__feature.html#gga073687a5b96ac7a3ab5802eb5510fe65ab1bf00a90864db34b2f72fa76389931d\" title=\"basically 21HT, described in  \">HOUGH_GRADIENT</a>, it is the accumulator threshold for the circle centers at the detection stage. The smaller it is, the more false circles may be detected. Circles, corresponding to the larger accumulator values, will be returned first. In the case of <a class=\"el\" href=\"../../dd/d1a/group__imgproc__feature.html#gga073687a5b96ac7a3ab5802eb5510fe65aad57c72131c801de427f1fdb55c8c8ad\" title=\"variation of HOUGH_GRADIENT to get better accuracy \">HOUGH_GRADIENT_ALT</a> algorithm, this is the circle \"perfectness\" measure. The closer it to 1, the better shaped circles algorithm selects. In most cases 0.9 should be fine. If you want get better detection of small circles, you may decrease it to 0.85, 0.8 or even less. But then also try to limit the search range [minRadius, maxRadius] to avoid many false circles. </td></tr>\n",
    "    <tr><td class=\"paramname\">minRadius</td><td>Minimum circle radius. </td></tr>\n",
    "    <tr><td class=\"paramname\">maxRadius</td><td>Maximum circle radius. If &lt;= 0, uses the maximum image dimension. If &lt; 0, <a class=\"el\" href=\"../../dd/d1a/group__imgproc__feature.html#gga073687a5b96ac7a3ab5802eb5510fe65ab1bf00a90864db34b2f72fa76389931d\" title=\"basically 21HT, described in  \">HOUGH_GRADIENT</a> returns centers without finding the radius. <a class=\"el\" href=\"../../dd/d1a/group__imgproc__feature.html#gga073687a5b96ac7a3ab5802eb5510fe65aad57c72131c801de427f1fdb55c8c8ad\" title=\"variation of HOUGH_GRADIENT to get better accuracy \">HOUGH_GRADIENT_ALT</a> always computes circle radiuses.</td></tr>\n",
    "  </tbody></table>\n",
    "  </dd>\n",
    "</dl>"
   ]
  },
  {
   "cell_type": "code",
   "execution_count": null,
   "metadata": {
    "id": "bQTN6ETXsrGr"
   },
   "outputs": [],
   "source": [
    "circles = cv2.HoughCircles(edges, cv2.HOUGH_GRADIENT, 0.1, minDist=min(edges.shape)//3, param2=5, maxRadius=min(edges.shape)//6)\n"
   ]
  },
  {
   "cell_type": "markdown",
   "metadata": {
    "id": "YXpta-9JtXws"
   },
   "source": [
    "Now that we have found the circles let's draw the circles to an image."
   ]
  },
  {
   "cell_type": "code",
   "execution_count": null,
   "metadata": {
    "colab": {
     "base_uri": "https://localhost:8080/",
     "height": 453
    },
    "executionInfo": {
     "elapsed": 1608,
     "status": "ok",
     "timestamp": 1681458037266,
     "user": {
      "displayName": "Mark Tyrrell",
      "userId": "14514676474205151649"
     },
     "user_tz": -60
    },
    "id": "j4US4QLrtYO1",
    "outputId": "781bdb49-50c0-4459-8df1-38a4b32f8295"
   },
   "outputs": [],
   "source": [
    "# Create a new image where detected circles are drawn to\n",
    "output = np.zeros(edges.shape + (3, ), dtype=np.uint8)\n",
    "\n",
    "# ensure at least some circles were found\n",
    "if circles is not None:\n",
    "\t# convert the (x, y) coordinates and radius of the circles to integers\n",
    "\tcircles_i = np.round(circles[0, :]).astype(\"int\")\n",
    "\t# loop over the (x, y) coordinates and radius of the circles\n",
    "\n",
    "\tfor (x, y, r) in circles_i:\n",
    "\t\t# draw the circle in the output image\n",
    "\t\tcv2.circle(output, (x, y), r, (0, 0, 255), 1)\n",
    "plt.imshow(output)"
   ]
  },
  {
   "cell_type": "markdown",
   "metadata": {
    "id": "EdfVCPnSxGJU"
   },
   "source": [
    "## <font color=orange>Discussion:</font>\n",
    "How does changing the param2 argument of Hough Circles change the number of detected circles? Experiment with different `param2` values and determine (in your judgement) what number results in the most accurate detection of circles."
   ]
  },
  {
   "cell_type": "markdown",
   "metadata": {
    "id": "pGIARXfBxl5N"
   },
   "source": [
    "## Transferring results from OpenCV to GEE\n",
    "Once we have completed our OpenCV image analysis we typically want to transfer the results back to GEE. In our case, we would like to overlay the detected boundaries on a GEE map."
   ]
  },
  {
   "cell_type": "code",
   "execution_count": null,
   "metadata": {
    "colab": {
     "base_uri": "https://localhost:8080/",
     "height": 471
    },
    "executionInfo": {
     "elapsed": 1655,
     "status": "ok",
     "timestamp": 1681458116575,
     "user": {
      "displayName": "Mark Tyrrell",
      "userId": "14514676474205151649"
     },
     "user_tz": -60
    },
    "id": "DfyaYCJEySwW",
    "outputId": "92fba119-61e2-4189-e7a5-3f1288649a9f"
   },
   "outputs": [],
   "source": [
    "# convert image to gray scale\n",
    "output_gray = cv2.cvtColor(output, cv2.COLOR_RGB2GRAY)\n",
    "print(output_gray.max(), output_gray.min())\n",
    "_, output_gray = cv2.threshold(output_gray, output_gray.max() // 2, 255, cv2.THRESH_BINARY)\n",
    "\n",
    "plt.imshow(output_gray, cmap='gray')"
   ]
  },
  {
   "cell_type": "code",
   "execution_count": null,
   "metadata": {
    "id": "5uIjrznbPedW"
   },
   "outputs": [],
   "source": [
    "def findTransform(np_img_shape, long_lat_corners):\n",
    "  Cx, Cy = np_img_shape\n",
    "  W = np.array([\n",
    "    [0, 0, 1, 0, 0, 0],\n",
    "    [0, 0, 0, 0, 0, 1],\n",
    "    [Cx, 0, 1, 0, 0, 0],\n",
    "    [0, 0, 0, Cx, 0, 1],\n",
    "    [Cx, Cy, 1, 0, 0, 0],\n",
    "    [0, 0, 0, Cx, Cy, 1],\n",
    "    [0, Cy, 1, 0, 0, 0],\n",
    "    [0, 0, 0, 0, Cy, 1]\n",
    "  ])\n",
    "  pinv = np.linalg.pinv(W)\n",
    "  transform = pinv @ long_lat_corners\n",
    "  transform = transform.flatten().tolist()\n",
    "  return transform"
   ]
  },
  {
   "cell_type": "code",
   "execution_count": null,
   "metadata": {
    "id": "2-JQvnUn3x-8"
   },
   "outputs": [],
   "source": [
    "long_lat_corners = np.array(aoi_corners).reshape((-1, 1))\n",
    "\n",
    "transform = findTransform(output_gray.shape, long_lat_corners)\n",
    "gee_image = geemap.numpy_to_ee(output_gray, crs='EPSG:4326', transform=transform, band_names='circles')\n",
    "\n",
    "gee_image = gee_image.mask(gee_image.select('circles').gt(0))"
   ]
  },
  {
   "cell_type": "code",
   "execution_count": null,
   "metadata": {
    "colab": {
     "base_uri": "https://localhost:8080/",
     "height": 621,
     "referenced_widgets": [
      "d91622d3a03443289a5579ca0697a255",
      "8f6a088abff44f289574064ddd65f194",
      "209fa2c2820245719ac70a41139fba35",
      "ea80e935720545f9ae71ffafa4108053",
      "5822b84c80a549ddb0b2837cd5bcf395",
      "a8cb3ea6832145629c1c6d241129e6d7",
      "f10d7e4d0f4a440d87bf2c135db1f9ff",
      "f3302daa13e64deaa137851b18e64db8",
      "8072aa5f0ace49b2bce396f4385b47b8",
      "30dbf5832f304d4b9f0c420cd1edd039",
      "86ba4ad17dab45c3aadf881181b5ed83",
      "532d015049ab45e2ad30c2ffdbe6f390",
      "8dd798245f3b4846b9d46da53acaae1d",
      "e820f44fa78e43918bbfabd3bb9fdbd2"
     ]
    },
    "executionInfo": {
     "elapsed": 813,
     "status": "ok",
     "timestamp": 1681458126412,
     "user": {
      "displayName": "Mark Tyrrell",
      "userId": "14514676474205151649"
     },
     "user_tz": -60
    },
    "id": "fscNGYdB55Ze",
    "outputId": "9cf0bd40-2583-435e-c09c-0641d438cdad"
   },
   "outputs": [],
   "source": [
    "center = [-27.768264, 24.769355]\n",
    "Map2 = geemap.Map(center=center, zoom=14)\n",
    "Map2.setOptions('SATELLITE')\n",
    "Map2\n"
   ]
  },
  {
   "cell_type": "code",
   "execution_count": null,
   "metadata": {
    "id": "tdadxfrMHKJR"
   },
   "outputs": [],
   "source": [
    "Map2.addLayer(gee_image.select(\"circles\"), {}, 'Detected circles')\n",
    "\n",
    "Map2.addLayer(aoi, {}, 'Exported Image boundary')\n"
   ]
  },
  {
   "cell_type": "markdown",
   "metadata": {
    "id": "SGh7bwSCGC1h"
   },
   "source": [
    "## <font color=orange>Discussion:</font>\n",
    "What are your observations on the useability of object detection in this example?"
   ]
  },
  {
   "cell_type": "markdown",
   "metadata": {},
   "source": []
  }
 ],
 "metadata": {
  "colab": {
   "provenance": []
  },
  "interpreter": {
   "hash": "9b7c2ae23c84035fb33b1173d54acb763f6500d251498bcc3c38c607c9ecf539"
  },
  "kernelspec": {
   "display_name": "Python 3",
   "language": "python",
   "name": "python3"
  },
  "language_info": {
   "codemirror_mode": {
    "name": "ipython",
    "version": 3
   },
   "file_extension": ".py",
   "mimetype": "text/x-python",
   "name": "python",
   "nbconvert_exporter": "python",
   "pygments_lexer": "ipython3",
   "version": "3.7.6"
  },
  "toc-autonumbering": true,
  "widgets": {
   "application/vnd.jupyter.widget-state+json": {
    "0295291cbc3b4c8b8c954cc0231e5d7b": {
     "model_module": "@jupyter-widgets/base",
     "model_module_version": "1.2.0",
     "model_name": "LayoutModel",
     "state": {
      "_model_module": "@jupyter-widgets/base",
      "_model_module_version": "1.2.0",
      "_model_name": "LayoutModel",
      "_view_count": null,
      "_view_module": "@jupyter-widgets/base",
      "_view_module_version": "1.2.0",
      "_view_name": "LayoutView",
      "align_content": null,
      "align_items": null,
      "align_self": null,
      "border": null,
      "bottom": null,
      "display": null,
      "flex": null,
      "flex_flow": null,
      "grid_area": null,
      "grid_auto_columns": null,
      "grid_auto_flow": null,
      "grid_auto_rows": null,
      "grid_column": null,
      "grid_gap": null,
      "grid_row": null,
      "grid_template_areas": null,
      "grid_template_columns": null,
      "grid_template_rows": null,
      "height": "600px",
      "justify_content": null,
      "justify_items": null,
      "left": null,
      "margin": null,
      "max_height": null,
      "max_width": null,
      "min_height": null,
      "min_width": null,
      "object_fit": null,
      "object_position": null,
      "order": null,
      "overflow": null,
      "overflow_x": null,
      "overflow_y": null,
      "padding": null,
      "right": null,
      "top": null,
      "visibility": null,
      "width": null
     }
    },
    "0337c11f229e432b9d6ef860a2719afd": {
     "model_module": "jupyter-leaflet",
     "model_module_version": "^0.17",
     "model_name": "LeafletTileLayerModel",
     "state": {
      "_model_module": "jupyter-leaflet",
      "_model_module_version": "^0.17",
      "_model_name": "LeafletTileLayerModel",
      "_view_count": null,
      "_view_module": "jupyter-leaflet",
      "_view_module_version": "^0.17",
      "_view_name": "LeafletTileLayerView",
      "attribution": "Google Earth Engine",
      "base": false,
      "bottom": true,
      "bounds": null,
      "detect_retina": false,
      "loading": false,
      "max_native_zoom": null,
      "max_zoom": 24,
      "min_native_zoom": null,
      "min_zoom": 0,
      "name": "Canny Edges NDVI - No Background",
      "no_wrap": false,
      "opacity": 1,
      "options": [
       "attribution",
       "bounds",
       "detect_retina",
       "max_native_zoom",
       "max_zoom",
       "min_native_zoom",
       "min_zoom",
       "no_wrap",
       "tile_size",
       "tms",
       "zoom_offset"
      ],
      "pane": "",
      "popup": null,
      "popup_max_height": null,
      "popup_max_width": 300,
      "popup_min_width": 50,
      "show_loading": false,
      "subitems": [],
      "tile_size": 256,
      "tms": false,
      "url": "https://earthengine.googleapis.com/v1alpha/projects/earthengine-legacy/maps/ad6ae21f01d04b5332745f6497524dc7-3985ba4254088907b934db990781e0fa/tiles/{z}/{x}/{y}",
      "visible": true,
      "zoom_offset": 0
     }
    },
    "0b4c391856584a1c85d3c1af291f612e": {
     "model_module": "jupyter-leaflet",
     "model_module_version": "^0.17",
     "model_name": "LeafletMapModel",
     "state": {
      "_dom_classes": [],
      "_model_module": "jupyter-leaflet",
      "_model_module_version": "^0.17",
      "_model_name": "LeafletMapModel",
      "_view_count": null,
      "_view_module": "jupyter-leaflet",
      "_view_module_version": "^0.17",
      "_view_name": "LeafletMapView",
      "bottom": 2434439,
      "bounce_at_zoom_limits": true,
      "box_zoom": true,
      "center": [
       -27.768264,
       24.769355
      ],
      "close_popup_on_click": true,
      "controls": [
       "IPY_MODEL_a416bffa40a149aab53fab5c07d073b9",
       "IPY_MODEL_21d5ff33f9354de5ae3b2a42522651ea",
       "IPY_MODEL_cc074b94878d4167bd9e8f7ca633606c",
       "IPY_MODEL_7c48ca6053384b1d9aa64f746f000ddc",
       "IPY_MODEL_913fcf64608c4dddae02a2b4c2f9a2e3",
       "IPY_MODEL_204228eb518e4193abe400d8c5267791"
      ],
      "crs": {
       "custom": false,
       "name": "EPSG3857"
      },
      "default_style": "IPY_MODEL_f7c29b4352d5450180e7ef819741a682",
      "double_click_zoom": true,
      "dragging": true,
      "dragging_style": "IPY_MODEL_6c0ede20de0c42e1a6973a9cbbf25a72",
      "east": 24.82944488525391,
      "fullscreen": false,
      "inertia": true,
      "inertia_deceleration": 3000,
      "inertia_max_speed": 1500,
      "interpolation": "bilinear",
      "keyboard": true,
      "keyboard_pan_offset": 80,
      "keyboard_zoom_offset": 1,
      "layers": [
       "IPY_MODEL_30dbf5832f304d4b9f0c420cd1edd039",
       "IPY_MODEL_0337c11f229e432b9d6ef860a2719afd"
      ],
      "layout": "IPY_MODEL_0295291cbc3b4c8b8c954cc0231e5d7b",
      "left": 2385035,
      "max_zoom": 24,
      "min_zoom": null,
      "modisdate": "2023-04-13",
      "north": -27.745454917622258,
      "options": [
       "bounce_at_zoom_limits",
       "box_zoom",
       "center",
       "close_popup_on_click",
       "double_click_zoom",
       "dragging",
       "fullscreen",
       "inertia",
       "inertia_deceleration",
       "inertia_max_speed",
       "interpolation",
       "keyboard",
       "keyboard_pan_offset",
       "keyboard_zoom_offset",
       "max_zoom",
       "min_zoom",
       "prefer_canvas",
       "scroll_wheel_zoom",
       "tap",
       "tap_tolerance",
       "touch_zoom",
       "world_copy_jump",
       "zoom",
       "zoom_animation_threshold",
       "zoom_delta",
       "zoom_snap"
      ],
      "panes": {},
      "prefer_canvas": false,
      "right": 2386436,
      "scroll_wheel_zoom": true,
      "south": -27.79102273938688,
      "style": "IPY_MODEL_e6b788e39f524cbda24dee7cf37dd3fd",
      "tap": true,
      "tap_tolerance": 15,
      "top": 2433839,
      "touch_zoom": true,
      "west": 24.709196090698246,
      "window_url": "https://41tkw6gkyde-496ff2e9c6d22116-0-colab.googleusercontent.com/outputframe.html?vrz=colab-20230412-060135-RC00_523659207",
      "world_copy_jump": false,
      "zoom": 14,
      "zoom_animation_threshold": 4,
      "zoom_delta": 1,
      "zoom_snap": 1
     }
    },
    "204228eb518e4193abe400d8c5267791": {
     "model_module": "jupyter-leaflet",
     "model_module_version": "^0.17",
     "model_name": "LeafletMeasureControlModel",
     "state": {
      "_custom_units": {},
      "_model_module": "jupyter-leaflet",
      "_model_module_version": "^0.17",
      "_model_name": "LeafletMeasureControlModel",
      "_view_count": null,
      "_view_module": "jupyter-leaflet",
      "_view_module_version": "^0.17",
      "_view_name": "LeafletMeasureControlView",
      "active_color": "orange",
      "capture_z_index": 10000,
      "completed_color": "#C8F2BE",
      "options": [
       "active_color",
       "capture_z_index",
       "completed_color",
       "popup_options",
       "position",
       "primary_area_unit",
       "primary_length_unit",
       "secondary_area_unit",
       "secondary_length_unit"
      ],
      "popup_options": {
       "autoPanPadding": [
        10,
        10
       ],
       "className": "leaflet-measure-resultpopup"
      },
      "position": "bottomleft",
      "primary_area_unit": "acres",
      "primary_length_unit": "kilometers",
      "secondary_area_unit": null,
      "secondary_length_unit": null
     }
    },
    "209fa2c2820245719ac70a41139fba35": {
     "model_module": "jupyter-leaflet",
     "model_module_version": "^0.17",
     "model_name": "LeafletLayersControlModel",
     "state": {
      "_model_module": "jupyter-leaflet",
      "_model_module_version": "^0.17",
      "_model_name": "LeafletLayersControlModel",
      "_view_count": null,
      "_view_module": "jupyter-leaflet",
      "_view_module_version": "^0.17",
      "_view_name": "LeafletLayersControlView",
      "options": [
       "position"
      ],
      "position": "topright"
     }
    },
    "21d5ff33f9354de5ae3b2a42522651ea": {
     "model_module": "jupyter-leaflet",
     "model_module_version": "^0.17",
     "model_name": "LeafletLayersControlModel",
     "state": {
      "_model_module": "jupyter-leaflet",
      "_model_module_version": "^0.17",
      "_model_name": "LeafletLayersControlModel",
      "_view_count": null,
      "_view_module": "jupyter-leaflet",
      "_view_module_version": "^0.17",
      "_view_name": "LeafletLayersControlView",
      "options": [
       "position"
      ],
      "position": "topright"
     }
    },
    "30dbf5832f304d4b9f0c420cd1edd039": {
     "model_module": "jupyter-leaflet",
     "model_module_version": "^0.17",
     "model_name": "LeafletTileLayerModel",
     "state": {
      "_model_module": "jupyter-leaflet",
      "_model_module_version": "^0.17",
      "_model_name": "LeafletTileLayerModel",
      "_view_count": null,
      "_view_module": "jupyter-leaflet",
      "_view_module_version": "^0.17",
      "_view_name": "LeafletTileLayerView",
      "attribution": "Google",
      "base": false,
      "bottom": true,
      "bounds": null,
      "detect_retina": false,
      "loading": false,
      "max_native_zoom": null,
      "max_zoom": 22,
      "min_native_zoom": null,
      "min_zoom": 0,
      "name": "Google Satellite",
      "no_wrap": false,
      "opacity": 1,
      "options": [
       "attribution",
       "bounds",
       "detect_retina",
       "max_native_zoom",
       "max_zoom",
       "min_native_zoom",
       "min_zoom",
       "no_wrap",
       "tile_size",
       "tms",
       "zoom_offset"
      ],
      "pane": "",
      "popup": null,
      "popup_max_height": null,
      "popup_max_width": 300,
      "popup_min_width": 50,
      "show_loading": false,
      "subitems": [],
      "tile_size": 256,
      "tms": false,
      "url": "https://mt1.google.com/vt/lyrs=s&x={x}&y={y}&z={z}",
      "visible": true,
      "zoom_offset": 0
     }
    },
    "35e9950df42940738959f344f6cb5635": {
     "model_module": "jupyter-leaflet",
     "model_module_version": "^0.17",
     "model_name": "LeafletTileLayerModel",
     "state": {
      "_model_module": "jupyter-leaflet",
      "_model_module_version": "^0.17",
      "_model_name": "LeafletTileLayerModel",
      "_view_count": null,
      "_view_module": "jupyter-leaflet",
      "_view_module_version": "^0.17",
      "_view_name": "LeafletTileLayerView",
      "attribution": "Google Earth Engine",
      "base": false,
      "bottom": true,
      "bounds": null,
      "detect_retina": false,
      "loading": false,
      "max_native_zoom": null,
      "max_zoom": 24,
      "min_native_zoom": null,
      "min_zoom": 0,
      "name": "Canny 4-Band Aggregate - Dec 2016",
      "no_wrap": false,
      "opacity": 1,
      "options": [
       "attribution",
       "bounds",
       "detect_retina",
       "max_native_zoom",
       "max_zoom",
       "min_native_zoom",
       "min_zoom",
       "no_wrap",
       "tile_size",
       "tms",
       "zoom_offset"
      ],
      "pane": "",
      "popup": null,
      "popup_max_height": null,
      "popup_max_width": 300,
      "popup_min_width": 50,
      "show_loading": false,
      "subitems": [],
      "tile_size": 256,
      "tms": false,
      "url": "https://earthengine.googleapis.com/v1alpha/projects/earthengine-legacy/maps/63bfdfba10be9afcf72ffaea3cd8dfd3-0c177a8273703213d1c7513d5bd45225/tiles/{z}/{x}/{y}",
      "visible": true,
      "zoom_offset": 0
     }
    },
    "364526ce4efe4a0d9c19a8b6f6602e53": {
     "model_module": "jupyter-leaflet",
     "model_module_version": "^0.17",
     "model_name": "LeafletDrawControlModel",
     "state": {
      "_model_module": "jupyter-leaflet",
      "_model_module_version": "^0.17",
      "_model_name": "LeafletDrawControlModel",
      "_view_count": null,
      "_view_module": "jupyter-leaflet",
      "_view_module_version": "^0.17",
      "_view_name": "LeafletDrawControlView",
      "circle": {},
      "circlemarker": {
       "shapeOptions": {}
      },
      "data": [],
      "edit": true,
      "marker": {},
      "options": [
       "position"
      ],
      "polygon": {
       "shapeOptions": {}
      },
      "polyline": {
       "shapeOptions": {}
      },
      "position": "topleft",
      "rectangle": {},
      "remove": true
     }
    },
    "3831c87c75b740449e77a211aa3cab95": {
     "model_module": "jupyter-leaflet",
     "model_module_version": "^0.17",
     "model_name": "LeafletMapStyleModel",
     "state": {
      "_model_module": "jupyter-leaflet",
      "_model_module_version": "^0.17",
      "_model_name": "LeafletMapStyleModel",
      "_view_count": null,
      "_view_module": "@jupyter-widgets/base",
      "_view_module_version": "1.2.0",
      "_view_name": "StyleView",
      "cursor": "grab"
     }
    },
    "3e169baf56d4481f9765a9d45aee3230": {
     "model_module": "jupyter-leaflet",
     "model_module_version": "^0.17",
     "model_name": "LeafletMapStyleModel",
     "state": {
      "_model_module": "jupyter-leaflet",
      "_model_module_version": "^0.17",
      "_model_name": "LeafletMapStyleModel",
      "_view_count": null,
      "_view_module": "@jupyter-widgets/base",
      "_view_module_version": "1.2.0",
      "_view_name": "StyleView",
      "cursor": "grab"
     }
    },
    "4053f14e21a14cbfac0ae63bb25b1924": {
     "model_module": "jupyter-leaflet",
     "model_module_version": "^0.17",
     "model_name": "LeafletTileLayerModel",
     "state": {
      "_model_module": "jupyter-leaflet",
      "_model_module_version": "^0.17",
      "_model_name": "LeafletTileLayerModel",
      "_view_count": null,
      "_view_module": "jupyter-leaflet",
      "_view_module_version": "^0.17",
      "_view_name": "LeafletTileLayerView",
      "attribution": "Google Earth Engine",
      "base": false,
      "bottom": true,
      "bounds": null,
      "detect_retina": false,
      "loading": false,
      "max_native_zoom": null,
      "max_zoom": 24,
      "min_native_zoom": null,
      "min_zoom": 0,
      "name": "Canny 4-Band Aggregate - Mar 2017",
      "no_wrap": false,
      "opacity": 1,
      "options": [
       "attribution",
       "bounds",
       "detect_retina",
       "max_native_zoom",
       "max_zoom",
       "min_native_zoom",
       "min_zoom",
       "no_wrap",
       "tile_size",
       "tms",
       "zoom_offset"
      ],
      "pane": "",
      "popup": null,
      "popup_max_height": null,
      "popup_max_width": 300,
      "popup_min_width": 50,
      "show_loading": false,
      "subitems": [],
      "tile_size": 256,
      "tms": false,
      "url": "https://earthengine.googleapis.com/v1alpha/projects/earthengine-legacy/maps/d4e97db7750eb289406ed60d50ce7c39-aac0183f72ddd874dc85423b66e1f17c/tiles/{z}/{x}/{y}",
      "visible": true,
      "zoom_offset": 0
     }
    },
    "465f927a6285488a8f46e0d558e9e62d": {
     "model_module": "@jupyter-widgets/base",
     "model_module_version": "1.2.0",
     "model_name": "LayoutModel",
     "state": {
      "_model_module": "@jupyter-widgets/base",
      "_model_module_version": "1.2.0",
      "_model_name": "LayoutModel",
      "_view_count": null,
      "_view_module": "@jupyter-widgets/base",
      "_view_module_version": "1.2.0",
      "_view_name": "LayoutView",
      "align_content": null,
      "align_items": null,
      "align_self": null,
      "border": null,
      "bottom": null,
      "display": null,
      "flex": null,
      "flex_flow": null,
      "grid_area": null,
      "grid_auto_columns": null,
      "grid_auto_flow": null,
      "grid_auto_rows": null,
      "grid_column": null,
      "grid_gap": null,
      "grid_row": null,
      "grid_template_areas": null,
      "grid_template_columns": null,
      "grid_template_rows": null,
      "height": "600px",
      "justify_content": null,
      "justify_items": null,
      "left": null,
      "margin": null,
      "max_height": null,
      "max_width": null,
      "min_height": null,
      "min_width": null,
      "object_fit": null,
      "object_position": null,
      "order": null,
      "overflow": null,
      "overflow_x": null,
      "overflow_y": null,
      "padding": null,
      "right": null,
      "top": null,
      "visibility": null,
      "width": null
     }
    },
    "486ebd15b4804106a67f12967defc3a2": {
     "model_module": "jupyter-leaflet",
     "model_module_version": "^0.17",
     "model_name": "LeafletFullScreenControlModel",
     "state": {
      "_model_module": "jupyter-leaflet",
      "_model_module_version": "^0.17",
      "_model_name": "LeafletFullScreenControlModel",
      "_view_count": null,
      "_view_module": "jupyter-leaflet",
      "_view_module_version": "^0.17",
      "_view_name": "LeafletFullScreenControlView",
      "options": [
       "position"
      ],
      "position": "topleft"
     }
    },
    "4acc0b0a6bc84d48ac71d6aa9033cbf9": {
     "model_module": "jupyter-leaflet",
     "model_module_version": "^0.17",
     "model_name": "LeafletTileLayerModel",
     "state": {
      "_model_module": "jupyter-leaflet",
      "_model_module_version": "^0.17",
      "_model_name": "LeafletTileLayerModel",
      "_view_count": null,
      "_view_module": "jupyter-leaflet",
      "_view_module_version": "^0.17",
      "_view_name": "LeafletTileLayerView",
      "attribution": "Google Earth Engine",
      "base": false,
      "bottom": true,
      "bounds": null,
      "detect_retina": false,
      "loading": false,
      "max_native_zoom": null,
      "max_zoom": 24,
      "min_native_zoom": null,
      "min_zoom": 0,
      "name": "Canny 4-Band Aggregate - Feb 2017",
      "no_wrap": false,
      "opacity": 1,
      "options": [
       "attribution",
       "bounds",
       "detect_retina",
       "max_native_zoom",
       "max_zoom",
       "min_native_zoom",
       "min_zoom",
       "no_wrap",
       "tile_size",
       "tms",
       "zoom_offset"
      ],
      "pane": "",
      "popup": null,
      "popup_max_height": null,
      "popup_max_width": 300,
      "popup_min_width": 50,
      "show_loading": false,
      "subitems": [],
      "tile_size": 256,
      "tms": false,
      "url": "https://earthengine.googleapis.com/v1alpha/projects/earthengine-legacy/maps/6ab35bccde06ed50b64ac9bd15df08fe-73d775c28ada52e2f7d6e03261f83f83/tiles/{z}/{x}/{y}",
      "visible": true,
      "zoom_offset": 0
     }
    },
    "532d015049ab45e2ad30c2ffdbe6f390": {
     "model_module": "jupyter-leaflet",
     "model_module_version": "^0.17",
     "model_name": "LeafletMapStyleModel",
     "state": {
      "_model_module": "jupyter-leaflet",
      "_model_module_version": "^0.17",
      "_model_name": "LeafletMapStyleModel",
      "_view_count": null,
      "_view_module": "@jupyter-widgets/base",
      "_view_module_version": "1.2.0",
      "_view_name": "StyleView",
      "cursor": "grab"
     }
    },
    "5822b84c80a549ddb0b2837cd5bcf395": {
     "model_module": "jupyter-leaflet",
     "model_module_version": "^0.17",
     "model_name": "LeafletFullScreenControlModel",
     "state": {
      "_model_module": "jupyter-leaflet",
      "_model_module_version": "^0.17",
      "_model_name": "LeafletFullScreenControlModel",
      "_view_count": null,
      "_view_module": "jupyter-leaflet",
      "_view_module_version": "^0.17",
      "_view_name": "LeafletFullScreenControlView",
      "options": [
       "position"
      ],
      "position": "topleft"
     }
    },
    "62ca92bc32af401b9781bfbac6457c34": {
     "model_module": "jupyter-leaflet",
     "model_module_version": "^0.17",
     "model_name": "LeafletTileLayerModel",
     "state": {
      "_model_module": "jupyter-leaflet",
      "_model_module_version": "^0.17",
      "_model_name": "LeafletTileLayerModel",
      "_view_count": null,
      "_view_module": "jupyter-leaflet",
      "_view_module_version": "^0.17",
      "_view_name": "LeafletTileLayerView",
      "attribution": "Google Earth Engine",
      "base": false,
      "bottom": true,
      "bounds": null,
      "detect_retina": false,
      "loading": false,
      "max_native_zoom": null,
      "max_zoom": 24,
      "min_native_zoom": null,
      "min_zoom": 0,
      "name": "Canny 4-Band Aggregate - All Months",
      "no_wrap": false,
      "opacity": 1,
      "options": [
       "attribution",
       "bounds",
       "detect_retina",
       "max_native_zoom",
       "max_zoom",
       "min_native_zoom",
       "min_zoom",
       "no_wrap",
       "tile_size",
       "tms",
       "zoom_offset"
      ],
      "pane": "",
      "popup": null,
      "popup_max_height": null,
      "popup_max_width": 300,
      "popup_min_width": 50,
      "show_loading": false,
      "subitems": [],
      "tile_size": 256,
      "tms": false,
      "url": "https://earthengine.googleapis.com/v1alpha/projects/earthengine-legacy/maps/56f39707ba2ee4390c39a7caf6cb0567-9ea2e5a3f425c43694405b72023e9798/tiles/{z}/{x}/{y}",
      "visible": true,
      "zoom_offset": 0
     }
    },
    "6c0ede20de0c42e1a6973a9cbbf25a72": {
     "model_module": "jupyter-leaflet",
     "model_module_version": "^0.17",
     "model_name": "LeafletMapStyleModel",
     "state": {
      "_model_module": "jupyter-leaflet",
      "_model_module_version": "^0.17",
      "_model_name": "LeafletMapStyleModel",
      "_view_count": null,
      "_view_module": "@jupyter-widgets/base",
      "_view_module_version": "1.2.0",
      "_view_name": "StyleView",
      "cursor": "move"
     }
    },
    "6d7be756f7fb42b3afced268999c8cd0": {
     "model_module": "jupyter-leaflet",
     "model_module_version": "^0.17",
     "model_name": "LeafletMeasureControlModel",
     "state": {
      "_custom_units": {},
      "_model_module": "jupyter-leaflet",
      "_model_module_version": "^0.17",
      "_model_name": "LeafletMeasureControlModel",
      "_view_count": null,
      "_view_module": "jupyter-leaflet",
      "_view_module_version": "^0.17",
      "_view_name": "LeafletMeasureControlView",
      "active_color": "orange",
      "capture_z_index": 10000,
      "completed_color": "#C8F2BE",
      "options": [
       "active_color",
       "capture_z_index",
       "completed_color",
       "popup_options",
       "position",
       "primary_area_unit",
       "primary_length_unit",
       "secondary_area_unit",
       "secondary_length_unit"
      ],
      "popup_options": {
       "autoPanPadding": [
        10,
        10
       ],
       "className": "leaflet-measure-resultpopup"
      },
      "position": "bottomleft",
      "primary_area_unit": "acres",
      "primary_length_unit": "kilometers",
      "secondary_area_unit": null,
      "secondary_length_unit": null
     }
    },
    "7c48ca6053384b1d9aa64f746f000ddc": {
     "model_module": "jupyter-leaflet",
     "model_module_version": "^0.17",
     "model_name": "LeafletFullScreenControlModel",
     "state": {
      "_model_module": "jupyter-leaflet",
      "_model_module_version": "^0.17",
      "_model_name": "LeafletFullScreenControlModel",
      "_view_count": null,
      "_view_module": "jupyter-leaflet",
      "_view_module_version": "^0.17",
      "_view_name": "LeafletFullScreenControlView",
      "options": [
       "position"
      ],
      "position": "topleft"
     }
    },
    "8072aa5f0ace49b2bce396f4385b47b8": {
     "model_module": "jupyter-leaflet",
     "model_module_version": "^0.17",
     "model_name": "LeafletMapStyleModel",
     "state": {
      "_model_module": "jupyter-leaflet",
      "_model_module_version": "^0.17",
      "_model_name": "LeafletMapStyleModel",
      "_view_count": null,
      "_view_module": "@jupyter-widgets/base",
      "_view_module_version": "1.2.0",
      "_view_name": "StyleView",
      "cursor": "move"
     }
    },
    "86ba4ad17dab45c3aadf881181b5ed83": {
     "model_module": "@jupyter-widgets/base",
     "model_module_version": "1.2.0",
     "model_name": "LayoutModel",
     "state": {
      "_model_module": "@jupyter-widgets/base",
      "_model_module_version": "1.2.0",
      "_model_name": "LayoutModel",
      "_view_count": null,
      "_view_module": "@jupyter-widgets/base",
      "_view_module_version": "1.2.0",
      "_view_name": "LayoutView",
      "align_content": null,
      "align_items": null,
      "align_self": null,
      "border": null,
      "bottom": null,
      "display": null,
      "flex": null,
      "flex_flow": null,
      "grid_area": null,
      "grid_auto_columns": null,
      "grid_auto_flow": null,
      "grid_auto_rows": null,
      "grid_column": null,
      "grid_gap": null,
      "grid_row": null,
      "grid_template_areas": null,
      "grid_template_columns": null,
      "grid_template_rows": null,
      "height": "600px",
      "justify_content": null,
      "justify_items": null,
      "left": null,
      "margin": null,
      "max_height": null,
      "max_width": null,
      "min_height": null,
      "min_width": null,
      "object_fit": null,
      "object_position": null,
      "order": null,
      "overflow": null,
      "overflow_x": null,
      "overflow_y": null,
      "padding": null,
      "right": null,
      "top": null,
      "visibility": null,
      "width": null
     }
    },
    "8dd798245f3b4846b9d46da53acaae1d": {
     "model_module": "jupyter-leaflet",
     "model_module_version": "^0.17",
     "model_name": "LeafletTileLayerModel",
     "state": {
      "_model_module": "jupyter-leaflet",
      "_model_module_version": "^0.17",
      "_model_name": "LeafletTileLayerModel",
      "_view_count": null,
      "_view_module": "jupyter-leaflet",
      "_view_module_version": "^0.17",
      "_view_name": "LeafletTileLayerView",
      "attribution": "Google Earth Engine",
      "base": false,
      "bottom": true,
      "bounds": null,
      "detect_retina": false,
      "loading": false,
      "max_native_zoom": null,
      "max_zoom": 24,
      "min_native_zoom": null,
      "min_zoom": 0,
      "name": "Detected circles",
      "no_wrap": false,
      "opacity": 1,
      "options": [
       "attribution",
       "bounds",
       "detect_retina",
       "max_native_zoom",
       "max_zoom",
       "min_native_zoom",
       "min_zoom",
       "no_wrap",
       "tile_size",
       "tms",
       "zoom_offset"
      ],
      "pane": "",
      "popup": null,
      "popup_max_height": null,
      "popup_max_width": 300,
      "popup_min_width": 50,
      "show_loading": false,
      "subitems": [],
      "tile_size": 256,
      "tms": false,
      "url": "https://earthengine.googleapis.com/v1alpha/projects/earthengine-legacy/maps/4f5c5af83cb3912fa8607a39f8ef954b-9c2891875a531ee82fe23dad81c6cafb/tiles/{z}/{x}/{y}",
      "visible": true,
      "zoom_offset": 0
     }
    },
    "8ec071308ed443cfa31dcc2b13b8a02d": {
     "model_module": "jupyter-leaflet",
     "model_module_version": "^0.17",
     "model_name": "LeafletMapModel",
     "state": {
      "_dom_classes": [],
      "_model_module": "jupyter-leaflet",
      "_model_module_version": "^0.17",
      "_model_name": "LeafletMapModel",
      "_view_count": null,
      "_view_module": "jupyter-leaflet",
      "_view_module_version": "^0.17",
      "_view_name": "LeafletMapView",
      "bottom": 152474.63671875,
      "bounce_at_zoom_limits": true,
      "box_zoom": true,
      "center": [
       -27.81798894546459,
       24.800755977630615
      ],
      "close_popup_on_click": true,
      "controls": [
       "IPY_MODEL_bf532c9abce843baa503d8b9b2ffc0a1",
       "IPY_MODEL_e53821a6ea9a4703bb18fc19c12ee77b",
       "IPY_MODEL_ec07dfd692a449488fdc61e4aa5e8c66",
       "IPY_MODEL_486ebd15b4804106a67f12967defc3a2",
       "IPY_MODEL_364526ce4efe4a0d9c19a8b6f6602e53",
       "IPY_MODEL_6d7be756f7fb42b3afced268999c8cd0"
      ],
      "crs": {
       "custom": false,
       "name": "EPSG3857"
      },
      "default_style": "IPY_MODEL_3e169baf56d4481f9765a9d45aee3230",
      "double_click_zoom": true,
      "dragging": true,
      "dragging_style": "IPY_MODEL_c9bf2bee928841bebbed572f32fdfd11",
      "east": 25.76274633407593,
      "fullscreen": false,
      "inertia": true,
      "inertia_deceleration": 3000,
      "inertia_max_speed": 1500,
      "interpolation": "bilinear",
      "keyboard": true,
      "keyboard_pan_offset": 80,
      "keyboard_zoom_offset": 1,
      "layers": [
       "IPY_MODEL_30dbf5832f304d4b9f0c420cd1edd039",
       "IPY_MODEL_fe67cd57147a4f9ca0bb319aafac1e68",
       "IPY_MODEL_35e9950df42940738959f344f6cb5635",
       "IPY_MODEL_bde26bbfa0004f98ab780b1025afd297",
       "IPY_MODEL_4acc0b0a6bc84d48ac71d6aa9033cbf9",
       "IPY_MODEL_4053f14e21a14cbfac0ae63bb25b1924",
       "IPY_MODEL_98d9b48e7e484ece8a0f8229d6b4a404",
       "IPY_MODEL_62ca92bc32af401b9781bfbac6457c34",
       "IPY_MODEL_f54b1bb85309442cbf5b4ef80a6ff72f"
      ],
      "layout": "IPY_MODEL_465f927a6285488a8f46e0d558e9e62d",
      "left": 148430.859375,
      "max_zoom": 24,
      "min_zoom": null,
      "modisdate": "2023-04-13",
      "north": -27.45300359735462,
      "options": [
       "bounce_at_zoom_limits",
       "box_zoom",
       "center",
       "close_popup_on_click",
       "double_click_zoom",
       "dragging",
       "fullscreen",
       "inertia",
       "inertia_deceleration",
       "inertia_max_speed",
       "interpolation",
       "keyboard",
       "keyboard_pan_offset",
       "keyboard_zoom_offset",
       "max_zoom",
       "min_zoom",
       "prefer_canvas",
       "scroll_wheel_zoom",
       "tap",
       "tap_tolerance",
       "touch_zoom",
       "world_copy_jump",
       "zoom",
       "zoom_animation_threshold",
       "zoom_delta",
       "zoom_snap"
      ],
      "panes": {},
      "prefer_canvas": false,
      "right": 149831.859375,
      "scroll_wheel_zoom": true,
      "south": -28.181751625926132,
      "style": "IPY_MODEL_3e169baf56d4481f9765a9d45aee3230",
      "tap": true,
      "tap_tolerance": 15,
      "top": 151874.63671875,
      "touch_zoom": true,
      "west": 23.838765621185306,
      "window_url": "https://41tkw6gkyde-496ff2e9c6d22116-0-colab.googleusercontent.com/outputframe.html?vrz=colab-20230412-060135-RC00_523659207",
      "world_copy_jump": false,
      "zoom": 10,
      "zoom_animation_threshold": 4,
      "zoom_delta": 1,
      "zoom_snap": 1
     }
    },
    "8f6a088abff44f289574064ddd65f194": {
     "model_module": "jupyter-leaflet",
     "model_module_version": "^0.17",
     "model_name": "LeafletZoomControlModel",
     "state": {
      "_model_module": "jupyter-leaflet",
      "_model_module_version": "^0.17",
      "_model_name": "LeafletZoomControlModel",
      "_view_count": null,
      "_view_module": "jupyter-leaflet",
      "_view_module_version": "^0.17",
      "_view_name": "LeafletZoomControlView",
      "options": [
       "position",
       "zoom_in_text",
       "zoom_in_title",
       "zoom_out_text",
       "zoom_out_title"
      ],
      "position": "topleft",
      "zoom_in_text": "+",
      "zoom_in_title": "Zoom in",
      "zoom_out_text": "-",
      "zoom_out_title": "Zoom out"
     }
    },
    "913fcf64608c4dddae02a2b4c2f9a2e3": {
     "model_module": "jupyter-leaflet",
     "model_module_version": "^0.17",
     "model_name": "LeafletDrawControlModel",
     "state": {
      "_model_module": "jupyter-leaflet",
      "_model_module_version": "^0.17",
      "_model_name": "LeafletDrawControlModel",
      "_view_count": null,
      "_view_module": "jupyter-leaflet",
      "_view_module_version": "^0.17",
      "_view_name": "LeafletDrawControlView",
      "circle": {},
      "circlemarker": {
       "shapeOptions": {}
      },
      "data": [],
      "edit": true,
      "marker": {},
      "options": [
       "position"
      ],
      "polygon": {
       "shapeOptions": {}
      },
      "polyline": {
       "shapeOptions": {}
      },
      "position": "topleft",
      "rectangle": {},
      "remove": true
     }
    },
    "98d9b48e7e484ece8a0f8229d6b4a404": {
     "model_module": "jupyter-leaflet",
     "model_module_version": "^0.17",
     "model_name": "LeafletTileLayerModel",
     "state": {
      "_model_module": "jupyter-leaflet",
      "_model_module_version": "^0.17",
      "_model_name": "LeafletTileLayerModel",
      "_view_count": null,
      "_view_module": "jupyter-leaflet",
      "_view_module_version": "^0.17",
      "_view_name": "LeafletTileLayerView",
      "attribution": "Google Earth Engine",
      "base": false,
      "bottom": true,
      "bounds": null,
      "detect_retina": false,
      "loading": false,
      "max_native_zoom": null,
      "max_zoom": 24,
      "min_native_zoom": null,
      "min_zoom": 0,
      "name": "Canny 4-Band Aggregate - Apr 2017",
      "no_wrap": false,
      "opacity": 1,
      "options": [
       "attribution",
       "bounds",
       "detect_retina",
       "max_native_zoom",
       "max_zoom",
       "min_native_zoom",
       "min_zoom",
       "no_wrap",
       "tile_size",
       "tms",
       "zoom_offset"
      ],
      "pane": "",
      "popup": null,
      "popup_max_height": null,
      "popup_max_width": 300,
      "popup_min_width": 50,
      "show_loading": false,
      "subitems": [],
      "tile_size": 256,
      "tms": false,
      "url": "https://earthengine.googleapis.com/v1alpha/projects/earthengine-legacy/maps/b768cfba9e6c2499c166043e942e14bc-e5f82e62eab08612b94fc20271accdb4/tiles/{z}/{x}/{y}",
      "visible": true,
      "zoom_offset": 0
     }
    },
    "a416bffa40a149aab53fab5c07d073b9": {
     "model_module": "jupyter-leaflet",
     "model_module_version": "^0.17",
     "model_name": "LeafletZoomControlModel",
     "state": {
      "_model_module": "jupyter-leaflet",
      "_model_module_version": "^0.17",
      "_model_name": "LeafletZoomControlModel",
      "_view_count": null,
      "_view_module": "jupyter-leaflet",
      "_view_module_version": "^0.17",
      "_view_name": "LeafletZoomControlView",
      "options": [
       "position",
       "zoom_in_text",
       "zoom_in_title",
       "zoom_out_text",
       "zoom_out_title"
      ],
      "position": "topleft",
      "zoom_in_text": "+",
      "zoom_in_title": "Zoom in",
      "zoom_out_text": "-",
      "zoom_out_title": "Zoom out"
     }
    },
    "a8cb3ea6832145629c1c6d241129e6d7": {
     "model_module": "jupyter-leaflet",
     "model_module_version": "^0.17",
     "model_name": "LeafletDrawControlModel",
     "state": {
      "_model_module": "jupyter-leaflet",
      "_model_module_version": "^0.17",
      "_model_name": "LeafletDrawControlModel",
      "_view_count": null,
      "_view_module": "jupyter-leaflet",
      "_view_module_version": "^0.17",
      "_view_name": "LeafletDrawControlView",
      "circle": {},
      "circlemarker": {
       "shapeOptions": {}
      },
      "data": [],
      "edit": true,
      "marker": {},
      "options": [
       "position"
      ],
      "polygon": {
       "shapeOptions": {}
      },
      "polyline": {
       "shapeOptions": {}
      },
      "position": "topleft",
      "rectangle": {},
      "remove": true
     }
    },
    "bde26bbfa0004f98ab780b1025afd297": {
     "model_module": "jupyter-leaflet",
     "model_module_version": "^0.17",
     "model_name": "LeafletTileLayerModel",
     "state": {
      "_model_module": "jupyter-leaflet",
      "_model_module_version": "^0.17",
      "_model_name": "LeafletTileLayerModel",
      "_view_count": null,
      "_view_module": "jupyter-leaflet",
      "_view_module_version": "^0.17",
      "_view_name": "LeafletTileLayerView",
      "attribution": "Google Earth Engine",
      "base": false,
      "bottom": true,
      "bounds": null,
      "detect_retina": false,
      "loading": false,
      "max_native_zoom": null,
      "max_zoom": 24,
      "min_native_zoom": null,
      "min_zoom": 0,
      "name": "Canny 4-Band Aggregate - Jan 2017",
      "no_wrap": false,
      "opacity": 1,
      "options": [
       "attribution",
       "bounds",
       "detect_retina",
       "max_native_zoom",
       "max_zoom",
       "min_native_zoom",
       "min_zoom",
       "no_wrap",
       "tile_size",
       "tms",
       "zoom_offset"
      ],
      "pane": "",
      "popup": null,
      "popup_max_height": null,
      "popup_max_width": 300,
      "popup_min_width": 50,
      "show_loading": false,
      "subitems": [],
      "tile_size": 256,
      "tms": false,
      "url": "https://earthengine.googleapis.com/v1alpha/projects/earthengine-legacy/maps/f76b772b89b75ce2752b156a1eef73fc-e0af3133c77e26906df9a6201b4ba21e/tiles/{z}/{x}/{y}",
      "visible": true,
      "zoom_offset": 0
     }
    },
    "bf532c9abce843baa503d8b9b2ffc0a1": {
     "model_module": "jupyter-leaflet",
     "model_module_version": "^0.17",
     "model_name": "LeafletZoomControlModel",
     "state": {
      "_model_module": "jupyter-leaflet",
      "_model_module_version": "^0.17",
      "_model_name": "LeafletZoomControlModel",
      "_view_count": null,
      "_view_module": "jupyter-leaflet",
      "_view_module_version": "^0.17",
      "_view_name": "LeafletZoomControlView",
      "options": [
       "position",
       "zoom_in_text",
       "zoom_in_title",
       "zoom_out_text",
       "zoom_out_title"
      ],
      "position": "topleft",
      "zoom_in_text": "+",
      "zoom_in_title": "Zoom in",
      "zoom_out_text": "-",
      "zoom_out_title": "Zoom out"
     }
    },
    "c9bf2bee928841bebbed572f32fdfd11": {
     "model_module": "jupyter-leaflet",
     "model_module_version": "^0.17",
     "model_name": "LeafletMapStyleModel",
     "state": {
      "_model_module": "jupyter-leaflet",
      "_model_module_version": "^0.17",
      "_model_name": "LeafletMapStyleModel",
      "_view_count": null,
      "_view_module": "@jupyter-widgets/base",
      "_view_module_version": "1.2.0",
      "_view_name": "StyleView",
      "cursor": "move"
     }
    },
    "cc074b94878d4167bd9e8f7ca633606c": {
     "model_module": "jupyter-leaflet",
     "model_module_version": "^0.17",
     "model_name": "LeafletScaleControlModel",
     "state": {
      "_model_module": "jupyter-leaflet",
      "_model_module_version": "^0.17",
      "_model_name": "LeafletScaleControlModel",
      "_view_count": null,
      "_view_module": "jupyter-leaflet",
      "_view_module_version": "^0.17",
      "_view_name": "LeafletScaleControlView",
      "imperial": true,
      "max_width": 100,
      "metric": true,
      "options": [
       "imperial",
       "max_width",
       "metric",
       "position",
       "update_when_idle"
      ],
      "position": "bottomleft",
      "update_when_idle": false
     }
    },
    "d91622d3a03443289a5579ca0697a255": {
     "model_module": "jupyter-leaflet",
     "model_module_version": "^0.17",
     "model_name": "LeafletMapModel",
     "state": {
      "_dom_classes": [],
      "_model_module": "jupyter-leaflet",
      "_model_module_version": "^0.17",
      "_model_name": "LeafletMapModel",
      "_view_count": null,
      "_view_module": "jupyter-leaflet",
      "_view_module_version": "^0.17",
      "_view_name": "LeafletMapView",
      "bottom": 2434439,
      "bounce_at_zoom_limits": true,
      "box_zoom": true,
      "center": [
       -27.768264,
       24.769355
      ],
      "close_popup_on_click": true,
      "controls": [
       "IPY_MODEL_8f6a088abff44f289574064ddd65f194",
       "IPY_MODEL_209fa2c2820245719ac70a41139fba35",
       "IPY_MODEL_ea80e935720545f9ae71ffafa4108053",
       "IPY_MODEL_5822b84c80a549ddb0b2837cd5bcf395",
       "IPY_MODEL_a8cb3ea6832145629c1c6d241129e6d7",
       "IPY_MODEL_f10d7e4d0f4a440d87bf2c135db1f9ff"
      ],
      "crs": {
       "custom": false,
       "name": "EPSG3857"
      },
      "default_style": "IPY_MODEL_f3302daa13e64deaa137851b18e64db8",
      "double_click_zoom": true,
      "dragging": true,
      "dragging_style": "IPY_MODEL_8072aa5f0ace49b2bce396f4385b47b8",
      "east": 24.82944488525391,
      "fullscreen": false,
      "inertia": true,
      "inertia_deceleration": 3000,
      "inertia_max_speed": 1500,
      "interpolation": "bilinear",
      "keyboard": true,
      "keyboard_pan_offset": 80,
      "keyboard_zoom_offset": 1,
      "layers": [
       "IPY_MODEL_30dbf5832f304d4b9f0c420cd1edd039",
       "IPY_MODEL_8dd798245f3b4846b9d46da53acaae1d",
       "IPY_MODEL_e820f44fa78e43918bbfabd3bb9fdbd2"
      ],
      "layout": "IPY_MODEL_86ba4ad17dab45c3aadf881181b5ed83",
      "left": 2385035,
      "max_zoom": 24,
      "min_zoom": null,
      "modisdate": "2023-04-13",
      "north": -27.745454917622258,
      "options": [
       "bounce_at_zoom_limits",
       "box_zoom",
       "center",
       "close_popup_on_click",
       "double_click_zoom",
       "dragging",
       "fullscreen",
       "inertia",
       "inertia_deceleration",
       "inertia_max_speed",
       "interpolation",
       "keyboard",
       "keyboard_pan_offset",
       "keyboard_zoom_offset",
       "max_zoom",
       "min_zoom",
       "prefer_canvas",
       "scroll_wheel_zoom",
       "tap",
       "tap_tolerance",
       "touch_zoom",
       "world_copy_jump",
       "zoom",
       "zoom_animation_threshold",
       "zoom_delta",
       "zoom_snap"
      ],
      "panes": {},
      "prefer_canvas": false,
      "right": 2386436,
      "scroll_wheel_zoom": true,
      "south": -27.79102273938688,
      "style": "IPY_MODEL_532d015049ab45e2ad30c2ffdbe6f390",
      "tap": true,
      "tap_tolerance": 15,
      "top": 2433839,
      "touch_zoom": true,
      "west": 24.709196090698246,
      "window_url": "https://41tkw6gkyde-496ff2e9c6d22116-0-colab.googleusercontent.com/outputframe.html?vrz=colab-20230412-060135-RC00_523659207",
      "world_copy_jump": false,
      "zoom": 14,
      "zoom_animation_threshold": 4,
      "zoom_delta": 1,
      "zoom_snap": 1
     }
    },
    "e53821a6ea9a4703bb18fc19c12ee77b": {
     "model_module": "jupyter-leaflet",
     "model_module_version": "^0.17",
     "model_name": "LeafletLayersControlModel",
     "state": {
      "_model_module": "jupyter-leaflet",
      "_model_module_version": "^0.17",
      "_model_name": "LeafletLayersControlModel",
      "_view_count": null,
      "_view_module": "jupyter-leaflet",
      "_view_module_version": "^0.17",
      "_view_name": "LeafletLayersControlView",
      "options": [
       "position"
      ],
      "position": "topright"
     }
    },
    "e6b788e39f524cbda24dee7cf37dd3fd": {
     "model_module": "jupyter-leaflet",
     "model_module_version": "^0.17",
     "model_name": "LeafletMapStyleModel",
     "state": {
      "_model_module": "jupyter-leaflet",
      "_model_module_version": "^0.17",
      "_model_name": "LeafletMapStyleModel",
      "_view_count": null,
      "_view_module": "@jupyter-widgets/base",
      "_view_module_version": "1.2.0",
      "_view_name": "StyleView",
      "cursor": "grab"
     }
    },
    "e820f44fa78e43918bbfabd3bb9fdbd2": {
     "model_module": "jupyter-leaflet",
     "model_module_version": "^0.17",
     "model_name": "LeafletTileLayerModel",
     "state": {
      "_model_module": "jupyter-leaflet",
      "_model_module_version": "^0.17",
      "_model_name": "LeafletTileLayerModel",
      "_view_count": null,
      "_view_module": "jupyter-leaflet",
      "_view_module_version": "^0.17",
      "_view_name": "LeafletTileLayerView",
      "attribution": "Google Earth Engine",
      "base": false,
      "bottom": true,
      "bounds": null,
      "detect_retina": false,
      "loading": false,
      "max_native_zoom": null,
      "max_zoom": 24,
      "min_native_zoom": null,
      "min_zoom": 0,
      "name": "Exported Image boundary",
      "no_wrap": false,
      "opacity": 1,
      "options": [
       "attribution",
       "bounds",
       "detect_retina",
       "max_native_zoom",
       "max_zoom",
       "min_native_zoom",
       "min_zoom",
       "no_wrap",
       "tile_size",
       "tms",
       "zoom_offset"
      ],
      "pane": "",
      "popup": null,
      "popup_max_height": null,
      "popup_max_width": 300,
      "popup_min_width": 50,
      "show_loading": false,
      "subitems": [],
      "tile_size": 256,
      "tms": false,
      "url": "https://earthengine.googleapis.com/v1alpha/projects/earthengine-legacy/maps/5276016d56ee923e366342982f33d788-2fcbf8ec5ad022c997736750b18d81f7/tiles/{z}/{x}/{y}",
      "visible": true,
      "zoom_offset": 0
     }
    },
    "ea80e935720545f9ae71ffafa4108053": {
     "model_module": "jupyter-leaflet",
     "model_module_version": "^0.17",
     "model_name": "LeafletScaleControlModel",
     "state": {
      "_model_module": "jupyter-leaflet",
      "_model_module_version": "^0.17",
      "_model_name": "LeafletScaleControlModel",
      "_view_count": null,
      "_view_module": "jupyter-leaflet",
      "_view_module_version": "^0.17",
      "_view_name": "LeafletScaleControlView",
      "imperial": true,
      "max_width": 100,
      "metric": true,
      "options": [
       "imperial",
       "max_width",
       "metric",
       "position",
       "update_when_idle"
      ],
      "position": "bottomleft",
      "update_when_idle": false
     }
    },
    "ec07dfd692a449488fdc61e4aa5e8c66": {
     "model_module": "jupyter-leaflet",
     "model_module_version": "^0.17",
     "model_name": "LeafletScaleControlModel",
     "state": {
      "_model_module": "jupyter-leaflet",
      "_model_module_version": "^0.17",
      "_model_name": "LeafletScaleControlModel",
      "_view_count": null,
      "_view_module": "jupyter-leaflet",
      "_view_module_version": "^0.17",
      "_view_name": "LeafletScaleControlView",
      "imperial": true,
      "max_width": 100,
      "metric": true,
      "options": [
       "imperial",
       "max_width",
       "metric",
       "position",
       "update_when_idle"
      ],
      "position": "bottomleft",
      "update_when_idle": false
     }
    },
    "f10d7e4d0f4a440d87bf2c135db1f9ff": {
     "model_module": "jupyter-leaflet",
     "model_module_version": "^0.17",
     "model_name": "LeafletMeasureControlModel",
     "state": {
      "_custom_units": {},
      "_model_module": "jupyter-leaflet",
      "_model_module_version": "^0.17",
      "_model_name": "LeafletMeasureControlModel",
      "_view_count": null,
      "_view_module": "jupyter-leaflet",
      "_view_module_version": "^0.17",
      "_view_name": "LeafletMeasureControlView",
      "active_color": "orange",
      "capture_z_index": 10000,
      "completed_color": "#C8F2BE",
      "options": [
       "active_color",
       "capture_z_index",
       "completed_color",
       "popup_options",
       "position",
       "primary_area_unit",
       "primary_length_unit",
       "secondary_area_unit",
       "secondary_length_unit"
      ],
      "popup_options": {
       "autoPanPadding": [
        10,
        10
       ],
       "className": "leaflet-measure-resultpopup"
      },
      "position": "bottomleft",
      "primary_area_unit": "acres",
      "primary_length_unit": "kilometers",
      "secondary_area_unit": null,
      "secondary_length_unit": null
     }
    },
    "f3302daa13e64deaa137851b18e64db8": {
     "model_module": "jupyter-leaflet",
     "model_module_version": "^0.17",
     "model_name": "LeafletMapStyleModel",
     "state": {
      "_model_module": "jupyter-leaflet",
      "_model_module_version": "^0.17",
      "_model_name": "LeafletMapStyleModel",
      "_view_count": null,
      "_view_module": "@jupyter-widgets/base",
      "_view_module_version": "1.2.0",
      "_view_name": "StyleView",
      "cursor": "grab"
     }
    },
    "f54b1bb85309442cbf5b4ef80a6ff72f": {
     "model_module": "jupyter-leaflet",
     "model_module_version": "^0.17",
     "model_name": "LeafletTileLayerModel",
     "state": {
      "_model_module": "jupyter-leaflet",
      "_model_module_version": "^0.17",
      "_model_name": "LeafletTileLayerModel",
      "_view_count": null,
      "_view_module": "jupyter-leaflet",
      "_view_module_version": "^0.17",
      "_view_name": "LeafletTileLayerView",
      "attribution": "Google Earth Engine",
      "base": false,
      "bottom": true,
      "bounds": null,
      "detect_retina": false,
      "loading": false,
      "max_native_zoom": null,
      "max_zoom": 24,
      "min_native_zoom": null,
      "min_zoom": 0,
      "name": "Canny Edges - No Background",
      "no_wrap": false,
      "opacity": 1,
      "options": [
       "attribution",
       "bounds",
       "detect_retina",
       "max_native_zoom",
       "max_zoom",
       "min_native_zoom",
       "min_zoom",
       "no_wrap",
       "tile_size",
       "tms",
       "zoom_offset"
      ],
      "pane": "",
      "popup": null,
      "popup_max_height": null,
      "popup_max_width": 300,
      "popup_min_width": 50,
      "show_loading": false,
      "subitems": [],
      "tile_size": 256,
      "tms": false,
      "url": "https://earthengine.googleapis.com/v1alpha/projects/earthengine-legacy/maps/54b2084e9bd3de7bc17b9b74005011ab-3ddebfdc34db5757c5bdfa9d99096de5/tiles/{z}/{x}/{y}",
      "visible": true,
      "zoom_offset": 0
     }
    },
    "f7c29b4352d5450180e7ef819741a682": {
     "model_module": "jupyter-leaflet",
     "model_module_version": "^0.17",
     "model_name": "LeafletMapStyleModel",
     "state": {
      "_model_module": "jupyter-leaflet",
      "_model_module_version": "^0.17",
      "_model_name": "LeafletMapStyleModel",
      "_view_count": null,
      "_view_module": "@jupyter-widgets/base",
      "_view_module_version": "1.2.0",
      "_view_name": "StyleView",
      "cursor": "grab"
     }
    },
    "fe67cd57147a4f9ca0bb319aafac1e68": {
     "model_module": "jupyter-leaflet",
     "model_module_version": "^0.17",
     "model_name": "LeafletTileLayerModel",
     "state": {
      "_model_module": "jupyter-leaflet",
      "_model_module_version": "^0.17",
      "_model_name": "LeafletTileLayerModel",
      "_view_count": null,
      "_view_module": "jupyter-leaflet",
      "_view_module_version": "^0.17",
      "_view_name": "LeafletTileLayerView",
      "attribution": "Google Earth Engine",
      "base": false,
      "bottom": true,
      "bounds": null,
      "detect_retina": false,
      "loading": false,
      "max_native_zoom": null,
      "max_zoom": 24,
      "min_native_zoom": null,
      "min_zoom": 0,
      "name": "Canny 4-Band Aggregate - Nov 2016",
      "no_wrap": false,
      "opacity": 1,
      "options": [
       "attribution",
       "bounds",
       "detect_retina",
       "max_native_zoom",
       "max_zoom",
       "min_native_zoom",
       "min_zoom",
       "no_wrap",
       "tile_size",
       "tms",
       "zoom_offset"
      ],
      "pane": "",
      "popup": null,
      "popup_max_height": null,
      "popup_max_width": 300,
      "popup_min_width": 50,
      "show_loading": false,
      "subitems": [],
      "tile_size": 256,
      "tms": false,
      "url": "https://earthengine.googleapis.com/v1alpha/projects/earthengine-legacy/maps/20639eff77069d0a3216ebaeefacb05e-bafe23eacf08ed45d19b9647e99685d5/tiles/{z}/{x}/{y}",
      "visible": true,
      "zoom_offset": 0
     }
    }
   }
  }
 },
 "nbformat": 4,
 "nbformat_minor": 1
}
