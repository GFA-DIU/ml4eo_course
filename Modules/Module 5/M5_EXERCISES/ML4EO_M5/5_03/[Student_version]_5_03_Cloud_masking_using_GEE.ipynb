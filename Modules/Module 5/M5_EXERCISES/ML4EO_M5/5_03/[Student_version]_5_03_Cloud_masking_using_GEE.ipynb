{
 "cells": [
  {
   "cell_type": "markdown",
   "metadata": {
    "id": "l18M9_r5XmAQ"
   },
   "source": [
    "# EXERCISE 5.3: Cloud masking using Google Earth Engine \n",
    "\n",
    "---\n",
    "\n",
    "**Use of Google Earth Engine (API) in python to visualize geodata:**\n",
    "* a) Identify cloud cover components and cloud shadows in EO data  \n",
    "* b) Process cloud cover  \n",
    "* c) Remove cloud cover from map \n",
    "\n",
    "This tutorial is an introduction to masking clouds and cloud shadows in Sentinel-2 surface reflectance (SR) data using Google Earth Engine (GEE). Clouds are identified from the Sentinel 2 cloud probability dataset (s2cloudless) and shadows are defined by cloud projection intersection with low-reflectance near-infrared (NIR) pixels."
   ]
  },
  {
   "cell_type": "markdown",
   "metadata": {
    "id": "U7i55vr_aKCB"
   },
   "source": [
    "### Run me first\n",
    "\n",
    "Run the following cell to initialize the Earth Engine API. The output will contain instructions on how to grant this notebook access to Earth Engine using your account.\n",
    "\n",
    "\n",
    "1.   Run the cell below and you will be prompted to enter a verification code.\n",
    "2.   Follow the link below.\n",
    "3.   Make sure the google account is the account you created your ML4EO project with\n",
    "4. Make sure the project ML4EO is selected (you already set this up in 5_02)\n",
    "5. Click \"Generate Token\"\n",
    "6. Click on the Google account you are running this notebook from.\n",
    "7. Click continue\n",
    "8. In the page that appears, ensure \"View and manage your Google Earth Engine data.\" and \"Manage your data and permissions in Cloud Storage and see the email address for your Google Account.\" are both checked.\n",
    "9. Copy the code you see under \"Authorization Code\" and paste it in the prompt below the cell."
   ]
  },
  {
   "cell_type": "code",
   "execution_count": null,
   "metadata": {
    "colab": {
     "base_uri": "https://localhost:8080/"
    },
    "executionInfo": {
     "elapsed": 50632,
     "status": "ok",
     "timestamp": 1681415704612,
     "user": {
      "displayName": "Mark Tyrrell",
      "userId": "14514676474205151649"
     },
     "user_tz": -60
    },
    "id": "XeFsiSp2aDL6",
    "outputId": "7c2870f6-bcd6-4f7e-b6d1-03c711c71e74"
   },
   "outputs": [
    {
     "name": "stdout",
     "output_type": "stream",
     "text": [
      "To authorize access needed by Earth Engine, open the following URL in a web browser and follow the instructions. If the web browser does not start automatically, please manually browse the URL below.\n",
      "\n",
      "    https://code.earthengine.google.com/client-auth?scopes=https%3A//www.googleapis.com/auth/earthengine%20https%3A//www.googleapis.com/auth/devstorage.full_control&request_id=71ZWEhRV47GvtaLOmS-iM6JvKugUt0MtF_L-JkIeHU4&tc=DOhikcSqPWnP4uN5D-u7ty2CIWF2yMzA_RYUpnf20Xc&cc=-ouSBOpnOuLPrSStfvsVxc_ioPMGXie5JDhtCDuPlxM\n",
      "\n",
      "The authorization workflow will generate a code, which you should paste in the box below.\n",
      "Enter verification code: 4/1AVHEtk4lbJfKWsNWdM2iRezCU8IBhiO0OAFNO664Zc9U56gjwawjMqDnfeM\n",
      "\n",
      "Successfully saved authorization token.\n"
     ]
    }
   ],
   "source": [
    "import ee\n",
    "\n",
    "# Trigger the authentication flow.\n",
    "ee.Authenticate()\n",
    "\n",
    "# Initialize the library.\n",
    "ee.Initialize()"
   ]
  },
  {
   "cell_type": "markdown",
   "metadata": {
    "id": "U0xJ-vCrWF1S"
   },
   "source": [
    "## Assemble cloud mask components\n",
    "\n",
    "This section builds a Sentinel 2 surface reflectivity collection and defines functions to add cloud and cloud shadow component layers to each image in the collection.\n",
    "\n"
   ]
  },
  {
   "cell_type": "markdown",
   "metadata": {
    "id": "tCRB28UkJJjp"
   },
   "source": [
    "### Define collection filter and cloud mask parameters\n",
    "\n",
    "We first define parameters that will be used to filter the Sentinel 2 image collection and determine cloud and cloud shadow identification.\n",
    "\n",
    "|Parameter | Type | Description |\n",
    "| :-- | :-- | :-- |\n",
    "| `AOI` | `ee.Geometry` | Area of interest |\n",
    "| `START_DATE` | string | Image collection start date (inclusive) |\n",
    "| `END_DATE` | string | Image collection end date (exclusive) |\n",
    "| `CLOUD_FILTER` | integer | Maximum image cloud cover percent allowed in image collection |\n",
    "| `CLD_PRB_THRESH` | integer | Cloud probability (%); values greater than are considered cloud |\n",
    "| `NIR_DRK_THRESH` | float | Near-infrared reflectance; values less than are considered potential cloud shadow |\n",
    "| `CLD_PRJ_DIST` | float | Maximum distance (km) to search for cloud shadows from cloud edges |\n",
    "| `BUFFER` | integer | Distance (m) to dilate the edge of cloud-identified objects |"
   ]
  },
  {
   "cell_type": "markdown",
   "metadata": {
    "id": "q9LnKA3kEVrw"
   },
   "source": [
    "The values currently set for `AOI`, `START_DATE`, `END_DATE`, and `CLOUD_FILTER` are intended to build a collection for a single Sentinel 2 overpass of a region near Kigali, Rwanda. When parameterizing and evaluating cloud masks for a new area, it is good practice to identify a single overpass date and limit the regional extent to minimize processing requirements. If you want to work with a different example, use this [Earth Engine App](https://showcase.earthengine.app/view/s2-sr-browser-s2cloudless-nb) to identify an image that includes some clouds, then replace the relevant parameter values below with those provided in the app.\n"
   ]
  },
  {
   "cell_type": "code",
   "execution_count": null,
   "metadata": {
    "id": "qBjBmX4-WFG7"
   },
   "outputs": [],
   "source": [
    "AOI = ee.Geometry.Point(30.0619, -1.96)\n",
    "START_DATE = '2023-02-16'\n",
    "END_DATE = '2023-02-17'\n",
    "CLOUD_FILTER = 60\n",
    "CLD_PRB_THRESH = 50\n",
    "NIR_DRK_THRESH = 0.15\n",
    "CLD_PRJ_DIST = 1\n",
    "BUFFER = 50"
   ]
  },
  {
   "cell_type": "markdown",
   "metadata": {
    "id": "DnJGSW1MlEL2"
   },
   "source": [
    "### Build a Sentinel-2 collection\n",
    "\n",
    "[Sentinel-2 surface reflectance](https://developers.google.com/earth-engine/datasets/catalog/COPERNICUS_S2_SR) and [Sentinel-2 cloud probability](https://developers.google.com/earth-engine/datasets/catalog/COPERNICUS_S2_CLOUD_PROBABILITY) are two different image collections. Each collection must be filtered similarly (e.g., by date and bounds) and then the two filtered collections must be joined.\n",
    "\n",
    "Let's define a function to filter the Sentinel 2 and s2cloudless collections according to area of interest and date parameters, then join them on the `system:index` property. The result will be a copy of the Sentinel 2 collection where each image has a new `'s2cloudless'` property whose value is the corresponding s2cloudless image."
   ]
  },
  {
   "cell_type": "markdown",
   "metadata": {
    "id": "he344VAEywir"
   },
   "source": [
    "The Sentinel 2 cloud probability dataset was created with the sentinel2-cloud-detector library (using LightGBM). All bands are upsampled using bilinear interpolation to 10m resolution before the gradient boosting algorithm is applied. The resulting 0..1 floating point probability is scaled to 0..100 and stored as a UINT8. Areas missing any or all of the bands are masked out. Higher values are more likely to be clouds or highly reflective surfaces (e.g. roof tops or snow).\n",
    "\n",
    "The Sentinel 2 cloud probability dataset contains a single band:\n",
    "<table class=\"eecat\">\n",
    "<tbody><tr>\n",
    "<th scope=\"col\">Name</th>\n",
    "<th scope=\"col\">Min</th>\n",
    "<th scope=\"col\">Max</th>\n",
    "<th scope=\"col\">Pixel Size</th>\n",
    "<th scope=\"col\">Description</th>\n",
    "</tr>\n",
    "<tr>\n",
    "<td><code translate=\"no\" dir=\"ltr\">probability</code></td>\n",
    "<td>\n",
    "          0\n",
    "</td>\n",
    "<td>\n",
    "          100\n",
    "</td>\n",
    "<td>\n",
    "      10 meters\n",
    "</td>\n",
    "<td><p>Probability that the pixel is cloudy.</p></td>\n",
    "</tr>\n",
    "</tbody></table>\n",
    "\n",
    "Now let's define a function to help extract our data:"
   ]
  },
  {
   "cell_type": "code",
   "execution_count": null,
   "metadata": {
    "id": "eCp0jiy2WBSz"
   },
   "outputs": [],
   "source": [
    "def get_s2_sr_cld_col(aoi, start_date, end_date):\n",
    "    # Import and filter S2 SR.\n",
    "    s2_sr_col = (ee.ImageCollection('COPERNICUS/S2_SR')\n",
    "        .filterBounds(aoi)\n",
    "        .filterDate(start_date, end_date)\n",
    "        .filter(ee.Filter.lte('CLOUDY_PIXEL_PERCENTAGE', CLOUD_FILTER)))\n",
    "\n",
    "    # Import and filter s2cloudless.\n",
    "    s2_cloudless_col = (ee.ImageCollection('COPERNICUS/S2_CLOUD_PROBABILITY')\n",
    "        .filterBounds(aoi)\n",
    "        .filterDate(start_date, end_date))\n",
    "\n",
    "    # Join the filtered s2cloudless collection to the SR collection by the 'system:index' property.\n",
    "    return ee.ImageCollection(ee.Join.saveFirst('s2cloudless').apply(**{\n",
    "        'primary': s2_sr_col,\n",
    "        'secondary': s2_cloudless_col,\n",
    "        'condition': ee.Filter.equals(**{\n",
    "            'leftField': 'system:index',\n",
    "            'rightField': 'system:index'\n",
    "        })\n",
    "    }))"
   ]
  },
  {
   "cell_type": "markdown",
   "metadata": {
    "id": "G2SNDLIKkaZS"
   },
   "source": [
    "Let's apply the `get_s2_sr_cld_col` function to build a collection according to the parameters defined above."
   ]
  },
  {
   "cell_type": "code",
   "execution_count": null,
   "metadata": {
    "id": "WhpT9SpeW0W2"
   },
   "outputs": [],
   "source": [
    "s2_sr_cld_col_eval = get_s2_sr_cld_col(AOI, START_DATE, END_DATE)"
   ]
  },
  {
   "cell_type": "markdown",
   "metadata": {
    "id": "56S6gZNUr2n8"
   },
   "source": [
    "### Define cloud mask component functions"
   ]
  },
  {
   "cell_type": "markdown",
   "metadata": {
    "id": "ZUyuXh7gP-98"
   },
   "source": [
    "#### Cloud components\n",
    "\n",
    "Define a function to add the s2cloudless probability layer and derived cloud mask as bands to an Sentinel 2 SR image input."
   ]
  },
  {
   "cell_type": "code",
   "execution_count": null,
   "metadata": {
    "id": "yE9x4KREYfnD"
   },
   "outputs": [],
   "source": [
    "def add_cloud_bands(img):\n",
    "    # Get s2cloudless image, subset the probability band.\n",
    "    cld_prb = ee.Image(img.get('s2cloudless')).select('probability')\n",
    "\n",
    "    # Condition s2cloudless by the probability threshold value.\n",
    "    is_cloud = cld_prb.gt(CLD_PRB_THRESH).rename('clouds')\n",
    "\n",
    "    # Add the cloud probability layer and cloud mask as image bands.\n",
    "    return img.addBands(ee.Image([cld_prb, is_cloud]))"
   ]
  },
  {
   "cell_type": "markdown",
   "metadata": {
    "id": "HUnkfgniKzVr"
   },
   "source": [
    "#### Cloud shadow components\n",
    "\n",
    "Define a function to add dark pixels, cloud projection, and identified shadows as bands to an Sentinel 2 SR image input. Note that the image input needs to be the result of the above `add_cloud_bands` function because it relies on knowing which pixels are considered cloudy (`'clouds'` band)."
   ]
  },
  {
   "cell_type": "code",
   "execution_count": null,
   "metadata": {
    "id": "zU-uPdhtbzw3"
   },
   "outputs": [],
   "source": [
    "def add_shadow_bands(img):\n",
    "    # Identify water pixels from the SCL band.\n",
    "    not_water = img.select('SCL').neq(6)   # An SCL of 6 indicates water\n",
    "\n",
    "    # Identify dark NIR pixels that are not water (potential cloud shadow pixels).\n",
    "    SR_BAND_SCALE = 1e4\n",
    "    dark_pixels = img.select('B8').lt(NIR_DRK_THRESH*SR_BAND_SCALE).multiply(not_water).rename('dark_pixels')\n",
    "\n",
    "    # Determine the direction to project cloud shadow from clouds (assumes UTM projection).\n",
    "    shadow_azimuth = ee.Number(90).subtract(ee.Number(img.get('MEAN_SOLAR_AZIMUTH_ANGLE')));\n",
    "\n",
    "    # Project shadows from clouds for the distance specified by the CLD_PRJ_DIST input.\n",
    "    distance_to_cloud = img.select('clouds').directionalDistanceTransform(shadow_azimuth, CLD_PRJ_DIST*10)\n",
    "\n",
    "    # Rescale the existing projection\n",
    "    reprojected = distance_to_cloud.reproject(**{'crs': img.select(0).projection(), 'scale': 100})\n",
    "\n",
    "    # Use the distance band (returned by directionalDistanceTransform) as mask\n",
    "    cld_proj = reprojected.select('distance').mask().rename('cloud_transform')\n",
    "\n",
    "    # Identify the intersection of dark pixels with cloud shadow projection.\n",
    "    shadows = cld_proj.multiply(dark_pixels).rename('shadows')\n",
    "\n",
    "    # Add dark pixels, cloud projection, and identified shadows as image bands.\n",
    "    return img.addBands(ee.Image([dark_pixels, cld_proj, shadows]))"
   ]
  },
  {
   "cell_type": "markdown",
   "metadata": {
    "id": "-Djz7Yfc82RI"
   },
   "source": [
    "## <font color=orange>Discussion:</font>\n",
    "In the function above, the CLD_PRJ_DIST determines the maximum distance over which a cloud corresponding to a shadow is searched. \n",
    "How can increasing/decreasing CLD_PRJ_DIST affect the computational time? \n",
    "How does increasing/decreasing CLD_PRJ_DIST affect the number of detected shadows?\n"
   ]
  },
  {
   "cell_type": "markdown",
   "metadata": {
    "id": "2rqSRgn1NfxZ"
   },
   "source": [
    "#### Final cloud-shadow mask\n",
    "\n",
    "Define a function to assemble all of the cloud and cloud shadow components and produce the final mask."
   ]
  },
  {
   "cell_type": "code",
   "execution_count": null,
   "metadata": {
    "id": "VNP-VlmwccKG"
   },
   "outputs": [],
   "source": [
    "def add_cld_shdw_mask(img):\n",
    "    # Add cloud component bands.\n",
    "    img_cloud = add_cloud_bands(img)\n",
    "\n",
    "    # Add cloud shadow component bands.\n",
    "    img_cloud_shadow = add_shadow_bands(img_cloud)\n",
    "\n",
    "    # Combine cloud and shadow mask, set cloud and shadow as value 1, else 0.\n",
    "    is_cld_shdw = img_cloud_shadow.select('clouds').add(img_cloud_shadow.select('shadows')).gt(0)\n",
    "\n",
    "    # Remove small cloud-shadow patches and dilate remaining pixels by BUFFER input.\n",
    "    # 20 m scale is for speed, and assumes clouds don't require 10 m precision.\n",
    "    is_cld_shdw = (is_cld_shdw.focalMin(2).focalMax(BUFFER*2/20)\n",
    "        .reproject(**{'crs': img.select([0]).projection(), 'scale': 20})\n",
    "        .rename('cloudmask'))\n",
    "\n",
    "    # Add the final cloud-shadow mask to the image.\n",
    "    return img_cloud_shadow.addBands(is_cld_shdw)"
   ]
  },
  {
   "cell_type": "markdown",
   "metadata": {
    "id": "SlfZm_fGy-yr"
   },
   "source": [
    "## Question 5.3.1\n",
    "Identify the parts of the image loaded (one_image) in the image below that are assigned to Vegetation by the Scene Classificaiton Map band by returning a mask.\n"
   ]
  },
  {
   "cell_type": "code",
   "execution_count": null,
   "metadata": {
    "colab": {
     "base_uri": "https://localhost:8080/",
     "height": 189
    },
    "executionInfo": {
     "elapsed": 34,
     "status": "error",
     "timestamp": 1682207177152,
     "user": {
      "displayName": "Abrham Gebreselasie",
      "userId": "05210152039599535240"
     },
     "user_tz": -120
    },
    "id": "z_OVorXd881G",
    "outputId": "f6fa48f1-1f60-43df-8b9c-cd18407fd67c"
   },
   "outputs": [
    {
     "ename": "NameError",
     "evalue": "ignored",
     "output_type": "error",
     "traceback": [
      "\u001b[0;31m---------------------------------------------------------------------------\u001b[0m",
      "\u001b[0;31mNameError\u001b[0m                                 Traceback (most recent call last)",
      "\u001b[0;32m<ipython-input-1-c5a2e7ec7c0e>\u001b[0m in \u001b[0;36m<cell line: 1>\u001b[0;34m()\u001b[0m\n\u001b[0;32m----> 1\u001b[0;31m \u001b[0mone_image\u001b[0m \u001b[0;34m=\u001b[0m \u001b[0ms2_sr_cld_col_eval\u001b[0m\u001b[0;34m.\u001b[0m\u001b[0mfirst\u001b[0m\u001b[0;34m(\u001b[0m\u001b[0;34m)\u001b[0m\u001b[0;34m\u001b[0m\u001b[0;34m\u001b[0m\u001b[0m\n\u001b[0m\u001b[1;32m      2\u001b[0m \u001b[0;31m# Solution Here\u001b[0m\u001b[0;34m\u001b[0m\u001b[0;34m\u001b[0m\u001b[0m\n",
      "\u001b[0;31mNameError\u001b[0m: name 's2_sr_cld_col_eval' is not defined"
     ]
    }
   ],
   "source": [
    "one_image = s2_sr_cld_col_eval.first()\n",
    "# Solution Here\n"
   ]
  },
  {
   "cell_type": "markdown",
   "metadata": {
    "id": "i0QbQoJ1jpHw"
   },
   "source": [
    "## Visualize and evaluate cloud mask components\n",
    "\n",
    "This section provides functions for displaying the cloud and cloud shadow components. In most cases, adding all components to images and viewing them is unnecessary. This section is included to illustrate how the cloud/cloud shadow mask is developed and demonstrate how to test and evaluate various parameters, which is helpful when defining masking variables for an unfamiliar region or time of year.\n",
    "\n",
    "In applications outside of this tutorial, if you prefer to include only the final cloud/cloud shadow mask along with the original image bands, replace:\n",
    "\n",
    "```\n",
    "return img_cloud_shadow.addBands(is_cld_shdw)\n",
    "```\n",
    "\n",
    "with\n",
    "\n",
    "```\n",
    "return img.addBands(is_cld_shdw)\n",
    "```\n",
    "\n",
    "in the above `add_cld_shdw_mask` function."
   ]
  },
  {
   "cell_type": "markdown",
   "metadata": {
    "id": "E_kxYHOAjvu2"
   },
   "source": [
    "### Define functions to display image and mask component layers.\n",
    "\n",
    "The python pacakge Folium will be used to display map layers. Import `folium` and define a method to display Earth Engine image tiles."
   ]
  },
  {
   "cell_type": "code",
   "execution_count": null,
   "metadata": {
    "id": "JPjOhSvGZAY8"
   },
   "outputs": [],
   "source": [
    "# Import the folium library.\n",
    "import folium\n",
    "\n",
    "# Define a method for displaying Earth Engine image tiles to a folium map.\n",
    "def add_ee_layer(self, ee_image_object, vis_params, name, show=True, opacity=1, min_zoom=0):\n",
    "    map_id_dict = ee.Image(ee_image_object).getMapId(vis_params)\n",
    "    folium.raster_layers.TileLayer(\n",
    "        tiles=map_id_dict['tile_fetcher'].url_format,\n",
    "        attr='Map Data &copy; <a href=\"https://earthengine.google.com/\">Google Earth Engine</a>',\n",
    "        name=name,\n",
    "        show=show,\n",
    "        opacity=opacity,\n",
    "        min_zoom=min_zoom,\n",
    "        overlay=True,\n",
    "        control=True\n",
    "        ).add_to(self)\n",
    "\n",
    "# Add the Earth Engine layer method to folium.\n",
    "folium.Map.add_ee_layer = add_ee_layer"
   ]
  },
  {
   "cell_type": "markdown",
   "metadata": {
    "id": "6XqvR5-qQUpQ"
   },
   "source": [
    "Define a function to display all of the cloud and cloud shadow components to an interactive Folium map. The input is an image collection where each image is the result of the `add_cld_shdw_mask` function defined previously."
   ]
  },
  {
   "cell_type": "code",
   "execution_count": null,
   "metadata": {
    "id": "9yow4KRVZGST"
   },
   "outputs": [],
   "source": [
    "def display_cloud_layers(col):\n",
    "    # Mosaic the image collection.\n",
    "    img = col.mosaic()\n",
    "\n",
    "    # Subset layers and prepare them for display.\n",
    "    clouds = img.select('clouds').selfMask()\n",
    "    shadows = img.select('shadows').selfMask()\n",
    "    dark_pixels = img.select('dark_pixels').selfMask()\n",
    "    probability = img.select('probability')\n",
    "    cloudmask = img.select('cloudmask').selfMask()\n",
    "    cloud_transform = img.select('cloud_transform')\n",
    "\n",
    "    # Create a folium map object.\n",
    "    center = AOI.centroid(10).coordinates().reverse().getInfo()\n",
    "    m = folium.Map(location=center, zoom_start=12)\n",
    "\n",
    "    # Add layers to the folium map.\n",
    "    m.add_ee_layer(img,\n",
    "                   {'bands': ['B4', 'B3', 'B2'], 'min': 0, 'max': 2500, 'gamma': 1.1},\n",
    "                   'S2 image', True, 1, 9)\n",
    "    m.add_ee_layer(probability,\n",
    "                   {'min': 0, 'max': 100},\n",
    "                   'probability (cloud)', False, 1, 9)\n",
    "    m.add_ee_layer(clouds,\n",
    "                   {'palette': 'e056fd'},\n",
    "                   'clouds', False, 1, 9)\n",
    "    m.add_ee_layer(cloud_transform,\n",
    "                   {'min': 0, 'max': 1, 'palette': ['white', 'black']},\n",
    "                   'cloud_transform', False, 1, 9)\n",
    "    m.add_ee_layer(dark_pixels,\n",
    "                   {'palette': 'orange'},\n",
    "                   'dark_pixels', False, 1, 9)\n",
    "    m.add_ee_layer(shadows, {'palette': 'yellow'},\n",
    "                   'shadows', False, 1, 9)\n",
    "    m.add_ee_layer(cloudmask, {'palette': 'orange'},\n",
    "                   'cloudmask', True, 0.5, 9)\n",
    "\n",
    "    # Add a layer control panel to the map.\n",
    "    m.add_child(folium.LayerControl())\n",
    "\n",
    "    # Display the map.\n",
    "    display(m)"
   ]
  },
  {
   "cell_type": "markdown",
   "metadata": {
    "id": "-yteWco7sgfW"
   },
   "source": [
    "### Display mask component layers\n",
    "\n",
    "Map the `add_cld_shdw_mask` function over the collection to add mask component bands to each image, then display the results.\n",
    "\n",
    "Give the system some time to render everything, it should take less than a minute."
   ]
  },
  {
   "cell_type": "code",
   "execution_count": null,
   "metadata": {
    "colab": {
     "base_uri": "https://localhost:8080/",
     "height": 918
    },
    "executionInfo": {
     "elapsed": 4769,
     "status": "ok",
     "timestamp": 1681416923307,
     "user": {
      "displayName": "Mark Tyrrell",
      "userId": "14514676474205151649"
     },
     "user_tz": -60
    },
    "id": "gvsULCqgdLHu",
    "outputId": "657a1454-dd35-492a-8f75-ae6e6974c3b8"
   },
   "outputs": [
    {
     "data": {
      "text/html": [
       "<div style=\"width:100%;\"><div style=\"position:relative;width:100%;height:0;padding-bottom:60%;\"><span style=\"color:#565656\">Make this Notebook Trusted to load map: File -> Trust Notebook</span><iframe srcdoc=\"&lt;!DOCTYPE html&gt;\n",
       "&lt;html&gt;\n",
       "&lt;head&gt;\n",
       "    \n",
       "    &lt;meta http-equiv=&quot;content-type&quot; content=&quot;text/html; charset=UTF-8&quot; /&gt;\n",
       "    \n",
       "        &lt;script&gt;\n",
       "            L_NO_TOUCH = false;\n",
       "            L_DISABLE_3D = false;\n",
       "        &lt;/script&gt;\n",
       "    \n",
       "    &lt;style&gt;html, body {width: 100%;height: 100%;margin: 0;padding: 0;}&lt;/style&gt;\n",
       "    &lt;style&gt;#map {position:absolute;top:0;bottom:0;right:0;left:0;}&lt;/style&gt;\n",
       "    &lt;script src=&quot;https://cdn.jsdelivr.net/npm/leaflet@1.9.3/dist/leaflet.js&quot;&gt;&lt;/script&gt;\n",
       "    &lt;script src=&quot;https://code.jquery.com/jquery-1.12.4.min.js&quot;&gt;&lt;/script&gt;\n",
       "    &lt;script src=&quot;https://cdn.jsdelivr.net/npm/bootstrap@5.2.2/dist/js/bootstrap.bundle.min.js&quot;&gt;&lt;/script&gt;\n",
       "    &lt;script src=&quot;https://cdnjs.cloudflare.com/ajax/libs/Leaflet.awesome-markers/2.0.2/leaflet.awesome-markers.js&quot;&gt;&lt;/script&gt;\n",
       "    &lt;link rel=&quot;stylesheet&quot; href=&quot;https://cdn.jsdelivr.net/npm/leaflet@1.9.3/dist/leaflet.css&quot;/&gt;\n",
       "    &lt;link rel=&quot;stylesheet&quot; href=&quot;https://cdn.jsdelivr.net/npm/bootstrap@5.2.2/dist/css/bootstrap.min.css&quot;/&gt;\n",
       "    &lt;link rel=&quot;stylesheet&quot; href=&quot;https://netdna.bootstrapcdn.com/bootstrap/3.0.0/css/bootstrap.min.css&quot;/&gt;\n",
       "    &lt;link rel=&quot;stylesheet&quot; href=&quot;https://cdn.jsdelivr.net/npm/@fortawesome/fontawesome-free@6.2.0/css/all.min.css&quot;/&gt;\n",
       "    &lt;link rel=&quot;stylesheet&quot; href=&quot;https://cdnjs.cloudflare.com/ajax/libs/Leaflet.awesome-markers/2.0.2/leaflet.awesome-markers.css&quot;/&gt;\n",
       "    &lt;link rel=&quot;stylesheet&quot; href=&quot;https://cdn.jsdelivr.net/gh/python-visualization/folium/folium/templates/leaflet.awesome.rotate.min.css&quot;/&gt;\n",
       "    \n",
       "            &lt;meta name=&quot;viewport&quot; content=&quot;width=device-width,\n",
       "                initial-scale=1.0, maximum-scale=1.0, user-scalable=no&quot; /&gt;\n",
       "            &lt;style&gt;\n",
       "                #map_83150d088f12827e6e0d69ce8bed5a5f {\n",
       "                    position: relative;\n",
       "                    width: 100.0%;\n",
       "                    height: 100.0%;\n",
       "                    left: 0.0%;\n",
       "                    top: 0.0%;\n",
       "                }\n",
       "                .leaflet-container { font-size: 1rem; }\n",
       "            &lt;/style&gt;\n",
       "        \n",
       "&lt;/head&gt;\n",
       "&lt;body&gt;\n",
       "    \n",
       "    \n",
       "            &lt;div class=&quot;folium-map&quot; id=&quot;map_83150d088f12827e6e0d69ce8bed5a5f&quot; &gt;&lt;/div&gt;\n",
       "        \n",
       "&lt;/body&gt;\n",
       "&lt;script&gt;\n",
       "    \n",
       "    \n",
       "            var map_83150d088f12827e6e0d69ce8bed5a5f = L.map(\n",
       "                &quot;map_83150d088f12827e6e0d69ce8bed5a5f&quot;,\n",
       "                {\n",
       "                    center: [-1.9600000000000002, 30.0619],\n",
       "                    crs: L.CRS.EPSG3857,\n",
       "                    zoom: 12,\n",
       "                    zoomControl: true,\n",
       "                    preferCanvas: false,\n",
       "                }\n",
       "            );\n",
       "\n",
       "            \n",
       "\n",
       "        \n",
       "    \n",
       "            var tile_layer_7082250eb884670dceb6aeb28fcffff3 = L.tileLayer(\n",
       "                &quot;https://{s}.tile.openstreetmap.org/{z}/{x}/{y}.png&quot;,\n",
       "                {&quot;attribution&quot;: &quot;Data by \\u0026copy; \\u003ca target=\\&quot;_blank\\&quot; href=\\&quot;http://openstreetmap.org\\&quot;\\u003eOpenStreetMap\\u003c/a\\u003e, under \\u003ca target=\\&quot;_blank\\&quot; href=\\&quot;http://www.openstreetmap.org/copyright\\&quot;\\u003eODbL\\u003c/a\\u003e.&quot;, &quot;detectRetina&quot;: false, &quot;maxNativeZoom&quot;: 18, &quot;maxZoom&quot;: 18, &quot;minZoom&quot;: 0, &quot;noWrap&quot;: false, &quot;opacity&quot;: 1, &quot;subdomains&quot;: &quot;abc&quot;, &quot;tms&quot;: false}\n",
       "            ).addTo(map_83150d088f12827e6e0d69ce8bed5a5f);\n",
       "        \n",
       "    \n",
       "            var tile_layer_29d9e436126bb8307a376b5365b2c766 = L.tileLayer(\n",
       "                &quot;https://earthengine.googleapis.com/v1alpha/projects/earthengine-legacy/maps/4e17bc58eb8991591f9e9e166b893fbf-a950063607146a963e42d5f2b9a36c0b/tiles/{z}/{x}/{y}&quot;,\n",
       "                {&quot;attribution&quot;: &quot;Map Data \\u0026copy; \\u003ca href=\\&quot;https://earthengine.google.com/\\&quot;\\u003eGoogle Earth Engine\\u003c/a\\u003e&quot;, &quot;detectRetina&quot;: false, &quot;maxNativeZoom&quot;: 18, &quot;maxZoom&quot;: 18, &quot;minZoom&quot;: 9, &quot;noWrap&quot;: false, &quot;opacity&quot;: 1, &quot;subdomains&quot;: &quot;abc&quot;, &quot;tms&quot;: false}\n",
       "            ).addTo(map_83150d088f12827e6e0d69ce8bed5a5f);\n",
       "        \n",
       "    \n",
       "            var tile_layer_e981b405b6439ddd89be4e3e13a60a69 = L.tileLayer(\n",
       "                &quot;https://earthengine.googleapis.com/v1alpha/projects/earthengine-legacy/maps/99b4d8381f1af60239fbbec3d4bf46bc-b31e97b53402cbcf9c62e583f9ddb822/tiles/{z}/{x}/{y}&quot;,\n",
       "                {&quot;attribution&quot;: &quot;Map Data \\u0026copy; \\u003ca href=\\&quot;https://earthengine.google.com/\\&quot;\\u003eGoogle Earth Engine\\u003c/a\\u003e&quot;, &quot;detectRetina&quot;: false, &quot;maxNativeZoom&quot;: 18, &quot;maxZoom&quot;: 18, &quot;minZoom&quot;: 9, &quot;noWrap&quot;: false, &quot;opacity&quot;: 1, &quot;subdomains&quot;: &quot;abc&quot;, &quot;tms&quot;: false}\n",
       "            ).addTo(map_83150d088f12827e6e0d69ce8bed5a5f);\n",
       "        \n",
       "    \n",
       "            var tile_layer_f83bf0ebf746ed536d598f85adbce008 = L.tileLayer(\n",
       "                &quot;https://earthengine.googleapis.com/v1alpha/projects/earthengine-legacy/maps/43f7565b489bdca14517d16c5229295e-35b327db6e53f26b6c8fa0853e0315d1/tiles/{z}/{x}/{y}&quot;,\n",
       "                {&quot;attribution&quot;: &quot;Map Data \\u0026copy; \\u003ca href=\\&quot;https://earthengine.google.com/\\&quot;\\u003eGoogle Earth Engine\\u003c/a\\u003e&quot;, &quot;detectRetina&quot;: false, &quot;maxNativeZoom&quot;: 18, &quot;maxZoom&quot;: 18, &quot;minZoom&quot;: 9, &quot;noWrap&quot;: false, &quot;opacity&quot;: 1, &quot;subdomains&quot;: &quot;abc&quot;, &quot;tms&quot;: false}\n",
       "            ).addTo(map_83150d088f12827e6e0d69ce8bed5a5f);\n",
       "        \n",
       "    \n",
       "            var tile_layer_f0f37020919b8ba99446158a2356ab6f = L.tileLayer(\n",
       "                &quot;https://earthengine.googleapis.com/v1alpha/projects/earthengine-legacy/maps/3ac7e57173a0586695f55d3254ff1b16-80c17071a68cd43531cb35de8dd033d2/tiles/{z}/{x}/{y}&quot;,\n",
       "                {&quot;attribution&quot;: &quot;Map Data \\u0026copy; \\u003ca href=\\&quot;https://earthengine.google.com/\\&quot;\\u003eGoogle Earth Engine\\u003c/a\\u003e&quot;, &quot;detectRetina&quot;: false, &quot;maxNativeZoom&quot;: 18, &quot;maxZoom&quot;: 18, &quot;minZoom&quot;: 9, &quot;noWrap&quot;: false, &quot;opacity&quot;: 1, &quot;subdomains&quot;: &quot;abc&quot;, &quot;tms&quot;: false}\n",
       "            ).addTo(map_83150d088f12827e6e0d69ce8bed5a5f);\n",
       "        \n",
       "    \n",
       "            var tile_layer_c4d710599e3d0ca339334c9cd37cf625 = L.tileLayer(\n",
       "                &quot;https://earthengine.googleapis.com/v1alpha/projects/earthengine-legacy/maps/566f981ce2819cf31f6bdb6ad86c684a-e729c664a0f292f2d09f6e86ee081820/tiles/{z}/{x}/{y}&quot;,\n",
       "                {&quot;attribution&quot;: &quot;Map Data \\u0026copy; \\u003ca href=\\&quot;https://earthengine.google.com/\\&quot;\\u003eGoogle Earth Engine\\u003c/a\\u003e&quot;, &quot;detectRetina&quot;: false, &quot;maxNativeZoom&quot;: 18, &quot;maxZoom&quot;: 18, &quot;minZoom&quot;: 9, &quot;noWrap&quot;: false, &quot;opacity&quot;: 1, &quot;subdomains&quot;: &quot;abc&quot;, &quot;tms&quot;: false}\n",
       "            ).addTo(map_83150d088f12827e6e0d69ce8bed5a5f);\n",
       "        \n",
       "    \n",
       "            var tile_layer_92a135fbe055ce6d22618fe776b04bbc = L.tileLayer(\n",
       "                &quot;https://earthengine.googleapis.com/v1alpha/projects/earthengine-legacy/maps/d4025c0046d0f4158125ec96bb575f57-458e00b1161ec57b38e014fc2e425ecd/tiles/{z}/{x}/{y}&quot;,\n",
       "                {&quot;attribution&quot;: &quot;Map Data \\u0026copy; \\u003ca href=\\&quot;https://earthengine.google.com/\\&quot;\\u003eGoogle Earth Engine\\u003c/a\\u003e&quot;, &quot;detectRetina&quot;: false, &quot;maxNativeZoom&quot;: 18, &quot;maxZoom&quot;: 18, &quot;minZoom&quot;: 9, &quot;noWrap&quot;: false, &quot;opacity&quot;: 1, &quot;subdomains&quot;: &quot;abc&quot;, &quot;tms&quot;: false}\n",
       "            ).addTo(map_83150d088f12827e6e0d69ce8bed5a5f);\n",
       "        \n",
       "    \n",
       "            var tile_layer_8c96e79a739644805cb979bc0d09ae7c = L.tileLayer(\n",
       "                &quot;https://earthengine.googleapis.com/v1alpha/projects/earthengine-legacy/maps/55d94c08f487f69e74a94fa077adbd1b-54bf262c1dc1f24e33573c33c4736dbc/tiles/{z}/{x}/{y}&quot;,\n",
       "                {&quot;attribution&quot;: &quot;Map Data \\u0026copy; \\u003ca href=\\&quot;https://earthengine.google.com/\\&quot;\\u003eGoogle Earth Engine\\u003c/a\\u003e&quot;, &quot;detectRetina&quot;: false, &quot;maxNativeZoom&quot;: 18, &quot;maxZoom&quot;: 18, &quot;minZoom&quot;: 9, &quot;noWrap&quot;: false, &quot;opacity&quot;: 0.5, &quot;subdomains&quot;: &quot;abc&quot;, &quot;tms&quot;: false}\n",
       "            ).addTo(map_83150d088f12827e6e0d69ce8bed5a5f);\n",
       "        \n",
       "    \n",
       "            var layer_control_c2e442e8166194afa77b333331d1ddf3 = {\n",
       "                base_layers : {\n",
       "                    &quot;openstreetmap&quot; : tile_layer_7082250eb884670dceb6aeb28fcffff3,\n",
       "                },\n",
       "                overlays :  {\n",
       "                    &quot;S2 image&quot; : tile_layer_29d9e436126bb8307a376b5365b2c766,\n",
       "                    &quot;probability (cloud)&quot; : tile_layer_e981b405b6439ddd89be4e3e13a60a69,\n",
       "                    &quot;clouds&quot; : tile_layer_f83bf0ebf746ed536d598f85adbce008,\n",
       "                    &quot;cloud_transform&quot; : tile_layer_f0f37020919b8ba99446158a2356ab6f,\n",
       "                    &quot;dark_pixels&quot; : tile_layer_c4d710599e3d0ca339334c9cd37cf625,\n",
       "                    &quot;shadows&quot; : tile_layer_92a135fbe055ce6d22618fe776b04bbc,\n",
       "                    &quot;cloudmask&quot; : tile_layer_8c96e79a739644805cb979bc0d09ae7c,\n",
       "                },\n",
       "            };\n",
       "            L.control.layers(\n",
       "                layer_control_c2e442e8166194afa77b333331d1ddf3.base_layers,\n",
       "                layer_control_c2e442e8166194afa77b333331d1ddf3.overlays,\n",
       "                {&quot;autoZIndex&quot;: true, &quot;collapsed&quot;: true, &quot;position&quot;: &quot;topright&quot;}\n",
       "            ).addTo(map_83150d088f12827e6e0d69ce8bed5a5f);\n",
       "            tile_layer_e981b405b6439ddd89be4e3e13a60a69.remove();\n",
       "            tile_layer_f83bf0ebf746ed536d598f85adbce008.remove();\n",
       "            tile_layer_f0f37020919b8ba99446158a2356ab6f.remove();\n",
       "            tile_layer_c4d710599e3d0ca339334c9cd37cf625.remove();\n",
       "            tile_layer_92a135fbe055ce6d22618fe776b04bbc.remove();\n",
       "        \n",
       "&lt;/script&gt;\n",
       "&lt;/html&gt;\" style=\"position:absolute;width:100%;height:100%;left:0;top:0;border:none !important;\" allowfullscreen webkitallowfullscreen mozallowfullscreen></iframe></div></div>"
      ],
      "text/plain": [
       "<folium.folium.Map at 0x7fe203535250>"
      ]
     },
     "metadata": {},
     "output_type": "display_data"
    }
   ],
   "source": [
    "s2_sr_cld_col_eval_disp = s2_sr_cld_col_eval.map(add_cld_shdw_mask)\n",
    "\n",
    "display_cloud_layers(s2_sr_cld_col_eval_disp)"
   ]
  },
  {
   "cell_type": "markdown",
   "metadata": {
    "id": "HZAd5ZHWWZed"
   },
   "source": [
    "### Evaluate mask component layers\n",
    "\n",
    "In the above map, use the layer control panel in the upper right corner to toggle layers on and off; layer names are the same as band names, for easy code referral. Note that the layers have a minimum zoom level of 9 to avoid resource issues that can occur when visualizing layers that depend on the `ee.Image.reproject` function (used during cloud shadow project and mask dilation)."
   ]
  },
  {
   "cell_type": "markdown",
   "metadata": {
    "id": "kxDoyXVsrdpA"
   },
   "source": [
    "## Question 5.3.2\n",
    "Try changing the above `CLD_PRB_THRESH`, `NIR_DRK_THRESH`, `CLD_PRJ_DIST`, and `BUFFER` input variables and rerunning the previous cell to see how the results change. Experiment with at least 5 sets of `CLD_PRB_THRESH`, `NIR_DRK_THRESH`, `CLD_PRJ_DIST` tuples, take a screenshot of the output of each one and submit your results. Each image should be named `<CLD_PRB_THRESH>-<NIR_DRK_THRESH>-<CLD_PRJ_DIST>.png`"
   ]
  },
  {
   "cell_type": "markdown",
   "metadata": {
    "id": "7iR3d7HCYf8j"
   },
   "source": [
    "## Apply cloud and cloud shadow mask\n",
    "\n",
    "In this section we'll generate a cloud-free composite for the same region as above that represents mean reflectance for July and August, 2020."
   ]
  },
  {
   "cell_type": "markdown",
   "metadata": {
    "id": "V1lnub3LNoiq"
   },
   "source": [
    "### Define collection filter and cloud mask parameters\n",
    "\n",
    "We'll redefine the parameters to be a little more aggressive, i.e. decrease the cloud probability threshold, increase the cloud projection distance, and increase the buffer. These changes will increase cloud commission error (mask out some clear pixels), but since we will be compositing images from three months, there should be plenty of observations to complete the mosaic."
   ]
  },
  {
   "cell_type": "code",
   "execution_count": null,
   "metadata": {
    "id": "H_eDsLZ5Yzxh"
   },
   "outputs": [],
   "source": [
    "AOI = ee.Geometry.Point(30.0619, -1.96)\n",
    "START_DATE = '2023-02-16'\n",
    "END_DATE = '2023-02-17'\n",
    "CLOUD_FILTER = 60\n",
    "CLD_PRB_THRESH = 40\n",
    "NIR_DRK_THRESH = 0.15\n",
    "CLD_PRJ_DIST = 2\n",
    "BUFFER = 100"
   ]
  },
  {
   "cell_type": "markdown",
   "metadata": {
    "id": "R6iuJ2FybAc_"
   },
   "source": [
    "### Build a Sentinel-2 collection\n",
    "\n",
    "Reassemble the S2-cloudless collection since the collection filter parameters have changed."
   ]
  },
  {
   "cell_type": "code",
   "execution_count": null,
   "metadata": {
    "id": "AIk8xa0ImRTS"
   },
   "outputs": [],
   "source": [
    "s2_sr_cld_col = get_s2_sr_cld_col(AOI, START_DATE, END_DATE)"
   ]
  },
  {
   "cell_type": "markdown",
   "metadata": {
    "id": "iuJ-Ml9taz-i"
   },
   "source": [
    "### Define cloud mask application function\n",
    "\n",
    "Define a function to apply the cloud mask to each image in the collection."
   ]
  },
  {
   "cell_type": "code",
   "execution_count": null,
   "metadata": {
    "id": "VyR9JYxbbJJQ"
   },
   "outputs": [],
   "source": [
    "def apply_cld_shdw_mask(img):\n",
    "    # Subset the cloudmask band and invert it so clouds/shadow are 0, else 1.\n",
    "    not_cld_shdw = img.select('cloudmask').Not()\n",
    "\n",
    "    # Subset reflectance bands and update their masks, return the result.\n",
    "    return img.select('B.*').updateMask(not_cld_shdw)"
   ]
  },
  {
   "cell_type": "markdown",
   "metadata": {
    "id": "8dT3EWPqcOkA"
   },
   "source": [
    "### Process the collection\n",
    "\n",
    "Add cloud and cloud shadow component bands to each image and then apply the mask to each image. Reduce the collection by median (in your application, you might consider using medoid reduction to build a composite from actual data values, instead of per-band statistics. See this [paper](https://doi.org/10.3390/rs5126481) for more details)."
   ]
  },
  {
   "cell_type": "code",
   "execution_count": null,
   "metadata": {
    "id": "G2XogQYycO53"
   },
   "outputs": [],
   "source": [
    "s2_sr_median = (s2_sr_cld_col.map(add_cld_shdw_mask)\n",
    "                             .map(apply_cld_shdw_mask)\n",
    "                             .median())"
   ]
  },
  {
   "cell_type": "markdown",
   "metadata": {
    "id": "nYS9EV_Mc-2_"
   },
   "source": [
    "### Display the cloud-free composite\n",
    "\n",
    "Display the results. Be patient while the map renders, it may take a minute; [`ee.Image.reproject`](https://developers.google.com/earth-engine/guides/projections#reprojecting) is forcing computations to happen at 100 and 20 m scales (i.e. it is not relying on appropriate pyramid level [scales for analysis](https://developers.google.com/earth-engine/guides/scale#scale-of-analysis)). The issues with `ee.Image.reproject` being resource-intensive in this case are mostly confined to interactive map viewing. \n",
    "\n",
    "\n"
   ]
  },
  {
   "cell_type": "code",
   "execution_count": null,
   "metadata": {
    "colab": {
     "base_uri": "https://localhost:8080/",
     "height": 1000
    },
    "executionInfo": {
     "elapsed": 1270,
     "status": "ok",
     "timestamp": 1681417454450,
     "user": {
      "displayName": "Mark Tyrrell",
      "userId": "14514676474205151649"
     },
     "user_tz": -60
    },
    "id": "hMObmv_tdLaX",
    "outputId": "ad3adfcd-e0f0-4316-b7a7-72c0d3e8b116"
   },
   "outputs": [
    {
     "data": {
      "text/html": [
       "<div style=\"width:100%;\"><div style=\"position:relative;width:100%;height:0;padding-bottom:60%;\"><span style=\"color:#565656\">Make this Notebook Trusted to load map: File -> Trust Notebook</span><iframe srcdoc=\"&lt;!DOCTYPE html&gt;\n",
       "&lt;html&gt;\n",
       "&lt;head&gt;\n",
       "    \n",
       "    &lt;meta http-equiv=&quot;content-type&quot; content=&quot;text/html; charset=UTF-8&quot; /&gt;\n",
       "    \n",
       "        &lt;script&gt;\n",
       "            L_NO_TOUCH = false;\n",
       "            L_DISABLE_3D = false;\n",
       "        &lt;/script&gt;\n",
       "    \n",
       "    &lt;style&gt;html, body {width: 100%;height: 100%;margin: 0;padding: 0;}&lt;/style&gt;\n",
       "    &lt;style&gt;#map {position:absolute;top:0;bottom:0;right:0;left:0;}&lt;/style&gt;\n",
       "    &lt;script src=&quot;https://cdn.jsdelivr.net/npm/leaflet@1.9.3/dist/leaflet.js&quot;&gt;&lt;/script&gt;\n",
       "    &lt;script src=&quot;https://code.jquery.com/jquery-1.12.4.min.js&quot;&gt;&lt;/script&gt;\n",
       "    &lt;script src=&quot;https://cdn.jsdelivr.net/npm/bootstrap@5.2.2/dist/js/bootstrap.bundle.min.js&quot;&gt;&lt;/script&gt;\n",
       "    &lt;script src=&quot;https://cdnjs.cloudflare.com/ajax/libs/Leaflet.awesome-markers/2.0.2/leaflet.awesome-markers.js&quot;&gt;&lt;/script&gt;\n",
       "    &lt;link rel=&quot;stylesheet&quot; href=&quot;https://cdn.jsdelivr.net/npm/leaflet@1.9.3/dist/leaflet.css&quot;/&gt;\n",
       "    &lt;link rel=&quot;stylesheet&quot; href=&quot;https://cdn.jsdelivr.net/npm/bootstrap@5.2.2/dist/css/bootstrap.min.css&quot;/&gt;\n",
       "    &lt;link rel=&quot;stylesheet&quot; href=&quot;https://netdna.bootstrapcdn.com/bootstrap/3.0.0/css/bootstrap.min.css&quot;/&gt;\n",
       "    &lt;link rel=&quot;stylesheet&quot; href=&quot;https://cdn.jsdelivr.net/npm/@fortawesome/fontawesome-free@6.2.0/css/all.min.css&quot;/&gt;\n",
       "    &lt;link rel=&quot;stylesheet&quot; href=&quot;https://cdnjs.cloudflare.com/ajax/libs/Leaflet.awesome-markers/2.0.2/leaflet.awesome-markers.css&quot;/&gt;\n",
       "    &lt;link rel=&quot;stylesheet&quot; href=&quot;https://cdn.jsdelivr.net/gh/python-visualization/folium/folium/templates/leaflet.awesome.rotate.min.css&quot;/&gt;\n",
       "    \n",
       "            &lt;meta name=&quot;viewport&quot; content=&quot;width=device-width,\n",
       "                initial-scale=1.0, maximum-scale=1.0, user-scalable=no&quot; /&gt;\n",
       "            &lt;style&gt;\n",
       "                #map_7c6c9ed76600becb1e9836de4f6bb902 {\n",
       "                    position: relative;\n",
       "                    width: 100.0%;\n",
       "                    height: 100.0%;\n",
       "                    left: 0.0%;\n",
       "                    top: 0.0%;\n",
       "                }\n",
       "                .leaflet-container { font-size: 1rem; }\n",
       "            &lt;/style&gt;\n",
       "        \n",
       "&lt;/head&gt;\n",
       "&lt;body&gt;\n",
       "    \n",
       "    \n",
       "            &lt;div class=&quot;folium-map&quot; id=&quot;map_7c6c9ed76600becb1e9836de4f6bb902&quot; &gt;&lt;/div&gt;\n",
       "        \n",
       "&lt;/body&gt;\n",
       "&lt;script&gt;\n",
       "    \n",
       "    \n",
       "            var map_7c6c9ed76600becb1e9836de4f6bb902 = L.map(\n",
       "                &quot;map_7c6c9ed76600becb1e9836de4f6bb902&quot;,\n",
       "                {\n",
       "                    center: [-1.9600000000000002, 30.0619],\n",
       "                    crs: L.CRS.EPSG3857,\n",
       "                    zoom: 12,\n",
       "                    zoomControl: true,\n",
       "                    preferCanvas: false,\n",
       "                }\n",
       "            );\n",
       "\n",
       "            \n",
       "\n",
       "        \n",
       "    \n",
       "            var tile_layer_90a50eb394d9060d1070bbda892b570c = L.tileLayer(\n",
       "                &quot;https://{s}.tile.openstreetmap.org/{z}/{x}/{y}.png&quot;,\n",
       "                {&quot;attribution&quot;: &quot;Data by \\u0026copy; \\u003ca target=\\&quot;_blank\\&quot; href=\\&quot;http://openstreetmap.org\\&quot;\\u003eOpenStreetMap\\u003c/a\\u003e, under \\u003ca target=\\&quot;_blank\\&quot; href=\\&quot;http://www.openstreetmap.org/copyright\\&quot;\\u003eODbL\\u003c/a\\u003e.&quot;, &quot;detectRetina&quot;: false, &quot;maxNativeZoom&quot;: 18, &quot;maxZoom&quot;: 18, &quot;minZoom&quot;: 0, &quot;noWrap&quot;: false, &quot;opacity&quot;: 1, &quot;subdomains&quot;: &quot;abc&quot;, &quot;tms&quot;: false}\n",
       "            ).addTo(map_7c6c9ed76600becb1e9836de4f6bb902);\n",
       "        \n",
       "&lt;/script&gt;\n",
       "&lt;/html&gt;\" style=\"position:absolute;width:100%;height:100%;left:0;top:0;border:none !important;\" allowfullscreen webkitallowfullscreen mozallowfullscreen></iframe></div></div>"
      ],
      "text/plain": [
       "<folium.folium.Map at 0x7fe20351b610>"
      ]
     },
     "metadata": {},
     "output_type": "display_data"
    },
    {
     "data": {
      "text/html": [
       "<div style=\"width:100%;\"><div style=\"position:relative;width:100%;height:0;padding-bottom:60%;\"><span style=\"color:#565656\">Make this Notebook Trusted to load map: File -> Trust Notebook</span><iframe srcdoc=\"&lt;!DOCTYPE html&gt;\n",
       "&lt;html&gt;\n",
       "&lt;head&gt;\n",
       "    \n",
       "    &lt;meta http-equiv=&quot;content-type&quot; content=&quot;text/html; charset=UTF-8&quot; /&gt;\n",
       "    \n",
       "        &lt;script&gt;\n",
       "            L_NO_TOUCH = false;\n",
       "            L_DISABLE_3D = false;\n",
       "        &lt;/script&gt;\n",
       "    \n",
       "    &lt;style&gt;html, body {width: 100%;height: 100%;margin: 0;padding: 0;}&lt;/style&gt;\n",
       "    &lt;style&gt;#map {position:absolute;top:0;bottom:0;right:0;left:0;}&lt;/style&gt;\n",
       "    &lt;script src=&quot;https://cdn.jsdelivr.net/npm/leaflet@1.9.3/dist/leaflet.js&quot;&gt;&lt;/script&gt;\n",
       "    &lt;script src=&quot;https://code.jquery.com/jquery-1.12.4.min.js&quot;&gt;&lt;/script&gt;\n",
       "    &lt;script src=&quot;https://cdn.jsdelivr.net/npm/bootstrap@5.2.2/dist/js/bootstrap.bundle.min.js&quot;&gt;&lt;/script&gt;\n",
       "    &lt;script src=&quot;https://cdnjs.cloudflare.com/ajax/libs/Leaflet.awesome-markers/2.0.2/leaflet.awesome-markers.js&quot;&gt;&lt;/script&gt;\n",
       "    &lt;link rel=&quot;stylesheet&quot; href=&quot;https://cdn.jsdelivr.net/npm/leaflet@1.9.3/dist/leaflet.css&quot;/&gt;\n",
       "    &lt;link rel=&quot;stylesheet&quot; href=&quot;https://cdn.jsdelivr.net/npm/bootstrap@5.2.2/dist/css/bootstrap.min.css&quot;/&gt;\n",
       "    &lt;link rel=&quot;stylesheet&quot; href=&quot;https://netdna.bootstrapcdn.com/bootstrap/3.0.0/css/bootstrap.min.css&quot;/&gt;\n",
       "    &lt;link rel=&quot;stylesheet&quot; href=&quot;https://cdn.jsdelivr.net/npm/@fortawesome/fontawesome-free@6.2.0/css/all.min.css&quot;/&gt;\n",
       "    &lt;link rel=&quot;stylesheet&quot; href=&quot;https://cdnjs.cloudflare.com/ajax/libs/Leaflet.awesome-markers/2.0.2/leaflet.awesome-markers.css&quot;/&gt;\n",
       "    &lt;link rel=&quot;stylesheet&quot; href=&quot;https://cdn.jsdelivr.net/gh/python-visualization/folium/folium/templates/leaflet.awesome.rotate.min.css&quot;/&gt;\n",
       "    \n",
       "            &lt;meta name=&quot;viewport&quot; content=&quot;width=device-width,\n",
       "                initial-scale=1.0, maximum-scale=1.0, user-scalable=no&quot; /&gt;\n",
       "            &lt;style&gt;\n",
       "                #map_7c6c9ed76600becb1e9836de4f6bb902 {\n",
       "                    position: relative;\n",
       "                    width: 100.0%;\n",
       "                    height: 100.0%;\n",
       "                    left: 0.0%;\n",
       "                    top: 0.0%;\n",
       "                }\n",
       "                .leaflet-container { font-size: 1rem; }\n",
       "            &lt;/style&gt;\n",
       "        \n",
       "&lt;/head&gt;\n",
       "&lt;body&gt;\n",
       "    \n",
       "    \n",
       "            &lt;div class=&quot;folium-map&quot; id=&quot;map_7c6c9ed76600becb1e9836de4f6bb902&quot; &gt;&lt;/div&gt;\n",
       "        \n",
       "&lt;/body&gt;\n",
       "&lt;script&gt;\n",
       "    \n",
       "    \n",
       "            var map_7c6c9ed76600becb1e9836de4f6bb902 = L.map(\n",
       "                &quot;map_7c6c9ed76600becb1e9836de4f6bb902&quot;,\n",
       "                {\n",
       "                    center: [-1.9600000000000002, 30.0619],\n",
       "                    crs: L.CRS.EPSG3857,\n",
       "                    zoom: 12,\n",
       "                    zoomControl: true,\n",
       "                    preferCanvas: false,\n",
       "                }\n",
       "            );\n",
       "\n",
       "            \n",
       "\n",
       "        \n",
       "    \n",
       "            var tile_layer_90a50eb394d9060d1070bbda892b570c = L.tileLayer(\n",
       "                &quot;https://{s}.tile.openstreetmap.org/{z}/{x}/{y}.png&quot;,\n",
       "                {&quot;attribution&quot;: &quot;Data by \\u0026copy; \\u003ca target=\\&quot;_blank\\&quot; href=\\&quot;http://openstreetmap.org\\&quot;\\u003eOpenStreetMap\\u003c/a\\u003e, under \\u003ca target=\\&quot;_blank\\&quot; href=\\&quot;http://www.openstreetmap.org/copyright\\&quot;\\u003eODbL\\u003c/a\\u003e.&quot;, &quot;detectRetina&quot;: false, &quot;maxNativeZoom&quot;: 18, &quot;maxZoom&quot;: 18, &quot;minZoom&quot;: 0, &quot;noWrap&quot;: false, &quot;opacity&quot;: 1, &quot;subdomains&quot;: &quot;abc&quot;, &quot;tms&quot;: false}\n",
       "            ).addTo(map_7c6c9ed76600becb1e9836de4f6bb902);\n",
       "        \n",
       "    \n",
       "            var tile_layer_737d04e95cb7640184d63a251c1beb9b = L.tileLayer(\n",
       "                &quot;https://earthengine.googleapis.com/v1alpha/projects/earthengine-legacy/maps/42854195894f3e4cc2771df6ad777e14-e52e0412bfc2fa6dea50cb396933dc49/tiles/{z}/{x}/{y}&quot;,\n",
       "                {&quot;attribution&quot;: &quot;Map Data \\u0026copy; \\u003ca href=\\&quot;https://earthengine.google.com/\\&quot;\\u003eGoogle Earth Engine\\u003c/a\\u003e&quot;, &quot;detectRetina&quot;: false, &quot;maxNativeZoom&quot;: 18, &quot;maxZoom&quot;: 18, &quot;minZoom&quot;: 9, &quot;noWrap&quot;: false, &quot;opacity&quot;: 1, &quot;subdomains&quot;: &quot;abc&quot;, &quot;tms&quot;: false}\n",
       "            ).addTo(map_7c6c9ed76600becb1e9836de4f6bb902);\n",
       "        \n",
       "    \n",
       "            var layer_control_ee1342c2ffcc3035087f7ce2863653d9 = {\n",
       "                base_layers : {\n",
       "                    &quot;openstreetmap&quot; : tile_layer_90a50eb394d9060d1070bbda892b570c,\n",
       "                },\n",
       "                overlays :  {\n",
       "                    &quot;S2 cloud-free mosaic&quot; : tile_layer_737d04e95cb7640184d63a251c1beb9b,\n",
       "                },\n",
       "            };\n",
       "            L.control.layers(\n",
       "                layer_control_ee1342c2ffcc3035087f7ce2863653d9.base_layers,\n",
       "                layer_control_ee1342c2ffcc3035087f7ce2863653d9.overlays,\n",
       "                {&quot;autoZIndex&quot;: true, &quot;collapsed&quot;: true, &quot;position&quot;: &quot;topright&quot;}\n",
       "            ).addTo(map_7c6c9ed76600becb1e9836de4f6bb902);\n",
       "        \n",
       "&lt;/script&gt;\n",
       "&lt;/html&gt;\" style=\"position:absolute;width:100%;height:100%;left:0;top:0;border:none !important;\" allowfullscreen webkitallowfullscreen mozallowfullscreen></iframe></div></div>"
      ],
      "text/plain": [
       "<folium.folium.Map at 0x7fe20351b610>"
      ]
     },
     "metadata": {},
     "output_type": "display_data"
    }
   ],
   "source": [
    "# Create a folium map object.\n",
    "center = AOI.centroid(10).coordinates().reverse().getInfo()\n",
    "m = folium.Map(location=center, zoom_start=12)\n",
    "display(m)\n",
    "# Add layers to the folium map.\n",
    "m.add_ee_layer(s2_sr_median,\n",
    "                {'bands': ['B4', 'B3', 'B2'], 'min': 0, 'max': 2500, 'gamma': 1.1},\n",
    "                'S2 cloud-free mosaic', True, 1, 9)\n",
    "\n",
    "# Add a layer control panel to the map.\n",
    "m.add_child(folium.LayerControl())\n",
    "\n",
    "# Display the map.\n",
    "display(m)"
   ]
  },
  {
   "cell_type": "markdown",
   "metadata": {
    "id": "PuqD4vNyo-aF"
   },
   "source": [
    "## <font color=orange>Discussion:</font> \n",
    "What are your observations about the resulting map?"
   ]
  },
  {
   "cell_type": "markdown",
   "metadata": {
    "id": "p3Jx-JDX9SBw"
   },
   "source": [
    "## Cloud Masking: Another Approach\n",
    "Many datasets include a bit mask that indicates which pixels contain clouds. In the `COPERNICUS/S2_HARMONIZED` dataset, there is a band named QA60 that can be used to mask clouds. Let us see how we can use QA60 to mask bits."
   ]
  },
  {
   "cell_type": "markdown",
   "metadata": {
    "id": "VbHuZH1ncSYL"
   },
   "source": [
    "## Question 5.3.3\n",
    "Load the `COPERNICUS/S2_HARMONIZED` image collection and assign it to a variable named `s2`. \n",
    "Filter the image collection to keep images from 2017 only and assign it to a variable named `filtered`."
   ]
  },
  {
   "cell_type": "code",
   "execution_count": null,
   "metadata": {
    "id": "Mg9R7j97cO8j"
   },
   "outputs": [],
   "source": [
    "# solution\n"
   ]
  },
  {
   "cell_type": "code",
   "execution_count": null,
   "metadata": {
    "id": "H-Bt0UlAcWd7"
   },
   "outputs": [],
   "source": [
    "geometry = ee.Geometry.Polygon([[\n",
    "  [82.60642647743225, 27.16350437805251],\n",
    "  [82.60984897613525, 27.1618529901377],\n",
    "  [82.61088967323303, 27.163695288375266],\n",
    "  [82.60757446289062, 27.16517483230927]\n",
    "]])\n",
    "\n",
    "# Keep images that are in the region defined above only\n",
    "filtered = filtered.filterBounds(geometry)\n",
    "\n",
    "# Keep images with CLOUDY_PIXEL_PERCENTAGE less than 30%\n",
    "filtered = filtered.filter(ee.Filter.lt('CLOUDY_PIXEL_PERCENTAGE', 30))\n"
   ]
  },
  {
   "cell_type": "markdown",
   "metadata": {
    "id": "xuCVFKyNccTr"
   },
   "source": [
    "## Question 5.3.4\n",
    "Use the comments to complete the function below"
   ]
  },
  {
   "cell_type": "code",
   "execution_count": null,
   "metadata": {
    "id": "mmG5xrIXcctC"
   },
   "outputs": [],
   "source": [
    "def masks2clouds(img):\n",
    "  # Select the QA60 band\n",
    "  \n",
    "  # A 1 at bit position 10 of QA60 band indicates a cloud\n",
    "  cloud_bitmask = 1 << 10\n",
    "  # Generate a mask for points that are not cloud\n",
    "  mask_non_cloud = qa60.bitwiseAnd(cloud_bitmask).eq(0)\n",
    "\n",
    "  # TODO: A 1 at bit position 11 of QA60 band indicates a cirrus\n",
    "  cirrus_bitmask = \n",
    "  # TODO: Generate a mask for points that are not cirrus\n",
    "  mask_non_cirrus = \n",
    "\n",
    "  # Combine the two \n",
    "  mask = mask_non_cloud.And(mask_non_cirrus)\n",
    "\n",
    "\n",
    "  return img.updateMask(mask).multiply(0.0001).select('B.*').copyProperties(img, ['system:time_start'])\n"
   ]
  },
  {
   "cell_type": "code",
   "execution_count": null,
   "metadata": {
    "id": "cHkn3UxechWj"
   },
   "outputs": [],
   "source": [
    "filtered = filtered.map(masks2clouds)"
   ]
  },
  {
   "cell_type": "markdown",
   "metadata": {
    "id": "xY2yyUSOclrS"
   },
   "source": [
    "## Question 5.3.5\n",
    "Display result on a Map"
   ]
  },
  {
   "cell_type": "code",
   "execution_count": null,
   "metadata": {
    "id": "5o4FOpF_cmSK"
   },
   "outputs": [],
   "source": []
  }
 ],
 "metadata": {
  "colab": {
   "provenance": []
  },
  "kernelspec": {
   "display_name": "Python 3",
   "language": "python",
   "name": "python3"
  },
  "language_info": {
   "codemirror_mode": {
    "name": "ipython",
    "version": 3
   },
   "file_extension": ".py",
   "mimetype": "text/x-python",
   "name": "python",
   "nbconvert_exporter": "python",
   "pygments_lexer": "ipython3",
   "version": "3.7.6"
  }
 },
 "nbformat": 4,
 "nbformat_minor": 1
}
