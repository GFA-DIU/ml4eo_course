{
 "cells": [
  {
   "cell_type": "markdown",
   "metadata": {
    "id": "jW-z6opx3T5T"
   },
   "source": [
    "# EXERCISE 5.1: Land-Use-Land-Cover Pipeline using Sentinel Hub \n",
    "\n",
    "---\n",
    "\n",
    "**Use of Sentinal Hub via API (sentinelhub-py) with Rwandan geodata to:**\n",
    "* a) Extract an AOI from a larger dataset\n",
    "* b) Apply cloud masking \n",
    "* c) Apply imputation (e.g. temporal interpolation)\n",
    "\n",
    "This notebook consists of preliminary steps for data accessing and exploration towards constructing a machine learning pipeline for predicting the land use and land cover for the region of interest. We will use satellite images obtained by ESA's Sentinel-2 through the whole process of creating the pipeline, with details provided at each step. The actual model training will take place in the next module.\n",
    "\n",
    "\n",
    "## Before you start\n",
    "\n",
    "### Requirements\n",
    "\n",
    "In order to run the example you'll need a Sentinel Hub account. If you do not have one yet, you can create a free trial account at [Sentinel Hub webpage](https://www.sentinel-hub.com/trial). If you are a researcher you can even apply for a free non-commercial account at [ESA OSEO page](https://earth.esa.int/aos/OSEO).\n",
    "\n",
    "Once you have the account set up, please configure the `sentinelhub` package's configuration file following the [configuration instructions](http://sentinelhub-py.readthedocs.io/en/latest/configure.html). For Processing API request you need to obtain and set your `oauth` client id and secret. Also you can find this [guide ](https://docs.sentinel-hub.com/api/latest/user-guides/beginners-guide/)useful. \n",
    "\n",
    "### Overview\n",
    "\n",
    "\n",
    "1. Define the Area-of-Interest (AOI):\n",
    "   * Obtain the outline of AOI\n",
    "   * Split into manageable smaller tiles\n",
    "\n",
    "2. Use the integrated [sentinelhub-py](https://github.com/sentinel-hub/sentinelhub-py) package in order to fill the EOPatches with some content (band data, cloud masks, ...)\n",
    "   * Define the time interval\n"
   ]
  },
  {
   "cell_type": "code",
   "execution_count": null,
   "metadata": {
    "colab": {
     "base_uri": "https://localhost:8080/"
    },
    "executionInfo": {
     "elapsed": 5155,
     "status": "ok",
     "timestamp": 1681796569278,
     "user": {
      "displayName": "Esaie Dufitimana",
      "userId": "10078352650233851396"
     },
     "user_tz": -120
    },
    "id": "_uE34PIYezLY",
    "outputId": "d7b955f4-9743-4dfc-e538-1dea2843cfaf"
   },
   "outputs": [
    {
     "name": "stdout",
     "output_type": "stream",
     "text": [
      "Drive already mounted at /content/drive; to attempt to forcibly remount, call drive.mount(\"/content/drive\", force_remount=True).\n"
     ]
    }
   ],
   "source": [
    "from google.colab import drive\n",
    "drive.mount('/content/drive')"
   ]
  },
  {
   "cell_type": "markdown",
   "metadata": {
    "id": "qtVzw5HDACmx"
   },
   "source": [
    "We install dependencies by clooning the eo-learn github repository and do the same to the matplotlib. The later causes the problem with the other libraries from eo-learn and to solve that, we install it from its repository"
   ]
  },
  {
   "cell_type": "code",
   "execution_count": null,
   "metadata": {
    "colab": {
     "base_uri": "https://localhost:8080/",
     "height": 1000
    },
    "executionInfo": {
     "elapsed": 172635,
     "status": "ok",
     "timestamp": 1681796741897,
     "user": {
      "displayName": "Esaie Dufitimana",
      "userId": "10078352650233851396"
     },
     "user_tz": -120
    },
    "id": "EEQ5i3W-ixoV",
    "outputId": "b4667c5e-0d7a-4449-d181-fe023d53b127"
   },
   "outputs": [
    {
     "name": "stdout",
     "output_type": "stream",
     "text": [
      "Reading package lists... Done\n",
      "Building dependency tree       \n",
      "Reading state information... Done\n",
      "gcc is already the newest version (4:9.3.0-1ubuntu2).\n",
      "graphviz is already the newest version (2.42.2-3build2).\n",
      "libspatialindex-dev is already the newest version (1.9.3-1build1).\n",
      "libgdal-dev is already the newest version (3.3.2+dfsg-2~focal2).\n",
      "libproj-dev is already the newest version (7.2.1-1~focal0).\n",
      "proj-bin is already the newest version (7.2.1-1~focal0).\n",
      "0 upgraded, 0 newly installed, 0 to remove and 24 not upgraded.\n",
      "Looking in indexes: https://pypi.org/simple, https://us-python.pkg.dev/colab-wheels/public/simple/\n",
      "Collecting git+https://github.com/sentinel-hub/eo-learn.git\n",
      "  Cloning https://github.com/sentinel-hub/eo-learn.git to /tmp/pip-req-build-ipww2b48\n",
      "  Running command git clone --filter=blob:none --quiet https://github.com/sentinel-hub/eo-learn.git /tmp/pip-req-build-ipww2b48\n",
      "  Resolved https://github.com/sentinel-hub/eo-learn.git to commit c4d0ddd7a857cdf13fcd8fdd05c749a636c61840\n",
      "  Installing build dependencies ... \u001b[?25l\u001b[?25hdone\n",
      "  Getting requirements to build wheel ... \u001b[?25l\u001b[?25hdone\n",
      "  Preparing metadata (pyproject.toml) ... \u001b[?25l\u001b[?25hdone\n",
      "Requirement already satisfied: eo-learn-io==1.4.1 in /usr/local/lib/python3.9/dist-packages (from eo-learn==1.4.1) (1.4.1)\n",
      "Requirement already satisfied: eo-learn-mask==1.4.1 in /usr/local/lib/python3.9/dist-packages (from eo-learn==1.4.1) (1.4.1)\n",
      "Requirement already satisfied: eo-learn-coregistration==1.4.1 in /usr/local/lib/python3.9/dist-packages (from eo-learn==1.4.1) (1.4.1)\n",
      "Requirement already satisfied: eo-learn-visualization==1.4.1 in /usr/local/lib/python3.9/dist-packages (from eo-learn==1.4.1) (1.4.1)\n",
      "Requirement already satisfied: eo-learn-ml-tools==1.4.1 in /usr/local/lib/python3.9/dist-packages (from eo-learn==1.4.1) (1.4.1)\n",
      "Requirement already satisfied: eo-learn-core==1.4.1 in /usr/local/lib/python3.9/dist-packages (from eo-learn==1.4.1) (1.4.1)\n",
      "Requirement already satisfied: eo-learn-features==1.4.1 in /usr/local/lib/python3.9/dist-packages (from eo-learn==1.4.1) (1.4.1)\n",
      "Requirement already satisfied: eo-learn-geometry==1.4.1 in /usr/local/lib/python3.9/dist-packages (from eo-learn==1.4.1) (1.4.1)\n",
      "Requirement already satisfied: boto3 in /usr/local/lib/python3.9/dist-packages (from eo-learn-core==1.4.1->eo-learn==1.4.1) (1.26.115)\n",
      "Requirement already satisfied: tqdm>=4.27 in /usr/local/lib/python3.9/dist-packages (from eo-learn-core==1.4.1->eo-learn==1.4.1) (4.65.0)\n",
      "Requirement already satisfied: fs in /usr/local/lib/python3.9/dist-packages (from eo-learn-core==1.4.1->eo-learn==1.4.1) (2.4.16)\n",
      "Requirement already satisfied: attrs>=19.2.0 in /usr/local/lib/python3.9/dist-packages (from eo-learn-core==1.4.1->eo-learn==1.4.1) (22.2.0)\n",
      "Requirement already satisfied: sentinelhub>=3.8.1 in /usr/local/lib/python3.9/dist-packages (from eo-learn-core==1.4.1->eo-learn==1.4.1) (3.9.0)\n",
      "Requirement already satisfied: python-dateutil in /usr/local/lib/python3.9/dist-packages (from eo-learn-core==1.4.1->eo-learn==1.4.1) (2.8.2)\n",
      "Requirement already satisfied: typing-extensions in /usr/local/lib/python3.9/dist-packages (from eo-learn-core==1.4.1->eo-learn==1.4.1) (4.5.0)\n",
      "Requirement already satisfied: geopandas>=0.8.1 in /usr/local/lib/python3.9/dist-packages (from eo-learn-core==1.4.1->eo-learn==1.4.1) (0.12.2)\n",
      "Requirement already satisfied: numpy>=1.20.0 in /usr/local/lib/python3.9/dist-packages (from eo-learn-core==1.4.1->eo-learn==1.4.1) (1.22.4)\n",
      "Requirement already satisfied: fs-s3fs in /usr/local/lib/python3.9/dist-packages (from eo-learn-core==1.4.1->eo-learn==1.4.1) (1.1.1)\n",
      "Requirement already satisfied: opencv-python-headless in /usr/local/lib/python3.9/dist-packages (from eo-learn-coregistration==1.4.1->eo-learn==1.4.1) (4.7.0.72)\n",
      "Requirement already satisfied: numba>=0.53.0 in /usr/local/lib/python3.9/dist-packages (from eo-learn-features==1.4.1->eo-learn==1.4.1) (0.56.4)\n",
      "Requirement already satisfied: pillow>=9.1.0 in /usr/local/lib/python3.9/dist-packages (from eo-learn-features==1.4.1->eo-learn==1.4.1) (9.5.0)\n",
      "Requirement already satisfied: scikit-learn in /usr/local/lib/python3.9/dist-packages (from eo-learn-features==1.4.1->eo-learn==1.4.1) (1.2.2)\n",
      "Requirement already satisfied: scikit-image>=0.19.0 in /usr/local/lib/python3.9/dist-packages (from eo-learn-features==1.4.1->eo-learn==1.4.1) (0.19.3)\n",
      "Requirement already satisfied: scipy in /usr/local/lib/python3.9/dist-packages (from eo-learn-features==1.4.1->eo-learn==1.4.1) (1.10.1)\n",
      "Requirement already satisfied: shapely in /usr/local/lib/python3.9/dist-packages (from eo-learn-geometry==1.4.1->eo-learn==1.4.1) (2.0.1)\n",
      "Requirement already satisfied: rasterio>=1.2.7 in /usr/local/lib/python3.9/dist-packages (from eo-learn-geometry==1.4.1->eo-learn==1.4.1) (1.3.6)\n",
      "Requirement already satisfied: affine in /usr/local/lib/python3.9/dist-packages (from eo-learn-io==1.4.1->eo-learn==1.4.1) (2.4.0)\n",
      "Requirement already satisfied: rtree in /usr/local/lib/python3.9/dist-packages (from eo-learn-io==1.4.1->eo-learn==1.4.1) (1.0.1)\n",
      "Requirement already satisfied: fiona>=1.8.18 in /usr/local/lib/python3.9/dist-packages (from eo-learn-io==1.4.1->eo-learn==1.4.1) (1.9.3)\n",
      "Requirement already satisfied: lightgbm>=2.0.11 in /usr/local/lib/python3.9/dist-packages (from eo-learn-mask==1.4.1->eo-learn==1.4.1) (3.3.5)\n",
      "Requirement already satisfied: graphviz>=0.10.1 in /usr/local/lib/python3.9/dist-packages (from eo-learn-visualization==1.4.1->eo-learn==1.4.1) (0.20.1)\n",
      "Requirement already satisfied: matplotlib in /usr/local/lib/python3.9/dist-packages (from eo-learn-visualization==1.4.1->eo-learn==1.4.1) (3.7.1)\n",
      "Requirement already satisfied: pygments in /usr/local/lib/python3.9/dist-packages (from eo-learn-visualization==1.4.1->eo-learn==1.4.1) (2.14.0)\n",
      "Requirement already satisfied: jinja2 in /usr/local/lib/python3.9/dist-packages (from eo-learn-visualization==1.4.1->eo-learn==1.4.1) (3.1.2)\n",
      "Requirement already satisfied: cligj>=0.5 in /usr/local/lib/python3.9/dist-packages (from fiona>=1.8.18->eo-learn-io==1.4.1->eo-learn==1.4.1) (0.7.2)\n",
      "Requirement already satisfied: click~=8.0 in /usr/local/lib/python3.9/dist-packages (from fiona>=1.8.18->eo-learn-io==1.4.1->eo-learn==1.4.1) (8.1.3)\n",
      "Requirement already satisfied: importlib-metadata in /usr/local/lib/python3.9/dist-packages (from fiona>=1.8.18->eo-learn-io==1.4.1->eo-learn==1.4.1) (6.3.0)\n",
      "Requirement already satisfied: certifi in /usr/local/lib/python3.9/dist-packages (from fiona>=1.8.18->eo-learn-io==1.4.1->eo-learn==1.4.1) (2022.12.7)\n",
      "Requirement already satisfied: click-plugins>=1.0 in /usr/local/lib/python3.9/dist-packages (from fiona>=1.8.18->eo-learn-io==1.4.1->eo-learn==1.4.1) (1.1.1)\n",
      "Requirement already satisfied: munch>=2.3.2 in /usr/local/lib/python3.9/dist-packages (from fiona>=1.8.18->eo-learn-io==1.4.1->eo-learn==1.4.1) (2.5.0)\n",
      "Requirement already satisfied: pyproj>=2.6.1.post1 in /usr/local/lib/python3.9/dist-packages (from geopandas>=0.8.1->eo-learn-core==1.4.1->eo-learn==1.4.1) (3.5.0)\n",
      "Requirement already satisfied: packaging in /usr/local/lib/python3.9/dist-packages (from geopandas>=0.8.1->eo-learn-core==1.4.1->eo-learn==1.4.1) (23.0)\n",
      "Requirement already satisfied: pandas>=1.0.0 in /usr/local/lib/python3.9/dist-packages (from geopandas>=0.8.1->eo-learn-core==1.4.1->eo-learn==1.4.1) (1.5.3)\n",
      "Requirement already satisfied: wheel in /usr/local/lib/python3.9/dist-packages (from lightgbm>=2.0.11->eo-learn-mask==1.4.1->eo-learn==1.4.1) (0.40.0)\n",
      "Requirement already satisfied: setuptools in /usr/local/lib/python3.9/dist-packages (from numba>=0.53.0->eo-learn-features==1.4.1->eo-learn==1.4.1) (67.6.1)\n",
      "Requirement already satisfied: llvmlite<0.40,>=0.39.0dev0 in /usr/local/lib/python3.9/dist-packages (from numba>=0.53.0->eo-learn-features==1.4.1->eo-learn==1.4.1) (0.39.1)\n",
      "Requirement already satisfied: snuggs>=1.4.1 in /usr/local/lib/python3.9/dist-packages (from rasterio>=1.2.7->eo-learn-geometry==1.4.1->eo-learn==1.4.1) (1.4.7)\n",
      "Requirement already satisfied: PyWavelets>=1.1.1 in /usr/local/lib/python3.9/dist-packages (from scikit-image>=0.19.0->eo-learn-features==1.4.1->eo-learn==1.4.1) (1.4.1)\n",
      "Requirement already satisfied: imageio>=2.4.1 in /usr/local/lib/python3.9/dist-packages (from scikit-image>=0.19.0->eo-learn-features==1.4.1->eo-learn==1.4.1) (2.25.1)\n",
      "Requirement already satisfied: tifffile>=2019.7.26 in /usr/local/lib/python3.9/dist-packages (from scikit-image>=0.19.0->eo-learn-features==1.4.1->eo-learn==1.4.1) (2023.3.21)\n",
      "Requirement already satisfied: networkx>=2.2 in /usr/local/lib/python3.9/dist-packages (from scikit-image>=0.19.0->eo-learn-features==1.4.1->eo-learn==1.4.1) (3.1)\n",
      "Requirement already satisfied: threadpoolctl>=2.0.0 in /usr/local/lib/python3.9/dist-packages (from scikit-learn->eo-learn-features==1.4.1->eo-learn==1.4.1) (3.1.0)\n",
      "Requirement already satisfied: joblib>=1.1.1 in /usr/local/lib/python3.9/dist-packages (from scikit-learn->eo-learn-features==1.4.1->eo-learn==1.4.1) (1.2.0)\n",
      "Requirement already satisfied: aenum>=2.1.4 in /usr/local/lib/python3.9/dist-packages (from sentinelhub>=3.8.1->eo-learn-core==1.4.1->eo-learn==1.4.1) (3.1.12)\n",
      "Requirement already satisfied: tomli-w in /usr/local/lib/python3.9/dist-packages (from sentinelhub>=3.8.1->eo-learn-core==1.4.1->eo-learn==1.4.1) (1.0.0)\n",
      "Requirement already satisfied: oauthlib in /usr/local/lib/python3.9/dist-packages (from sentinelhub>=3.8.1->eo-learn-core==1.4.1->eo-learn==1.4.1) (3.2.2)\n",
      "Requirement already satisfied: requests>=2.27.0 in /usr/local/lib/python3.9/dist-packages (from sentinelhub>=3.8.1->eo-learn-core==1.4.1->eo-learn==1.4.1) (2.27.1)\n",
      "Requirement already satisfied: requests-oauthlib>=1.0.0 in /usr/local/lib/python3.9/dist-packages (from sentinelhub>=3.8.1->eo-learn-core==1.4.1->eo-learn==1.4.1) (1.3.1)\n",
      "Requirement already satisfied: tomli in /usr/local/lib/python3.9/dist-packages (from sentinelhub>=3.8.1->eo-learn-core==1.4.1->eo-learn==1.4.1) (2.0.1)\n",
      "Requirement already satisfied: dataclasses-json in /usr/local/lib/python3.9/dist-packages (from sentinelhub>=3.8.1->eo-learn-core==1.4.1->eo-learn==1.4.1) (0.5.7)\n",
      "Requirement already satisfied: utm in /usr/local/lib/python3.9/dist-packages (from sentinelhub>=3.8.1->eo-learn-core==1.4.1->eo-learn==1.4.1) (0.7.0)\n",
      "Requirement already satisfied: botocore<1.30.0,>=1.29.115 in /usr/local/lib/python3.9/dist-packages (from boto3->eo-learn-core==1.4.1->eo-learn==1.4.1) (1.29.115)\n",
      "Requirement already satisfied: jmespath<2.0.0,>=0.7.1 in /usr/local/lib/python3.9/dist-packages (from boto3->eo-learn-core==1.4.1->eo-learn==1.4.1) (1.0.1)\n",
      "Requirement already satisfied: s3transfer<0.7.0,>=0.6.0 in /usr/local/lib/python3.9/dist-packages (from boto3->eo-learn-core==1.4.1->eo-learn==1.4.1) (0.6.0)\n",
      "Requirement already satisfied: six~=1.10 in /usr/local/lib/python3.9/dist-packages (from fs->eo-learn-core==1.4.1->eo-learn==1.4.1) (1.16.0)\n",
      "Requirement already satisfied: appdirs~=1.4.3 in /usr/local/lib/python3.9/dist-packages (from fs->eo-learn-core==1.4.1->eo-learn==1.4.1) (1.4.4)\n",
      "Requirement already satisfied: MarkupSafe>=2.0 in /usr/local/lib/python3.9/dist-packages (from jinja2->eo-learn-visualization==1.4.1->eo-learn==1.4.1) (2.1.2)\n",
      "Requirement already satisfied: cycler>=0.10 in /usr/local/lib/python3.9/dist-packages (from matplotlib->eo-learn-visualization==1.4.1->eo-learn==1.4.1) (0.11.0)\n",
      "Requirement already satisfied: importlib-resources>=3.2.0 in /usr/local/lib/python3.9/dist-packages (from matplotlib->eo-learn-visualization==1.4.1->eo-learn==1.4.1) (5.12.0)\n",
      "Requirement already satisfied: kiwisolver>=1.0.1 in /usr/local/lib/python3.9/dist-packages (from matplotlib->eo-learn-visualization==1.4.1->eo-learn==1.4.1) (1.4.4)\n",
      "Requirement already satisfied: fonttools>=4.22.0 in /usr/local/lib/python3.9/dist-packages (from matplotlib->eo-learn-visualization==1.4.1->eo-learn==1.4.1) (4.39.3)\n",
      "Requirement already satisfied: contourpy>=1.0.1 in /usr/local/lib/python3.9/dist-packages (from matplotlib->eo-learn-visualization==1.4.1->eo-learn==1.4.1) (1.0.7)\n",
      "Requirement already satisfied: pyparsing>=2.3.1 in /usr/local/lib/python3.9/dist-packages (from matplotlib->eo-learn-visualization==1.4.1->eo-learn==1.4.1) (3.0.9)\n",
      "Requirement already satisfied: urllib3<1.27,>=1.25.4 in /usr/local/lib/python3.9/dist-packages (from botocore<1.30.0,>=1.29.115->boto3->eo-learn-core==1.4.1->eo-learn==1.4.1) (1.26.15)\n",
      "Requirement already satisfied: zipp>=3.1.0 in /usr/local/lib/python3.9/dist-packages (from importlib-resources>=3.2.0->matplotlib->eo-learn-visualization==1.4.1->eo-learn==1.4.1) (3.15.0)\n",
      "Requirement already satisfied: pytz>=2020.1 in /usr/local/lib/python3.9/dist-packages (from pandas>=1.0.0->geopandas>=0.8.1->eo-learn-core==1.4.1->eo-learn==1.4.1) (2022.7.1)\n",
      "Requirement already satisfied: charset-normalizer~=2.0.0 in /usr/local/lib/python3.9/dist-packages (from requests>=2.27.0->sentinelhub>=3.8.1->eo-learn-core==1.4.1->eo-learn==1.4.1) (2.0.12)\n",
      "Requirement already satisfied: idna<4,>=2.5 in /usr/local/lib/python3.9/dist-packages (from requests>=2.27.0->sentinelhub>=3.8.1->eo-learn-core==1.4.1->eo-learn==1.4.1) (3.4)\n",
      "Requirement already satisfied: marshmallow-enum<2.0.0,>=1.5.1 in /usr/local/lib/python3.9/dist-packages (from dataclasses-json->sentinelhub>=3.8.1->eo-learn-core==1.4.1->eo-learn==1.4.1) (1.5.1)\n",
      "Requirement already satisfied: typing-inspect>=0.4.0 in /usr/local/lib/python3.9/dist-packages (from dataclasses-json->sentinelhub>=3.8.1->eo-learn-core==1.4.1->eo-learn==1.4.1) (0.8.0)\n",
      "Requirement already satisfied: marshmallow<4.0.0,>=3.3.0 in /usr/local/lib/python3.9/dist-packages (from dataclasses-json->sentinelhub>=3.8.1->eo-learn-core==1.4.1->eo-learn==1.4.1) (3.19.0)\n",
      "Requirement already satisfied: mypy-extensions>=0.3.0 in /usr/local/lib/python3.9/dist-packages (from typing-inspect>=0.4.0->dataclasses-json->sentinelhub>=3.8.1->eo-learn-core==1.4.1->eo-learn==1.4.1) (1.0.0)\n",
      "Looking in indexes: https://pypi.org/simple, https://us-python.pkg.dev/colab-wheels/public/simple/\n",
      "Collecting git+https://github.com/matplotlib/matplotlib.git\n",
      "  Cloning https://github.com/matplotlib/matplotlib.git to /tmp/pip-req-build-s11xj9j7\n",
      "  Running command git clone --filter=blob:none --quiet https://github.com/matplotlib/matplotlib.git /tmp/pip-req-build-s11xj9j7\n",
      "  Resolved https://github.com/matplotlib/matplotlib.git to commit 690884facc1e80b40640649f2a64ceab67afb42e\n",
      "  Installing build dependencies ... \u001b[?25l\u001b[?25hdone\n",
      "  Getting requirements to build wheel ... \u001b[?25l\u001b[?25hdone\n",
      "  Installing backend dependencies ... \u001b[?25l\u001b[?25hdone\n",
      "  Preparing metadata (pyproject.toml) ... \u001b[?25l\u001b[?25hdone\n",
      "Requirement already satisfied: python-dateutil>=2.7 in /usr/local/lib/python3.9/dist-packages (from matplotlib==3.8.0.dev882+g690884fac) (2.8.2)\n",
      "Requirement already satisfied: pillow>=6.2.0 in /usr/local/lib/python3.9/dist-packages (from matplotlib==3.8.0.dev882+g690884fac) (9.5.0)\n",
      "Requirement already satisfied: kiwisolver>=1.0.1 in /usr/local/lib/python3.9/dist-packages (from matplotlib==3.8.0.dev882+g690884fac) (1.4.4)\n",
      "Requirement already satisfied: importlib-resources>=3.2.0 in /usr/local/lib/python3.9/dist-packages (from matplotlib==3.8.0.dev882+g690884fac) (5.12.0)\n",
      "Requirement already satisfied: numpy>=1.21 in /usr/local/lib/python3.9/dist-packages (from matplotlib==3.8.0.dev882+g690884fac) (1.22.4)\n",
      "Requirement already satisfied: contourpy>=1.0.1 in /usr/local/lib/python3.9/dist-packages (from matplotlib==3.8.0.dev882+g690884fac) (1.0.7)\n",
      "Requirement already satisfied: cycler>=0.10 in /usr/local/lib/python3.9/dist-packages (from matplotlib==3.8.0.dev882+g690884fac) (0.11.0)\n",
      "Collecting setuptools-scm>=7\n",
      "  Using cached setuptools_scm-7.1.0-py3-none-any.whl (43 kB)\n",
      "Requirement already satisfied: packaging>=20.0 in /usr/local/lib/python3.9/dist-packages (from matplotlib==3.8.0.dev882+g690884fac) (23.0)\n",
      "Requirement already satisfied: fonttools>=4.22.0 in /usr/local/lib/python3.9/dist-packages (from matplotlib==3.8.0.dev882+g690884fac) (4.39.3)\n",
      "Requirement already satisfied: pyparsing>=2.3.1 in /usr/local/lib/python3.9/dist-packages (from matplotlib==3.8.0.dev882+g690884fac) (3.0.9)\n",
      "Requirement already satisfied: zipp>=3.1.0 in /usr/local/lib/python3.9/dist-packages (from importlib-resources>=3.2.0->matplotlib==3.8.0.dev882+g690884fac) (3.15.0)\n",
      "Requirement already satisfied: six>=1.5 in /usr/local/lib/python3.9/dist-packages (from python-dateutil>=2.7->matplotlib==3.8.0.dev882+g690884fac) (1.16.0)\n",
      "Requirement already satisfied: typing-extensions in /usr/local/lib/python3.9/dist-packages (from setuptools-scm>=7->matplotlib==3.8.0.dev882+g690884fac) (4.5.0)\n",
      "Requirement already satisfied: setuptools in /usr/local/lib/python3.9/dist-packages (from setuptools-scm>=7->matplotlib==3.8.0.dev882+g690884fac) (67.6.1)\n",
      "Requirement already satisfied: tomli>=1.0.0 in /usr/local/lib/python3.9/dist-packages (from setuptools-scm>=7->matplotlib==3.8.0.dev882+g690884fac) (2.0.1)\n",
      "Building wheels for collected packages: matplotlib\n",
      "  Building wheel for matplotlib (pyproject.toml) ... \u001b[?25l\u001b[?25hdone\n",
      "  Created wheel for matplotlib: filename=matplotlib-3.8.0.dev882+g690884fac-cp39-cp39-linux_x86_64.whl size=11060436 sha256=2b8a1507a7ab94648da3b970751b745be8561ae2f9407d4d90df6febc1a11c01\n",
      "  Stored in directory: /tmp/pip-ephem-wheel-cache-ic4u6mkc/wheels/c2/2f/e6/924922bc43fd7baa53bfae97b0e335959fea3921fb17b9b172\n",
      "Successfully built matplotlib\n",
      "Installing collected packages: setuptools-scm, matplotlib\n",
      "  Attempting uninstall: matplotlib\n",
      "    Found existing installation: matplotlib 3.7.1\n",
      "    Uninstalling matplotlib-3.7.1:\n",
      "      Successfully uninstalled matplotlib-3.7.1\n",
      "Successfully installed matplotlib-3.8.0.dev882+g690884fac setuptools-scm-7.1.0\n"
     ]
    },
    {
     "data": {
      "application/vnd.colab-display-data+json": {
       "pip_warning": {
        "packages": [
         "matplotlib",
         "mpl_toolkits"
        ]
       }
      }
     },
     "metadata": {},
     "output_type": "display_data"
    },
    {
     "name": "stdout",
     "output_type": "stream",
     "text": [
      "Looking in indexes: https://pypi.org/simple, https://us-python.pkg.dev/colab-wheels/public/simple/\n",
      "Requirement already satisfied: aenum in /usr/local/lib/python3.9/dist-packages (3.1.12)\n",
      "Looking in indexes: https://pypi.org/simple, https://us-python.pkg.dev/colab-wheels/public/simple/\n",
      "Requirement already satisfied: geopandas in /usr/local/lib/python3.9/dist-packages (0.12.2)\n",
      "Requirement already satisfied: pyproj>=2.6.1.post1 in /usr/local/lib/python3.9/dist-packages (from geopandas) (3.5.0)\n",
      "Requirement already satisfied: pandas>=1.0.0 in /usr/local/lib/python3.9/dist-packages (from geopandas) (1.5.3)\n",
      "Requirement already satisfied: fiona>=1.8 in /usr/local/lib/python3.9/dist-packages (from geopandas) (1.9.3)\n",
      "Requirement already satisfied: packaging in /usr/local/lib/python3.9/dist-packages (from geopandas) (23.0)\n",
      "Requirement already satisfied: shapely>=1.7 in /usr/local/lib/python3.9/dist-packages (from geopandas) (2.0.1)\n",
      "Requirement already satisfied: click~=8.0 in /usr/local/lib/python3.9/dist-packages (from fiona>=1.8->geopandas) (8.1.3)\n",
      "Requirement already satisfied: cligj>=0.5 in /usr/local/lib/python3.9/dist-packages (from fiona>=1.8->geopandas) (0.7.2)\n",
      "Requirement already satisfied: munch>=2.3.2 in /usr/local/lib/python3.9/dist-packages (from fiona>=1.8->geopandas) (2.5.0)\n",
      "Requirement already satisfied: certifi in /usr/local/lib/python3.9/dist-packages (from fiona>=1.8->geopandas) (2022.12.7)\n",
      "Requirement already satisfied: click-plugins>=1.0 in /usr/local/lib/python3.9/dist-packages (from fiona>=1.8->geopandas) (1.1.1)\n",
      "Requirement already satisfied: importlib-metadata in /usr/local/lib/python3.9/dist-packages (from fiona>=1.8->geopandas) (6.3.0)\n",
      "Requirement already satisfied: attrs>=19.2.0 in /usr/local/lib/python3.9/dist-packages (from fiona>=1.8->geopandas) (22.2.0)\n",
      "Requirement already satisfied: numpy>=1.20.3 in /usr/local/lib/python3.9/dist-packages (from pandas>=1.0.0->geopandas) (1.22.4)\n",
      "Requirement already satisfied: python-dateutil>=2.8.1 in /usr/local/lib/python3.9/dist-packages (from pandas>=1.0.0->geopandas) (2.8.2)\n",
      "Requirement already satisfied: pytz>=2020.1 in /usr/local/lib/python3.9/dist-packages (from pandas>=1.0.0->geopandas) (2022.7.1)\n",
      "Requirement already satisfied: six in /usr/local/lib/python3.9/dist-packages (from munch>=2.3.2->fiona>=1.8->geopandas) (1.16.0)\n",
      "Requirement already satisfied: zipp>=0.5 in /usr/local/lib/python3.9/dist-packages (from importlib-metadata->fiona>=1.8->geopandas) (3.15.0)\n",
      "Looking in indexes: https://pypi.org/simple, https://us-python.pkg.dev/colab-wheels/public/simple/\n",
      "Requirement already satisfied: sentinelhub in /usr/local/lib/python3.9/dist-packages (3.9.0)\n",
      "Requirement already satisfied: tomli-w in /usr/local/lib/python3.9/dist-packages (from sentinelhub) (1.0.0)\n",
      "Requirement already satisfied: tomli in /usr/local/lib/python3.9/dist-packages (from sentinelhub) (2.0.1)\n",
      "Requirement already satisfied: pyproj>=2.2.0 in /usr/local/lib/python3.9/dist-packages (from sentinelhub) (3.5.0)\n",
      "Requirement already satisfied: click in /usr/local/lib/python3.9/dist-packages (from sentinelhub) (8.1.3)\n",
      "Requirement already satisfied: python-dateutil in /usr/local/lib/python3.9/dist-packages (from sentinelhub) (2.8.2)\n",
      "Requirement already satisfied: typing-extensions in /usr/local/lib/python3.9/dist-packages (from sentinelhub) (4.5.0)\n",
      "Requirement already satisfied: requests>=2.27.0 in /usr/local/lib/python3.9/dist-packages (from sentinelhub) (2.27.1)\n",
      "Requirement already satisfied: numpy in /usr/local/lib/python3.9/dist-packages (from sentinelhub) (1.22.4)\n",
      "Requirement already satisfied: aenum>=2.1.4 in /usr/local/lib/python3.9/dist-packages (from sentinelhub) (3.1.12)\n",
      "Requirement already satisfied: shapely in /usr/local/lib/python3.9/dist-packages (from sentinelhub) (2.0.1)\n",
      "Requirement already satisfied: requests-oauthlib>=1.0.0 in /usr/local/lib/python3.9/dist-packages (from sentinelhub) (1.3.1)\n",
      "Requirement already satisfied: tifffile>=2020.9.30 in /usr/local/lib/python3.9/dist-packages (from sentinelhub) (2023.3.21)\n",
      "Requirement already satisfied: tqdm in /usr/local/lib/python3.9/dist-packages (from sentinelhub) (4.65.0)\n",
      "Requirement already satisfied: utm in /usr/local/lib/python3.9/dist-packages (from sentinelhub) (0.7.0)\n",
      "Requirement already satisfied: pillow>=9.2.0 in /usr/local/lib/python3.9/dist-packages (from sentinelhub) (9.5.0)\n",
      "Requirement already satisfied: dataclasses-json in /usr/local/lib/python3.9/dist-packages (from sentinelhub) (0.5.7)\n",
      "Requirement already satisfied: oauthlib in /usr/local/lib/python3.9/dist-packages (from sentinelhub) (3.2.2)\n",
      "Requirement already satisfied: certifi in /usr/local/lib/python3.9/dist-packages (from pyproj>=2.2.0->sentinelhub) (2022.12.7)\n",
      "Requirement already satisfied: idna<4,>=2.5 in /usr/local/lib/python3.9/dist-packages (from requests>=2.27.0->sentinelhub) (3.4)\n",
      "Requirement already satisfied: charset-normalizer~=2.0.0 in /usr/local/lib/python3.9/dist-packages (from requests>=2.27.0->sentinelhub) (2.0.12)\n",
      "Requirement already satisfied: urllib3<1.27,>=1.21.1 in /usr/local/lib/python3.9/dist-packages (from requests>=2.27.0->sentinelhub) (1.26.15)\n",
      "Requirement already satisfied: typing-inspect>=0.4.0 in /usr/local/lib/python3.9/dist-packages (from dataclasses-json->sentinelhub) (0.8.0)\n",
      "Requirement already satisfied: marshmallow-enum<2.0.0,>=1.5.1 in /usr/local/lib/python3.9/dist-packages (from dataclasses-json->sentinelhub) (1.5.1)\n",
      "Requirement already satisfied: marshmallow<4.0.0,>=3.3.0 in /usr/local/lib/python3.9/dist-packages (from dataclasses-json->sentinelhub) (3.19.0)\n",
      "Requirement already satisfied: six>=1.5 in /usr/local/lib/python3.9/dist-packages (from python-dateutil->sentinelhub) (1.16.0)\n",
      "Requirement already satisfied: packaging>=17.0 in /usr/local/lib/python3.9/dist-packages (from marshmallow<4.0.0,>=3.3.0->dataclasses-json->sentinelhub) (23.0)\n",
      "Requirement already satisfied: mypy-extensions>=0.3.0 in /usr/local/lib/python3.9/dist-packages (from typing-inspect>=0.4.0->dataclasses-json->sentinelhub) (1.0.0)\n"
     ]
    }
   ],
   "source": [
    "#Install dependencies/libraries\n",
    "!apt-get install gcc libgdal-dev graphviz proj-bin libproj-dev libspatialindex-dev\n",
    "!pip install git+https://github.com/sentinel-hub/eo-learn.git\n",
    "#!pip install git+https://github.com/matplotlib/matplotlib.git\n",
    "!pip install aenum\n",
    "!pip install geopandas\n",
    "!pip install sentinelhub\n"
   ]
  },
  {
   "cell_type": "code",
   "execution_count": null,
   "metadata": {
    "colab": {
     "base_uri": "https://localhost:8080/"
    },
    "executionInfo": {
     "elapsed": 40254,
     "status": "ok",
     "timestamp": 1681796782139,
     "user": {
      "displayName": "Esaie Dufitimana",
      "userId": "10078352650233851396"
     },
     "user_tz": -120
    },
    "id": "d87CF3z0Qbxi",
    "outputId": "fd59f740-92c3-44f6-8e37-b8056e4ad265"
   },
   "outputs": [
    {
     "name": "stdout",
     "output_type": "stream",
     "text": [
      "Looking in indexes: https://pypi.org/simple, https://us-python.pkg.dev/colab-wheels/public/simple/\n",
      "Requirement already satisfied: eo-learn-core in /usr/local/lib/python3.9/dist-packages (1.4.1)\n",
      "Requirement already satisfied: tqdm>=4.27 in /usr/local/lib/python3.9/dist-packages (from eo-learn-core) (4.65.0)\n",
      "Requirement already satisfied: sentinelhub>=3.8.1 in /usr/local/lib/python3.9/dist-packages (from eo-learn-core) (3.9.0)\n",
      "Requirement already satisfied: python-dateutil in /usr/local/lib/python3.9/dist-packages (from eo-learn-core) (2.8.2)\n",
      "Requirement already satisfied: numpy>=1.20.0 in /usr/local/lib/python3.9/dist-packages (from eo-learn-core) (1.22.4)\n",
      "Requirement already satisfied: fs in /usr/local/lib/python3.9/dist-packages (from eo-learn-core) (2.4.16)\n",
      "Requirement already satisfied: boto3 in /usr/local/lib/python3.9/dist-packages (from eo-learn-core) (1.26.115)\n",
      "Requirement already satisfied: fs-s3fs in /usr/local/lib/python3.9/dist-packages (from eo-learn-core) (1.1.1)\n",
      "Requirement already satisfied: geopandas>=0.8.1 in /usr/local/lib/python3.9/dist-packages (from eo-learn-core) (0.12.2)\n",
      "Requirement already satisfied: typing-extensions in /usr/local/lib/python3.9/dist-packages (from eo-learn-core) (4.5.0)\n",
      "Requirement already satisfied: attrs>=19.2.0 in /usr/local/lib/python3.9/dist-packages (from eo-learn-core) (22.2.0)\n",
      "Requirement already satisfied: packaging in /usr/local/lib/python3.9/dist-packages (from geopandas>=0.8.1->eo-learn-core) (23.0)\n",
      "Requirement already satisfied: pyproj>=2.6.1.post1 in /usr/local/lib/python3.9/dist-packages (from geopandas>=0.8.1->eo-learn-core) (3.5.0)\n",
      "Requirement already satisfied: fiona>=1.8 in /usr/local/lib/python3.9/dist-packages (from geopandas>=0.8.1->eo-learn-core) (1.9.3)\n",
      "Requirement already satisfied: pandas>=1.0.0 in /usr/local/lib/python3.9/dist-packages (from geopandas>=0.8.1->eo-learn-core) (1.5.3)\n",
      "Requirement already satisfied: shapely>=1.7 in /usr/local/lib/python3.9/dist-packages (from geopandas>=0.8.1->eo-learn-core) (2.0.1)\n",
      "Requirement already satisfied: tifffile>=2020.9.30 in /usr/local/lib/python3.9/dist-packages (from sentinelhub>=3.8.1->eo-learn-core) (2023.3.21)\n",
      "Requirement already satisfied: aenum>=2.1.4 in /usr/local/lib/python3.9/dist-packages (from sentinelhub>=3.8.1->eo-learn-core) (3.1.12)\n",
      "Requirement already satisfied: oauthlib in /usr/local/lib/python3.9/dist-packages (from sentinelhub>=3.8.1->eo-learn-core) (3.2.2)\n",
      "Requirement already satisfied: pillow>=9.2.0 in /usr/local/lib/python3.9/dist-packages (from sentinelhub>=3.8.1->eo-learn-core) (9.5.0)\n",
      "Requirement already satisfied: tomli-w in /usr/local/lib/python3.9/dist-packages (from sentinelhub>=3.8.1->eo-learn-core) (1.0.0)\n",
      "Requirement already satisfied: requests-oauthlib>=1.0.0 in /usr/local/lib/python3.9/dist-packages (from sentinelhub>=3.8.1->eo-learn-core) (1.3.1)\n",
      "Requirement already satisfied: utm in /usr/local/lib/python3.9/dist-packages (from sentinelhub>=3.8.1->eo-learn-core) (0.7.0)\n",
      "Requirement already satisfied: tomli in /usr/local/lib/python3.9/dist-packages (from sentinelhub>=3.8.1->eo-learn-core) (2.0.1)\n",
      "Requirement already satisfied: dataclasses-json in /usr/local/lib/python3.9/dist-packages (from sentinelhub>=3.8.1->eo-learn-core) (0.5.7)\n",
      "Requirement already satisfied: click in /usr/local/lib/python3.9/dist-packages (from sentinelhub>=3.8.1->eo-learn-core) (8.1.3)\n",
      "Requirement already satisfied: requests>=2.27.0 in /usr/local/lib/python3.9/dist-packages (from sentinelhub>=3.8.1->eo-learn-core) (2.27.1)\n",
      "Requirement already satisfied: jmespath<2.0.0,>=0.7.1 in /usr/local/lib/python3.9/dist-packages (from boto3->eo-learn-core) (1.0.1)\n",
      "Requirement already satisfied: botocore<1.30.0,>=1.29.115 in /usr/local/lib/python3.9/dist-packages (from boto3->eo-learn-core) (1.29.115)\n",
      "Requirement already satisfied: s3transfer<0.7.0,>=0.6.0 in /usr/local/lib/python3.9/dist-packages (from boto3->eo-learn-core) (0.6.0)\n",
      "Requirement already satisfied: appdirs~=1.4.3 in /usr/local/lib/python3.9/dist-packages (from fs->eo-learn-core) (1.4.4)\n",
      "Requirement already satisfied: setuptools in /usr/local/lib/python3.9/dist-packages (from fs->eo-learn-core) (67.6.1)\n",
      "Requirement already satisfied: six~=1.10 in /usr/local/lib/python3.9/dist-packages (from fs->eo-learn-core) (1.16.0)\n",
      "Requirement already satisfied: urllib3<1.27,>=1.25.4 in /usr/local/lib/python3.9/dist-packages (from botocore<1.30.0,>=1.29.115->boto3->eo-learn-core) (1.26.15)\n",
      "Requirement already satisfied: importlib-metadata in /usr/local/lib/python3.9/dist-packages (from fiona>=1.8->geopandas>=0.8.1->eo-learn-core) (6.3.0)\n",
      "Requirement already satisfied: certifi in /usr/local/lib/python3.9/dist-packages (from fiona>=1.8->geopandas>=0.8.1->eo-learn-core) (2022.12.7)\n",
      "Requirement already satisfied: munch>=2.3.2 in /usr/local/lib/python3.9/dist-packages (from fiona>=1.8->geopandas>=0.8.1->eo-learn-core) (2.5.0)\n",
      "Requirement already satisfied: click-plugins>=1.0 in /usr/local/lib/python3.9/dist-packages (from fiona>=1.8->geopandas>=0.8.1->eo-learn-core) (1.1.1)\n",
      "Requirement already satisfied: cligj>=0.5 in /usr/local/lib/python3.9/dist-packages (from fiona>=1.8->geopandas>=0.8.1->eo-learn-core) (0.7.2)\n",
      "Requirement already satisfied: pytz>=2020.1 in /usr/local/lib/python3.9/dist-packages (from pandas>=1.0.0->geopandas>=0.8.1->eo-learn-core) (2022.7.1)\n",
      "Requirement already satisfied: idna<4,>=2.5 in /usr/local/lib/python3.9/dist-packages (from requests>=2.27.0->sentinelhub>=3.8.1->eo-learn-core) (3.4)\n",
      "Requirement already satisfied: charset-normalizer~=2.0.0 in /usr/local/lib/python3.9/dist-packages (from requests>=2.27.0->sentinelhub>=3.8.1->eo-learn-core) (2.0.12)\n",
      "Requirement already satisfied: marshmallow-enum<2.0.0,>=1.5.1 in /usr/local/lib/python3.9/dist-packages (from dataclasses-json->sentinelhub>=3.8.1->eo-learn-core) (1.5.1)\n",
      "Requirement already satisfied: marshmallow<4.0.0,>=3.3.0 in /usr/local/lib/python3.9/dist-packages (from dataclasses-json->sentinelhub>=3.8.1->eo-learn-core) (3.19.0)\n",
      "Requirement already satisfied: typing-inspect>=0.4.0 in /usr/local/lib/python3.9/dist-packages (from dataclasses-json->sentinelhub>=3.8.1->eo-learn-core) (0.8.0)\n",
      "Requirement already satisfied: mypy-extensions>=0.3.0 in /usr/local/lib/python3.9/dist-packages (from typing-inspect>=0.4.0->dataclasses-json->sentinelhub>=3.8.1->eo-learn-core) (1.0.0)\n",
      "Requirement already satisfied: zipp>=0.5 in /usr/local/lib/python3.9/dist-packages (from importlib-metadata->fiona>=1.8->geopandas>=0.8.1->eo-learn-core) (3.15.0)\n",
      "Looking in indexes: https://pypi.org/simple, https://us-python.pkg.dev/colab-wheels/public/simple/\n",
      "Requirement already satisfied: eo-learn-coregistration in /usr/local/lib/python3.9/dist-packages (1.4.1)\n",
      "Requirement already satisfied: opencv-python-headless in /usr/local/lib/python3.9/dist-packages (from eo-learn-coregistration) (4.7.0.72)\n",
      "Requirement already satisfied: eo-learn-core in /usr/local/lib/python3.9/dist-packages (from eo-learn-coregistration) (1.4.1)\n",
      "Requirement already satisfied: numpy>=1.20.0 in /usr/local/lib/python3.9/dist-packages (from eo-learn-core->eo-learn-coregistration) (1.22.4)\n",
      "Requirement already satisfied: fs in /usr/local/lib/python3.9/dist-packages (from eo-learn-core->eo-learn-coregistration) (2.4.16)\n",
      "Requirement already satisfied: python-dateutil in /usr/local/lib/python3.9/dist-packages (from eo-learn-core->eo-learn-coregistration) (2.8.2)\n",
      "Requirement already satisfied: sentinelhub>=3.8.1 in /usr/local/lib/python3.9/dist-packages (from eo-learn-core->eo-learn-coregistration) (3.9.0)\n",
      "Requirement already satisfied: boto3 in /usr/local/lib/python3.9/dist-packages (from eo-learn-core->eo-learn-coregistration) (1.26.115)\n",
      "Requirement already satisfied: attrs>=19.2.0 in /usr/local/lib/python3.9/dist-packages (from eo-learn-core->eo-learn-coregistration) (22.2.0)\n",
      "Requirement already satisfied: typing-extensions in /usr/local/lib/python3.9/dist-packages (from eo-learn-core->eo-learn-coregistration) (4.5.0)\n",
      "Requirement already satisfied: geopandas>=0.8.1 in /usr/local/lib/python3.9/dist-packages (from eo-learn-core->eo-learn-coregistration) (0.12.2)\n",
      "Requirement already satisfied: tqdm>=4.27 in /usr/local/lib/python3.9/dist-packages (from eo-learn-core->eo-learn-coregistration) (4.65.0)\n",
      "Requirement already satisfied: fs-s3fs in /usr/local/lib/python3.9/dist-packages (from eo-learn-core->eo-learn-coregistration) (1.1.1)\n",
      "Requirement already satisfied: pyproj>=2.6.1.post1 in /usr/local/lib/python3.9/dist-packages (from geopandas>=0.8.1->eo-learn-core->eo-learn-coregistration) (3.5.0)\n",
      "Requirement already satisfied: shapely>=1.7 in /usr/local/lib/python3.9/dist-packages (from geopandas>=0.8.1->eo-learn-core->eo-learn-coregistration) (2.0.1)\n",
      "Requirement already satisfied: packaging in /usr/local/lib/python3.9/dist-packages (from geopandas>=0.8.1->eo-learn-core->eo-learn-coregistration) (23.0)\n",
      "Requirement already satisfied: fiona>=1.8 in /usr/local/lib/python3.9/dist-packages (from geopandas>=0.8.1->eo-learn-core->eo-learn-coregistration) (1.9.3)\n",
      "Requirement already satisfied: pandas>=1.0.0 in /usr/local/lib/python3.9/dist-packages (from geopandas>=0.8.1->eo-learn-core->eo-learn-coregistration) (1.5.3)\n",
      "Requirement already satisfied: requests>=2.27.0 in /usr/local/lib/python3.9/dist-packages (from sentinelhub>=3.8.1->eo-learn-core->eo-learn-coregistration) (2.27.1)\n",
      "Requirement already satisfied: tomli in /usr/local/lib/python3.9/dist-packages (from sentinelhub>=3.8.1->eo-learn-core->eo-learn-coregistration) (2.0.1)\n",
      "Requirement already satisfied: pillow>=9.2.0 in /usr/local/lib/python3.9/dist-packages (from sentinelhub>=3.8.1->eo-learn-core->eo-learn-coregistration) (9.5.0)\n",
      "Requirement already satisfied: dataclasses-json in /usr/local/lib/python3.9/dist-packages (from sentinelhub>=3.8.1->eo-learn-core->eo-learn-coregistration) (0.5.7)\n",
      "Requirement already satisfied: requests-oauthlib>=1.0.0 in /usr/local/lib/python3.9/dist-packages (from sentinelhub>=3.8.1->eo-learn-core->eo-learn-coregistration) (1.3.1)\n",
      "Requirement already satisfied: utm in /usr/local/lib/python3.9/dist-packages (from sentinelhub>=3.8.1->eo-learn-core->eo-learn-coregistration) (0.7.0)\n",
      "Requirement already satisfied: tomli-w in /usr/local/lib/python3.9/dist-packages (from sentinelhub>=3.8.1->eo-learn-core->eo-learn-coregistration) (1.0.0)\n",
      "Requirement already satisfied: tifffile>=2020.9.30 in /usr/local/lib/python3.9/dist-packages (from sentinelhub>=3.8.1->eo-learn-core->eo-learn-coregistration) (2023.3.21)\n",
      "Requirement already satisfied: click in /usr/local/lib/python3.9/dist-packages (from sentinelhub>=3.8.1->eo-learn-core->eo-learn-coregistration) (8.1.3)\n",
      "Requirement already satisfied: aenum>=2.1.4 in /usr/local/lib/python3.9/dist-packages (from sentinelhub>=3.8.1->eo-learn-core->eo-learn-coregistration) (3.1.12)\n",
      "Requirement already satisfied: oauthlib in /usr/local/lib/python3.9/dist-packages (from sentinelhub>=3.8.1->eo-learn-core->eo-learn-coregistration) (3.2.2)\n",
      "Requirement already satisfied: botocore<1.30.0,>=1.29.115 in /usr/local/lib/python3.9/dist-packages (from boto3->eo-learn-core->eo-learn-coregistration) (1.29.115)\n",
      "Requirement already satisfied: s3transfer<0.7.0,>=0.6.0 in /usr/local/lib/python3.9/dist-packages (from boto3->eo-learn-core->eo-learn-coregistration) (0.6.0)\n",
      "Requirement already satisfied: jmespath<2.0.0,>=0.7.1 in /usr/local/lib/python3.9/dist-packages (from boto3->eo-learn-core->eo-learn-coregistration) (1.0.1)\n",
      "Requirement already satisfied: appdirs~=1.4.3 in /usr/local/lib/python3.9/dist-packages (from fs->eo-learn-core->eo-learn-coregistration) (1.4.4)\n",
      "Requirement already satisfied: six~=1.10 in /usr/local/lib/python3.9/dist-packages (from fs->eo-learn-core->eo-learn-coregistration) (1.16.0)\n",
      "Requirement already satisfied: setuptools in /usr/local/lib/python3.9/dist-packages (from fs->eo-learn-core->eo-learn-coregistration) (67.6.1)\n",
      "Requirement already satisfied: urllib3<1.27,>=1.25.4 in /usr/local/lib/python3.9/dist-packages (from botocore<1.30.0,>=1.29.115->boto3->eo-learn-core->eo-learn-coregistration) (1.26.15)\n",
      "Requirement already satisfied: munch>=2.3.2 in /usr/local/lib/python3.9/dist-packages (from fiona>=1.8->geopandas>=0.8.1->eo-learn-core->eo-learn-coregistration) (2.5.0)\n",
      "Requirement already satisfied: click-plugins>=1.0 in /usr/local/lib/python3.9/dist-packages (from fiona>=1.8->geopandas>=0.8.1->eo-learn-core->eo-learn-coregistration) (1.1.1)\n",
      "Requirement already satisfied: cligj>=0.5 in /usr/local/lib/python3.9/dist-packages (from fiona>=1.8->geopandas>=0.8.1->eo-learn-core->eo-learn-coregistration) (0.7.2)\n",
      "Requirement already satisfied: importlib-metadata in /usr/local/lib/python3.9/dist-packages (from fiona>=1.8->geopandas>=0.8.1->eo-learn-core->eo-learn-coregistration) (6.3.0)\n",
      "Requirement already satisfied: certifi in /usr/local/lib/python3.9/dist-packages (from fiona>=1.8->geopandas>=0.8.1->eo-learn-core->eo-learn-coregistration) (2022.12.7)\n",
      "Requirement already satisfied: pytz>=2020.1 in /usr/local/lib/python3.9/dist-packages (from pandas>=1.0.0->geopandas>=0.8.1->eo-learn-core->eo-learn-coregistration) (2022.7.1)\n",
      "Requirement already satisfied: idna<4,>=2.5 in /usr/local/lib/python3.9/dist-packages (from requests>=2.27.0->sentinelhub>=3.8.1->eo-learn-core->eo-learn-coregistration) (3.4)\n",
      "Requirement already satisfied: charset-normalizer~=2.0.0 in /usr/local/lib/python3.9/dist-packages (from requests>=2.27.0->sentinelhub>=3.8.1->eo-learn-core->eo-learn-coregistration) (2.0.12)\n",
      "Requirement already satisfied: marshmallow-enum<2.0.0,>=1.5.1 in /usr/local/lib/python3.9/dist-packages (from dataclasses-json->sentinelhub>=3.8.1->eo-learn-core->eo-learn-coregistration) (1.5.1)\n",
      "Requirement already satisfied: marshmallow<4.0.0,>=3.3.0 in /usr/local/lib/python3.9/dist-packages (from dataclasses-json->sentinelhub>=3.8.1->eo-learn-core->eo-learn-coregistration) (3.19.0)\n",
      "Requirement already satisfied: typing-inspect>=0.4.0 in /usr/local/lib/python3.9/dist-packages (from dataclasses-json->sentinelhub>=3.8.1->eo-learn-core->eo-learn-coregistration) (0.8.0)\n",
      "Requirement already satisfied: mypy-extensions>=0.3.0 in /usr/local/lib/python3.9/dist-packages (from typing-inspect>=0.4.0->dataclasses-json->sentinelhub>=3.8.1->eo-learn-core->eo-learn-coregistration) (1.0.0)\n",
      "Requirement already satisfied: zipp>=0.5 in /usr/local/lib/python3.9/dist-packages (from importlib-metadata->fiona>=1.8->geopandas>=0.8.1->eo-learn-core->eo-learn-coregistration) (3.15.0)\n",
      "Looking in indexes: https://pypi.org/simple, https://us-python.pkg.dev/colab-wheels/public/simple/\n",
      "Requirement already satisfied: eo-learn-features in /usr/local/lib/python3.9/dist-packages (1.4.1)\n",
      "Requirement already satisfied: typing-extensions in /usr/local/lib/python3.9/dist-packages (from eo-learn-features) (4.5.0)\n",
      "Requirement already satisfied: python-dateutil in /usr/local/lib/python3.9/dist-packages (from eo-learn-features) (2.8.2)\n",
      "Requirement already satisfied: numba>=0.53.0 in /usr/local/lib/python3.9/dist-packages (from eo-learn-features) (0.56.4)\n",
      "Requirement already satisfied: pillow>=9.1.0 in /usr/local/lib/python3.9/dist-packages (from eo-learn-features) (9.5.0)\n",
      "Requirement already satisfied: numpy in /usr/local/lib/python3.9/dist-packages (from eo-learn-features) (1.22.4)\n",
      "Requirement already satisfied: scipy in /usr/local/lib/python3.9/dist-packages (from eo-learn-features) (1.10.1)\n",
      "Requirement already satisfied: scikit-learn in /usr/local/lib/python3.9/dist-packages (from eo-learn-features) (1.2.2)\n",
      "Requirement already satisfied: eo-learn-core in /usr/local/lib/python3.9/dist-packages (from eo-learn-features) (1.4.1)\n",
      "Requirement already satisfied: scikit-image>=0.19.0 in /usr/local/lib/python3.9/dist-packages (from eo-learn-features) (0.19.3)\n",
      "Requirement already satisfied: setuptools in /usr/local/lib/python3.9/dist-packages (from numba>=0.53.0->eo-learn-features) (67.6.1)\n",
      "Requirement already satisfied: llvmlite<0.40,>=0.39.0dev0 in /usr/local/lib/python3.9/dist-packages (from numba>=0.53.0->eo-learn-features) (0.39.1)\n",
      "Requirement already satisfied: packaging>=20.0 in /usr/local/lib/python3.9/dist-packages (from scikit-image>=0.19.0->eo-learn-features) (23.0)\n",
      "Requirement already satisfied: networkx>=2.2 in /usr/local/lib/python3.9/dist-packages (from scikit-image>=0.19.0->eo-learn-features) (3.1)\n",
      "Requirement already satisfied: imageio>=2.4.1 in /usr/local/lib/python3.9/dist-packages (from scikit-image>=0.19.0->eo-learn-features) (2.25.1)\n",
      "Requirement already satisfied: PyWavelets>=1.1.1 in /usr/local/lib/python3.9/dist-packages (from scikit-image>=0.19.0->eo-learn-features) (1.4.1)\n",
      "Requirement already satisfied: tifffile>=2019.7.26 in /usr/local/lib/python3.9/dist-packages (from scikit-image>=0.19.0->eo-learn-features) (2023.3.21)\n",
      "Requirement already satisfied: geopandas>=0.8.1 in /usr/local/lib/python3.9/dist-packages (from eo-learn-core->eo-learn-features) (0.12.2)\n",
      "Requirement already satisfied: sentinelhub>=3.8.1 in /usr/local/lib/python3.9/dist-packages (from eo-learn-core->eo-learn-features) (3.9.0)\n",
      "Requirement already satisfied: attrs>=19.2.0 in /usr/local/lib/python3.9/dist-packages (from eo-learn-core->eo-learn-features) (22.2.0)\n",
      "Requirement already satisfied: fs-s3fs in /usr/local/lib/python3.9/dist-packages (from eo-learn-core->eo-learn-features) (1.1.1)\n",
      "Requirement already satisfied: fs in /usr/local/lib/python3.9/dist-packages (from eo-learn-core->eo-learn-features) (2.4.16)\n",
      "Requirement already satisfied: boto3 in /usr/local/lib/python3.9/dist-packages (from eo-learn-core->eo-learn-features) (1.26.115)\n",
      "Requirement already satisfied: tqdm>=4.27 in /usr/local/lib/python3.9/dist-packages (from eo-learn-core->eo-learn-features) (4.65.0)\n",
      "Requirement already satisfied: six>=1.5 in /usr/local/lib/python3.9/dist-packages (from python-dateutil->eo-learn-features) (1.16.0)\n",
      "Requirement already satisfied: threadpoolctl>=2.0.0 in /usr/local/lib/python3.9/dist-packages (from scikit-learn->eo-learn-features) (3.1.0)\n",
      "Requirement already satisfied: joblib>=1.1.1 in /usr/local/lib/python3.9/dist-packages (from scikit-learn->eo-learn-features) (1.2.0)\n",
      "Requirement already satisfied: pandas>=1.0.0 in /usr/local/lib/python3.9/dist-packages (from geopandas>=0.8.1->eo-learn-core->eo-learn-features) (1.5.3)\n",
      "Requirement already satisfied: pyproj>=2.6.1.post1 in /usr/local/lib/python3.9/dist-packages (from geopandas>=0.8.1->eo-learn-core->eo-learn-features) (3.5.0)\n",
      "Requirement already satisfied: fiona>=1.8 in /usr/local/lib/python3.9/dist-packages (from geopandas>=0.8.1->eo-learn-core->eo-learn-features) (1.9.3)\n",
      "Requirement already satisfied: shapely>=1.7 in /usr/local/lib/python3.9/dist-packages (from geopandas>=0.8.1->eo-learn-core->eo-learn-features) (2.0.1)\n",
      "Requirement already satisfied: aenum>=2.1.4 in /usr/local/lib/python3.9/dist-packages (from sentinelhub>=3.8.1->eo-learn-core->eo-learn-features) (3.1.12)\n",
      "Requirement already satisfied: requests>=2.27.0 in /usr/local/lib/python3.9/dist-packages (from sentinelhub>=3.8.1->eo-learn-core->eo-learn-features) (2.27.1)\n",
      "Requirement already satisfied: click in /usr/local/lib/python3.9/dist-packages (from sentinelhub>=3.8.1->eo-learn-core->eo-learn-features) (8.1.3)\n",
      "Requirement already satisfied: utm in /usr/local/lib/python3.9/dist-packages (from sentinelhub>=3.8.1->eo-learn-core->eo-learn-features) (0.7.0)\n",
      "Requirement already satisfied: oauthlib in /usr/local/lib/python3.9/dist-packages (from sentinelhub>=3.8.1->eo-learn-core->eo-learn-features) (3.2.2)\n",
      "Requirement already satisfied: requests-oauthlib>=1.0.0 in /usr/local/lib/python3.9/dist-packages (from sentinelhub>=3.8.1->eo-learn-core->eo-learn-features) (1.3.1)\n",
      "Requirement already satisfied: tomli-w in /usr/local/lib/python3.9/dist-packages (from sentinelhub>=3.8.1->eo-learn-core->eo-learn-features) (1.0.0)\n",
      "Requirement already satisfied: dataclasses-json in /usr/local/lib/python3.9/dist-packages (from sentinelhub>=3.8.1->eo-learn-core->eo-learn-features) (0.5.7)\n",
      "Requirement already satisfied: tomli in /usr/local/lib/python3.9/dist-packages (from sentinelhub>=3.8.1->eo-learn-core->eo-learn-features) (2.0.1)\n",
      "Requirement already satisfied: botocore<1.30.0,>=1.29.115 in /usr/local/lib/python3.9/dist-packages (from boto3->eo-learn-core->eo-learn-features) (1.29.115)\n",
      "Requirement already satisfied: s3transfer<0.7.0,>=0.6.0 in /usr/local/lib/python3.9/dist-packages (from boto3->eo-learn-core->eo-learn-features) (0.6.0)\n",
      "Requirement already satisfied: jmespath<2.0.0,>=0.7.1 in /usr/local/lib/python3.9/dist-packages (from boto3->eo-learn-core->eo-learn-features) (1.0.1)\n",
      "Requirement already satisfied: appdirs~=1.4.3 in /usr/local/lib/python3.9/dist-packages (from fs->eo-learn-core->eo-learn-features) (1.4.4)\n",
      "Requirement already satisfied: urllib3<1.27,>=1.25.4 in /usr/local/lib/python3.9/dist-packages (from botocore<1.30.0,>=1.29.115->boto3->eo-learn-core->eo-learn-features) (1.26.15)\n",
      "Requirement already satisfied: click-plugins>=1.0 in /usr/local/lib/python3.9/dist-packages (from fiona>=1.8->geopandas>=0.8.1->eo-learn-core->eo-learn-features) (1.1.1)\n",
      "Requirement already satisfied: certifi in /usr/local/lib/python3.9/dist-packages (from fiona>=1.8->geopandas>=0.8.1->eo-learn-core->eo-learn-features) (2022.12.7)\n",
      "Requirement already satisfied: cligj>=0.5 in /usr/local/lib/python3.9/dist-packages (from fiona>=1.8->geopandas>=0.8.1->eo-learn-core->eo-learn-features) (0.7.2)\n",
      "Requirement already satisfied: munch>=2.3.2 in /usr/local/lib/python3.9/dist-packages (from fiona>=1.8->geopandas>=0.8.1->eo-learn-core->eo-learn-features) (2.5.0)\n",
      "Requirement already satisfied: importlib-metadata in /usr/local/lib/python3.9/dist-packages (from fiona>=1.8->geopandas>=0.8.1->eo-learn-core->eo-learn-features) (6.3.0)\n",
      "Requirement already satisfied: pytz>=2020.1 in /usr/local/lib/python3.9/dist-packages (from pandas>=1.0.0->geopandas>=0.8.1->eo-learn-core->eo-learn-features) (2022.7.1)\n",
      "Requirement already satisfied: idna<4,>=2.5 in /usr/local/lib/python3.9/dist-packages (from requests>=2.27.0->sentinelhub>=3.8.1->eo-learn-core->eo-learn-features) (3.4)\n",
      "Requirement already satisfied: charset-normalizer~=2.0.0 in /usr/local/lib/python3.9/dist-packages (from requests>=2.27.0->sentinelhub>=3.8.1->eo-learn-core->eo-learn-features) (2.0.12)\n",
      "Requirement already satisfied: marshmallow<4.0.0,>=3.3.0 in /usr/local/lib/python3.9/dist-packages (from dataclasses-json->sentinelhub>=3.8.1->eo-learn-core->eo-learn-features) (3.19.0)\n",
      "Requirement already satisfied: typing-inspect>=0.4.0 in /usr/local/lib/python3.9/dist-packages (from dataclasses-json->sentinelhub>=3.8.1->eo-learn-core->eo-learn-features) (0.8.0)\n",
      "Requirement already satisfied: marshmallow-enum<2.0.0,>=1.5.1 in /usr/local/lib/python3.9/dist-packages (from dataclasses-json->sentinelhub>=3.8.1->eo-learn-core->eo-learn-features) (1.5.1)\n",
      "Requirement already satisfied: mypy-extensions>=0.3.0 in /usr/local/lib/python3.9/dist-packages (from typing-inspect>=0.4.0->dataclasses-json->sentinelhub>=3.8.1->eo-learn-core->eo-learn-features) (1.0.0)\n",
      "Requirement already satisfied: zipp>=0.5 in /usr/local/lib/python3.9/dist-packages (from importlib-metadata->fiona>=1.8->geopandas>=0.8.1->eo-learn-core->eo-learn-features) (3.15.0)\n",
      "Looking in indexes: https://pypi.org/simple, https://us-python.pkg.dev/colab-wheels/public/simple/\n",
      "Requirement already satisfied: eo-learn-geometry in /usr/local/lib/python3.9/dist-packages (1.4.1)\n",
      "Requirement already satisfied: eo-learn-core in /usr/local/lib/python3.9/dist-packages (from eo-learn-geometry) (1.4.1)\n",
      "Requirement already satisfied: geopandas>=0.8.1 in /usr/local/lib/python3.9/dist-packages (from eo-learn-geometry) (0.12.2)\n",
      "Requirement already satisfied: scikit-image>=0.15.0 in /usr/local/lib/python3.9/dist-packages (from eo-learn-geometry) (0.19.3)\n",
      "Requirement already satisfied: shapely in /usr/local/lib/python3.9/dist-packages (from eo-learn-geometry) (2.0.1)\n",
      "Requirement already satisfied: rasterio>=1.2.7 in /usr/local/lib/python3.9/dist-packages (from eo-learn-geometry) (1.3.6)\n",
      "Requirement already satisfied: fiona>=1.8 in /usr/local/lib/python3.9/dist-packages (from geopandas>=0.8.1->eo-learn-geometry) (1.9.3)\n",
      "Requirement already satisfied: pyproj>=2.6.1.post1 in /usr/local/lib/python3.9/dist-packages (from geopandas>=0.8.1->eo-learn-geometry) (3.5.0)\n",
      "Requirement already satisfied: packaging in /usr/local/lib/python3.9/dist-packages (from geopandas>=0.8.1->eo-learn-geometry) (23.0)\n",
      "Requirement already satisfied: pandas>=1.0.0 in /usr/local/lib/python3.9/dist-packages (from geopandas>=0.8.1->eo-learn-geometry) (1.5.3)\n",
      "Requirement already satisfied: affine in /usr/local/lib/python3.9/dist-packages (from rasterio>=1.2.7->eo-learn-geometry) (2.4.0)\n",
      "Requirement already satisfied: click-plugins in /usr/local/lib/python3.9/dist-packages (from rasterio>=1.2.7->eo-learn-geometry) (1.1.1)\n",
      "Requirement already satisfied: numpy>=1.18 in /usr/local/lib/python3.9/dist-packages (from rasterio>=1.2.7->eo-learn-geometry) (1.22.4)\n",
      "Requirement already satisfied: attrs in /usr/local/lib/python3.9/dist-packages (from rasterio>=1.2.7->eo-learn-geometry) (22.2.0)\n",
      "Requirement already satisfied: snuggs>=1.4.1 in /usr/local/lib/python3.9/dist-packages (from rasterio>=1.2.7->eo-learn-geometry) (1.4.7)\n",
      "Requirement already satisfied: setuptools in /usr/local/lib/python3.9/dist-packages (from rasterio>=1.2.7->eo-learn-geometry) (67.6.1)\n",
      "Requirement already satisfied: click>=4.0 in /usr/local/lib/python3.9/dist-packages (from rasterio>=1.2.7->eo-learn-geometry) (8.1.3)\n",
      "Requirement already satisfied: certifi in /usr/local/lib/python3.9/dist-packages (from rasterio>=1.2.7->eo-learn-geometry) (2022.12.7)\n",
      "Requirement already satisfied: cligj>=0.5 in /usr/local/lib/python3.9/dist-packages (from rasterio>=1.2.7->eo-learn-geometry) (0.7.2)\n",
      "Requirement already satisfied: imageio>=2.4.1 in /usr/local/lib/python3.9/dist-packages (from scikit-image>=0.15.0->eo-learn-geometry) (2.25.1)\n",
      "Requirement already satisfied: scipy>=1.4.1 in /usr/local/lib/python3.9/dist-packages (from scikit-image>=0.15.0->eo-learn-geometry) (1.10.1)\n",
      "Requirement already satisfied: pillow!=7.1.0,!=7.1.1,!=8.3.0,>=6.1.0 in /usr/local/lib/python3.9/dist-packages (from scikit-image>=0.15.0->eo-learn-geometry) (9.5.0)\n",
      "Requirement already satisfied: tifffile>=2019.7.26 in /usr/local/lib/python3.9/dist-packages (from scikit-image>=0.15.0->eo-learn-geometry) (2023.3.21)\n",
      "Requirement already satisfied: PyWavelets>=1.1.1 in /usr/local/lib/python3.9/dist-packages (from scikit-image>=0.15.0->eo-learn-geometry) (1.4.1)\n",
      "Requirement already satisfied: networkx>=2.2 in /usr/local/lib/python3.9/dist-packages (from scikit-image>=0.15.0->eo-learn-geometry) (3.1)\n",
      "Requirement already satisfied: boto3 in /usr/local/lib/python3.9/dist-packages (from eo-learn-core->eo-learn-geometry) (1.26.115)\n",
      "Requirement already satisfied: typing-extensions in /usr/local/lib/python3.9/dist-packages (from eo-learn-core->eo-learn-geometry) (4.5.0)\n",
      "Requirement already satisfied: python-dateutil in /usr/local/lib/python3.9/dist-packages (from eo-learn-core->eo-learn-geometry) (2.8.2)\n",
      "Requirement already satisfied: sentinelhub>=3.8.1 in /usr/local/lib/python3.9/dist-packages (from eo-learn-core->eo-learn-geometry) (3.9.0)\n",
      "Requirement already satisfied: fs in /usr/local/lib/python3.9/dist-packages (from eo-learn-core->eo-learn-geometry) (2.4.16)\n",
      "Requirement already satisfied: fs-s3fs in /usr/local/lib/python3.9/dist-packages (from eo-learn-core->eo-learn-geometry) (1.1.1)\n",
      "Requirement already satisfied: tqdm>=4.27 in /usr/local/lib/python3.9/dist-packages (from eo-learn-core->eo-learn-geometry) (4.65.0)\n",
      "Requirement already satisfied: munch>=2.3.2 in /usr/local/lib/python3.9/dist-packages (from fiona>=1.8->geopandas>=0.8.1->eo-learn-geometry) (2.5.0)\n",
      "Requirement already satisfied: importlib-metadata in /usr/local/lib/python3.9/dist-packages (from fiona>=1.8->geopandas>=0.8.1->eo-learn-geometry) (6.3.0)\n",
      "Requirement already satisfied: pytz>=2020.1 in /usr/local/lib/python3.9/dist-packages (from pandas>=1.0.0->geopandas>=0.8.1->eo-learn-geometry) (2022.7.1)\n",
      "Requirement already satisfied: six>=1.5 in /usr/local/lib/python3.9/dist-packages (from python-dateutil->eo-learn-core->eo-learn-geometry) (1.16.0)\n",
      "Requirement already satisfied: utm in /usr/local/lib/python3.9/dist-packages (from sentinelhub>=3.8.1->eo-learn-core->eo-learn-geometry) (0.7.0)\n",
      "Requirement already satisfied: requests-oauthlib>=1.0.0 in /usr/local/lib/python3.9/dist-packages (from sentinelhub>=3.8.1->eo-learn-core->eo-learn-geometry) (1.3.1)\n",
      "Requirement already satisfied: tomli in /usr/local/lib/python3.9/dist-packages (from sentinelhub>=3.8.1->eo-learn-core->eo-learn-geometry) (2.0.1)\n",
      "Requirement already satisfied: aenum>=2.1.4 in /usr/local/lib/python3.9/dist-packages (from sentinelhub>=3.8.1->eo-learn-core->eo-learn-geometry) (3.1.12)\n",
      "Requirement already satisfied: oauthlib in /usr/local/lib/python3.9/dist-packages (from sentinelhub>=3.8.1->eo-learn-core->eo-learn-geometry) (3.2.2)\n",
      "Requirement already satisfied: dataclasses-json in /usr/local/lib/python3.9/dist-packages (from sentinelhub>=3.8.1->eo-learn-core->eo-learn-geometry) (0.5.7)\n",
      "Requirement already satisfied: requests>=2.27.0 in /usr/local/lib/python3.9/dist-packages (from sentinelhub>=3.8.1->eo-learn-core->eo-learn-geometry) (2.27.1)\n",
      "Requirement already satisfied: tomli-w in /usr/local/lib/python3.9/dist-packages (from sentinelhub>=3.8.1->eo-learn-core->eo-learn-geometry) (1.0.0)\n",
      "Requirement already satisfied: pyparsing>=2.1.6 in /usr/local/lib/python3.9/dist-packages (from snuggs>=1.4.1->rasterio>=1.2.7->eo-learn-geometry) (3.0.9)\n",
      "Requirement already satisfied: botocore<1.30.0,>=1.29.115 in /usr/local/lib/python3.9/dist-packages (from boto3->eo-learn-core->eo-learn-geometry) (1.29.115)\n",
      "Requirement already satisfied: s3transfer<0.7.0,>=0.6.0 in /usr/local/lib/python3.9/dist-packages (from boto3->eo-learn-core->eo-learn-geometry) (0.6.0)\n",
      "Requirement already satisfied: jmespath<2.0.0,>=0.7.1 in /usr/local/lib/python3.9/dist-packages (from boto3->eo-learn-core->eo-learn-geometry) (1.0.1)\n",
      "Requirement already satisfied: appdirs~=1.4.3 in /usr/local/lib/python3.9/dist-packages (from fs->eo-learn-core->eo-learn-geometry) (1.4.4)\n",
      "Requirement already satisfied: urllib3<1.27,>=1.25.4 in /usr/local/lib/python3.9/dist-packages (from botocore<1.30.0,>=1.29.115->boto3->eo-learn-core->eo-learn-geometry) (1.26.15)\n",
      "Requirement already satisfied: idna<4,>=2.5 in /usr/local/lib/python3.9/dist-packages (from requests>=2.27.0->sentinelhub>=3.8.1->eo-learn-core->eo-learn-geometry) (3.4)\n",
      "Requirement already satisfied: charset-normalizer~=2.0.0 in /usr/local/lib/python3.9/dist-packages (from requests>=2.27.0->sentinelhub>=3.8.1->eo-learn-core->eo-learn-geometry) (2.0.12)\n",
      "Requirement already satisfied: marshmallow<4.0.0,>=3.3.0 in /usr/local/lib/python3.9/dist-packages (from dataclasses-json->sentinelhub>=3.8.1->eo-learn-core->eo-learn-geometry) (3.19.0)\n",
      "Requirement already satisfied: marshmallow-enum<2.0.0,>=1.5.1 in /usr/local/lib/python3.9/dist-packages (from dataclasses-json->sentinelhub>=3.8.1->eo-learn-core->eo-learn-geometry) (1.5.1)\n",
      "Requirement already satisfied: typing-inspect>=0.4.0 in /usr/local/lib/python3.9/dist-packages (from dataclasses-json->sentinelhub>=3.8.1->eo-learn-core->eo-learn-geometry) (0.8.0)\n",
      "Requirement already satisfied: zipp>=0.5 in /usr/local/lib/python3.9/dist-packages (from importlib-metadata->fiona>=1.8->geopandas>=0.8.1->eo-learn-geometry) (3.15.0)\n",
      "Requirement already satisfied: mypy-extensions>=0.3.0 in /usr/local/lib/python3.9/dist-packages (from typing-inspect>=0.4.0->dataclasses-json->sentinelhub>=3.8.1->eo-learn-core->eo-learn-geometry) (1.0.0)\n",
      "Looking in indexes: https://pypi.org/simple, https://us-python.pkg.dev/colab-wheels/public/simple/\n",
      "Requirement already satisfied: eo-learn-io in /usr/local/lib/python3.9/dist-packages (1.4.1)\n",
      "Requirement already satisfied: affine in /usr/local/lib/python3.9/dist-packages (from eo-learn-io) (2.4.0)\n",
      "Requirement already satisfied: sentinelhub>=3.8.0 in /usr/local/lib/python3.9/dist-packages (from eo-learn-io) (3.9.0)\n",
      "Requirement already satisfied: eo-learn-core in /usr/local/lib/python3.9/dist-packages (from eo-learn-io) (1.4.1)\n",
      "Requirement already satisfied: boto3 in /usr/local/lib/python3.9/dist-packages (from eo-learn-io) (1.26.115)\n",
      "Requirement already satisfied: geopandas>=0.8.1 in /usr/local/lib/python3.9/dist-packages (from eo-learn-io) (0.12.2)\n",
      "Requirement already satisfied: typing-extensions in /usr/local/lib/python3.9/dist-packages (from eo-learn-io) (4.5.0)\n",
      "Requirement already satisfied: rasterio>=1.2.7 in /usr/local/lib/python3.9/dist-packages (from eo-learn-io) (1.3.6)\n",
      "Requirement already satisfied: fiona>=1.8.18 in /usr/local/lib/python3.9/dist-packages (from eo-learn-io) (1.9.3)\n",
      "Requirement already satisfied: rtree in /usr/local/lib/python3.9/dist-packages (from eo-learn-io) (1.0.1)\n",
      "Requirement already satisfied: cligj>=0.5 in /usr/local/lib/python3.9/dist-packages (from fiona>=1.8.18->eo-learn-io) (0.7.2)\n",
      "Requirement already satisfied: certifi in /usr/local/lib/python3.9/dist-packages (from fiona>=1.8.18->eo-learn-io) (2022.12.7)\n",
      "Requirement already satisfied: click-plugins>=1.0 in /usr/local/lib/python3.9/dist-packages (from fiona>=1.8.18->eo-learn-io) (1.1.1)\n",
      "Requirement already satisfied: importlib-metadata in /usr/local/lib/python3.9/dist-packages (from fiona>=1.8.18->eo-learn-io) (6.3.0)\n",
      "Requirement already satisfied: attrs>=19.2.0 in /usr/local/lib/python3.9/dist-packages (from fiona>=1.8.18->eo-learn-io) (22.2.0)\n",
      "Requirement already satisfied: click~=8.0 in /usr/local/lib/python3.9/dist-packages (from fiona>=1.8.18->eo-learn-io) (8.1.3)\n",
      "Requirement already satisfied: munch>=2.3.2 in /usr/local/lib/python3.9/dist-packages (from fiona>=1.8.18->eo-learn-io) (2.5.0)\n",
      "Requirement already satisfied: pyproj>=2.6.1.post1 in /usr/local/lib/python3.9/dist-packages (from geopandas>=0.8.1->eo-learn-io) (3.5.0)\n",
      "Requirement already satisfied: shapely>=1.7 in /usr/local/lib/python3.9/dist-packages (from geopandas>=0.8.1->eo-learn-io) (2.0.1)\n",
      "Requirement already satisfied: pandas>=1.0.0 in /usr/local/lib/python3.9/dist-packages (from geopandas>=0.8.1->eo-learn-io) (1.5.3)\n",
      "Requirement already satisfied: packaging in /usr/local/lib/python3.9/dist-packages (from geopandas>=0.8.1->eo-learn-io) (23.0)\n",
      "Requirement already satisfied: setuptools in /usr/local/lib/python3.9/dist-packages (from rasterio>=1.2.7->eo-learn-io) (67.6.1)\n",
      "Requirement already satisfied: snuggs>=1.4.1 in /usr/local/lib/python3.9/dist-packages (from rasterio>=1.2.7->eo-learn-io) (1.4.7)\n",
      "Requirement already satisfied: numpy>=1.18 in /usr/local/lib/python3.9/dist-packages (from rasterio>=1.2.7->eo-learn-io) (1.22.4)\n",
      "Requirement already satisfied: tomli-w in /usr/local/lib/python3.9/dist-packages (from sentinelhub>=3.8.0->eo-learn-io) (1.0.0)\n",
      "Requirement already satisfied: requests-oauthlib>=1.0.0 in /usr/local/lib/python3.9/dist-packages (from sentinelhub>=3.8.0->eo-learn-io) (1.3.1)\n",
      "Requirement already satisfied: requests>=2.27.0 in /usr/local/lib/python3.9/dist-packages (from sentinelhub>=3.8.0->eo-learn-io) (2.27.1)\n",
      "Requirement already satisfied: utm in /usr/local/lib/python3.9/dist-packages (from sentinelhub>=3.8.0->eo-learn-io) (0.7.0)\n",
      "Requirement already satisfied: oauthlib in /usr/local/lib/python3.9/dist-packages (from sentinelhub>=3.8.0->eo-learn-io) (3.2.2)\n",
      "Requirement already satisfied: pillow>=9.2.0 in /usr/local/lib/python3.9/dist-packages (from sentinelhub>=3.8.0->eo-learn-io) (9.5.0)\n",
      "Requirement already satisfied: tifffile>=2020.9.30 in /usr/local/lib/python3.9/dist-packages (from sentinelhub>=3.8.0->eo-learn-io) (2023.3.21)\n",
      "Requirement already satisfied: aenum>=2.1.4 in /usr/local/lib/python3.9/dist-packages (from sentinelhub>=3.8.0->eo-learn-io) (3.1.12)\n",
      "Requirement already satisfied: dataclasses-json in /usr/local/lib/python3.9/dist-packages (from sentinelhub>=3.8.0->eo-learn-io) (0.5.7)\n",
      "Requirement already satisfied: tqdm in /usr/local/lib/python3.9/dist-packages (from sentinelhub>=3.8.0->eo-learn-io) (4.65.0)\n",
      "Requirement already satisfied: tomli in /usr/local/lib/python3.9/dist-packages (from sentinelhub>=3.8.0->eo-learn-io) (2.0.1)\n",
      "Requirement already satisfied: python-dateutil in /usr/local/lib/python3.9/dist-packages (from sentinelhub>=3.8.0->eo-learn-io) (2.8.2)\n",
      "Requirement already satisfied: jmespath<2.0.0,>=0.7.1 in /usr/local/lib/python3.9/dist-packages (from boto3->eo-learn-io) (1.0.1)\n",
      "Requirement already satisfied: s3transfer<0.7.0,>=0.6.0 in /usr/local/lib/python3.9/dist-packages (from boto3->eo-learn-io) (0.6.0)\n",
      "Requirement already satisfied: botocore<1.30.0,>=1.29.115 in /usr/local/lib/python3.9/dist-packages (from boto3->eo-learn-io) (1.29.115)\n",
      "Requirement already satisfied: fs-s3fs in /usr/local/lib/python3.9/dist-packages (from eo-learn-core->eo-learn-io) (1.1.1)\n",
      "Requirement already satisfied: fs in /usr/local/lib/python3.9/dist-packages (from eo-learn-core->eo-learn-io) (2.4.16)\n",
      "Requirement already satisfied: urllib3<1.27,>=1.25.4 in /usr/local/lib/python3.9/dist-packages (from botocore<1.30.0,>=1.29.115->boto3->eo-learn-io) (1.26.15)\n",
      "Requirement already satisfied: six in /usr/local/lib/python3.9/dist-packages (from munch>=2.3.2->fiona>=1.8.18->eo-learn-io) (1.16.0)\n",
      "Requirement already satisfied: pytz>=2020.1 in /usr/local/lib/python3.9/dist-packages (from pandas>=1.0.0->geopandas>=0.8.1->eo-learn-io) (2022.7.1)\n",
      "Requirement already satisfied: idna<4,>=2.5 in /usr/local/lib/python3.9/dist-packages (from requests>=2.27.0->sentinelhub>=3.8.0->eo-learn-io) (3.4)\n",
      "Requirement already satisfied: charset-normalizer~=2.0.0 in /usr/local/lib/python3.9/dist-packages (from requests>=2.27.0->sentinelhub>=3.8.0->eo-learn-io) (2.0.12)\n",
      "Requirement already satisfied: pyparsing>=2.1.6 in /usr/local/lib/python3.9/dist-packages (from snuggs>=1.4.1->rasterio>=1.2.7->eo-learn-io) (3.0.9)\n",
      "Requirement already satisfied: marshmallow-enum<2.0.0,>=1.5.1 in /usr/local/lib/python3.9/dist-packages (from dataclasses-json->sentinelhub>=3.8.0->eo-learn-io) (1.5.1)\n",
      "Requirement already satisfied: marshmallow<4.0.0,>=3.3.0 in /usr/local/lib/python3.9/dist-packages (from dataclasses-json->sentinelhub>=3.8.0->eo-learn-io) (3.19.0)\n",
      "Requirement already satisfied: typing-inspect>=0.4.0 in /usr/local/lib/python3.9/dist-packages (from dataclasses-json->sentinelhub>=3.8.0->eo-learn-io) (0.8.0)\n",
      "Requirement already satisfied: appdirs~=1.4.3 in /usr/local/lib/python3.9/dist-packages (from fs->eo-learn-core->eo-learn-io) (1.4.4)\n",
      "Requirement already satisfied: zipp>=0.5 in /usr/local/lib/python3.9/dist-packages (from importlib-metadata->fiona>=1.8.18->eo-learn-io) (3.15.0)\n",
      "Requirement already satisfied: mypy-extensions>=0.3.0 in /usr/local/lib/python3.9/dist-packages (from typing-inspect>=0.4.0->dataclasses-json->sentinelhub>=3.8.0->eo-learn-io) (1.0.0)\n",
      "Looking in indexes: https://pypi.org/simple, https://us-python.pkg.dev/colab-wheels/public/simple/\n",
      "Requirement already satisfied: eo-learn-mask in /usr/local/lib/python3.9/dist-packages (1.4.1)\n",
      "Requirement already satisfied: eo-learn-core in /usr/local/lib/python3.9/dist-packages (from eo-learn-mask) (1.4.1)\n",
      "Requirement already satisfied: opencv-python-headless in /usr/local/lib/python3.9/dist-packages (from eo-learn-mask) (4.7.0.72)\n",
      "Requirement already satisfied: typing-extensions in /usr/local/lib/python3.9/dist-packages (from eo-learn-mask) (4.5.0)\n",
      "Requirement already satisfied: numpy in /usr/local/lib/python3.9/dist-packages (from eo-learn-mask) (1.22.4)\n",
      "Requirement already satisfied: sentinelhub in /usr/local/lib/python3.9/dist-packages (from eo-learn-mask) (3.9.0)\n",
      "Requirement already satisfied: scikit-image>=0.13.0 in /usr/local/lib/python3.9/dist-packages (from eo-learn-mask) (0.19.3)\n",
      "Requirement already satisfied: lightgbm>=2.0.11 in /usr/local/lib/python3.9/dist-packages (from eo-learn-mask) (3.3.5)\n",
      "Requirement already satisfied: scikit-learn!=0.22.0 in /usr/local/lib/python3.9/dist-packages (from lightgbm>=2.0.11->eo-learn-mask) (1.2.2)\n",
      "Requirement already satisfied: wheel in /usr/local/lib/python3.9/dist-packages (from lightgbm>=2.0.11->eo-learn-mask) (0.40.0)\n",
      "Requirement already satisfied: scipy in /usr/local/lib/python3.9/dist-packages (from lightgbm>=2.0.11->eo-learn-mask) (1.10.1)\n",
      "Requirement already satisfied: networkx>=2.2 in /usr/local/lib/python3.9/dist-packages (from scikit-image>=0.13.0->eo-learn-mask) (3.1)\n",
      "Requirement already satisfied: packaging>=20.0 in /usr/local/lib/python3.9/dist-packages (from scikit-image>=0.13.0->eo-learn-mask) (23.0)\n",
      "Requirement already satisfied: pillow!=7.1.0,!=7.1.1,!=8.3.0,>=6.1.0 in /usr/local/lib/python3.9/dist-packages (from scikit-image>=0.13.0->eo-learn-mask) (9.5.0)\n",
      "Requirement already satisfied: PyWavelets>=1.1.1 in /usr/local/lib/python3.9/dist-packages (from scikit-image>=0.13.0->eo-learn-mask) (1.4.1)\n",
      "Requirement already satisfied: tifffile>=2019.7.26 in /usr/local/lib/python3.9/dist-packages (from scikit-image>=0.13.0->eo-learn-mask) (2023.3.21)\n",
      "Requirement already satisfied: imageio>=2.4.1 in /usr/local/lib/python3.9/dist-packages (from scikit-image>=0.13.0->eo-learn-mask) (2.25.1)\n",
      "Requirement already satisfied: python-dateutil in /usr/local/lib/python3.9/dist-packages (from eo-learn-core->eo-learn-mask) (2.8.2)\n",
      "Requirement already satisfied: fs-s3fs in /usr/local/lib/python3.9/dist-packages (from eo-learn-core->eo-learn-mask) (1.1.1)\n",
      "Requirement already satisfied: attrs>=19.2.0 in /usr/local/lib/python3.9/dist-packages (from eo-learn-core->eo-learn-mask) (22.2.0)\n",
      "Requirement already satisfied: tqdm>=4.27 in /usr/local/lib/python3.9/dist-packages (from eo-learn-core->eo-learn-mask) (4.65.0)\n",
      "Requirement already satisfied: geopandas>=0.8.1 in /usr/local/lib/python3.9/dist-packages (from eo-learn-core->eo-learn-mask) (0.12.2)\n",
      "Requirement already satisfied: fs in /usr/local/lib/python3.9/dist-packages (from eo-learn-core->eo-learn-mask) (2.4.16)\n",
      "Requirement already satisfied: boto3 in /usr/local/lib/python3.9/dist-packages (from eo-learn-core->eo-learn-mask) (1.26.115)\n",
      "Requirement already satisfied: aenum>=2.1.4 in /usr/local/lib/python3.9/dist-packages (from sentinelhub->eo-learn-mask) (3.1.12)\n",
      "Requirement already satisfied: utm in /usr/local/lib/python3.9/dist-packages (from sentinelhub->eo-learn-mask) (0.7.0)\n",
      "Requirement already satisfied: tomli-w in /usr/local/lib/python3.9/dist-packages (from sentinelhub->eo-learn-mask) (1.0.0)\n",
      "Requirement already satisfied: requests>=2.27.0 in /usr/local/lib/python3.9/dist-packages (from sentinelhub->eo-learn-mask) (2.27.1)\n",
      "Requirement already satisfied: tomli in /usr/local/lib/python3.9/dist-packages (from sentinelhub->eo-learn-mask) (2.0.1)\n",
      "Requirement already satisfied: shapely in /usr/local/lib/python3.9/dist-packages (from sentinelhub->eo-learn-mask) (2.0.1)\n",
      "Requirement already satisfied: oauthlib in /usr/local/lib/python3.9/dist-packages (from sentinelhub->eo-learn-mask) (3.2.2)\n",
      "Requirement already satisfied: requests-oauthlib>=1.0.0 in /usr/local/lib/python3.9/dist-packages (from sentinelhub->eo-learn-mask) (1.3.1)\n",
      "Requirement already satisfied: pyproj>=2.2.0 in /usr/local/lib/python3.9/dist-packages (from sentinelhub->eo-learn-mask) (3.5.0)\n",
      "Requirement already satisfied: click in /usr/local/lib/python3.9/dist-packages (from sentinelhub->eo-learn-mask) (8.1.3)\n",
      "Requirement already satisfied: dataclasses-json in /usr/local/lib/python3.9/dist-packages (from sentinelhub->eo-learn-mask) (0.5.7)\n",
      "Requirement already satisfied: fiona>=1.8 in /usr/local/lib/python3.9/dist-packages (from geopandas>=0.8.1->eo-learn-core->eo-learn-mask) (1.9.3)\n",
      "Requirement already satisfied: pandas>=1.0.0 in /usr/local/lib/python3.9/dist-packages (from geopandas>=0.8.1->eo-learn-core->eo-learn-mask) (1.5.3)\n",
      "Requirement already satisfied: certifi in /usr/local/lib/python3.9/dist-packages (from pyproj>=2.2.0->sentinelhub->eo-learn-mask) (2022.12.7)\n",
      "Requirement already satisfied: idna<4,>=2.5 in /usr/local/lib/python3.9/dist-packages (from requests>=2.27.0->sentinelhub->eo-learn-mask) (3.4)\n",
      "Requirement already satisfied: urllib3<1.27,>=1.21.1 in /usr/local/lib/python3.9/dist-packages (from requests>=2.27.0->sentinelhub->eo-learn-mask) (1.26.15)\n",
      "Requirement already satisfied: charset-normalizer~=2.0.0 in /usr/local/lib/python3.9/dist-packages (from requests>=2.27.0->sentinelhub->eo-learn-mask) (2.0.12)\n",
      "Requirement already satisfied: joblib>=1.1.1 in /usr/local/lib/python3.9/dist-packages (from scikit-learn!=0.22.0->lightgbm>=2.0.11->eo-learn-mask) (1.2.0)\n",
      "Requirement already satisfied: threadpoolctl>=2.0.0 in /usr/local/lib/python3.9/dist-packages (from scikit-learn!=0.22.0->lightgbm>=2.0.11->eo-learn-mask) (3.1.0)\n",
      "Requirement already satisfied: botocore<1.30.0,>=1.29.115 in /usr/local/lib/python3.9/dist-packages (from boto3->eo-learn-core->eo-learn-mask) (1.29.115)\n",
      "Requirement already satisfied: s3transfer<0.7.0,>=0.6.0 in /usr/local/lib/python3.9/dist-packages (from boto3->eo-learn-core->eo-learn-mask) (0.6.0)\n",
      "Requirement already satisfied: jmespath<2.0.0,>=0.7.1 in /usr/local/lib/python3.9/dist-packages (from boto3->eo-learn-core->eo-learn-mask) (1.0.1)\n",
      "Requirement already satisfied: marshmallow<4.0.0,>=3.3.0 in /usr/local/lib/python3.9/dist-packages (from dataclasses-json->sentinelhub->eo-learn-mask) (3.19.0)\n",
      "Requirement already satisfied: marshmallow-enum<2.0.0,>=1.5.1 in /usr/local/lib/python3.9/dist-packages (from dataclasses-json->sentinelhub->eo-learn-mask) (1.5.1)\n",
      "Requirement already satisfied: typing-inspect>=0.4.0 in /usr/local/lib/python3.9/dist-packages (from dataclasses-json->sentinelhub->eo-learn-mask) (0.8.0)\n",
      "Requirement already satisfied: appdirs~=1.4.3 in /usr/local/lib/python3.9/dist-packages (from fs->eo-learn-core->eo-learn-mask) (1.4.4)\n",
      "Requirement already satisfied: setuptools in /usr/local/lib/python3.9/dist-packages (from fs->eo-learn-core->eo-learn-mask) (67.6.1)\n",
      "Requirement already satisfied: six~=1.10 in /usr/local/lib/python3.9/dist-packages (from fs->eo-learn-core->eo-learn-mask) (1.16.0)\n",
      "Requirement already satisfied: cligj>=0.5 in /usr/local/lib/python3.9/dist-packages (from fiona>=1.8->geopandas>=0.8.1->eo-learn-core->eo-learn-mask) (0.7.2)\n",
      "Requirement already satisfied: click-plugins>=1.0 in /usr/local/lib/python3.9/dist-packages (from fiona>=1.8->geopandas>=0.8.1->eo-learn-core->eo-learn-mask) (1.1.1)\n",
      "Requirement already satisfied: importlib-metadata in /usr/local/lib/python3.9/dist-packages (from fiona>=1.8->geopandas>=0.8.1->eo-learn-core->eo-learn-mask) (6.3.0)\n",
      "Requirement already satisfied: munch>=2.3.2 in /usr/local/lib/python3.9/dist-packages (from fiona>=1.8->geopandas>=0.8.1->eo-learn-core->eo-learn-mask) (2.5.0)\n",
      "Requirement already satisfied: pytz>=2020.1 in /usr/local/lib/python3.9/dist-packages (from pandas>=1.0.0->geopandas>=0.8.1->eo-learn-core->eo-learn-mask) (2022.7.1)\n",
      "Requirement already satisfied: mypy-extensions>=0.3.0 in /usr/local/lib/python3.9/dist-packages (from typing-inspect>=0.4.0->dataclasses-json->sentinelhub->eo-learn-mask) (1.0.0)\n",
      "Requirement already satisfied: zipp>=0.5 in /usr/local/lib/python3.9/dist-packages (from importlib-metadata->fiona>=1.8->geopandas>=0.8.1->eo-learn-core->eo-learn-mask) (3.15.0)\n",
      "Looking in indexes: https://pypi.org/simple, https://us-python.pkg.dev/colab-wheels/public/simple/\n",
      "Requirement already satisfied: eo-learn-ml-tools in /usr/local/lib/python3.9/dist-packages (1.4.1)\n",
      "Requirement already satisfied: eo-learn-core in /usr/local/lib/python3.9/dist-packages (from eo-learn-ml-tools) (1.4.1)\n",
      "Requirement already satisfied: numpy in /usr/local/lib/python3.9/dist-packages (from eo-learn-ml-tools) (1.22.4)\n",
      "Requirement already satisfied: shapely in /usr/local/lib/python3.9/dist-packages (from eo-learn-ml-tools) (2.0.1)\n",
      "Requirement already satisfied: boto3 in /usr/local/lib/python3.9/dist-packages (from eo-learn-core->eo-learn-ml-tools) (1.26.115)\n",
      "Requirement already satisfied: attrs>=19.2.0 in /usr/local/lib/python3.9/dist-packages (from eo-learn-core->eo-learn-ml-tools) (22.2.0)\n",
      "Requirement already satisfied: fs-s3fs in /usr/local/lib/python3.9/dist-packages (from eo-learn-core->eo-learn-ml-tools) (1.1.1)\n",
      "Requirement already satisfied: geopandas>=0.8.1 in /usr/local/lib/python3.9/dist-packages (from eo-learn-core->eo-learn-ml-tools) (0.12.2)\n",
      "Requirement already satisfied: tqdm>=4.27 in /usr/local/lib/python3.9/dist-packages (from eo-learn-core->eo-learn-ml-tools) (4.65.0)\n",
      "Requirement already satisfied: sentinelhub>=3.8.1 in /usr/local/lib/python3.9/dist-packages (from eo-learn-core->eo-learn-ml-tools) (3.9.0)\n",
      "Requirement already satisfied: python-dateutil in /usr/local/lib/python3.9/dist-packages (from eo-learn-core->eo-learn-ml-tools) (2.8.2)\n",
      "Requirement already satisfied: typing-extensions in /usr/local/lib/python3.9/dist-packages (from eo-learn-core->eo-learn-ml-tools) (4.5.0)\n",
      "Requirement already satisfied: fs in /usr/local/lib/python3.9/dist-packages (from eo-learn-core->eo-learn-ml-tools) (2.4.16)\n",
      "Requirement already satisfied: pandas>=1.0.0 in /usr/local/lib/python3.9/dist-packages (from geopandas>=0.8.1->eo-learn-core->eo-learn-ml-tools) (1.5.3)\n",
      "Requirement already satisfied: packaging in /usr/local/lib/python3.9/dist-packages (from geopandas>=0.8.1->eo-learn-core->eo-learn-ml-tools) (23.0)\n",
      "Requirement already satisfied: fiona>=1.8 in /usr/local/lib/python3.9/dist-packages (from geopandas>=0.8.1->eo-learn-core->eo-learn-ml-tools) (1.9.3)\n",
      "Requirement already satisfied: pyproj>=2.6.1.post1 in /usr/local/lib/python3.9/dist-packages (from geopandas>=0.8.1->eo-learn-core->eo-learn-ml-tools) (3.5.0)\n",
      "Requirement already satisfied: tifffile>=2020.9.30 in /usr/local/lib/python3.9/dist-packages (from sentinelhub>=3.8.1->eo-learn-core->eo-learn-ml-tools) (2023.3.21)\n",
      "Requirement already satisfied: pillow>=9.2.0 in /usr/local/lib/python3.9/dist-packages (from sentinelhub>=3.8.1->eo-learn-core->eo-learn-ml-tools) (9.5.0)\n",
      "Requirement already satisfied: requests-oauthlib>=1.0.0 in /usr/local/lib/python3.9/dist-packages (from sentinelhub>=3.8.1->eo-learn-core->eo-learn-ml-tools) (1.3.1)\n",
      "Requirement already satisfied: requests>=2.27.0 in /usr/local/lib/python3.9/dist-packages (from sentinelhub>=3.8.1->eo-learn-core->eo-learn-ml-tools) (2.27.1)\n",
      "Requirement already satisfied: click in /usr/local/lib/python3.9/dist-packages (from sentinelhub>=3.8.1->eo-learn-core->eo-learn-ml-tools) (8.1.3)\n",
      "Requirement already satisfied: dataclasses-json in /usr/local/lib/python3.9/dist-packages (from sentinelhub>=3.8.1->eo-learn-core->eo-learn-ml-tools) (0.5.7)\n",
      "Requirement already satisfied: utm in /usr/local/lib/python3.9/dist-packages (from sentinelhub>=3.8.1->eo-learn-core->eo-learn-ml-tools) (0.7.0)\n",
      "Requirement already satisfied: tomli-w in /usr/local/lib/python3.9/dist-packages (from sentinelhub>=3.8.1->eo-learn-core->eo-learn-ml-tools) (1.0.0)\n",
      "Requirement already satisfied: tomli in /usr/local/lib/python3.9/dist-packages (from sentinelhub>=3.8.1->eo-learn-core->eo-learn-ml-tools) (2.0.1)\n",
      "Requirement already satisfied: oauthlib in /usr/local/lib/python3.9/dist-packages (from sentinelhub>=3.8.1->eo-learn-core->eo-learn-ml-tools) (3.2.2)\n",
      "Requirement already satisfied: aenum>=2.1.4 in /usr/local/lib/python3.9/dist-packages (from sentinelhub>=3.8.1->eo-learn-core->eo-learn-ml-tools) (3.1.12)\n",
      "Requirement already satisfied: s3transfer<0.7.0,>=0.6.0 in /usr/local/lib/python3.9/dist-packages (from boto3->eo-learn-core->eo-learn-ml-tools) (0.6.0)\n",
      "Requirement already satisfied: botocore<1.30.0,>=1.29.115 in /usr/local/lib/python3.9/dist-packages (from boto3->eo-learn-core->eo-learn-ml-tools) (1.29.115)\n",
      "Requirement already satisfied: jmespath<2.0.0,>=0.7.1 in /usr/local/lib/python3.9/dist-packages (from boto3->eo-learn-core->eo-learn-ml-tools) (1.0.1)\n",
      "Requirement already satisfied: six~=1.10 in /usr/local/lib/python3.9/dist-packages (from fs->eo-learn-core->eo-learn-ml-tools) (1.16.0)\n",
      "Requirement already satisfied: appdirs~=1.4.3 in /usr/local/lib/python3.9/dist-packages (from fs->eo-learn-core->eo-learn-ml-tools) (1.4.4)\n",
      "Requirement already satisfied: setuptools in /usr/local/lib/python3.9/dist-packages (from fs->eo-learn-core->eo-learn-ml-tools) (67.6.1)\n",
      "Requirement already satisfied: urllib3<1.27,>=1.25.4 in /usr/local/lib/python3.9/dist-packages (from botocore<1.30.0,>=1.29.115->boto3->eo-learn-core->eo-learn-ml-tools) (1.26.15)\n",
      "Requirement already satisfied: cligj>=0.5 in /usr/local/lib/python3.9/dist-packages (from fiona>=1.8->geopandas>=0.8.1->eo-learn-core->eo-learn-ml-tools) (0.7.2)\n",
      "Requirement already satisfied: importlib-metadata in /usr/local/lib/python3.9/dist-packages (from fiona>=1.8->geopandas>=0.8.1->eo-learn-core->eo-learn-ml-tools) (6.3.0)\n",
      "Requirement already satisfied: certifi in /usr/local/lib/python3.9/dist-packages (from fiona>=1.8->geopandas>=0.8.1->eo-learn-core->eo-learn-ml-tools) (2022.12.7)\n",
      "Requirement already satisfied: munch>=2.3.2 in /usr/local/lib/python3.9/dist-packages (from fiona>=1.8->geopandas>=0.8.1->eo-learn-core->eo-learn-ml-tools) (2.5.0)\n",
      "Requirement already satisfied: click-plugins>=1.0 in /usr/local/lib/python3.9/dist-packages (from fiona>=1.8->geopandas>=0.8.1->eo-learn-core->eo-learn-ml-tools) (1.1.1)\n",
      "Requirement already satisfied: pytz>=2020.1 in /usr/local/lib/python3.9/dist-packages (from pandas>=1.0.0->geopandas>=0.8.1->eo-learn-core->eo-learn-ml-tools) (2022.7.1)\n",
      "Requirement already satisfied: idna<4,>=2.5 in /usr/local/lib/python3.9/dist-packages (from requests>=2.27.0->sentinelhub>=3.8.1->eo-learn-core->eo-learn-ml-tools) (3.4)\n",
      "Requirement already satisfied: charset-normalizer~=2.0.0 in /usr/local/lib/python3.9/dist-packages (from requests>=2.27.0->sentinelhub>=3.8.1->eo-learn-core->eo-learn-ml-tools) (2.0.12)\n",
      "Requirement already satisfied: marshmallow-enum<2.0.0,>=1.5.1 in /usr/local/lib/python3.9/dist-packages (from dataclasses-json->sentinelhub>=3.8.1->eo-learn-core->eo-learn-ml-tools) (1.5.1)\n",
      "Requirement already satisfied: typing-inspect>=0.4.0 in /usr/local/lib/python3.9/dist-packages (from dataclasses-json->sentinelhub>=3.8.1->eo-learn-core->eo-learn-ml-tools) (0.8.0)\n",
      "Requirement already satisfied: marshmallow<4.0.0,>=3.3.0 in /usr/local/lib/python3.9/dist-packages (from dataclasses-json->sentinelhub>=3.8.1->eo-learn-core->eo-learn-ml-tools) (3.19.0)\n",
      "Requirement already satisfied: mypy-extensions>=0.3.0 in /usr/local/lib/python3.9/dist-packages (from typing-inspect>=0.4.0->dataclasses-json->sentinelhub>=3.8.1->eo-learn-core->eo-learn-ml-tools) (1.0.0)\n",
      "Requirement already satisfied: zipp>=0.5 in /usr/local/lib/python3.9/dist-packages (from importlib-metadata->fiona>=1.8->geopandas>=0.8.1->eo-learn-core->eo-learn-ml-tools) (3.15.0)\n",
      "Looking in indexes: https://pypi.org/simple, https://us-python.pkg.dev/colab-wheels/public/simple/\n",
      "Requirement already satisfied: eo-learn-visualization in /usr/local/lib/python3.9/dist-packages (1.4.1)\n",
      "Requirement already satisfied: eo-learn-core in /usr/local/lib/python3.9/dist-packages (from eo-learn-visualization) (1.4.1)\n",
      "Requirement already satisfied: pygments in /usr/local/lib/python3.9/dist-packages (from eo-learn-visualization) (2.14.0)\n",
      "Requirement already satisfied: matplotlib in /usr/local/lib/python3.9/dist-packages (from eo-learn-visualization) (3.8.0.dev882+g690884fac)\n",
      "Requirement already satisfied: jinja2 in /usr/local/lib/python3.9/dist-packages (from eo-learn-visualization) (3.1.2)\n",
      "Requirement already satisfied: graphviz>=0.10.1 in /usr/local/lib/python3.9/dist-packages (from eo-learn-visualization) (0.20.1)\n",
      "Requirement already satisfied: geopandas>=0.8.1 in /usr/local/lib/python3.9/dist-packages (from eo-learn-core->eo-learn-visualization) (0.12.2)\n",
      "Requirement already satisfied: boto3 in /usr/local/lib/python3.9/dist-packages (from eo-learn-core->eo-learn-visualization) (1.26.115)\n",
      "Requirement already satisfied: fs-s3fs in /usr/local/lib/python3.9/dist-packages (from eo-learn-core->eo-learn-visualization) (1.1.1)\n",
      "Requirement already satisfied: numpy>=1.20.0 in /usr/local/lib/python3.9/dist-packages (from eo-learn-core->eo-learn-visualization) (1.22.4)\n",
      "Requirement already satisfied: typing-extensions in /usr/local/lib/python3.9/dist-packages (from eo-learn-core->eo-learn-visualization) (4.5.0)\n",
      "Requirement already satisfied: python-dateutil in /usr/local/lib/python3.9/dist-packages (from eo-learn-core->eo-learn-visualization) (2.8.2)\n",
      "Requirement already satisfied: sentinelhub>=3.8.1 in /usr/local/lib/python3.9/dist-packages (from eo-learn-core->eo-learn-visualization) (3.9.0)\n",
      "Requirement already satisfied: fs in /usr/local/lib/python3.9/dist-packages (from eo-learn-core->eo-learn-visualization) (2.4.16)\n",
      "Requirement already satisfied: attrs>=19.2.0 in /usr/local/lib/python3.9/dist-packages (from eo-learn-core->eo-learn-visualization) (22.2.0)\n",
      "Requirement already satisfied: tqdm>=4.27 in /usr/local/lib/python3.9/dist-packages (from eo-learn-core->eo-learn-visualization) (4.65.0)\n",
      "Requirement already satisfied: MarkupSafe>=2.0 in /usr/local/lib/python3.9/dist-packages (from jinja2->eo-learn-visualization) (2.1.2)\n",
      "Requirement already satisfied: importlib-resources>=3.2.0 in /usr/local/lib/python3.9/dist-packages (from matplotlib->eo-learn-visualization) (5.12.0)\n",
      "Requirement already satisfied: setuptools-scm>=7 in /usr/local/lib/python3.9/dist-packages (from matplotlib->eo-learn-visualization) (7.1.0)\n",
      "Requirement already satisfied: fonttools>=4.22.0 in /usr/local/lib/python3.9/dist-packages (from matplotlib->eo-learn-visualization) (4.39.3)\n",
      "Requirement already satisfied: packaging>=20.0 in /usr/local/lib/python3.9/dist-packages (from matplotlib->eo-learn-visualization) (23.0)\n",
      "Requirement already satisfied: pillow>=6.2.0 in /usr/local/lib/python3.9/dist-packages (from matplotlib->eo-learn-visualization) (9.5.0)\n",
      "Requirement already satisfied: pyparsing>=2.3.1 in /usr/local/lib/python3.9/dist-packages (from matplotlib->eo-learn-visualization) (3.0.9)\n",
      "Requirement already satisfied: kiwisolver>=1.0.1 in /usr/local/lib/python3.9/dist-packages (from matplotlib->eo-learn-visualization) (1.4.4)\n",
      "Requirement already satisfied: contourpy>=1.0.1 in /usr/local/lib/python3.9/dist-packages (from matplotlib->eo-learn-visualization) (1.0.7)\n",
      "Requirement already satisfied: cycler>=0.10 in /usr/local/lib/python3.9/dist-packages (from matplotlib->eo-learn-visualization) (0.11.0)\n",
      "Requirement already satisfied: pandas>=1.0.0 in /usr/local/lib/python3.9/dist-packages (from geopandas>=0.8.1->eo-learn-core->eo-learn-visualization) (1.5.3)\n",
      "Requirement already satisfied: fiona>=1.8 in /usr/local/lib/python3.9/dist-packages (from geopandas>=0.8.1->eo-learn-core->eo-learn-visualization) (1.9.3)\n",
      "Requirement already satisfied: shapely>=1.7 in /usr/local/lib/python3.9/dist-packages (from geopandas>=0.8.1->eo-learn-core->eo-learn-visualization) (2.0.1)\n",
      "Requirement already satisfied: pyproj>=2.6.1.post1 in /usr/local/lib/python3.9/dist-packages (from geopandas>=0.8.1->eo-learn-core->eo-learn-visualization) (3.5.0)\n",
      "Requirement already satisfied: zipp>=3.1.0 in /usr/local/lib/python3.9/dist-packages (from importlib-resources>=3.2.0->matplotlib->eo-learn-visualization) (3.15.0)\n",
      "Requirement already satisfied: six>=1.5 in /usr/local/lib/python3.9/dist-packages (from python-dateutil->eo-learn-core->eo-learn-visualization) (1.16.0)\n",
      "Requirement already satisfied: click in /usr/local/lib/python3.9/dist-packages (from sentinelhub>=3.8.1->eo-learn-core->eo-learn-visualization) (8.1.3)\n",
      "Requirement already satisfied: requests-oauthlib>=1.0.0 in /usr/local/lib/python3.9/dist-packages (from sentinelhub>=3.8.1->eo-learn-core->eo-learn-visualization) (1.3.1)\n",
      "Requirement already satisfied: dataclasses-json in /usr/local/lib/python3.9/dist-packages (from sentinelhub>=3.8.1->eo-learn-core->eo-learn-visualization) (0.5.7)\n",
      "Requirement already satisfied: tomli in /usr/local/lib/python3.9/dist-packages (from sentinelhub>=3.8.1->eo-learn-core->eo-learn-visualization) (2.0.1)\n",
      "Requirement already satisfied: tomli-w in /usr/local/lib/python3.9/dist-packages (from sentinelhub>=3.8.1->eo-learn-core->eo-learn-visualization) (1.0.0)\n",
      "Requirement already satisfied: aenum>=2.1.4 in /usr/local/lib/python3.9/dist-packages (from sentinelhub>=3.8.1->eo-learn-core->eo-learn-visualization) (3.1.12)\n",
      "Requirement already satisfied: tifffile>=2020.9.30 in /usr/local/lib/python3.9/dist-packages (from sentinelhub>=3.8.1->eo-learn-core->eo-learn-visualization) (2023.3.21)\n",
      "Requirement already satisfied: utm in /usr/local/lib/python3.9/dist-packages (from sentinelhub>=3.8.1->eo-learn-core->eo-learn-visualization) (0.7.0)\n",
      "Requirement already satisfied: oauthlib in /usr/local/lib/python3.9/dist-packages (from sentinelhub>=3.8.1->eo-learn-core->eo-learn-visualization) (3.2.2)\n",
      "Requirement already satisfied: requests>=2.27.0 in /usr/local/lib/python3.9/dist-packages (from sentinelhub>=3.8.1->eo-learn-core->eo-learn-visualization) (2.27.1)\n",
      "Requirement already satisfied: setuptools in /usr/local/lib/python3.9/dist-packages (from setuptools-scm>=7->matplotlib->eo-learn-visualization) (67.6.1)\n",
      "Requirement already satisfied: botocore<1.30.0,>=1.29.115 in /usr/local/lib/python3.9/dist-packages (from boto3->eo-learn-core->eo-learn-visualization) (1.29.115)\n",
      "Requirement already satisfied: s3transfer<0.7.0,>=0.6.0 in /usr/local/lib/python3.9/dist-packages (from boto3->eo-learn-core->eo-learn-visualization) (0.6.0)\n",
      "Requirement already satisfied: jmespath<2.0.0,>=0.7.1 in /usr/local/lib/python3.9/dist-packages (from boto3->eo-learn-core->eo-learn-visualization) (1.0.1)\n",
      "Requirement already satisfied: appdirs~=1.4.3 in /usr/local/lib/python3.9/dist-packages (from fs->eo-learn-core->eo-learn-visualization) (1.4.4)\n",
      "Requirement already satisfied: urllib3<1.27,>=1.25.4 in /usr/local/lib/python3.9/dist-packages (from botocore<1.30.0,>=1.29.115->boto3->eo-learn-core->eo-learn-visualization) (1.26.15)\n",
      "Requirement already satisfied: importlib-metadata in /usr/local/lib/python3.9/dist-packages (from fiona>=1.8->geopandas>=0.8.1->eo-learn-core->eo-learn-visualization) (6.3.0)\n",
      "Requirement already satisfied: certifi in /usr/local/lib/python3.9/dist-packages (from fiona>=1.8->geopandas>=0.8.1->eo-learn-core->eo-learn-visualization) (2022.12.7)\n",
      "Requirement already satisfied: cligj>=0.5 in /usr/local/lib/python3.9/dist-packages (from fiona>=1.8->geopandas>=0.8.1->eo-learn-core->eo-learn-visualization) (0.7.2)\n",
      "Requirement already satisfied: click-plugins>=1.0 in /usr/local/lib/python3.9/dist-packages (from fiona>=1.8->geopandas>=0.8.1->eo-learn-core->eo-learn-visualization) (1.1.1)\n",
      "Requirement already satisfied: munch>=2.3.2 in /usr/local/lib/python3.9/dist-packages (from fiona>=1.8->geopandas>=0.8.1->eo-learn-core->eo-learn-visualization) (2.5.0)\n",
      "Requirement already satisfied: pytz>=2020.1 in /usr/local/lib/python3.9/dist-packages (from pandas>=1.0.0->geopandas>=0.8.1->eo-learn-core->eo-learn-visualization) (2022.7.1)\n",
      "Requirement already satisfied: charset-normalizer~=2.0.0 in /usr/local/lib/python3.9/dist-packages (from requests>=2.27.0->sentinelhub>=3.8.1->eo-learn-core->eo-learn-visualization) (2.0.12)\n",
      "Requirement already satisfied: idna<4,>=2.5 in /usr/local/lib/python3.9/dist-packages (from requests>=2.27.0->sentinelhub>=3.8.1->eo-learn-core->eo-learn-visualization) (3.4)\n",
      "Requirement already satisfied: marshmallow-enum<2.0.0,>=1.5.1 in /usr/local/lib/python3.9/dist-packages (from dataclasses-json->sentinelhub>=3.8.1->eo-learn-core->eo-learn-visualization) (1.5.1)\n",
      "Requirement already satisfied: marshmallow<4.0.0,>=3.3.0 in /usr/local/lib/python3.9/dist-packages (from dataclasses-json->sentinelhub>=3.8.1->eo-learn-core->eo-learn-visualization) (3.19.0)\n",
      "Requirement already satisfied: typing-inspect>=0.4.0 in /usr/local/lib/python3.9/dist-packages (from dataclasses-json->sentinelhub>=3.8.1->eo-learn-core->eo-learn-visualization) (0.8.0)\n",
      "Requirement already satisfied: mypy-extensions>=0.3.0 in /usr/local/lib/python3.9/dist-packages (from typing-inspect>=0.4.0->dataclasses-json->sentinelhub>=3.8.1->eo-learn-core->eo-learn-visualization) (1.0.0)\n"
     ]
    }
   ],
   "source": [
    "!pip install eo-learn-core\n",
    "!pip install eo-learn-coregistration\n",
    "!pip install eo-learn-features\n",
    "!pip install eo-learn-geometry\n",
    "!pip install eo-learn-io\n",
    "!pip install eo-learn-mask\n",
    "!pip install eo-learn-ml-tools\n",
    "!pip install eo-learn-visualization"
   ]
  },
  {
   "cell_type": "code",
   "execution_count": null,
   "metadata": {
    "colab": {
     "base_uri": "https://localhost:8080/"
    },
    "executionInfo": {
     "elapsed": 3992,
     "status": "ok",
     "timestamp": 1681796786125,
     "user": {
      "displayName": "Esaie Dufitimana",
      "userId": "10078352650233851396"
     },
     "user_tz": -120
    },
    "id": "E6KledKO94aj",
    "outputId": "49558ae1-1372-40f6-87e7-d87793416c7c"
   },
   "outputs": [
    {
     "name": "stdout",
     "output_type": "stream",
     "text": [
      "Looking in indexes: https://pypi.org/simple, https://us-python.pkg.dev/colab-wheels/public/simple/\n",
      "Requirement already satisfied: matplotlib in /usr/local/lib/python3.9/dist-packages (3.8.0.dev882+g690884fac)\n",
      "Requirement already satisfied: setuptools-scm>=7 in /usr/local/lib/python3.9/dist-packages (from matplotlib) (7.1.0)\n",
      "Requirement already satisfied: importlib-resources>=3.2.0 in /usr/local/lib/python3.9/dist-packages (from matplotlib) (5.12.0)\n",
      "Requirement already satisfied: numpy>=1.21 in /usr/local/lib/python3.9/dist-packages (from matplotlib) (1.22.4)\n",
      "Requirement already satisfied: kiwisolver>=1.0.1 in /usr/local/lib/python3.9/dist-packages (from matplotlib) (1.4.4)\n",
      "Requirement already satisfied: cycler>=0.10 in /usr/local/lib/python3.9/dist-packages (from matplotlib) (0.11.0)\n",
      "Requirement already satisfied: packaging>=20.0 in /usr/local/lib/python3.9/dist-packages (from matplotlib) (23.0)\n",
      "Requirement already satisfied: fonttools>=4.22.0 in /usr/local/lib/python3.9/dist-packages (from matplotlib) (4.39.3)\n",
      "Requirement already satisfied: python-dateutil>=2.7 in /usr/local/lib/python3.9/dist-packages (from matplotlib) (2.8.2)\n",
      "Requirement already satisfied: contourpy>=1.0.1 in /usr/local/lib/python3.9/dist-packages (from matplotlib) (1.0.7)\n",
      "Requirement already satisfied: pillow>=6.2.0 in /usr/local/lib/python3.9/dist-packages (from matplotlib) (9.5.0)\n",
      "Requirement already satisfied: pyparsing>=2.3.1 in /usr/local/lib/python3.9/dist-packages (from matplotlib) (3.0.9)\n",
      "Requirement already satisfied: zipp>=3.1.0 in /usr/local/lib/python3.9/dist-packages (from importlib-resources>=3.2.0->matplotlib) (3.15.0)\n",
      "Requirement already satisfied: six>=1.5 in /usr/local/lib/python3.9/dist-packages (from python-dateutil>=2.7->matplotlib) (1.16.0)\n",
      "Requirement already satisfied: typing-extensions in /usr/local/lib/python3.9/dist-packages (from setuptools-scm>=7->matplotlib) (4.5.0)\n",
      "Requirement already satisfied: setuptools in /usr/local/lib/python3.9/dist-packages (from setuptools-scm>=7->matplotlib) (67.6.1)\n",
      "Requirement already satisfied: tomli>=1.0.0 in /usr/local/lib/python3.9/dist-packages (from setuptools-scm>=7->matplotlib) (2.0.1)\n"
     ]
    }
   ],
   "source": [
    "!pip install matplotlib"
   ]
  },
  {
   "cell_type": "code",
   "execution_count": null,
   "metadata": {
    "id": "_wTVelK-jhWB"
   },
   "outputs": [],
   "source": [
    "# Firstly, some necessary imports\n",
    "\n",
    "# Jupyter notebook related\n",
    "%reload_ext autoreload\n",
    "%autoreload 2\n",
    "#%matplotlib inline\n",
    "\n",
    "import datetime\n",
    "import itertools\n",
    "\n",
    "# Built-in modules\n",
    "import os\n",
    "\n",
    "# Basics of Python data handling and visualization\n",
    "import numpy as np\n",
    "from aenum import MultiValueEnum\n",
    "\n",
    "np.random.seed(42)\n",
    "import geopandas as gpd\n",
    "import joblib\n",
    "import matplotlib\n",
    "import matplotlib.pyplot as plt\n",
    "import getpass\n",
    "# Machine learning\n",
    "import lightgbm as lgb\n",
    "#import matplotlib.pyplot as plt\n",
    "from matplotlib.colors import BoundaryNorm, ListedColormap\n",
    "from shapely.geometry import Polygon\n",
    "from sklearn import metrics, preprocessing\n",
    "from tqdm.auto import tqdm\n",
    "\n",
    "\n",
    "# Imports from eo-learn and sentinelhub-py\n",
    "import eolearn\n",
    "from sentinelhub import DataCollection, UtmZoneSplitter\n",
    "from eolearn.core import (\n",
    "    EOExecutor,\n",
    "    EOPatch,\n",
    "    EOTask,\n",
    "    EOWorkflow,\n",
    "    FeatureType,\n",
    "    LoadTask,\n",
    "    MergeFeatureTask,\n",
    "    OverwritePermission,\n",
    "    SaveTask,\n",
    "    linearly_connect_tasks,\n",
    ")\n",
    "from eolearn.geometry import ErosionTask, VectorToRasterTask\n",
    "from eolearn.io import ExportToTiffTask, SentinelHubInputTask, VectorImportTask\n",
    "from eolearn.ml_tools import FractionSamplingTask"
   ]
  },
  {
   "cell_type": "markdown",
   "metadata": {
    "id": "2m_pxxjh3T5i"
   },
   "source": [
    "# Part 1\n",
    "\n",
    "## 1. Define the Area-of-Interest (AOI):\n",
    "\n",
    "* A geographical shape of an area in Rwanda was taken from [The World Bank data catalog](https://datacatalog.worldbank.org/search/dataset/0041453). The shape covers districts in Eastern province and is available in repository: `...Exercise_01/districts_east.geojson`\n",
    "* TheCRS of our geographic AOI is the central UTM tile (UTM_36S)\n",
    "* Split it into smaller, manageable, non-overlapping rectangular tiles\n",
    "* Run classification on a selected 5x5 area\n",
    "\n",
    "Be sure that your choice of CRS is the same as the CRS of your reference data.\n"
   ]
  },
  {
   "cell_type": "markdown",
   "metadata": {
    "id": "0NADsVNe5d_r"
   },
   "source": [
    "Get the area of interest (AOI)\n",
    "\n",
    "The code below load our AOI and read it. We add the buffer of 500m to make sure that when we split the AOI in patches (small area), all the AOI is fully covered."
   ]
  },
  {
   "cell_type": "code",
   "execution_count": null,
   "metadata": {
    "colab": {
     "base_uri": "https://localhost:8080/",
     "height": 440
    },
    "executionInfo": {
     "elapsed": 22,
     "status": "ok",
     "timestamp": 1681796788913,
     "user": {
      "displayName": "Esaie Dufitimana",
      "userId": "10078352650233851396"
     },
     "user_tz": -120
    },
    "id": "Ncpltk5DnMnz",
    "outputId": "42d1f53c-993d-4663-e3f4-322a0599788c"
   },
   "outputs": [
    {
     "name": "stderr",
     "output_type": "stream",
     "text": [
      "WARNING:fiona.ogrext:Expecting property name enclosed in double quotes: line 1 column 2 (char 1)\n"
     ]
    },
    {
     "name": "stdout",
     "output_type": "stream",
     "text": [
      "Dimension of the area is 93382 x 152764 m2\n"
     ]
    },
    {
     "data": {
      "image/png": "[encoded data removed]",
      "text/plain": [
       "<Figure size 640x480 with 1 Axes>"
      ]
     },
     "metadata": {},
     "output_type": "display_data"
    }
   ],
   "source": [
    "# Set the file path\n",
    "file_path = \"/content/drive/MyDrive/ML4EO_M5/5_01_LULC_using_SentinelHub/districts_east.geojson\"\n",
    "# Load geojson file\n",
    "rwanda_boundary = gpd.read_file(file_path)\n",
    "\n",
    "# Add 500m buffer to secure sufficient data near border\n",
    "rwanda_boundary = rwanda_boundary.buffer(distance=500)\n",
    "\n",
    "# Get the country's shape in polygon format\n",
    "rwanda_boundary_shape = rwanda_boundary.geometry.values[0]\n",
    "\n",
    "# Plot country\n",
    "rwanda_boundary.plot()\n",
    "plt.axis(\"off\")\n",
    "\n",
    "# Print size\n",
    "country_width = rwanda_boundary_shape.bounds[2] - rwanda_boundary_shape.bounds[0]\n",
    "country_height = rwanda_boundary_shape.bounds[3] - rwanda_boundary_shape.bounds[1]\n",
    "print(f\"Dimension of the area is {country_width:.0f} x {country_height:.0f} m2\")"
   ]
  },
  {
   "cell_type": "markdown",
   "metadata": {
    "id": "REdjTg3ZayVK"
   },
   "source": [
    "### Split to smaller tiles and choose a 5x5 area\n",
    "The area of interest (AOI) at a provincial level is too large and needs to be tiled into smaller pieces in order to be able to fit the one-year-long time series into memory (that more data). Each smaller piece is called an EOPatch in the eo-learn package. In order to create an EOPatch we simply need the bounding box in a given coordinate reference system. We'll use BBOXSplitter from sentinelhub python package.\n",
    "\n",
    "Note: The splitting choice depends on the available resources of your computer. An EOPatch with a size of has around 500 x 500 pixels at 10 meter resolution has a size ob about ~1 GB."
   ]
  },
  {
   "cell_type": "code",
   "execution_count": null,
   "metadata": {
    "colab": {
     "base_uri": "https://localhost:8080/"
    },
    "executionInfo": {
     "elapsed": 14,
     "status": "ok",
     "timestamp": 1681796788913,
     "user": {
      "displayName": "Esaie Dufitimana",
      "userId": "10078352650233851396"
     },
     "user_tz": -120
    },
    "id": "cxv3rUOKcI1u",
    "outputId": "5ad76149-f16a-4ead-d04a-c5b812ed5329"
   },
   "outputs": [
    {
     "name": "stderr",
     "output_type": "stream",
     "text": [
      "/usr/local/lib/python3.9/dist-packages/shapely/set_operations.py:133: RuntimeWarning: invalid value encountered in intersection\n",
      "  return lib.intersection(a, b, **kwargs)\n"
     ]
    }
   ],
   "source": [
    "# Create a splitter to obtain a list of bboxes with 5km sides\n",
    "bbox_splitter = UtmZoneSplitter([rwanda_boundary_shape], rwanda_boundary.crs, 5000)\n",
    "\n",
    "bbox_list = np.array(bbox_splitter.get_bbox_list())\n",
    "info_list = np.array(bbox_splitter.get_info_list())\n",
    "\n",
    "# Prepare info of selected EOPatches\n",
    "geometry = [Polygon(bbox.get_polygon()) for bbox in bbox_list]\n",
    "idxs = [info[\"index\"] for info in info_list]\n",
    "idxs_x = [info[\"index_x\"] for info in info_list]\n",
    "idxs_y = [info[\"index_y\"] for info in info_list]\n",
    "\n",
    "bbox_gdf = gpd.GeoDataFrame({\"index\": idxs, \"index_x\": idxs_x, \"index_y\": idxs_y}, crs=rwanda_boundary.crs, geometry=geometry)\n",
    "\n"
   ]
  },
  {
   "cell_type": "code",
   "execution_count": null,
   "metadata": {
    "id": "TnCVUFVk4VqQ"
   },
   "outputs": [],
   "source": [
    "box_gdf = gpd.GeoDataFrame({\"index\": idxs, \"index_x\": idxs_x, \"index_y\": idxs_y}, crs=rwanda_boundary.crs, geometry=geometry)\n",
    "\n",
    "# select a 5x5 area (id of center patch)\n",
    "ID = 200\n",
    "\n",
    "# Obtain surrounding 5x5 patches\n",
    "patchIDs = []\n",
    "for idx, (bbox, info) in enumerate(zip(bbox_list, info_list)):\n",
    "    if abs(info[\"index_x\"] - info_list[ID][\"index_x\"]) <= 2 and abs(info[\"index_y\"] - info_list[ID][\"index_y\"]) <= 2:\n",
    "        patchIDs.append(idx)\n",
    "\n",
    "# Check if final size is 5x5\n",
    "if len(patchIDs) != 5 * 5:\n",
    "    print(\"Warning! Use a different central patch ID, this one is on the border.\")\n",
    "\n",
    "# Change the order of the patches (useful for plotting)\n",
    "patchIDs = np.transpose(np.fliplr(np.array(patchIDs).reshape(5, 5))).ravel()\n",
    "\n"
   ]
  },
  {
   "cell_type": "markdown",
   "metadata": {
    "id": "bLtIMeIj6lEw"
   },
   "source": [
    "## Visualize the selection"
   ]
  },
  {
   "cell_type": "markdown",
   "metadata": {
    "id": "LC9NtrzqVYLg"
   },
   "source": [
    "## Question 5.1.1\n",
    "Complete the code below to visualize the bbox created and those selected in the process above on tp of the shape of AOI.\n"
   ]
  },
  {
   "cell_type": "code",
   "execution_count": null,
   "metadata": {
    "id": "66rdYAENWXaG"
   },
   "outputs": [],
   "source": [
    "#Replace #<FILL-IN> with adequate codes\n",
    "\n",
    "# Display bboxes over AOI\n",
    "fig, ax = plt.subplots(figsize=(12, 16))\n",
    "ax.set_title(\"Selected 5x5 tiles \", fontsize=15)\n",
    "rwanda_boundary.plot(ax=ax, facecolor=\"w\", edgecolor=\"r\", alpha=1)\n",
    "bbox_gdf.plot(ax=ax, facecolor=\"w\", edgecolor=\"b\", alpha=0.5)\n",
    "\n",
    "for bbox, info in zip(bbox_list, info_list):\n",
    "    #<FILL-IN> #Put your code here\n",
    "\n",
    "\n",
    "# Mark bboxes of selected area\n",
    "bbox_gdf[bbox_gdf.index.isin(patchIDs)].plot(ax=ax, facecolor=\"g\", edgecolor=\"r\", alpha=0.5)\n",
    "\n",
    "plt.axis(\"Off\");"
   ]
  },
  {
   "cell_type": "code",
   "execution_count": null,
   "metadata": {
    "id": "2TNR8OzGwKLK"
   },
   "outputs": [],
   "source": [
    "# Create a directory to store the EOPatches\n",
    "EOPATCH_DIR = '/content/drive/MyDrive/ML4EO_M5/5_01_LULC_using_SentinelHub/EOPATCHES'\n",
    "# Save to shapefile\n",
    "shapefile_name = \"grid.gpkg\"\n",
    "bbox_gdf.to_file(os.path.join(EOPATCH_DIR, shapefile_name), driver=\"GPKG\")"
   ]
  },
  {
   "cell_type": "markdown",
   "metadata": {
    "id": "1Mw7OI8GkXGh"
   },
   "source": [
    "# Part 2. Fill EOPatches with data using SentinelHub\n",
    "\n",
    "Now it's time to create EOPatches and fill them with Sentinel-2 data using Sentinel Hub services. We will add the following data to each EOPatch:\n",
    "\n",
    "* L1C custom list of bands [B02, B03, B04, B08, B11, B12], which corresponds to [B, G, R, NIR, SWIR1, SWIR2] wavelengths.\n",
    "\n",
    "* SentinelHub's cloud mask\n",
    "\n",
    "* A mask of validity, based on acquired data from Sentinel and cloud coverage. Valid pixel is if:\n",
    "   \n",
    "    1. IS_DATA == True\n",
    "    2. CLOUD_MASK == 0 (1 indicates cloudy pixels and 255 indicates `NO_DATA`)\n",
    "\n",
    "An EOPatch is created and manipulated using EOTasks, which are chained in an EOWorkflow. In this example the final workflow is executed on all patches, which are saved to the specified directory."
   ]
  },
  {
   "cell_type": "markdown",
   "metadata": {
    "id": "LC6AWWbDksvZ"
   },
   "source": [
    "## Define some needed custom EOTasks"
   ]
  },
  {
   "cell_type": "markdown",
   "metadata": {
    "id": "F4hnY_bbsS5b"
   },
   "source": [
    "Here, we first set up our Sentinel Hub credentials using SHConfig. We then create a SentinelHubInputTask with the required parameters. Next, we define the bbox and time range for our SentinelHubRequest, and set up a SentinelHubDownloadClient. We then loop through each patch ID and load the EOPatch, set up the SentinelHubRequest, download the data to the EOPatch, and save the modified EOPatch."
   ]
  },
  {
   "cell_type": "code",
   "execution_count": null,
   "metadata": {
    "colab": {
     "base_uri": "https://localhost:8080/"
    },
    "executionInfo": {
     "elapsed": 41981,
     "status": "ok",
     "timestamp": 1681796957539,
     "user": {
      "displayName": "Esaie Dufitimana",
      "userId": "10078352650233851396"
     },
     "user_tz": -120
    },
    "id": "sB8rNUSssk_5",
    "outputId": "4fa927be-bab0-4a55-8d3c-c5a32f192b6c"
   },
   "outputs": [
    {
     "name": "stdout",
     "output_type": "stream",
     "text": [
      "Enter your Sentinel Hub client ID: ee94fe32-423a-465f-b83c-1554e8b1d772\n",
      "Enter your Sentinel Hub client secret: ··········\n"
     ]
    }
   ],
   "source": [
    "\n",
    "\n",
    "sh_params = {\n",
    "    'sh_client_id': input(\"Enter your Sentinel Hub client ID: \"),\n",
    "    'sh_client_secret': getpass.getpass(\"Enter your Sentinel Hub client secret: \")\n",
    "}"
   ]
  },
  {
   "cell_type": "markdown",
   "metadata": {
    "id": "Nfut1FrvoPOx"
   },
   "source": [
    "In the next code block, we are implementing imputation (using `SentinelHubValidDataTask`), which is  the process of filling in missing or incomplete data with estimated values based on the available data. It is a common technique used in data analysis and machine learning when dealing with datasets that contain missing values or incomplete observations.\n",
    "\n",
    "Imputation by `SentinelHubValidDataTask` performs nearest neighbor whereby SentinelHubValidDataTask is used to retrieve a binary mask indicating which pixels in the data are valid. The binary mask is added to the EOPatch as a new mask with the name \"IS_VALID\". The binary mask has a value of 1 where the pixel is valid and a value of 0 where the pixel is invalid.\n",
    "\n",
    "`AddValidCountTask` is used to count the number of valid observations per pixel using the \"IS_VALID\" mask. The task adds a new scalar feature to the EOPatch with the name \"VALID_COUNT\" that contains the number of valid observations per pixel."
   ]
  },
  {
   "cell_type": "markdown",
   "metadata": {
    "id": "Rpe6eh-kn7BL"
   },
   "source": [
    "Here, we are using s2cloudless algorithm (accessed through  `SentinelHubValidDataTask`), which is a cloud masking algorithm for Sentinel-2 imagery developed by Sentinel Hub. It is designed to identify and mask out clouds, cloud shadows, and cirrus clouds from Sentinel-2 imagery to improve the quality of downstream analysis.\n",
    "\n",
    "The s2cloudless algorithm produces two outputs: a binary cloud mask and a cloud probability map. The binary cloud mask is a raster layer where cloud pixels are assigned a value of 1 and all other pixels are assigned a value of 0. The cloud probability map is a raster layer where each pixel is assigned a probability value between 0 and 100, representing the likelihood that the pixel contains clouds.\n",
    "\n",
    "The cloud mask and probability map can be used in different ways depending on the specific application. For example, the cloud mask can be used to mask out clouds from satellite imagery before performing image analysis or classification. The cloud probability map can be used to identify areas of high cloud cover or to estimate cloud cover percentages over a larger area."
   ]
  },
  {
   "cell_type": "code",
   "execution_count": null,
   "metadata": {
    "id": "KwsadB0WPAs3"
   },
   "outputs": [],
   "source": [
    "class SentinelHubValidDataTask(EOTask):\n",
    "    \"\"\"\n",
    "    Combine Sen2Cor's classification map with `IS_DATA` to define a `VALID_DATA_SH` mask\n",
    "    The SentinelHub's cloud mask is asumed to be found in eopatch.mask['CLM']\n",
    "    \"\"\"\n",
    "\n",
    "    def __init__(self, output_feature):\n",
    "        self.output_feature = output_feature\n",
    "\n",
    "    def execute(self, eopatch):\n",
    "        eopatch[self.output_feature] = eopatch.mask[\"IS_DATA\"].astype(bool) & (~eopatch.mask[\"CLM\"].astype(bool))\n",
    "        return eopatch\n",
    "\n",
    "\n",
    "class AddValidCountTask(EOTask):\n",
    "    \"\"\"\n",
    "    The task counts number of valid observations in time-series and stores the results in the timeless mask.\n",
    "    \"\"\"\n",
    "\n",
    "    def __init__(self, count_what, feature_name):\n",
    "        self.what = count_what\n",
    "        self.name = feature_name\n",
    "\n",
    "    def execute(self, eopatch):\n",
    "        eopatch[FeatureType.MASK_TIMELESS, self.name] = np.count_nonzero(eopatch.mask[self.what], axis=0)\n",
    "        return eopatch"
   ]
  },
  {
   "cell_type": "code",
   "execution_count": null,
   "metadata": {
    "id": "gb0d205srj0v"
   },
   "outputs": [],
   "source": [
    "# BAND DATA\n",
    "# Add a request for S2 bands.\n",
    "# Here we also do a simple filter of cloudy scenes (on tile level).\n",
    "# The s2cloudless masks and probabilities are requested via additional data.\n",
    "\n",
    "\n",
    "band_names = [\"B02\", \"B03\", \"B04\", \"B08\", \"B11\", \"B12\"]\n",
    "add_data = SentinelHubInputTask(\n",
    "    bands_feature=(FeatureType.DATA, \"BANDS\"),\n",
    "    bands=band_names,\n",
    "    resolution=10,\n",
    "    maxcc=0.8,\n",
    "    time_difference=datetime.timedelta(minutes=120),\n",
    "    data_collection=DataCollection.SENTINEL2_L1C,\n",
    "    additional_data=[(FeatureType.MASK, \"dataMask\", \"IS_DATA\"), (FeatureType.MASK, \"CLM\"), (FeatureType.DATA, \"CLP\")],\n",
    "    max_threads=5,\n",
    "    config=sh_params\n",
    ")\n",
    "\n",
    "\n",
    "\n",
    "# VALIDITY MASK\n",
    "# Validate pixels using SentinelHub's cloud detection mask and region of acquisition\n",
    "add_sh_validmask = SentinelHubValidDataTask((FeatureType.MASK, \"IS_VALID\"))\n",
    "\n",
    "# COUNTING VALID PIXELS\n",
    "# Count the number of valid observations per pixel using valid data mask\n",
    "add_valid_count = AddValidCountTask(\"IS_VALID\", \"VALID_COUNT\")\n",
    "\n",
    "# SAVING TO OUTPUT (if needed)\n",
    "save = SaveTask(EOPATCH_DIR, overwrite_permission=OverwritePermission.OVERWRITE_PATCH)"
   ]
  },
  {
   "cell_type": "markdown",
   "metadata": {
    "id": "-a8DbqM6z2Wj"
   },
   "source": [
    "### Define the pipeline\n",
    "\n",
    "All the tasks that were defined so far create and fill the EOPatches. The tasks need to be put in some order and executed one by one. This can be achieved by manually executing the tasks, or more conveniently, defining an `EOWorkflow` which does this for you.\n",
    "\n",
    "The following workflow is created and executed:\n",
    "\n",
    "1. Create EOPatches with band and cloud data\n",
    "4. Add mask of valid pixels \n",
    "5. Add scalar feature representing the count of valid pixels (imputation)\n",
    "7. Save eopatches\n",
    "\n",
    "An EOWorkflow can be linear or more complex, but it should be acyclic. Here we will use the linear case of the EOWorkflow, available as `LinearWorkflow`"
   ]
  },
  {
   "cell_type": "markdown",
   "metadata": {
    "id": "K_TKbeNDbB9f"
   },
   "source": [
    "## Define the workflow tasks"
   ]
  },
  {
   "cell_type": "code",
   "execution_count": null,
   "metadata": {
    "colab": {
     "base_uri": "https://localhost:8080/",
     "height": 80
    },
    "executionInfo": {
     "elapsed": 695,
     "status": "ok",
     "timestamp": 1681796984577,
     "user": {
      "displayName": "Esaie Dufitimana",
      "userId": "10078352650233851396"
     },
     "user_tz": -120
    },
    "id": "04YCaxqpeqGt",
    "outputId": "d0076958-d2c5-4e8d-bec9-906e6e6b3b97"
   },
   "outputs": [
    {
     "data": {
      "image/svg+xml": [
       "<?xml version=\"1.0\" encoding=\"UTF-8\" standalone=\"no\"?>\n",
       "<!DOCTYPE svg PUBLIC \"-//W3C//DTD SVG 1.1//EN\"\n",
       " \"http://www.w3.org/Graphics/SVG/1.1/DTD/svg11.dtd\">\n",
       "<!-- Generated by graphviz version 2.43.0 (0)\n",
       " -->\n",
       "<!-- Title: %3 Pages: 1 -->\n",
       "<svg width=\"762pt\" height=\"44pt\"\n",
       " viewBox=\"0.00 0.00 762.04 44.00\" xmlns=\"http://www.w3.org/2000/svg\" xmlns:xlink=\"http://www.w3.org/1999/xlink\">\n",
       "<g id=\"graph0\" class=\"graph\" transform=\"scale(1 1) rotate(0) translate(4 40)\">\n",
       "<title>%3</title>\n",
       "<polygon fill=\"white\" stroke=\"transparent\" points=\"-4,4 -4,-40 758.04,-40 758.04,4 -4,4\"/>\n",
       "<!-- SentinelHubInputTask -->\n",
       "<g id=\"node1\" class=\"node\">\n",
       "<title>SentinelHubInputTask</title>\n",
       "<ellipse fill=\"none\" stroke=\"black\" cx=\"89.69\" cy=\"-18\" rx=\"89.88\" ry=\"18\"/>\n",
       "<text text-anchor=\"middle\" x=\"89.69\" y=\"-14.3\" font-family=\"Times,serif\" font-size=\"14.00\">SentinelHubInputTask</text>\n",
       "</g>\n",
       "<!-- SentinelHubValidDataTask -->\n",
       "<g id=\"node2\" class=\"node\">\n",
       "<title>SentinelHubValidDataTask</title>\n",
       "<ellipse fill=\"none\" stroke=\"black\" cx=\"321.97\" cy=\"-18\" rx=\"106.68\" ry=\"18\"/>\n",
       "<text text-anchor=\"middle\" x=\"321.97\" y=\"-14.3\" font-family=\"Times,serif\" font-size=\"14.00\">SentinelHubValidDataTask</text>\n",
       "</g>\n",
       "<!-- SentinelHubInputTask&#45;&gt;SentinelHubValidDataTask -->\n",
       "<g id=\"edge1\" class=\"edge\">\n",
       "<title>SentinelHubInputTask&#45;&gt;SentinelHubValidDataTask</title>\n",
       "<path fill=\"none\" stroke=\"black\" d=\"M179.4,-18C187.77,-18 196.35,-18 204.93,-18\"/>\n",
       "<polygon fill=\"black\" stroke=\"black\" points=\"205,-21.5 215,-18 205,-14.5 205,-21.5\"/>\n",
       "</g>\n",
       "<!-- AddValidCountTask -->\n",
       "<g id=\"node3\" class=\"node\">\n",
       "<title>AddValidCountTask</title>\n",
       "<ellipse fill=\"none\" stroke=\"black\" cx=\"547.11\" cy=\"-18\" rx=\"82.59\" ry=\"18\"/>\n",
       "<text text-anchor=\"middle\" x=\"547.11\" y=\"-14.3\" font-family=\"Times,serif\" font-size=\"14.00\">AddValidCountTask</text>\n",
       "</g>\n",
       "<!-- SentinelHubValidDataTask&#45;&gt;AddValidCountTask -->\n",
       "<g id=\"edge2\" class=\"edge\">\n",
       "<title>SentinelHubValidDataTask&#45;&gt;AddValidCountTask</title>\n",
       "<path fill=\"none\" stroke=\"black\" d=\"M428.66,-18C437.23,-18 445.84,-18 454.3,-18\"/>\n",
       "<polygon fill=\"black\" stroke=\"black\" points=\"454.53,-21.5 464.53,-18 454.53,-14.5 454.53,-21.5\"/>\n",
       "</g>\n",
       "<!-- SaveTask -->\n",
       "<g id=\"node4\" class=\"node\">\n",
       "<title>SaveTask</title>\n",
       "<ellipse fill=\"none\" stroke=\"black\" cx=\"709.85\" cy=\"-18\" rx=\"44.39\" ry=\"18\"/>\n",
       "<text text-anchor=\"middle\" x=\"709.85\" y=\"-14.3\" font-family=\"Times,serif\" font-size=\"14.00\">SaveTask</text>\n",
       "</g>\n",
       "<!-- AddValidCountTask&#45;&gt;SaveTask -->\n",
       "<g id=\"edge3\" class=\"edge\">\n",
       "<title>AddValidCountTask&#45;&gt;SaveTask</title>\n",
       "<path fill=\"none\" stroke=\"black\" d=\"M629.89,-18C638.51,-18 647.1,-18 655.28,-18\"/>\n",
       "<polygon fill=\"black\" stroke=\"black\" points=\"655.38,-21.5 665.38,-18 655.38,-14.5 655.38,-21.5\"/>\n",
       "</g>\n",
       "</g>\n",
       "</svg>\n"
      ],
      "text/plain": [
       "<graphviz.graphs.Digraph at 0x7fb17f9f02e0>"
      ]
     },
     "execution_count": 15,
     "metadata": {},
     "output_type": "execute_result"
    }
   ],
   "source": [
    "# Define the workflow\n",
    "workflow_nodes = linearly_connect_tasks(\n",
    "    add_data, add_sh_validmask, add_valid_count, save\n",
    ")\n",
    "workflow = EOWorkflow(workflow_nodes)\n",
    "\n",
    "# Let's visualize it\n",
    "workflow.dependency_graph()"
   ]
  },
  {
   "cell_type": "markdown",
   "metadata": {
    "id": "QGxIUyMUmDC0"
   },
   "source": [
    "## Implement the workflow\n",
    "\n",
    "Ensure that your SentinelHub credentials are correct and up-to-date. You can check your credentials by logging into the SentinelHub dashboard.\n",
    " \n",
    "\n",
    "```\n",
    "Attention:\n",
    "```\n",
    "\n",
    "**Insufficient account limits:** Make sure that your SentinelHub account has sufficient limits for the number of requests you are making. You can check your account limits by logging into the SentinelHub dashboard and navigating to the \"Account\" page.\n"
   ]
  },
  {
   "cell_type": "markdown",
   "metadata": {
    "id": "yq_rYjiPmV4P"
   },
   "source": [
    "The code section implement the above workflow step by step.\n",
    "Note: This step takes time"
   ]
  },
  {
   "cell_type": "markdown",
   "metadata": {
    "id": "OTfIrAUQBNDe"
   },
   "source": [
    "MY SENTINELHUB ACCOUNT HAS LIMITED NUMBER OOF REQUEST. ASSUME IT IS THE SAME FOR OTHER PARTICIPANT ADVISE AS @MARK. COULD WE TRY A RESEARCHER ACCOUNT? I HAVE NOT TRIED IT. MAY BE ABRAHAM CAN ADVISE BASED ON PREVIOUS EXERCISES USING SENTINELPY API.\n",
    "\n"
   ]
  },
  {
   "cell_type": "markdown",
   "metadata": {
    "id": "VdA3W6fhO4Cl"
   },
   "source": [
    "**Sharing Sentinel Hub authentication session required**\n",
    "\n",
    "Since a user splits their area of interest into a large number of smaller bounding boxes. Then data download from Sentinel Hub need to be parallelized  over these bounding boxes using a few different Python processes. It depends on the type of parallelization, but without implementing a session sharing mechanism such a procedure could try to create a new authentication session for each small bounding box. In extreme cases that could fail because an excessive number of authentication requests might be rate-limited by Sentinel Hub."
   ]
  },
  {
   "cell_type": "code",
   "execution_count": null,
   "metadata": {
    "id": "D2T5fqe5mLMP"
   },
   "outputs": [],
   "source": [
    "%%time\n",
    "\n",
    "# Time interval for the SH request\n",
    "time_interval = [\"2022-01-01\", \"2022-12-31\"]\n",
    "\n",
    "# Define additional parameters of the workflow\n",
    "input_node = workflow_nodes[0]\n",
    "save_node = workflow_nodes[-1]\n",
    "execution_args = []\n",
    "for idx, bbox in enumerate(bbox_list[patchIDs]):\n",
    "    execution_args.append(\n",
    "        {\n",
    "            input_node: {\"bbox\": bbox, \"time_interval\": time_interval},\n",
    "            save_node: {\"eopatch_folder\": f\"eopatch_{idx}\"},\n",
    "        }\n",
    "    )\n",
    "\n",
    "# Execute the workflow\n",
    "executor = EOExecutor(workflow, execution_args, save_logs=True)\n",
    "executor.run(workers=4)\n",
    "\n",
    "executor.make_report()\n",
    "\n",
    "failed_ids = executor.get_failed_executions()\n",
    "if failed_ids:\n",
    "    raise RuntimeError(\n",
    "        f\"Execution failed EOPatches with IDs:\\n{failed_ids}\\n\"\n",
    "        f\"For more info check report at {executor.get_report_path()}\"\n",
    "    )"
   ]
  },
  {
   "cell_type": "markdown",
   "metadata": {
    "id": "lFookrpPzTzK"
   },
   "source": [
    "### Visualize the patches"
   ]
  },
  {
   "cell_type": "code",
   "execution_count": null,
   "metadata": {
    "id": "yMMqJ0eezU92"
   },
   "outputs": [],
   "source": [
    "# Draw the RGB images\n",
    "fig, axs = plt.subplots(nrows=5, ncols=5, figsize=(20, 20))\n",
    "\n",
    "date = datetime.datetime(2019, 7, 1)\n",
    "\n",
    "for i in tqdm(range(len(patchIDs))):\n",
    "    eopatch_path = os.path.join(EOPATCH_DIR, f\"eopatch_{i}\")\n",
    "    eopatch = EOPatch.load(eopatch_path, lazy_loading=True)\n",
    "\n",
    "    dates = np.array([timestamp.replace(tzinfo=None) for timestamp in eopatch.timestamps])\n",
    "    closest_date_id = np.argsort(abs(date - dates))[0]\n",
    "\n",
    "    ax = axs[i // 5][i % 5]\n",
    "    ax.imshow(np.clip(eopatch.data[\"BANDS\"][closest_date_id][..., [2, 1, 0]] * 3.5, 0, 1))\n",
    "    ax.set_xticks([])\n",
    "    ax.set_yticks([])\n",
    "    ax.set_aspect(\"auto\")\n",
    "    del eopatch\n",
    "\n",
    "fig.subplots_adjust(wspace=0, hspace=0)"
   ]
  }
 ],
 "metadata": {
  "accelerator": "GPU",
  "colab": {
   "provenance": []
  },
  "gpuClass": "standard",
  "kernelspec": {
   "display_name": "Python 3",
   "language": "python",
   "name": "python3"
  },
  "language_info": {
   "codemirror_mode": {
    "name": "ipython",
    "version": 3
   },
   "file_extension": ".py",
   "mimetype": "text/x-python",
   "name": "python",
   "nbconvert_exporter": "python",
   "pygments_lexer": "ipython3",
   "version": "3.7.6"
  },
  "toc": {
   "base_numbering": 1,
   "nav_menu": {},
   "number_sections": false,
   "sideBar": false,
   "skip_h1_title": true,
   "title_cell": "Table of Contents",
   "title_sidebar": "Contents",
   "toc_cell": false,
   "toc_position": {},
   "toc_section_display": true,
   "toc_window_display": false
  }
 },
 "nbformat": 4,
 "nbformat_minor": 1
}
